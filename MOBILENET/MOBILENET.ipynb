{
 "cells": [
  {
   "cell_type": "code",
   "execution_count": null,
   "metadata": {},
   "outputs": [],
   "source": [
    " # IGNORE WARNINGS\n",
    "import warnings\n",
    "warnings.filterwarnings('ignore')\n",
    "\n",
    "# NUMPY PACKAGES\n",
    "import numpy  as np\n",
    "# GENERATING RANDOM  OBJECTS\n",
    "\n",
    "import random \n",
    "#  FOR  SYSTEM OPERATIONS\n",
    "\n",
    "import os\n",
    "\n",
    "# GENERATING PLOTS\n",
    "import matplotlib.pyplot as plt\n",
    "\n",
    "# IMAGE PREPRCESSING\n",
    "from keras.preprocessing.image import load_img,img_to_array\n",
    "\n",
    "# MOBILENET APPLICATIONS\n",
    "from keras.applications import MobileNet\n",
    "\n",
    "# MODEL OBJECT\n",
    "from keras.models import Model\n",
    "\n",
    "# IMAGE OPERATIONS\n",
    "import cv2\n",
    "\n",
    "# ONE HOT ENCODING\n",
    "from keras.utils import to_categorical\n",
    "\n",
    "# SPLITTING DATA OPERATIONS\n",
    "from sklearn.model_selection import train_test_split\n",
    "\n",
    "# TRAINING NEURAL NETWORKS\n",
    "from keras import regularizers, optimizers\n",
    "\n",
    "# FULLY CONNCETD LAYERS AND FLATTENING OUTPUT\n",
    "from keras.layers import Dense,Flatten\n",
    "\n",
    " # GENERATING SEQUENTIAL OBJECT\n",
    "from keras.models import Sequential\n",
    "\n",
    "# CALL BACKS\n",
    "from keras.callbacks import EarlyStopping, ReduceLROnPlateau\n",
    "\n",
    "# CLASSIFICATION METRICS\n",
    "from sklearn.metrics import accuracy_score\n",
    "\n",
    "\n",
    "# DEEP LEARNING MODEL OBJECTS  TO SAVE\n",
    "from keras.models import model_from_json\n",
    "\n",
    " # DEEP LEARNING  PACKAGE SOURCE API\n",
    "import keras"
   ]
  },
  {
   "cell_type": "markdown",
   "metadata": {},
   "source": [
    "#### CHANGING THE SYSTEM  PATH WHERE ACTUAL DATA EXISTS"
   ]
  },
  {
   "cell_type": "code",
   "execution_count": 3,
   "metadata": {},
   "outputs": [
    {
     "data": {
      "text/plain": [
       "'C:\\\\Users\\\\anish_yagt7hg\\\\Desktop\\\\internship\\\\COVID-19_CLASSIFICATION\\\\DATA'"
      ]
     },
     "execution_count": 3,
     "metadata": {},
     "output_type": "execute_result"
    }
   ],
   "source": [
    " # Changes directory from current directory\n",
    "os.chdir('C:\\\\Users\\\\anish_yagt7hg\\\\Desktop\\\\internship\\\\COVID-19_CLASSIFICATION\\\\DATA') \n",
    "\n",
    "os.getcwd()  #  gives current directory"
   ]
  },
  {
   "cell_type": "code",
   "execution_count": 4,
   "metadata": {},
   "outputs": [],
   "source": [
    "#  os.walk()  reads about the directory structure , folders, filenames in it\n",
    "\n",
    "labels=[]\n",
    "root_folders=[]\n",
    "for root,dir,filenames in os.walk(os.getcwd()):   \n",
    "    for i in dir:\n",
    "        if i != None and i not in ['COVID','NON_COVID']:\n",
    "            labels.append(i)\n",
    "    root_folders.append(root)\n",
    "        "
   ]
  },
  {
   "cell_type": "markdown",
   "metadata": {},
   "source": [
    "#### root_folders gives a list  of folders of images where the data exists"
   ]
  },
  {
   "cell_type": "code",
   "execution_count": 5,
   "metadata": {},
   "outputs": [
    {
     "data": {
      "text/plain": [
       "['C:\\\\Users\\\\anish_yagt7hg\\\\Desktop\\\\internship\\\\COVID-19_CLASSIFICATION\\\\DATA\\\\.ipynb_checkpoints',\n",
       " 'C:\\\\Users\\\\anish_yagt7hg\\\\Desktop\\\\internship\\\\COVID-19_CLASSIFICATION\\\\DATA\\\\non_covid_Patient_0',\n",
       " 'C:\\\\Users\\\\anish_yagt7hg\\\\Desktop\\\\internship\\\\COVID-19_CLASSIFICATION\\\\DATA\\\\non_covid_Patient_1',\n",
       " 'C:\\\\Users\\\\anish_yagt7hg\\\\Desktop\\\\internship\\\\COVID-19_CLASSIFICATION\\\\DATA\\\\non_covid_Patient_10',\n",
       " 'C:\\\\Users\\\\anish_yagt7hg\\\\Desktop\\\\internship\\\\COVID-19_CLASSIFICATION\\\\DATA\\\\non_covid_Patient_11',\n",
       " 'C:\\\\Users\\\\anish_yagt7hg\\\\Desktop\\\\internship\\\\COVID-19_CLASSIFICATION\\\\DATA\\\\non_covid_Patient_12',\n",
       " 'C:\\\\Users\\\\anish_yagt7hg\\\\Desktop\\\\internship\\\\COVID-19_CLASSIFICATION\\\\DATA\\\\non_covid_Patient_13',\n",
       " 'C:\\\\Users\\\\anish_yagt7hg\\\\Desktop\\\\internship\\\\COVID-19_CLASSIFICATION\\\\DATA\\\\non_covid_Patient_14',\n",
       " 'C:\\\\Users\\\\anish_yagt7hg\\\\Desktop\\\\internship\\\\COVID-19_CLASSIFICATION\\\\DATA\\\\non_covid_Patient_15',\n",
       " 'C:\\\\Users\\\\anish_yagt7hg\\\\Desktop\\\\internship\\\\COVID-19_CLASSIFICATION\\\\DATA\\\\non_covid_Patient_16',\n",
       " 'C:\\\\Users\\\\anish_yagt7hg\\\\Desktop\\\\internship\\\\COVID-19_CLASSIFICATION\\\\DATA\\\\non_covid_Patient_17',\n",
       " 'C:\\\\Users\\\\anish_yagt7hg\\\\Desktop\\\\internship\\\\COVID-19_CLASSIFICATION\\\\DATA\\\\non_covid_Patient_18',\n",
       " 'C:\\\\Users\\\\anish_yagt7hg\\\\Desktop\\\\internship\\\\COVID-19_CLASSIFICATION\\\\DATA\\\\non_covid_Patient_19',\n",
       " 'C:\\\\Users\\\\anish_yagt7hg\\\\Desktop\\\\internship\\\\COVID-19_CLASSIFICATION\\\\DATA\\\\non_covid_Patient_2',\n",
       " 'C:\\\\Users\\\\anish_yagt7hg\\\\Desktop\\\\internship\\\\COVID-19_CLASSIFICATION\\\\DATA\\\\non_covid_Patient_20',\n",
       " 'C:\\\\Users\\\\anish_yagt7hg\\\\Desktop\\\\internship\\\\COVID-19_CLASSIFICATION\\\\DATA\\\\non_covid_Patient_21',\n",
       " 'C:\\\\Users\\\\anish_yagt7hg\\\\Desktop\\\\internship\\\\COVID-19_CLASSIFICATION\\\\DATA\\\\non_covid_Patient_22',\n",
       " 'C:\\\\Users\\\\anish_yagt7hg\\\\Desktop\\\\internship\\\\COVID-19_CLASSIFICATION\\\\DATA\\\\non_covid_Patient_23',\n",
       " 'C:\\\\Users\\\\anish_yagt7hg\\\\Desktop\\\\internship\\\\COVID-19_CLASSIFICATION\\\\DATA\\\\non_covid_Patient_24',\n",
       " 'C:\\\\Users\\\\anish_yagt7hg\\\\Desktop\\\\internship\\\\COVID-19_CLASSIFICATION\\\\DATA\\\\non_covid_Patient_25',\n",
       " 'C:\\\\Users\\\\anish_yagt7hg\\\\Desktop\\\\internship\\\\COVID-19_CLASSIFICATION\\\\DATA\\\\non_covid_Patient_26',\n",
       " 'C:\\\\Users\\\\anish_yagt7hg\\\\Desktop\\\\internship\\\\COVID-19_CLASSIFICATION\\\\DATA\\\\non_covid_Patient_27',\n",
       " 'C:\\\\Users\\\\anish_yagt7hg\\\\Desktop\\\\internship\\\\COVID-19_CLASSIFICATION\\\\DATA\\\\non_covid_Patient_28',\n",
       " 'C:\\\\Users\\\\anish_yagt7hg\\\\Desktop\\\\internship\\\\COVID-19_CLASSIFICATION\\\\DATA\\\\non_covid_Patient_29',\n",
       " 'C:\\\\Users\\\\anish_yagt7hg\\\\Desktop\\\\internship\\\\COVID-19_CLASSIFICATION\\\\DATA\\\\non_covid_Patient_3',\n",
       " 'C:\\\\Users\\\\anish_yagt7hg\\\\Desktop\\\\internship\\\\COVID-19_CLASSIFICATION\\\\DATA\\\\non_covid_Patient_30',\n",
       " 'C:\\\\Users\\\\anish_yagt7hg\\\\Desktop\\\\internship\\\\COVID-19_CLASSIFICATION\\\\DATA\\\\non_covid_Patient_31',\n",
       " 'C:\\\\Users\\\\anish_yagt7hg\\\\Desktop\\\\internship\\\\COVID-19_CLASSIFICATION\\\\DATA\\\\non_covid_Patient_32',\n",
       " 'C:\\\\Users\\\\anish_yagt7hg\\\\Desktop\\\\internship\\\\COVID-19_CLASSIFICATION\\\\DATA\\\\non_covid_Patient_33',\n",
       " 'C:\\\\Users\\\\anish_yagt7hg\\\\Desktop\\\\internship\\\\COVID-19_CLASSIFICATION\\\\DATA\\\\non_covid_Patient_34',\n",
       " 'C:\\\\Users\\\\anish_yagt7hg\\\\Desktop\\\\internship\\\\COVID-19_CLASSIFICATION\\\\DATA\\\\non_covid_Patient_35',\n",
       " 'C:\\\\Users\\\\anish_yagt7hg\\\\Desktop\\\\internship\\\\COVID-19_CLASSIFICATION\\\\DATA\\\\non_covid_Patient_36',\n",
       " 'C:\\\\Users\\\\anish_yagt7hg\\\\Desktop\\\\internship\\\\COVID-19_CLASSIFICATION\\\\DATA\\\\non_covid_Patient_37',\n",
       " 'C:\\\\Users\\\\anish_yagt7hg\\\\Desktop\\\\internship\\\\COVID-19_CLASSIFICATION\\\\DATA\\\\non_covid_Patient_38',\n",
       " 'C:\\\\Users\\\\anish_yagt7hg\\\\Desktop\\\\internship\\\\COVID-19_CLASSIFICATION\\\\DATA\\\\non_covid_Patient_39',\n",
       " 'C:\\\\Users\\\\anish_yagt7hg\\\\Desktop\\\\internship\\\\COVID-19_CLASSIFICATION\\\\DATA\\\\non_covid_Patient_4',\n",
       " 'C:\\\\Users\\\\anish_yagt7hg\\\\Desktop\\\\internship\\\\COVID-19_CLASSIFICATION\\\\DATA\\\\non_covid_Patient_40',\n",
       " 'C:\\\\Users\\\\anish_yagt7hg\\\\Desktop\\\\internship\\\\COVID-19_CLASSIFICATION\\\\DATA\\\\non_covid_Patient_41',\n",
       " 'C:\\\\Users\\\\anish_yagt7hg\\\\Desktop\\\\internship\\\\COVID-19_CLASSIFICATION\\\\DATA\\\\non_covid_Patient_42',\n",
       " 'C:\\\\Users\\\\anish_yagt7hg\\\\Desktop\\\\internship\\\\COVID-19_CLASSIFICATION\\\\DATA\\\\non_covid_Patient_43',\n",
       " 'C:\\\\Users\\\\anish_yagt7hg\\\\Desktop\\\\internship\\\\COVID-19_CLASSIFICATION\\\\DATA\\\\non_covid_Patient_44',\n",
       " 'C:\\\\Users\\\\anish_yagt7hg\\\\Desktop\\\\internship\\\\COVID-19_CLASSIFICATION\\\\DATA\\\\non_covid_Patient_45',\n",
       " 'C:\\\\Users\\\\anish_yagt7hg\\\\Desktop\\\\internship\\\\COVID-19_CLASSIFICATION\\\\DATA\\\\non_covid_Patient_46',\n",
       " 'C:\\\\Users\\\\anish_yagt7hg\\\\Desktop\\\\internship\\\\COVID-19_CLASSIFICATION\\\\DATA\\\\non_covid_Patient_47',\n",
       " 'C:\\\\Users\\\\anish_yagt7hg\\\\Desktop\\\\internship\\\\COVID-19_CLASSIFICATION\\\\DATA\\\\non_covid_Patient_48',\n",
       " 'C:\\\\Users\\\\anish_yagt7hg\\\\Desktop\\\\internship\\\\COVID-19_CLASSIFICATION\\\\DATA\\\\non_covid_Patient_49',\n",
       " 'C:\\\\Users\\\\anish_yagt7hg\\\\Desktop\\\\internship\\\\COVID-19_CLASSIFICATION\\\\DATA\\\\non_covid_Patient_5',\n",
       " 'C:\\\\Users\\\\anish_yagt7hg\\\\Desktop\\\\internship\\\\COVID-19_CLASSIFICATION\\\\DATA\\\\non_covid_Patient_50',\n",
       " 'C:\\\\Users\\\\anish_yagt7hg\\\\Desktop\\\\internship\\\\COVID-19_CLASSIFICATION\\\\DATA\\\\non_covid_Patient_51',\n",
       " 'C:\\\\Users\\\\anish_yagt7hg\\\\Desktop\\\\internship\\\\COVID-19_CLASSIFICATION\\\\DATA\\\\non_covid_Patient_52',\n",
       " 'C:\\\\Users\\\\anish_yagt7hg\\\\Desktop\\\\internship\\\\COVID-19_CLASSIFICATION\\\\DATA\\\\non_covid_Patient_53',\n",
       " 'C:\\\\Users\\\\anish_yagt7hg\\\\Desktop\\\\internship\\\\COVID-19_CLASSIFICATION\\\\DATA\\\\non_covid_Patient_54',\n",
       " 'C:\\\\Users\\\\anish_yagt7hg\\\\Desktop\\\\internship\\\\COVID-19_CLASSIFICATION\\\\DATA\\\\non_covid_Patient_55',\n",
       " 'C:\\\\Users\\\\anish_yagt7hg\\\\Desktop\\\\internship\\\\COVID-19_CLASSIFICATION\\\\DATA\\\\non_covid_Patient_56',\n",
       " 'C:\\\\Users\\\\anish_yagt7hg\\\\Desktop\\\\internship\\\\COVID-19_CLASSIFICATION\\\\DATA\\\\non_covid_Patient_57',\n",
       " 'C:\\\\Users\\\\anish_yagt7hg\\\\Desktop\\\\internship\\\\COVID-19_CLASSIFICATION\\\\DATA\\\\non_covid_Patient_58',\n",
       " 'C:\\\\Users\\\\anish_yagt7hg\\\\Desktop\\\\internship\\\\COVID-19_CLASSIFICATION\\\\DATA\\\\non_covid_Patient_59',\n",
       " 'C:\\\\Users\\\\anish_yagt7hg\\\\Desktop\\\\internship\\\\COVID-19_CLASSIFICATION\\\\DATA\\\\non_covid_Patient_6',\n",
       " 'C:\\\\Users\\\\anish_yagt7hg\\\\Desktop\\\\internship\\\\COVID-19_CLASSIFICATION\\\\DATA\\\\non_covid_Patient_60',\n",
       " 'C:\\\\Users\\\\anish_yagt7hg\\\\Desktop\\\\internship\\\\COVID-19_CLASSIFICATION\\\\DATA\\\\non_covid_Patient_61',\n",
       " 'C:\\\\Users\\\\anish_yagt7hg\\\\Desktop\\\\internship\\\\COVID-19_CLASSIFICATION\\\\DATA\\\\non_covid_Patient_62',\n",
       " 'C:\\\\Users\\\\anish_yagt7hg\\\\Desktop\\\\internship\\\\COVID-19_CLASSIFICATION\\\\DATA\\\\non_covid_Patient_63',\n",
       " 'C:\\\\Users\\\\anish_yagt7hg\\\\Desktop\\\\internship\\\\COVID-19_CLASSIFICATION\\\\DATA\\\\non_covid_Patient_64',\n",
       " 'C:\\\\Users\\\\anish_yagt7hg\\\\Desktop\\\\internship\\\\COVID-19_CLASSIFICATION\\\\DATA\\\\non_covid_Patient_65',\n",
       " 'C:\\\\Users\\\\anish_yagt7hg\\\\Desktop\\\\internship\\\\COVID-19_CLASSIFICATION\\\\DATA\\\\non_covid_Patient_66',\n",
       " 'C:\\\\Users\\\\anish_yagt7hg\\\\Desktop\\\\internship\\\\COVID-19_CLASSIFICATION\\\\DATA\\\\non_covid_Patient_67',\n",
       " 'C:\\\\Users\\\\anish_yagt7hg\\\\Desktop\\\\internship\\\\COVID-19_CLASSIFICATION\\\\DATA\\\\non_covid_Patient_68',\n",
       " 'C:\\\\Users\\\\anish_yagt7hg\\\\Desktop\\\\internship\\\\COVID-19_CLASSIFICATION\\\\DATA\\\\non_covid_Patient_69',\n",
       " 'C:\\\\Users\\\\anish_yagt7hg\\\\Desktop\\\\internship\\\\COVID-19_CLASSIFICATION\\\\DATA\\\\non_covid_Patient_7',\n",
       " 'C:\\\\Users\\\\anish_yagt7hg\\\\Desktop\\\\internship\\\\COVID-19_CLASSIFICATION\\\\DATA\\\\non_covid_Patient_70',\n",
       " 'C:\\\\Users\\\\anish_yagt7hg\\\\Desktop\\\\internship\\\\COVID-19_CLASSIFICATION\\\\DATA\\\\non_covid_Patient_71',\n",
       " 'C:\\\\Users\\\\anish_yagt7hg\\\\Desktop\\\\internship\\\\COVID-19_CLASSIFICATION\\\\DATA\\\\non_covid_Patient_72',\n",
       " 'C:\\\\Users\\\\anish_yagt7hg\\\\Desktop\\\\internship\\\\COVID-19_CLASSIFICATION\\\\DATA\\\\non_covid_Patient_73',\n",
       " 'C:\\\\Users\\\\anish_yagt7hg\\\\Desktop\\\\internship\\\\COVID-19_CLASSIFICATION\\\\DATA\\\\non_covid_Patient_74',\n",
       " 'C:\\\\Users\\\\anish_yagt7hg\\\\Desktop\\\\internship\\\\COVID-19_CLASSIFICATION\\\\DATA\\\\non_covid_Patient_75',\n",
       " 'C:\\\\Users\\\\anish_yagt7hg\\\\Desktop\\\\internship\\\\COVID-19_CLASSIFICATION\\\\DATA\\\\non_covid_Patient_76',\n",
       " 'C:\\\\Users\\\\anish_yagt7hg\\\\Desktop\\\\internship\\\\COVID-19_CLASSIFICATION\\\\DATA\\\\non_covid_Patient_77',\n",
       " 'C:\\\\Users\\\\anish_yagt7hg\\\\Desktop\\\\internship\\\\COVID-19_CLASSIFICATION\\\\DATA\\\\non_covid_Patient_78',\n",
       " 'C:\\\\Users\\\\anish_yagt7hg\\\\Desktop\\\\internship\\\\COVID-19_CLASSIFICATION\\\\DATA\\\\non_covid_Patient_79',\n",
       " 'C:\\\\Users\\\\anish_yagt7hg\\\\Desktop\\\\internship\\\\COVID-19_CLASSIFICATION\\\\DATA\\\\non_covid_Patient_8',\n",
       " 'C:\\\\Users\\\\anish_yagt7hg\\\\Desktop\\\\internship\\\\COVID-19_CLASSIFICATION\\\\DATA\\\\non_covid_Patient_80',\n",
       " 'C:\\\\Users\\\\anish_yagt7hg\\\\Desktop\\\\internship\\\\COVID-19_CLASSIFICATION\\\\DATA\\\\non_covid_Patient_81',\n",
       " 'C:\\\\Users\\\\anish_yagt7hg\\\\Desktop\\\\internship\\\\COVID-19_CLASSIFICATION\\\\DATA\\\\non_covid_Patient_82',\n",
       " 'C:\\\\Users\\\\anish_yagt7hg\\\\Desktop\\\\internship\\\\COVID-19_CLASSIFICATION\\\\DATA\\\\non_covid_Patient_83',\n",
       " 'C:\\\\Users\\\\anish_yagt7hg\\\\Desktop\\\\internship\\\\COVID-19_CLASSIFICATION\\\\DATA\\\\non_covid_Patient_84',\n",
       " 'C:\\\\Users\\\\anish_yagt7hg\\\\Desktop\\\\internship\\\\COVID-19_CLASSIFICATION\\\\DATA\\\\non_covid_Patient_85',\n",
       " 'C:\\\\Users\\\\anish_yagt7hg\\\\Desktop\\\\internship\\\\COVID-19_CLASSIFICATION\\\\DATA\\\\non_covid_Patient_86',\n",
       " 'C:\\\\Users\\\\anish_yagt7hg\\\\Desktop\\\\internship\\\\COVID-19_CLASSIFICATION\\\\DATA\\\\non_covid_Patient_88',\n",
       " 'C:\\\\Users\\\\anish_yagt7hg\\\\Desktop\\\\internship\\\\COVID-19_CLASSIFICATION\\\\DATA\\\\non_covid_Patient_89',\n",
       " 'C:\\\\Users\\\\anish_yagt7hg\\\\Desktop\\\\internship\\\\COVID-19_CLASSIFICATION\\\\DATA\\\\non_covid_Patient_9',\n",
       " 'C:\\\\Users\\\\anish_yagt7hg\\\\Desktop\\\\internship\\\\COVID-19_CLASSIFICATION\\\\DATA\\\\non_covid_Patient_90',\n",
       " 'C:\\\\Users\\\\anish_yagt7hg\\\\Desktop\\\\internship\\\\COVID-19_CLASSIFICATION\\\\DATA\\\\non_covid_Patient_91',\n",
       " 'C:\\\\Users\\\\anish_yagt7hg\\\\Desktop\\\\internship\\\\COVID-19_CLASSIFICATION\\\\DATA\\\\Patient 1',\n",
       " 'C:\\\\Users\\\\anish_yagt7hg\\\\Desktop\\\\internship\\\\COVID-19_CLASSIFICATION\\\\DATA\\\\Patient 10',\n",
       " 'C:\\\\Users\\\\anish_yagt7hg\\\\Desktop\\\\internship\\\\COVID-19_CLASSIFICATION\\\\DATA\\\\Patient 100',\n",
       " 'C:\\\\Users\\\\anish_yagt7hg\\\\Desktop\\\\internship\\\\COVID-19_CLASSIFICATION\\\\DATA\\\\Patient 101',\n",
       " 'C:\\\\Users\\\\anish_yagt7hg\\\\Desktop\\\\internship\\\\COVID-19_CLASSIFICATION\\\\DATA\\\\Patient 102',\n",
       " 'C:\\\\Users\\\\anish_yagt7hg\\\\Desktop\\\\internship\\\\COVID-19_CLASSIFICATION\\\\DATA\\\\Patient 103',\n",
       " 'C:\\\\Users\\\\anish_yagt7hg\\\\Desktop\\\\internship\\\\COVID-19_CLASSIFICATION\\\\DATA\\\\Patient 104',\n",
       " 'C:\\\\Users\\\\anish_yagt7hg\\\\Desktop\\\\internship\\\\COVID-19_CLASSIFICATION\\\\DATA\\\\Patient 105',\n",
       " 'C:\\\\Users\\\\anish_yagt7hg\\\\Desktop\\\\internship\\\\COVID-19_CLASSIFICATION\\\\DATA\\\\Patient 106',\n",
       " 'C:\\\\Users\\\\anish_yagt7hg\\\\Desktop\\\\internship\\\\COVID-19_CLASSIFICATION\\\\DATA\\\\Patient 107',\n",
       " 'C:\\\\Users\\\\anish_yagt7hg\\\\Desktop\\\\internship\\\\COVID-19_CLASSIFICATION\\\\DATA\\\\Patient 108',\n",
       " 'C:\\\\Users\\\\anish_yagt7hg\\\\Desktop\\\\internship\\\\COVID-19_CLASSIFICATION\\\\DATA\\\\Patient 109',\n",
       " 'C:\\\\Users\\\\anish_yagt7hg\\\\Desktop\\\\internship\\\\COVID-19_CLASSIFICATION\\\\DATA\\\\Patient 11',\n",
       " 'C:\\\\Users\\\\anish_yagt7hg\\\\Desktop\\\\internship\\\\COVID-19_CLASSIFICATION\\\\DATA\\\\Patient 110',\n",
       " 'C:\\\\Users\\\\anish_yagt7hg\\\\Desktop\\\\internship\\\\COVID-19_CLASSIFICATION\\\\DATA\\\\Patient 111',\n",
       " 'C:\\\\Users\\\\anish_yagt7hg\\\\Desktop\\\\internship\\\\COVID-19_CLASSIFICATION\\\\DATA\\\\Patient 112',\n",
       " 'C:\\\\Users\\\\anish_yagt7hg\\\\Desktop\\\\internship\\\\COVID-19_CLASSIFICATION\\\\DATA\\\\Patient 113',\n",
       " 'C:\\\\Users\\\\anish_yagt7hg\\\\Desktop\\\\internship\\\\COVID-19_CLASSIFICATION\\\\DATA\\\\Patient 114',\n",
       " 'C:\\\\Users\\\\anish_yagt7hg\\\\Desktop\\\\internship\\\\COVID-19_CLASSIFICATION\\\\DATA\\\\Patient 115',\n",
       " 'C:\\\\Users\\\\anish_yagt7hg\\\\Desktop\\\\internship\\\\COVID-19_CLASSIFICATION\\\\DATA\\\\Patient 116',\n",
       " 'C:\\\\Users\\\\anish_yagt7hg\\\\Desktop\\\\internship\\\\COVID-19_CLASSIFICATION\\\\DATA\\\\Patient 117',\n",
       " 'C:\\\\Users\\\\anish_yagt7hg\\\\Desktop\\\\internship\\\\COVID-19_CLASSIFICATION\\\\DATA\\\\Patient 118',\n",
       " 'C:\\\\Users\\\\anish_yagt7hg\\\\Desktop\\\\internship\\\\COVID-19_CLASSIFICATION\\\\DATA\\\\Patient 119',\n",
       " 'C:\\\\Users\\\\anish_yagt7hg\\\\Desktop\\\\internship\\\\COVID-19_CLASSIFICATION\\\\DATA\\\\Patient 12',\n",
       " 'C:\\\\Users\\\\anish_yagt7hg\\\\Desktop\\\\internship\\\\COVID-19_CLASSIFICATION\\\\DATA\\\\Patient 120',\n",
       " 'C:\\\\Users\\\\anish_yagt7hg\\\\Desktop\\\\internship\\\\COVID-19_CLASSIFICATION\\\\DATA\\\\Patient 121',\n",
       " 'C:\\\\Users\\\\anish_yagt7hg\\\\Desktop\\\\internship\\\\COVID-19_CLASSIFICATION\\\\DATA\\\\Patient 122',\n",
       " 'C:\\\\Users\\\\anish_yagt7hg\\\\Desktop\\\\internship\\\\COVID-19_CLASSIFICATION\\\\DATA\\\\Patient 123',\n",
       " 'C:\\\\Users\\\\anish_yagt7hg\\\\Desktop\\\\internship\\\\COVID-19_CLASSIFICATION\\\\DATA\\\\Patient 124',\n",
       " 'C:\\\\Users\\\\anish_yagt7hg\\\\Desktop\\\\internship\\\\COVID-19_CLASSIFICATION\\\\DATA\\\\Patient 125',\n",
       " 'C:\\\\Users\\\\anish_yagt7hg\\\\Desktop\\\\internship\\\\COVID-19_CLASSIFICATION\\\\DATA\\\\Patient 126',\n",
       " 'C:\\\\Users\\\\anish_yagt7hg\\\\Desktop\\\\internship\\\\COVID-19_CLASSIFICATION\\\\DATA\\\\Patient 127',\n",
       " 'C:\\\\Users\\\\anish_yagt7hg\\\\Desktop\\\\internship\\\\COVID-19_CLASSIFICATION\\\\DATA\\\\Patient 128',\n",
       " 'C:\\\\Users\\\\anish_yagt7hg\\\\Desktop\\\\internship\\\\COVID-19_CLASSIFICATION\\\\DATA\\\\Patient 129',\n",
       " 'C:\\\\Users\\\\anish_yagt7hg\\\\Desktop\\\\internship\\\\COVID-19_CLASSIFICATION\\\\DATA\\\\Patient 13',\n",
       " 'C:\\\\Users\\\\anish_yagt7hg\\\\Desktop\\\\internship\\\\COVID-19_CLASSIFICATION\\\\DATA\\\\Patient 130',\n",
       " 'C:\\\\Users\\\\anish_yagt7hg\\\\Desktop\\\\internship\\\\COVID-19_CLASSIFICATION\\\\DATA\\\\Patient 131',\n",
       " 'C:\\\\Users\\\\anish_yagt7hg\\\\Desktop\\\\internship\\\\COVID-19_CLASSIFICATION\\\\DATA\\\\Patient 132',\n",
       " 'C:\\\\Users\\\\anish_yagt7hg\\\\Desktop\\\\internship\\\\COVID-19_CLASSIFICATION\\\\DATA\\\\Patient 133',\n",
       " 'C:\\\\Users\\\\anish_yagt7hg\\\\Desktop\\\\internship\\\\COVID-19_CLASSIFICATION\\\\DATA\\\\Patient 134',\n",
       " 'C:\\\\Users\\\\anish_yagt7hg\\\\Desktop\\\\internship\\\\COVID-19_CLASSIFICATION\\\\DATA\\\\Patient 135',\n",
       " 'C:\\\\Users\\\\anish_yagt7hg\\\\Desktop\\\\internship\\\\COVID-19_CLASSIFICATION\\\\DATA\\\\Patient 136',\n",
       " 'C:\\\\Users\\\\anish_yagt7hg\\\\Desktop\\\\internship\\\\COVID-19_CLASSIFICATION\\\\DATA\\\\Patient 137',\n",
       " 'C:\\\\Users\\\\anish_yagt7hg\\\\Desktop\\\\internship\\\\COVID-19_CLASSIFICATION\\\\DATA\\\\Patient 138',\n",
       " 'C:\\\\Users\\\\anish_yagt7hg\\\\Desktop\\\\internship\\\\COVID-19_CLASSIFICATION\\\\DATA\\\\Patient 139',\n",
       " 'C:\\\\Users\\\\anish_yagt7hg\\\\Desktop\\\\internship\\\\COVID-19_CLASSIFICATION\\\\DATA\\\\Patient 14',\n",
       " 'C:\\\\Users\\\\anish_yagt7hg\\\\Desktop\\\\internship\\\\COVID-19_CLASSIFICATION\\\\DATA\\\\Patient 140',\n",
       " 'C:\\\\Users\\\\anish_yagt7hg\\\\Desktop\\\\internship\\\\COVID-19_CLASSIFICATION\\\\DATA\\\\Patient 141',\n",
       " 'C:\\\\Users\\\\anish_yagt7hg\\\\Desktop\\\\internship\\\\COVID-19_CLASSIFICATION\\\\DATA\\\\Patient 142',\n",
       " 'C:\\\\Users\\\\anish_yagt7hg\\\\Desktop\\\\internship\\\\COVID-19_CLASSIFICATION\\\\DATA\\\\Patient 143',\n",
       " 'C:\\\\Users\\\\anish_yagt7hg\\\\Desktop\\\\internship\\\\COVID-19_CLASSIFICATION\\\\DATA\\\\Patient 144',\n",
       " 'C:\\\\Users\\\\anish_yagt7hg\\\\Desktop\\\\internship\\\\COVID-19_CLASSIFICATION\\\\DATA\\\\Patient 145',\n",
       " 'C:\\\\Users\\\\anish_yagt7hg\\\\Desktop\\\\internship\\\\COVID-19_CLASSIFICATION\\\\DATA\\\\Patient 146',\n",
       " 'C:\\\\Users\\\\anish_yagt7hg\\\\Desktop\\\\internship\\\\COVID-19_CLASSIFICATION\\\\DATA\\\\Patient 147',\n",
       " 'C:\\\\Users\\\\anish_yagt7hg\\\\Desktop\\\\internship\\\\COVID-19_CLASSIFICATION\\\\DATA\\\\Patient 148',\n",
       " 'C:\\\\Users\\\\anish_yagt7hg\\\\Desktop\\\\internship\\\\COVID-19_CLASSIFICATION\\\\DATA\\\\Patient 149',\n",
       " 'C:\\\\Users\\\\anish_yagt7hg\\\\Desktop\\\\internship\\\\COVID-19_CLASSIFICATION\\\\DATA\\\\Patient 15',\n",
       " 'C:\\\\Users\\\\anish_yagt7hg\\\\Desktop\\\\internship\\\\COVID-19_CLASSIFICATION\\\\DATA\\\\Patient 150',\n",
       " 'C:\\\\Users\\\\anish_yagt7hg\\\\Desktop\\\\internship\\\\COVID-19_CLASSIFICATION\\\\DATA\\\\Patient 151',\n",
       " 'C:\\\\Users\\\\anish_yagt7hg\\\\Desktop\\\\internship\\\\COVID-19_CLASSIFICATION\\\\DATA\\\\Patient 152',\n",
       " 'C:\\\\Users\\\\anish_yagt7hg\\\\Desktop\\\\internship\\\\COVID-19_CLASSIFICATION\\\\DATA\\\\Patient 153',\n",
       " 'C:\\\\Users\\\\anish_yagt7hg\\\\Desktop\\\\internship\\\\COVID-19_CLASSIFICATION\\\\DATA\\\\Patient 154',\n",
       " 'C:\\\\Users\\\\anish_yagt7hg\\\\Desktop\\\\internship\\\\COVID-19_CLASSIFICATION\\\\DATA\\\\Patient 155',\n",
       " 'C:\\\\Users\\\\anish_yagt7hg\\\\Desktop\\\\internship\\\\COVID-19_CLASSIFICATION\\\\DATA\\\\Patient 156',\n",
       " 'C:\\\\Users\\\\anish_yagt7hg\\\\Desktop\\\\internship\\\\COVID-19_CLASSIFICATION\\\\DATA\\\\Patient 157',\n",
       " 'C:\\\\Users\\\\anish_yagt7hg\\\\Desktop\\\\internship\\\\COVID-19_CLASSIFICATION\\\\DATA\\\\Patient 158',\n",
       " 'C:\\\\Users\\\\anish_yagt7hg\\\\Desktop\\\\internship\\\\COVID-19_CLASSIFICATION\\\\DATA\\\\Patient 159',\n",
       " 'C:\\\\Users\\\\anish_yagt7hg\\\\Desktop\\\\internship\\\\COVID-19_CLASSIFICATION\\\\DATA\\\\Patient 16',\n",
       " 'C:\\\\Users\\\\anish_yagt7hg\\\\Desktop\\\\internship\\\\COVID-19_CLASSIFICATION\\\\DATA\\\\Patient 160',\n",
       " 'C:\\\\Users\\\\anish_yagt7hg\\\\Desktop\\\\internship\\\\COVID-19_CLASSIFICATION\\\\DATA\\\\Patient 161',\n",
       " 'C:\\\\Users\\\\anish_yagt7hg\\\\Desktop\\\\internship\\\\COVID-19_CLASSIFICATION\\\\DATA\\\\Patient 162',\n",
       " 'C:\\\\Users\\\\anish_yagt7hg\\\\Desktop\\\\internship\\\\COVID-19_CLASSIFICATION\\\\DATA\\\\Patient 163',\n",
       " 'C:\\\\Users\\\\anish_yagt7hg\\\\Desktop\\\\internship\\\\COVID-19_CLASSIFICATION\\\\DATA\\\\Patient 164',\n",
       " 'C:\\\\Users\\\\anish_yagt7hg\\\\Desktop\\\\internship\\\\COVID-19_CLASSIFICATION\\\\DATA\\\\Patient 165',\n",
       " 'C:\\\\Users\\\\anish_yagt7hg\\\\Desktop\\\\internship\\\\COVID-19_CLASSIFICATION\\\\DATA\\\\Patient 166',\n",
       " 'C:\\\\Users\\\\anish_yagt7hg\\\\Desktop\\\\internship\\\\COVID-19_CLASSIFICATION\\\\DATA\\\\Patient 167',\n",
       " 'C:\\\\Users\\\\anish_yagt7hg\\\\Desktop\\\\internship\\\\COVID-19_CLASSIFICATION\\\\DATA\\\\Patient 168',\n",
       " 'C:\\\\Users\\\\anish_yagt7hg\\\\Desktop\\\\internship\\\\COVID-19_CLASSIFICATION\\\\DATA\\\\Patient 169',\n",
       " 'C:\\\\Users\\\\anish_yagt7hg\\\\Desktop\\\\internship\\\\COVID-19_CLASSIFICATION\\\\DATA\\\\Patient 17',\n",
       " 'C:\\\\Users\\\\anish_yagt7hg\\\\Desktop\\\\internship\\\\COVID-19_CLASSIFICATION\\\\DATA\\\\Patient 170',\n",
       " 'C:\\\\Users\\\\anish_yagt7hg\\\\Desktop\\\\internship\\\\COVID-19_CLASSIFICATION\\\\DATA\\\\Patient 171',\n",
       " 'C:\\\\Users\\\\anish_yagt7hg\\\\Desktop\\\\internship\\\\COVID-19_CLASSIFICATION\\\\DATA\\\\Patient 172',\n",
       " 'C:\\\\Users\\\\anish_yagt7hg\\\\Desktop\\\\internship\\\\COVID-19_CLASSIFICATION\\\\DATA\\\\Patient 173',\n",
       " 'C:\\\\Users\\\\anish_yagt7hg\\\\Desktop\\\\internship\\\\COVID-19_CLASSIFICATION\\\\DATA\\\\Patient 174',\n",
       " 'C:\\\\Users\\\\anish_yagt7hg\\\\Desktop\\\\internship\\\\COVID-19_CLASSIFICATION\\\\DATA\\\\Patient 175',\n",
       " 'C:\\\\Users\\\\anish_yagt7hg\\\\Desktop\\\\internship\\\\COVID-19_CLASSIFICATION\\\\DATA\\\\Patient 176',\n",
       " 'C:\\\\Users\\\\anish_yagt7hg\\\\Desktop\\\\internship\\\\COVID-19_CLASSIFICATION\\\\DATA\\\\Patient 177',\n",
       " 'C:\\\\Users\\\\anish_yagt7hg\\\\Desktop\\\\internship\\\\COVID-19_CLASSIFICATION\\\\DATA\\\\Patient 178',\n",
       " 'C:\\\\Users\\\\anish_yagt7hg\\\\Desktop\\\\internship\\\\COVID-19_CLASSIFICATION\\\\DATA\\\\Patient 179',\n",
       " 'C:\\\\Users\\\\anish_yagt7hg\\\\Desktop\\\\internship\\\\COVID-19_CLASSIFICATION\\\\DATA\\\\Patient 18',\n",
       " 'C:\\\\Users\\\\anish_yagt7hg\\\\Desktop\\\\internship\\\\COVID-19_CLASSIFICATION\\\\DATA\\\\Patient 180',\n",
       " 'C:\\\\Users\\\\anish_yagt7hg\\\\Desktop\\\\internship\\\\COVID-19_CLASSIFICATION\\\\DATA\\\\Patient 181',\n",
       " 'C:\\\\Users\\\\anish_yagt7hg\\\\Desktop\\\\internship\\\\COVID-19_CLASSIFICATION\\\\DATA\\\\Patient 182',\n",
       " 'C:\\\\Users\\\\anish_yagt7hg\\\\Desktop\\\\internship\\\\COVID-19_CLASSIFICATION\\\\DATA\\\\Patient 183',\n",
       " 'C:\\\\Users\\\\anish_yagt7hg\\\\Desktop\\\\internship\\\\COVID-19_CLASSIFICATION\\\\DATA\\\\Patient 184',\n",
       " 'C:\\\\Users\\\\anish_yagt7hg\\\\Desktop\\\\internship\\\\COVID-19_CLASSIFICATION\\\\DATA\\\\Patient 185',\n",
       " 'C:\\\\Users\\\\anish_yagt7hg\\\\Desktop\\\\internship\\\\COVID-19_CLASSIFICATION\\\\DATA\\\\Patient 186',\n",
       " 'C:\\\\Users\\\\anish_yagt7hg\\\\Desktop\\\\internship\\\\COVID-19_CLASSIFICATION\\\\DATA\\\\Patient 187',\n",
       " 'C:\\\\Users\\\\anish_yagt7hg\\\\Desktop\\\\internship\\\\COVID-19_CLASSIFICATION\\\\DATA\\\\Patient 188',\n",
       " 'C:\\\\Users\\\\anish_yagt7hg\\\\Desktop\\\\internship\\\\COVID-19_CLASSIFICATION\\\\DATA\\\\Patient 189',\n",
       " 'C:\\\\Users\\\\anish_yagt7hg\\\\Desktop\\\\internship\\\\COVID-19_CLASSIFICATION\\\\DATA\\\\Patient 19',\n",
       " 'C:\\\\Users\\\\anish_yagt7hg\\\\Desktop\\\\internship\\\\COVID-19_CLASSIFICATION\\\\DATA\\\\Patient 190',\n",
       " 'C:\\\\Users\\\\anish_yagt7hg\\\\Desktop\\\\internship\\\\COVID-19_CLASSIFICATION\\\\DATA\\\\Patient 191',\n",
       " 'C:\\\\Users\\\\anish_yagt7hg\\\\Desktop\\\\internship\\\\COVID-19_CLASSIFICATION\\\\DATA\\\\Patient 192',\n",
       " 'C:\\\\Users\\\\anish_yagt7hg\\\\Desktop\\\\internship\\\\COVID-19_CLASSIFICATION\\\\DATA\\\\Patient 193',\n",
       " 'C:\\\\Users\\\\anish_yagt7hg\\\\Desktop\\\\internship\\\\COVID-19_CLASSIFICATION\\\\DATA\\\\Patient 194',\n",
       " 'C:\\\\Users\\\\anish_yagt7hg\\\\Desktop\\\\internship\\\\COVID-19_CLASSIFICATION\\\\DATA\\\\Patient 195',\n",
       " 'C:\\\\Users\\\\anish_yagt7hg\\\\Desktop\\\\internship\\\\COVID-19_CLASSIFICATION\\\\DATA\\\\Patient 196',\n",
       " 'C:\\\\Users\\\\anish_yagt7hg\\\\Desktop\\\\internship\\\\COVID-19_CLASSIFICATION\\\\DATA\\\\Patient 197',\n",
       " 'C:\\\\Users\\\\anish_yagt7hg\\\\Desktop\\\\internship\\\\COVID-19_CLASSIFICATION\\\\DATA\\\\Patient 199',\n",
       " 'C:\\\\Users\\\\anish_yagt7hg\\\\Desktop\\\\internship\\\\COVID-19_CLASSIFICATION\\\\DATA\\\\Patient 2',\n",
       " 'C:\\\\Users\\\\anish_yagt7hg\\\\Desktop\\\\internship\\\\COVID-19_CLASSIFICATION\\\\DATA\\\\Patient 20',\n",
       " 'C:\\\\Users\\\\anish_yagt7hg\\\\Desktop\\\\internship\\\\COVID-19_CLASSIFICATION\\\\DATA\\\\Patient 200',\n",
       " 'C:\\\\Users\\\\anish_yagt7hg\\\\Desktop\\\\internship\\\\COVID-19_CLASSIFICATION\\\\DATA\\\\Patient 201',\n",
       " 'C:\\\\Users\\\\anish_yagt7hg\\\\Desktop\\\\internship\\\\COVID-19_CLASSIFICATION\\\\DATA\\\\Patient 202',\n",
       " 'C:\\\\Users\\\\anish_yagt7hg\\\\Desktop\\\\internship\\\\COVID-19_CLASSIFICATION\\\\DATA\\\\Patient 203',\n",
       " 'C:\\\\Users\\\\anish_yagt7hg\\\\Desktop\\\\internship\\\\COVID-19_CLASSIFICATION\\\\DATA\\\\Patient 204',\n",
       " 'C:\\\\Users\\\\anish_yagt7hg\\\\Desktop\\\\internship\\\\COVID-19_CLASSIFICATION\\\\DATA\\\\Patient 205',\n",
       " 'C:\\\\Users\\\\anish_yagt7hg\\\\Desktop\\\\internship\\\\COVID-19_CLASSIFICATION\\\\DATA\\\\Patient 206',\n",
       " 'C:\\\\Users\\\\anish_yagt7hg\\\\Desktop\\\\internship\\\\COVID-19_CLASSIFICATION\\\\DATA\\\\Patient 207',\n",
       " 'C:\\\\Users\\\\anish_yagt7hg\\\\Desktop\\\\internship\\\\COVID-19_CLASSIFICATION\\\\DATA\\\\Patient 208',\n",
       " 'C:\\\\Users\\\\anish_yagt7hg\\\\Desktop\\\\internship\\\\COVID-19_CLASSIFICATION\\\\DATA\\\\Patient 209',\n",
       " 'C:\\\\Users\\\\anish_yagt7hg\\\\Desktop\\\\internship\\\\COVID-19_CLASSIFICATION\\\\DATA\\\\Patient 21',\n",
       " 'C:\\\\Users\\\\anish_yagt7hg\\\\Desktop\\\\internship\\\\COVID-19_CLASSIFICATION\\\\DATA\\\\Patient 210',\n",
       " 'C:\\\\Users\\\\anish_yagt7hg\\\\Desktop\\\\internship\\\\COVID-19_CLASSIFICATION\\\\DATA\\\\Patient 211',\n",
       " 'C:\\\\Users\\\\anish_yagt7hg\\\\Desktop\\\\internship\\\\COVID-19_CLASSIFICATION\\\\DATA\\\\Patient 212',\n",
       " 'C:\\\\Users\\\\anish_yagt7hg\\\\Desktop\\\\internship\\\\COVID-19_CLASSIFICATION\\\\DATA\\\\Patient 213',\n",
       " 'C:\\\\Users\\\\anish_yagt7hg\\\\Desktop\\\\internship\\\\COVID-19_CLASSIFICATION\\\\DATA\\\\Patient 214',\n",
       " 'C:\\\\Users\\\\anish_yagt7hg\\\\Desktop\\\\internship\\\\COVID-19_CLASSIFICATION\\\\DATA\\\\Patient 215',\n",
       " 'C:\\\\Users\\\\anish_yagt7hg\\\\Desktop\\\\internship\\\\COVID-19_CLASSIFICATION\\\\DATA\\\\Patient 216',\n",
       " 'C:\\\\Users\\\\anish_yagt7hg\\\\Desktop\\\\internship\\\\COVID-19_CLASSIFICATION\\\\DATA\\\\Patient 22',\n",
       " 'C:\\\\Users\\\\anish_yagt7hg\\\\Desktop\\\\internship\\\\COVID-19_CLASSIFICATION\\\\DATA\\\\Patient 23',\n",
       " 'C:\\\\Users\\\\anish_yagt7hg\\\\Desktop\\\\internship\\\\COVID-19_CLASSIFICATION\\\\DATA\\\\Patient 24',\n",
       " 'C:\\\\Users\\\\anish_yagt7hg\\\\Desktop\\\\internship\\\\COVID-19_CLASSIFICATION\\\\DATA\\\\Patient 25',\n",
       " 'C:\\\\Users\\\\anish_yagt7hg\\\\Desktop\\\\internship\\\\COVID-19_CLASSIFICATION\\\\DATA\\\\Patient 26',\n",
       " 'C:\\\\Users\\\\anish_yagt7hg\\\\Desktop\\\\internship\\\\COVID-19_CLASSIFICATION\\\\DATA\\\\Patient 27',\n",
       " 'C:\\\\Users\\\\anish_yagt7hg\\\\Desktop\\\\internship\\\\COVID-19_CLASSIFICATION\\\\DATA\\\\Patient 28',\n",
       " 'C:\\\\Users\\\\anish_yagt7hg\\\\Desktop\\\\internship\\\\COVID-19_CLASSIFICATION\\\\DATA\\\\Patient 29',\n",
       " 'C:\\\\Users\\\\anish_yagt7hg\\\\Desktop\\\\internship\\\\COVID-19_CLASSIFICATION\\\\DATA\\\\Patient 3',\n",
       " 'C:\\\\Users\\\\anish_yagt7hg\\\\Desktop\\\\internship\\\\COVID-19_CLASSIFICATION\\\\DATA\\\\Patient 30',\n",
       " 'C:\\\\Users\\\\anish_yagt7hg\\\\Desktop\\\\internship\\\\COVID-19_CLASSIFICATION\\\\DATA\\\\Patient 31',\n",
       " 'C:\\\\Users\\\\anish_yagt7hg\\\\Desktop\\\\internship\\\\COVID-19_CLASSIFICATION\\\\DATA\\\\Patient 32',\n",
       " 'C:\\\\Users\\\\anish_yagt7hg\\\\Desktop\\\\internship\\\\COVID-19_CLASSIFICATION\\\\DATA\\\\Patient 33',\n",
       " 'C:\\\\Users\\\\anish_yagt7hg\\\\Desktop\\\\internship\\\\COVID-19_CLASSIFICATION\\\\DATA\\\\Patient 34',\n",
       " 'C:\\\\Users\\\\anish_yagt7hg\\\\Desktop\\\\internship\\\\COVID-19_CLASSIFICATION\\\\DATA\\\\Patient 35',\n",
       " 'C:\\\\Users\\\\anish_yagt7hg\\\\Desktop\\\\internship\\\\COVID-19_CLASSIFICATION\\\\DATA\\\\Patient 36',\n",
       " 'C:\\\\Users\\\\anish_yagt7hg\\\\Desktop\\\\internship\\\\COVID-19_CLASSIFICATION\\\\DATA\\\\Patient 37',\n",
       " 'C:\\\\Users\\\\anish_yagt7hg\\\\Desktop\\\\internship\\\\COVID-19_CLASSIFICATION\\\\DATA\\\\Patient 38',\n",
       " 'C:\\\\Users\\\\anish_yagt7hg\\\\Desktop\\\\internship\\\\COVID-19_CLASSIFICATION\\\\DATA\\\\Patient 39',\n",
       " 'C:\\\\Users\\\\anish_yagt7hg\\\\Desktop\\\\internship\\\\COVID-19_CLASSIFICATION\\\\DATA\\\\Patient 4',\n",
       " 'C:\\\\Users\\\\anish_yagt7hg\\\\Desktop\\\\internship\\\\COVID-19_CLASSIFICATION\\\\DATA\\\\Patient 40',\n",
       " 'C:\\\\Users\\\\anish_yagt7hg\\\\Desktop\\\\internship\\\\COVID-19_CLASSIFICATION\\\\DATA\\\\Patient 41',\n",
       " 'C:\\\\Users\\\\anish_yagt7hg\\\\Desktop\\\\internship\\\\COVID-19_CLASSIFICATION\\\\DATA\\\\Patient 42',\n",
       " 'C:\\\\Users\\\\anish_yagt7hg\\\\Desktop\\\\internship\\\\COVID-19_CLASSIFICATION\\\\DATA\\\\Patient 43',\n",
       " 'C:\\\\Users\\\\anish_yagt7hg\\\\Desktop\\\\internship\\\\COVID-19_CLASSIFICATION\\\\DATA\\\\Patient 44',\n",
       " 'C:\\\\Users\\\\anish_yagt7hg\\\\Desktop\\\\internship\\\\COVID-19_CLASSIFICATION\\\\DATA\\\\Patient 45',\n",
       " 'C:\\\\Users\\\\anish_yagt7hg\\\\Desktop\\\\internship\\\\COVID-19_CLASSIFICATION\\\\DATA\\\\Patient 46',\n",
       " 'C:\\\\Users\\\\anish_yagt7hg\\\\Desktop\\\\internship\\\\COVID-19_CLASSIFICATION\\\\DATA\\\\Patient 47',\n",
       " 'C:\\\\Users\\\\anish_yagt7hg\\\\Desktop\\\\internship\\\\COVID-19_CLASSIFICATION\\\\DATA\\\\Patient 48',\n",
       " 'C:\\\\Users\\\\anish_yagt7hg\\\\Desktop\\\\internship\\\\COVID-19_CLASSIFICATION\\\\DATA\\\\Patient 49',\n",
       " 'C:\\\\Users\\\\anish_yagt7hg\\\\Desktop\\\\internship\\\\COVID-19_CLASSIFICATION\\\\DATA\\\\Patient 5',\n",
       " 'C:\\\\Users\\\\anish_yagt7hg\\\\Desktop\\\\internship\\\\COVID-19_CLASSIFICATION\\\\DATA\\\\Patient 50',\n",
       " 'C:\\\\Users\\\\anish_yagt7hg\\\\Desktop\\\\internship\\\\COVID-19_CLASSIFICATION\\\\DATA\\\\Patient 51',\n",
       " 'C:\\\\Users\\\\anish_yagt7hg\\\\Desktop\\\\internship\\\\COVID-19_CLASSIFICATION\\\\DATA\\\\Patient 52',\n",
       " 'C:\\\\Users\\\\anish_yagt7hg\\\\Desktop\\\\internship\\\\COVID-19_CLASSIFICATION\\\\DATA\\\\Patient 53',\n",
       " 'C:\\\\Users\\\\anish_yagt7hg\\\\Desktop\\\\internship\\\\COVID-19_CLASSIFICATION\\\\DATA\\\\Patient 54',\n",
       " 'C:\\\\Users\\\\anish_yagt7hg\\\\Desktop\\\\internship\\\\COVID-19_CLASSIFICATION\\\\DATA\\\\Patient 55',\n",
       " 'C:\\\\Users\\\\anish_yagt7hg\\\\Desktop\\\\internship\\\\COVID-19_CLASSIFICATION\\\\DATA\\\\Patient 56',\n",
       " 'C:\\\\Users\\\\anish_yagt7hg\\\\Desktop\\\\internship\\\\COVID-19_CLASSIFICATION\\\\DATA\\\\Patient 57',\n",
       " 'C:\\\\Users\\\\anish_yagt7hg\\\\Desktop\\\\internship\\\\COVID-19_CLASSIFICATION\\\\DATA\\\\Patient 58',\n",
       " 'C:\\\\Users\\\\anish_yagt7hg\\\\Desktop\\\\internship\\\\COVID-19_CLASSIFICATION\\\\DATA\\\\Patient 59',\n",
       " 'C:\\\\Users\\\\anish_yagt7hg\\\\Desktop\\\\internship\\\\COVID-19_CLASSIFICATION\\\\DATA\\\\Patient 6',\n",
       " 'C:\\\\Users\\\\anish_yagt7hg\\\\Desktop\\\\internship\\\\COVID-19_CLASSIFICATION\\\\DATA\\\\Patient 60',\n",
       " 'C:\\\\Users\\\\anish_yagt7hg\\\\Desktop\\\\internship\\\\COVID-19_CLASSIFICATION\\\\DATA\\\\Patient 61',\n",
       " 'C:\\\\Users\\\\anish_yagt7hg\\\\Desktop\\\\internship\\\\COVID-19_CLASSIFICATION\\\\DATA\\\\Patient 62',\n",
       " 'C:\\\\Users\\\\anish_yagt7hg\\\\Desktop\\\\internship\\\\COVID-19_CLASSIFICATION\\\\DATA\\\\Patient 63',\n",
       " 'C:\\\\Users\\\\anish_yagt7hg\\\\Desktop\\\\internship\\\\COVID-19_CLASSIFICATION\\\\DATA\\\\Patient 64',\n",
       " 'C:\\\\Users\\\\anish_yagt7hg\\\\Desktop\\\\internship\\\\COVID-19_CLASSIFICATION\\\\DATA\\\\Patient 65',\n",
       " 'C:\\\\Users\\\\anish_yagt7hg\\\\Desktop\\\\internship\\\\COVID-19_CLASSIFICATION\\\\DATA\\\\Patient 66',\n",
       " 'C:\\\\Users\\\\anish_yagt7hg\\\\Desktop\\\\internship\\\\COVID-19_CLASSIFICATION\\\\DATA\\\\Patient 67',\n",
       " 'C:\\\\Users\\\\anish_yagt7hg\\\\Desktop\\\\internship\\\\COVID-19_CLASSIFICATION\\\\DATA\\\\Patient 68',\n",
       " 'C:\\\\Users\\\\anish_yagt7hg\\\\Desktop\\\\internship\\\\COVID-19_CLASSIFICATION\\\\DATA\\\\Patient 69',\n",
       " 'C:\\\\Users\\\\anish_yagt7hg\\\\Desktop\\\\internship\\\\COVID-19_CLASSIFICATION\\\\DATA\\\\Patient 7',\n",
       " 'C:\\\\Users\\\\anish_yagt7hg\\\\Desktop\\\\internship\\\\COVID-19_CLASSIFICATION\\\\DATA\\\\Patient 70',\n",
       " 'C:\\\\Users\\\\anish_yagt7hg\\\\Desktop\\\\internship\\\\COVID-19_CLASSIFICATION\\\\DATA\\\\Patient 71',\n",
       " 'C:\\\\Users\\\\anish_yagt7hg\\\\Desktop\\\\internship\\\\COVID-19_CLASSIFICATION\\\\DATA\\\\Patient 72',\n",
       " 'C:\\\\Users\\\\anish_yagt7hg\\\\Desktop\\\\internship\\\\COVID-19_CLASSIFICATION\\\\DATA\\\\Patient 73',\n",
       " 'C:\\\\Users\\\\anish_yagt7hg\\\\Desktop\\\\internship\\\\COVID-19_CLASSIFICATION\\\\DATA\\\\Patient 74',\n",
       " 'C:\\\\Users\\\\anish_yagt7hg\\\\Desktop\\\\internship\\\\COVID-19_CLASSIFICATION\\\\DATA\\\\Patient 75',\n",
       " 'C:\\\\Users\\\\anish_yagt7hg\\\\Desktop\\\\internship\\\\COVID-19_CLASSIFICATION\\\\DATA\\\\Patient 76',\n",
       " 'C:\\\\Users\\\\anish_yagt7hg\\\\Desktop\\\\internship\\\\COVID-19_CLASSIFICATION\\\\DATA\\\\Patient 78',\n",
       " 'C:\\\\Users\\\\anish_yagt7hg\\\\Desktop\\\\internship\\\\COVID-19_CLASSIFICATION\\\\DATA\\\\Patient 8',\n",
       " 'C:\\\\Users\\\\anish_yagt7hg\\\\Desktop\\\\internship\\\\COVID-19_CLASSIFICATION\\\\DATA\\\\Patient 80',\n",
       " 'C:\\\\Users\\\\anish_yagt7hg\\\\Desktop\\\\internship\\\\COVID-19_CLASSIFICATION\\\\DATA\\\\Patient 81',\n",
       " 'C:\\\\Users\\\\anish_yagt7hg\\\\Desktop\\\\internship\\\\COVID-19_CLASSIFICATION\\\\DATA\\\\Patient 82',\n",
       " 'C:\\\\Users\\\\anish_yagt7hg\\\\Desktop\\\\internship\\\\COVID-19_CLASSIFICATION\\\\DATA\\\\Patient 83',\n",
       " 'C:\\\\Users\\\\anish_yagt7hg\\\\Desktop\\\\internship\\\\COVID-19_CLASSIFICATION\\\\DATA\\\\Patient 84',\n",
       " 'C:\\\\Users\\\\anish_yagt7hg\\\\Desktop\\\\internship\\\\COVID-19_CLASSIFICATION\\\\DATA\\\\Patient 85',\n",
       " 'C:\\\\Users\\\\anish_yagt7hg\\\\Desktop\\\\internship\\\\COVID-19_CLASSIFICATION\\\\DATA\\\\Patient 86',\n",
       " 'C:\\\\Users\\\\anish_yagt7hg\\\\Desktop\\\\internship\\\\COVID-19_CLASSIFICATION\\\\DATA\\\\Patient 87',\n",
       " 'C:\\\\Users\\\\anish_yagt7hg\\\\Desktop\\\\internship\\\\COVID-19_CLASSIFICATION\\\\DATA\\\\Patient 88',\n",
       " 'C:\\\\Users\\\\anish_yagt7hg\\\\Desktop\\\\internship\\\\COVID-19_CLASSIFICATION\\\\DATA\\\\Patient 89',\n",
       " 'C:\\\\Users\\\\anish_yagt7hg\\\\Desktop\\\\internship\\\\COVID-19_CLASSIFICATION\\\\DATA\\\\Patient 9',\n",
       " 'C:\\\\Users\\\\anish_yagt7hg\\\\Desktop\\\\internship\\\\COVID-19_CLASSIFICATION\\\\DATA\\\\Patient 90',\n",
       " 'C:\\\\Users\\\\anish_yagt7hg\\\\Desktop\\\\internship\\\\COVID-19_CLASSIFICATION\\\\DATA\\\\Patient 91',\n",
       " 'C:\\\\Users\\\\anish_yagt7hg\\\\Desktop\\\\internship\\\\COVID-19_CLASSIFICATION\\\\DATA\\\\Patient 92',\n",
       " 'C:\\\\Users\\\\anish_yagt7hg\\\\Desktop\\\\internship\\\\COVID-19_CLASSIFICATION\\\\DATA\\\\Patient 93',\n",
       " 'C:\\\\Users\\\\anish_yagt7hg\\\\Desktop\\\\internship\\\\COVID-19_CLASSIFICATION\\\\DATA\\\\Patient 94',\n",
       " 'C:\\\\Users\\\\anish_yagt7hg\\\\Desktop\\\\internship\\\\COVID-19_CLASSIFICATION\\\\DATA\\\\Patient 95',\n",
       " 'C:\\\\Users\\\\anish_yagt7hg\\\\Desktop\\\\internship\\\\COVID-19_CLASSIFICATION\\\\DATA\\\\Patient 96',\n",
       " 'C:\\\\Users\\\\anish_yagt7hg\\\\Desktop\\\\internship\\\\COVID-19_CLASSIFICATION\\\\DATA\\\\Patient 97',\n",
       " 'C:\\\\Users\\\\anish_yagt7hg\\\\Desktop\\\\internship\\\\COVID-19_CLASSIFICATION\\\\DATA\\\\Patient 98',\n",
       " 'C:\\\\Users\\\\anish_yagt7hg\\\\Desktop\\\\internship\\\\COVID-19_CLASSIFICATION\\\\DATA\\\\Patient 99']"
      ]
     },
     "execution_count": 5,
     "metadata": {},
     "output_type": "execute_result"
    }
   ],
   "source": [
    "root_folders = [i for i in root_folders if  not i.split('\\\\')[-1] in [ 'DATA']]\n",
    "root_folders"
   ]
  },
  {
   "cell_type": "markdown",
   "metadata": {},
   "source": [
    "#### labels_and folders maps a tuple in which first element is a path to folder and second element is  label what we are \\going to assign to path"
   ]
  },
  {
   "cell_type": "code",
   "execution_count": 6,
   "metadata": {},
   "outputs": [],
   "source": [
    "labels_and_folders=[(i,j) for i,j in zip(labels,root_folders)]"
   ]
  },
  {
   "cell_type": "markdown",
   "metadata": {},
   "source": [
    "#### A  folders(label,path) FUNCTION WHICH TAKES PATH AS INPUT AND RETURNING A LIST AS APPENDIMG THE PATH TO THE IMAGES IN A LIST\n"
   ]
  },
  {
   "cell_type": "code",
   "execution_count": 7,
   "metadata": {},
   "outputs": [],
   "source": [
    "\n",
    "\n",
    "def folders(label,path):\n",
    "    folder =[os.path.join(path+'\\\\'+ file) for file in os.listdir(path)]\n",
    "    return folder"
   ]
  },
  {
   "cell_type": "markdown",
   "metadata": {},
   "source": [
    "#### READ_IMAGES(DATA) ACCEPTS A LIST OF IAMGES AND TRANSFORM THEM INTO RESPECTED ARRAYS AND RETURNS AS A ARRAY OF FOLDER OF IMAGES\n"
   ]
  },
  {
   "cell_type": "code",
   "execution_count": 16,
   "metadata": {},
   "outputs": [],
   "source": [
    "\n",
    "def READ_IMAGES(data):\n",
    "    \n",
    "    for img in range(len(data)):\n",
    "        data[img] = load_img(data[img],target_size=(224,224,3),color_mode='rgb')     # REDAING IMAGES IN RGB MODE and#    RESIZING IMAGE INTO (224 X 224 x3)\n",
    "        data[img] = img_to_array(data[img])\n",
    "        data[img] = data[img]/255                                 #   scaling the value between 0 and 1\n",
    "        data[img] = cv2.pow(data[img],0.6)                        # applying power transformation for enhancing images \n",
    "    return np.array(data)\n",
    "        "
   ]
  },
  {
   "cell_type": "markdown",
   "metadata": {},
   "source": [
    "#### feature_vector(model,image) takes input a image array and model as input and returns the mean of features"
   ]
  },
  {
   "cell_type": "code",
   "execution_count": 9,
   "metadata": {},
   "outputs": [],
   "source": [
    "def feature_vector(model,image):\n",
    "    ft_vector = model.predict(image)\n",
    "    feature_vector = np.mean(ft_vector,axis=0)\n",
    "    return feature_vector\n",
    "        "
   ]
  },
  {
   "cell_type": "markdown",
   "metadata": {},
   "source": [
    "####  LABELLING THE TARGET  COLUMN ACCORDINGLY BASED ON FOLDER NAME"
   ]
  },
  {
   "cell_type": "code",
   "execution_count": 10,
   "metadata": {},
   "outputs": [],
   "source": [
    "def Label(label):\n",
    "        if label.startswith('non_covid_Patient'):\n",
    "            return 0\n",
    "        else:\n",
    "            return 1\n"
   ]
  },
  {
   "cell_type": "markdown",
   "metadata": {},
   "source": [
    "#### feature_vector2(model,image) takes input a image array and model as input and returns the median of features\n"
   ]
  },
  {
   "cell_type": "code",
   "execution_count": 11,
   "metadata": {},
   "outputs": [],
   "source": [
    "def feature_vector2(model,image):\n",
    "    ft_vector = model.predict(image)\n",
    "    feature_vector = np.median(ft_vector,axis=0)\n",
    "    return feature_vector\n",
    "        "
   ]
  },
  {
   "cell_type": "markdown",
   "metadata": {},
   "source": [
    "#### SETTING MOBILENET INTO NON TRAINABLE"
   ]
  },
  {
   "cell_type": "code",
   "execution_count": 12,
   "metadata": {},
   "outputs": [
    {
     "name": "stdout",
     "output_type": "stream",
     "text": [
      "WARNING:tensorflow:From C:\\Users\\anish_yagt7hg\\Anaconda3\\lib\\site-packages\\tensorflow\\python\\framework\\op_def_library.py:263: colocate_with (from tensorflow.python.framework.ops) is deprecated and will be removed in a future version.\n",
      "Instructions for updating:\n",
      "Colocations handled automatically by placer.\n"
     ]
    }
   ],
   "source": [
    "# importing mobilenet model and excluding the top most layer of architecture\n",
    "mobile_net =MobileNet(include_top=False,weights ='imagenet',input_shape =(224,224,3)) \n",
    "# creating output object\n",
    "output =mobile_net.layers[-1].output\n",
    "\n",
    "output = keras.layers.Flatten()(output)   # Flattening outpiut layer\n",
    " \n",
    "# creating model instance of input and output\n",
    "mobilenet_model = Model(mobile_net.input,output)\n",
    "\n",
    "mobilenet_model .trainable = False\n",
    "\n",
    "# setting model into non trainable\n",
    "for layer in mobilenet_model .layers:\n",
    "    layer.trainable = False"
   ]
  },
  {
   "cell_type": "markdown",
   "metadata": {},
   "source": [
    "#### SUMMARY OF MOBILENET ARCHITECTURE"
   ]
  },
  {
   "cell_type": "code",
   "execution_count": 14,
   "metadata": {},
   "outputs": [
    {
     "name": "stdout",
     "output_type": "stream",
     "text": [
      "_________________________________________________________________\n",
      "Layer (type)                 Output Shape              Param #   \n",
      "=================================================================\n",
      "input_1 (InputLayer)         (None, 224, 224, 3)       0         \n",
      "_________________________________________________________________\n",
      "conv1_pad (ZeroPadding2D)    (None, 225, 225, 3)       0         \n",
      "_________________________________________________________________\n",
      "conv1 (Conv2D)               (None, 112, 112, 32)      864       \n",
      "_________________________________________________________________\n",
      "conv1_bn (BatchNormalization (None, 112, 112, 32)      128       \n",
      "_________________________________________________________________\n",
      "conv1_relu (ReLU)            (None, 112, 112, 32)      0         \n",
      "_________________________________________________________________\n",
      "conv_dw_1 (DepthwiseConv2D)  (None, 112, 112, 32)      288       \n",
      "_________________________________________________________________\n",
      "conv_dw_1_bn (BatchNormaliza (None, 112, 112, 32)      128       \n",
      "_________________________________________________________________\n",
      "conv_dw_1_relu (ReLU)        (None, 112, 112, 32)      0         \n",
      "_________________________________________________________________\n",
      "conv_pw_1 (Conv2D)           (None, 112, 112, 64)      2048      \n",
      "_________________________________________________________________\n",
      "conv_pw_1_bn (BatchNormaliza (None, 112, 112, 64)      256       \n",
      "_________________________________________________________________\n",
      "conv_pw_1_relu (ReLU)        (None, 112, 112, 64)      0         \n",
      "_________________________________________________________________\n",
      "conv_pad_2 (ZeroPadding2D)   (None, 113, 113, 64)      0         \n",
      "_________________________________________________________________\n",
      "conv_dw_2 (DepthwiseConv2D)  (None, 56, 56, 64)        576       \n",
      "_________________________________________________________________\n",
      "conv_dw_2_bn (BatchNormaliza (None, 56, 56, 64)        256       \n",
      "_________________________________________________________________\n",
      "conv_dw_2_relu (ReLU)        (None, 56, 56, 64)        0         \n",
      "_________________________________________________________________\n",
      "conv_pw_2 (Conv2D)           (None, 56, 56, 128)       8192      \n",
      "_________________________________________________________________\n",
      "conv_pw_2_bn (BatchNormaliza (None, 56, 56, 128)       512       \n",
      "_________________________________________________________________\n",
      "conv_pw_2_relu (ReLU)        (None, 56, 56, 128)       0         \n",
      "_________________________________________________________________\n",
      "conv_dw_3 (DepthwiseConv2D)  (None, 56, 56, 128)       1152      \n",
      "_________________________________________________________________\n",
      "conv_dw_3_bn (BatchNormaliza (None, 56, 56, 128)       512       \n",
      "_________________________________________________________________\n",
      "conv_dw_3_relu (ReLU)        (None, 56, 56, 128)       0         \n",
      "_________________________________________________________________\n",
      "conv_pw_3 (Conv2D)           (None, 56, 56, 128)       16384     \n",
      "_________________________________________________________________\n",
      "conv_pw_3_bn (BatchNormaliza (None, 56, 56, 128)       512       \n",
      "_________________________________________________________________\n",
      "conv_pw_3_relu (ReLU)        (None, 56, 56, 128)       0         \n",
      "_________________________________________________________________\n",
      "conv_pad_4 (ZeroPadding2D)   (None, 57, 57, 128)       0         \n",
      "_________________________________________________________________\n",
      "conv_dw_4 (DepthwiseConv2D)  (None, 28, 28, 128)       1152      \n",
      "_________________________________________________________________\n",
      "conv_dw_4_bn (BatchNormaliza (None, 28, 28, 128)       512       \n",
      "_________________________________________________________________\n",
      "conv_dw_4_relu (ReLU)        (None, 28, 28, 128)       0         \n",
      "_________________________________________________________________\n",
      "conv_pw_4 (Conv2D)           (None, 28, 28, 256)       32768     \n",
      "_________________________________________________________________\n",
      "conv_pw_4_bn (BatchNormaliza (None, 28, 28, 256)       1024      \n",
      "_________________________________________________________________\n",
      "conv_pw_4_relu (ReLU)        (None, 28, 28, 256)       0         \n",
      "_________________________________________________________________\n",
      "conv_dw_5 (DepthwiseConv2D)  (None, 28, 28, 256)       2304      \n",
      "_________________________________________________________________\n",
      "conv_dw_5_bn (BatchNormaliza (None, 28, 28, 256)       1024      \n",
      "_________________________________________________________________\n",
      "conv_dw_5_relu (ReLU)        (None, 28, 28, 256)       0         \n",
      "_________________________________________________________________\n",
      "conv_pw_5 (Conv2D)           (None, 28, 28, 256)       65536     \n",
      "_________________________________________________________________\n",
      "conv_pw_5_bn (BatchNormaliza (None, 28, 28, 256)       1024      \n",
      "_________________________________________________________________\n",
      "conv_pw_5_relu (ReLU)        (None, 28, 28, 256)       0         \n",
      "_________________________________________________________________\n",
      "conv_pad_6 (ZeroPadding2D)   (None, 29, 29, 256)       0         \n",
      "_________________________________________________________________\n",
      "conv_dw_6 (DepthwiseConv2D)  (None, 14, 14, 256)       2304      \n",
      "_________________________________________________________________\n",
      "conv_dw_6_bn (BatchNormaliza (None, 14, 14, 256)       1024      \n",
      "_________________________________________________________________\n",
      "conv_dw_6_relu (ReLU)        (None, 14, 14, 256)       0         \n",
      "_________________________________________________________________\n",
      "conv_pw_6 (Conv2D)           (None, 14, 14, 512)       131072    \n",
      "_________________________________________________________________\n",
      "conv_pw_6_bn (BatchNormaliza (None, 14, 14, 512)       2048      \n",
      "_________________________________________________________________\n",
      "conv_pw_6_relu (ReLU)        (None, 14, 14, 512)       0         \n",
      "_________________________________________________________________\n",
      "conv_dw_7 (DepthwiseConv2D)  (None, 14, 14, 512)       4608      \n",
      "_________________________________________________________________\n",
      "conv_dw_7_bn (BatchNormaliza (None, 14, 14, 512)       2048      \n",
      "_________________________________________________________________\n",
      "conv_dw_7_relu (ReLU)        (None, 14, 14, 512)       0         \n",
      "_________________________________________________________________\n",
      "conv_pw_7 (Conv2D)           (None, 14, 14, 512)       262144    \n",
      "_________________________________________________________________\n",
      "conv_pw_7_bn (BatchNormaliza (None, 14, 14, 512)       2048      \n",
      "_________________________________________________________________\n",
      "conv_pw_7_relu (ReLU)        (None, 14, 14, 512)       0         \n",
      "_________________________________________________________________\n",
      "conv_dw_8 (DepthwiseConv2D)  (None, 14, 14, 512)       4608      \n",
      "_________________________________________________________________\n",
      "conv_dw_8_bn (BatchNormaliza (None, 14, 14, 512)       2048      \n",
      "_________________________________________________________________\n",
      "conv_dw_8_relu (ReLU)        (None, 14, 14, 512)       0         \n",
      "_________________________________________________________________\n",
      "conv_pw_8 (Conv2D)           (None, 14, 14, 512)       262144    \n",
      "_________________________________________________________________\n",
      "conv_pw_8_bn (BatchNormaliza (None, 14, 14, 512)       2048      \n",
      "_________________________________________________________________\n",
      "conv_pw_8_relu (ReLU)        (None, 14, 14, 512)       0         \n",
      "_________________________________________________________________\n",
      "conv_dw_9 (DepthwiseConv2D)  (None, 14, 14, 512)       4608      \n",
      "_________________________________________________________________\n",
      "conv_dw_9_bn (BatchNormaliza (None, 14, 14, 512)       2048      \n",
      "_________________________________________________________________\n",
      "conv_dw_9_relu (ReLU)        (None, 14, 14, 512)       0         \n",
      "_________________________________________________________________\n",
      "conv_pw_9 (Conv2D)           (None, 14, 14, 512)       262144    \n",
      "_________________________________________________________________\n",
      "conv_pw_9_bn (BatchNormaliza (None, 14, 14, 512)       2048      \n",
      "_________________________________________________________________\n",
      "conv_pw_9_relu (ReLU)        (None, 14, 14, 512)       0         \n",
      "_________________________________________________________________\n",
      "conv_dw_10 (DepthwiseConv2D) (None, 14, 14, 512)       4608      \n",
      "_________________________________________________________________\n",
      "conv_dw_10_bn (BatchNormaliz (None, 14, 14, 512)       2048      \n",
      "_________________________________________________________________\n",
      "conv_dw_10_relu (ReLU)       (None, 14, 14, 512)       0         \n",
      "_________________________________________________________________\n",
      "conv_pw_10 (Conv2D)          (None, 14, 14, 512)       262144    \n",
      "_________________________________________________________________\n",
      "conv_pw_10_bn (BatchNormaliz (None, 14, 14, 512)       2048      \n",
      "_________________________________________________________________\n",
      "conv_pw_10_relu (ReLU)       (None, 14, 14, 512)       0         \n",
      "_________________________________________________________________\n",
      "conv_dw_11 (DepthwiseConv2D) (None, 14, 14, 512)       4608      \n",
      "_________________________________________________________________\n",
      "conv_dw_11_bn (BatchNormaliz (None, 14, 14, 512)       2048      \n",
      "_________________________________________________________________\n",
      "conv_dw_11_relu (ReLU)       (None, 14, 14, 512)       0         \n",
      "_________________________________________________________________\n",
      "conv_pw_11 (Conv2D)          (None, 14, 14, 512)       262144    \n",
      "_________________________________________________________________\n",
      "conv_pw_11_bn (BatchNormaliz (None, 14, 14, 512)       2048      \n",
      "_________________________________________________________________\n",
      "conv_pw_11_relu (ReLU)       (None, 14, 14, 512)       0         \n",
      "_________________________________________________________________\n",
      "conv_pad_12 (ZeroPadding2D)  (None, 15, 15, 512)       0         \n",
      "_________________________________________________________________\n",
      "conv_dw_12 (DepthwiseConv2D) (None, 7, 7, 512)         4608      \n",
      "_________________________________________________________________\n",
      "conv_dw_12_bn (BatchNormaliz (None, 7, 7, 512)         2048      \n",
      "_________________________________________________________________\n",
      "conv_dw_12_relu (ReLU)       (None, 7, 7, 512)         0         \n",
      "_________________________________________________________________\n",
      "conv_pw_12 (Conv2D)          (None, 7, 7, 1024)        524288    \n",
      "_________________________________________________________________\n",
      "conv_pw_12_bn (BatchNormaliz (None, 7, 7, 1024)        4096      \n",
      "_________________________________________________________________\n",
      "conv_pw_12_relu (ReLU)       (None, 7, 7, 1024)        0         \n",
      "_________________________________________________________________\n",
      "conv_dw_13 (DepthwiseConv2D) (None, 7, 7, 1024)        9216      \n",
      "_________________________________________________________________\n",
      "conv_dw_13_bn (BatchNormaliz (None, 7, 7, 1024)        4096      \n",
      "_________________________________________________________________\n",
      "conv_dw_13_relu (ReLU)       (None, 7, 7, 1024)        0         \n",
      "_________________________________________________________________\n",
      "conv_pw_13 (Conv2D)          (None, 7, 7, 1024)        1048576   \n",
      "_________________________________________________________________\n",
      "conv_pw_13_bn (BatchNormaliz (None, 7, 7, 1024)        4096      \n",
      "_________________________________________________________________\n",
      "conv_pw_13_relu (ReLU)       (None, 7, 7, 1024)        0         \n",
      "_________________________________________________________________\n",
      "flatten_1 (Flatten)          (None, 50176)             0         \n",
      "=================================================================\n",
      "Total params: 3,228,864\n",
      "Trainable params: 0\n",
      "Non-trainable params: 3,228,864\n",
      "_________________________________________________________________\n"
     ]
    }
   ],
   "source": [
    "mobilenet_model.summary()         "
   ]
  },
  {
   "cell_type": "markdown",
   "metadata": {},
   "source": [
    "#### CUSTOM FUNCTION FOR PROCESSING THE ABOVE FUNCCTION AND RETURNS THE MEAN OF FEATURES AND TARGET LABEL ACCORDINGLY"
   ]
  },
  {
   "cell_type": "code",
   "execution_count": 14,
   "metadata": {},
   "outputs": [],
   "source": [
    "def mobilenet_with_mean(label,path):\n",
    "    folder =folders(label,path)\n",
    "    img_list=READ_IMAGES(folder)\n",
    "    img_list=np.array(img_list)\n",
    "    img_features =feature_vector(mobile_net,img_list)\n",
    "    target_label = Label(label)\n",
    "    return img_features,target_label "
   ]
  },
  {
   "cell_type": "markdown",
   "metadata": {},
   "source": [
    "#### PROCESSING THE FOLDERS"
   ]
  },
  {
   "cell_type": "code",
   "execution_count": 15,
   "metadata": {},
   "outputs": [],
   "source": [
    "mobilenet_data=[]\n",
    "for i,j in labels_and_folders:\n",
    "       mobilenet_data.append(mobilenet_with_mean(i,j))"
   ]
  },
  {
   "cell_type": "code",
   "execution_count": 18,
   "metadata": {},
   "outputs": [
    {
     "ename": "NameError",
     "evalue": "name 'mobilenet_data' is not defined",
     "output_type": "error",
     "traceback": [
      "\u001b[1;31m---------------------------------------------------------------------------\u001b[0m",
      "\u001b[1;31mNameError\u001b[0m                                 Traceback (most recent call last)",
      "\u001b[1;32m<ipython-input-18-6f9740c4de98>\u001b[0m in \u001b[0;36m<module>\u001b[1;34m\u001b[0m\n\u001b[1;32m----> 1\u001b[1;33m \u001b[0mtarget_label_mobilenet_mean\u001b[0m \u001b[1;33m=\u001b[0m\u001b[1;33m[\u001b[0m\u001b[0mj\u001b[0m \u001b[1;32mfor\u001b[0m \u001b[0mi\u001b[0m\u001b[1;33m,\u001b[0m\u001b[0mj\u001b[0m \u001b[1;32min\u001b[0m \u001b[0mmobilenet_data\u001b[0m\u001b[1;33m]\u001b[0m\u001b[1;33m\u001b[0m\u001b[1;33m\u001b[0m\u001b[0m\n\u001b[0m\u001b[0;32m      2\u001b[0m \u001b[1;33m\u001b[0m\u001b[0m\n\u001b[0;32m      3\u001b[0m \u001b[1;33m\u001b[0m\u001b[0m\n\u001b[0;32m      4\u001b[0m \u001b[0mtarget_label_mobilenet_mean\u001b[0m\u001b[1;33m=\u001b[0m\u001b[0mto_categorical\u001b[0m\u001b[1;33m(\u001b[0m\u001b[0mtarget_label_mobilenet_mean\u001b[0m\u001b[1;33m)\u001b[0m\u001b[1;33m\u001b[0m\u001b[1;33m\u001b[0m\u001b[0m\n\u001b[0;32m      5\u001b[0m \u001b[0mfeatures_mean_mobilenet\u001b[0m\u001b[1;33m=\u001b[0m\u001b[1;33m[\u001b[0m\u001b[0mi\u001b[0m \u001b[1;32mfor\u001b[0m \u001b[0mi\u001b[0m\u001b[1;33m,\u001b[0m\u001b[0mj\u001b[0m \u001b[1;32min\u001b[0m \u001b[0mmobilenet_data\u001b[0m\u001b[1;33m]\u001b[0m\u001b[1;33m\u001b[0m\u001b[1;33m\u001b[0m\u001b[0m\n",
      "\u001b[1;31mNameError\u001b[0m: name 'mobilenet_data' is not defined"
     ]
    }
   ],
   "source": [
    "# GETTING  LIST OF TARGET VALUES FROM mobilnet_data list\n",
    "target_label_mobilenet_mean =[j for i,j in mobilenet_data] \n",
    "\n",
    "# converting target into encoding\n",
    "target_label_mobilenet_mean=to_categorical(target_label_mobilenet_mean)\n",
    "\n",
    "\n",
    "# MEAN OF FEATURES OF IMAGES\n",
    "features_mean_mobilenet=[i for i,j in mobilenet_data]\n"
   ]
  },
  {
   "cell_type": "markdown",
   "metadata": {},
   "source": [
    "#### SPLITTING THE TRAINING AND VALIDATION DATA  FOR MEAN OF FEATURES"
   ]
  },
  {
   "cell_type": "code",
   "execution_count": 17,
   "metadata": {},
   "outputs": [
    {
     "name": "stdout",
     "output_type": "stream",
     "text": [
      "THE NO.of Images in Training Data are : 243 \n",
      "THE NO.of Images in VALIDATION Data are : 61 \n"
     ]
    }
   ],
   "source": [
    "mobilenet_mean_X_train,mobilenet_mean_X_test,mobilenet_mean_Y_train,mobilenet_mean_Y_test = train_test_split(features_mean_mobilenet,target_label_mobilenet_mean,\n",
    "                                                                                                             test_size=0.2,random_state=141895)\n",
    "\n",
    "print(\"THE NO.of Images in Training Data are : {} \".format(len(mobilenet_mean_X_train)))\n",
    "print(\"THE NO.of Images in VALIDATION Data are : {} \".format(len(mobilenet_mean_X_test)))\n"
   ]
  },
  {
   "cell_type": "code",
   "execution_count": 18,
   "metadata": {},
   "outputs": [
    {
     "data": {
      "text/plain": [
       "(7, 7, 1024)"
      ]
     },
     "execution_count": 18,
     "metadata": {},
     "output_type": "execute_result"
    }
   ],
   "source": [
    "mobilenet_mean_X_train[0].shape    # "
   ]
  },
  {
   "cell_type": "markdown",
   "metadata": {},
   "source": [
    "#### AS MODEL ACCEPTS ARRAY OF INPUTS CONVERTING LIST OF ARRAYS INTO ONE SINGLE ARRAY OF ARRAYS"
   ]
  },
  {
   "cell_type": "code",
   "execution_count": 19,
   "metadata": {},
   "outputs": [],
   "source": [
    "mobilenet_mean_X_train =np.array(mobilenet_mean_X_train)\n",
    "mobilenet_mean_X_test =np.array(mobilenet_mean_X_test)"
   ]
  },
  {
   "cell_type": "markdown",
   "metadata": {},
   "source": [
    "#### SIMPLE NEURAL NETWORK"
   ]
  },
  {
   "cell_type": "code",
   "execution_count": 20,
   "metadata": {
    "scrolled": true
   },
   "outputs": [
    {
     "name": "stdout",
     "output_type": "stream",
     "text": [
      "WARNING:tensorflow:From C:\\Users\\anish_yagt7hg\\Anaconda3\\lib\\site-packages\\tensorflow\\python\\ops\\math_ops.py:3066: to_int32 (from tensorflow.python.ops.math_ops) is deprecated and will be removed in a future version.\n",
      "Instructions for updating:\n",
      "Use tf.cast instead.\n",
      "Train on 243 samples, validate on 61 samples\n",
      "Epoch 1/100\n",
      "243/243 [==============================] - 5s 19ms/step - loss: 8.5850 - acc: 0.5617 - val_loss: 7.4103 - val_acc: 0.7377\n",
      "Epoch 2/100\n",
      "243/243 [==============================] - 1s 4ms/step - loss: 6.7318 - acc: 0.5679 - val_loss: 5.4374 - val_acc: 0.7377\n",
      "Epoch 3/100\n",
      "243/243 [==============================] - 1s 4ms/step - loss: 5.1793 - acc: 0.6523 - val_loss: 4.5993 - val_acc: 0.5000\n",
      "Epoch 4/100\n",
      "243/243 [==============================] - 1s 4ms/step - loss: 4.0228 - acc: 0.6481 - val_loss: 3.4329 - val_acc: 0.7377\n",
      "Epoch 5/100\n",
      "243/243 [==============================] - 1s 4ms/step - loss: 3.1833 - acc: 0.6317 - val_loss: 2.7561 - val_acc: 0.7377\n",
      "Epoch 6/100\n",
      "243/243 [==============================] - 1s 4ms/step - loss: 2.5432 - acc: 0.7078 - val_loss: 2.2493 - val_acc: 0.7377\n",
      "Epoch 7/100\n",
      "243/243 [==============================] - 1s 4ms/step - loss: 2.0506 - acc: 0.6975 - val_loss: 1.8244 - val_acc: 0.7377\n",
      "Epoch 8/100\n",
      "243/243 [==============================] - 1s 4ms/step - loss: 1.6951 - acc: 0.6728 - val_loss: 1.5173 - val_acc: 0.7295\n",
      "Epoch 9/100\n",
      "243/243 [==============================] - 1s 4ms/step - loss: 1.4166 - acc: 0.7346 - val_loss: 1.3266 - val_acc: 0.7377\n",
      "Epoch 10/100\n",
      "243/243 [==============================] - 1s 4ms/step - loss: 1.2084 - acc: 0.7449 - val_loss: 1.1434 - val_acc: 0.7213\n",
      "Epoch 11/100\n",
      "243/243 [==============================] - 1s 4ms/step - loss: 1.0200 - acc: 0.7860 - val_loss: 1.0864 - val_acc: 0.7377\n",
      "Epoch 12/100\n",
      "243/243 [==============================] - 1s 4ms/step - loss: 0.9792 - acc: 0.7593 - val_loss: 0.9830 - val_acc: 0.6885\n",
      "Epoch 13/100\n",
      "243/243 [==============================] - 1s 4ms/step - loss: 1.0665 - acc: 0.7222 - val_loss: 1.0305 - val_acc: 0.7377\n",
      "Epoch 14/100\n",
      "243/243 [==============================] - 1s 4ms/step - loss: 0.8136 - acc: 0.7737 - val_loss: 1.0342 - val_acc: 0.6557\n",
      "Epoch 15/100\n",
      "243/243 [==============================] - 1s 4ms/step - loss: 0.8429 - acc: 0.7490 - val_loss: 0.7903 - val_acc: 0.7705\n",
      "Epoch 16/100\n",
      "243/243 [==============================] - 1s 4ms/step - loss: 0.9725 - acc: 0.7222 - val_loss: 1.1124 - val_acc: 0.7377\n",
      "Epoch 17/100\n",
      "243/243 [==============================] - 1s 4ms/step - loss: 0.8860 - acc: 0.7613 - val_loss: 1.3942 - val_acc: 0.7377\n",
      "Epoch 18/100\n",
      "243/243 [==============================] - 1s 3ms/step - loss: 0.7229 - acc: 0.8210 - val_loss: 0.9156 - val_acc: 0.7705\n",
      "Epoch 19/100\n",
      "243/243 [==============================] - 1s 4ms/step - loss: 0.5792 - acc: 0.8642 - val_loss: 0.8572 - val_acc: 0.7705\n",
      "Epoch 20/100\n",
      "243/243 [==============================] - 1s 4ms/step - loss: 0.6381 - acc: 0.8292 - val_loss: 0.8062 - val_acc: 0.7705\n",
      "\n",
      "Epoch 00020: ReduceLROnPlateau reducing learning rate to 0.00010000000474974513.\n",
      "Epoch 21/100\n",
      "243/243 [==============================] - 1s 4ms/step - loss: 0.5231 - acc: 0.8848 - val_loss: 0.7179 - val_acc: 0.7705\n",
      "Epoch 22/100\n",
      "243/243 [==============================] - 1s 4ms/step - loss: 0.5195 - acc: 0.9177 - val_loss: 0.7187 - val_acc: 0.7869\n",
      "Epoch 23/100\n",
      "243/243 [==============================] - 1s 4ms/step - loss: 0.5063 - acc: 0.8971 - val_loss: 0.7272 - val_acc: 0.7541\n",
      "Epoch 24/100\n",
      "243/243 [==============================] - 1s 5ms/step - loss: 0.5007 - acc: 0.8930 - val_loss: 0.7098 - val_acc: 0.7869\n",
      "Epoch 25/100\n",
      "243/243 [==============================] - 1s 4ms/step - loss: 0.4967 - acc: 0.9115 - val_loss: 0.7101 - val_acc: 0.7787\n",
      "Epoch 26/100\n",
      "243/243 [==============================] - 1s 4ms/step - loss: 0.4972 - acc: 0.8951 - val_loss: 0.7121 - val_acc: 0.7705\n",
      "Epoch 27/100\n",
      "243/243 [==============================] - 1s 5ms/step - loss: 0.4869 - acc: 0.8971 - val_loss: 0.7007 - val_acc: 0.7869\n",
      "Epoch 28/100\n",
      "243/243 [==============================] - 1s 5ms/step - loss: 0.4881 - acc: 0.8930 - val_loss: 0.7009 - val_acc: 0.7869\n",
      "Epoch 29/100\n",
      "243/243 [==============================] - 1s 5ms/step - loss: 0.4799 - acc: 0.9115 - val_loss: 0.6977 - val_acc: 0.7869\n",
      "Epoch 30/100\n",
      "243/243 [==============================] - 1s 5ms/step - loss: 0.4793 - acc: 0.9074 - val_loss: 0.7075 - val_acc: 0.7869\n",
      "Epoch 31/100\n",
      "243/243 [==============================] - 1s 4ms/step - loss: 0.4716 - acc: 0.9074 - val_loss: 0.6923 - val_acc: 0.7869\n",
      "Epoch 32/100\n",
      "243/243 [==============================] - 1s 3ms/step - loss: 0.4685 - acc: 0.9136 - val_loss: 0.6898 - val_acc: 0.7869\n",
      "Epoch 33/100\n",
      "243/243 [==============================] - 1s 4ms/step - loss: 0.4644 - acc: 0.9053 - val_loss: 0.6893 - val_acc: 0.7705\n",
      "Epoch 34/100\n",
      "243/243 [==============================] - 1s 4ms/step - loss: 0.4602 - acc: 0.9053 - val_loss: 0.6877 - val_acc: 0.7705\n",
      "Epoch 35/100\n",
      "243/243 [==============================] - 1s 4ms/step - loss: 0.4567 - acc: 0.9095 - val_loss: 0.6850 - val_acc: 0.7705\n",
      "Epoch 36/100\n",
      "243/243 [==============================] - 1s 4ms/step - loss: 0.4562 - acc: 0.9095 - val_loss: 0.6872 - val_acc: 0.7869\n",
      "Epoch 37/100\n",
      "243/243 [==============================] - 1s 4ms/step - loss: 0.4606 - acc: 0.8930 - val_loss: 0.6766 - val_acc: 0.7869\n",
      "Epoch 38/100\n",
      "243/243 [==============================] - 1s 5ms/step - loss: 0.4473 - acc: 0.9177 - val_loss: 0.6760 - val_acc: 0.7869\n",
      "Epoch 39/100\n",
      "243/243 [==============================] - 1s 5ms/step - loss: 0.4481 - acc: 0.9053 - val_loss: 0.6735 - val_acc: 0.7869\n",
      "Epoch 40/100\n",
      "243/243 [==============================] - 1s 3ms/step - loss: 0.4478 - acc: 0.9095 - val_loss: 0.6724 - val_acc: 0.7869\n",
      "Epoch 41/100\n",
      "243/243 [==============================] - 1s 3ms/step - loss: 0.4459 - acc: 0.9177 - val_loss: 0.6730 - val_acc: 0.7869\n",
      "Epoch 42/100\n",
      "243/243 [==============================] - 1s 4ms/step - loss: 0.4494 - acc: 0.9300 - val_loss: 0.6683 - val_acc: 0.7869\n",
      "Epoch 43/100\n",
      "243/243 [==============================] - 1s 4ms/step - loss: 0.4478 - acc: 0.9136 - val_loss: 0.6729 - val_acc: 0.7869\n",
      "Epoch 44/100\n",
      "243/243 [==============================] - 1s 4ms/step - loss: 0.4335 - acc: 0.9218 - val_loss: 0.6591 - val_acc: 0.7869\n",
      "Epoch 45/100\n",
      "243/243 [==============================] - 1s 4ms/step - loss: 0.4276 - acc: 0.9198 - val_loss: 0.6717 - val_acc: 0.7869\n",
      "Epoch 46/100\n",
      "243/243 [==============================] - 1s 5ms/step - loss: 0.4238 - acc: 0.9239 - val_loss: 0.6631 - val_acc: 0.7869\n",
      "Epoch 47/100\n",
      "243/243 [==============================] - 1s 5ms/step - loss: 0.4182 - acc: 0.9280 - val_loss: 0.6578 - val_acc: 0.7869\n",
      "Epoch 48/100\n",
      "243/243 [==============================] - 1s 4ms/step - loss: 0.4168 - acc: 0.9218 - val_loss: 0.6696 - val_acc: 0.7869\n",
      "Epoch 49/100\n",
      "243/243 [==============================] - 1s 5ms/step - loss: 0.4199 - acc: 0.9218 - val_loss: 0.6578 - val_acc: 0.8033\n",
      "Epoch 50/100\n",
      "243/243 [==============================] - 1s 4ms/step - loss: 0.4120 - acc: 0.9218 - val_loss: 0.6582 - val_acc: 0.7951\n",
      "Epoch 51/100\n",
      "243/243 [==============================] - 1s 5ms/step - loss: 0.4179 - acc: 0.9342 - val_loss: 0.6582 - val_acc: 0.7869\n",
      "Epoch 52/100\n",
      "243/243 [==============================] - 1s 4ms/step - loss: 0.4057 - acc: 0.9280 - val_loss: 0.6516 - val_acc: 0.7869\n",
      "Epoch 53/100\n",
      "243/243 [==============================] - 1s 4ms/step - loss: 0.4015 - acc: 0.9280 - val_loss: 0.6528 - val_acc: 0.8033\n",
      "Epoch 54/100\n",
      "243/243 [==============================] - 1s 5ms/step - loss: 0.4043 - acc: 0.9342 - val_loss: 0.6546 - val_acc: 0.7869\n",
      "Epoch 55/100\n",
      "243/243 [==============================] - 1s 4ms/step - loss: 0.3982 - acc: 0.9362 - val_loss: 0.6500 - val_acc: 0.8033\n",
      "Epoch 56/100\n",
      "243/243 [==============================] - 1s 4ms/step - loss: 0.3977 - acc: 0.9300 - val_loss: 0.6498 - val_acc: 0.7951\n",
      "Epoch 57/100\n",
      "243/243 [==============================] - 1s 5ms/step - loss: 0.3972 - acc: 0.9383 - val_loss: 0.6445 - val_acc: 0.7869\n",
      "Epoch 58/100\n",
      "243/243 [==============================] - 1s 5ms/step - loss: 0.3999 - acc: 0.9218 - val_loss: 0.6410 - val_acc: 0.7869\n",
      "Epoch 59/100\n",
      "243/243 [==============================] - 1s 4ms/step - loss: 0.3833 - acc: 0.9486 - val_loss: 0.6610 - val_acc: 0.7951\n",
      "Epoch 60/100\n",
      "243/243 [==============================] - 1s 4ms/step - loss: 0.3874 - acc: 0.9424 - val_loss: 0.6402 - val_acc: 0.7869\n",
      "Epoch 61/100\n",
      "243/243 [==============================] - 1s 5ms/step - loss: 0.3799 - acc: 0.9506 - val_loss: 0.6526 - val_acc: 0.7869\n",
      "Epoch 62/100\n",
      "243/243 [==============================] - 1s 4ms/step - loss: 0.3786 - acc: 0.9486 - val_loss: 0.6349 - val_acc: 0.8033\n",
      "Epoch 63/100\n",
      "243/243 [==============================] - 1s 4ms/step - loss: 0.3743 - acc: 0.9506 - val_loss: 0.6546 - val_acc: 0.8033\n",
      "Epoch 64/100\n",
      "243/243 [==============================] - 1s 4ms/step - loss: 0.3775 - acc: 0.9527 - val_loss: 0.6440 - val_acc: 0.7869\n",
      "Epoch 65/100\n",
      "243/243 [==============================] - 1s 5ms/step - loss: 0.3745 - acc: 0.9403 - val_loss: 0.6306 - val_acc: 0.8033\n",
      "Epoch 66/100\n",
      "243/243 [==============================] - 1s 4ms/step - loss: 0.3726 - acc: 0.9465 - val_loss: 0.6348 - val_acc: 0.8033\n",
      "Epoch 67/100\n",
      "243/243 [==============================] - 1s 5ms/step - loss: 0.3649 - acc: 0.9588 - val_loss: 0.6381 - val_acc: 0.8033\n",
      "Epoch 68/100\n",
      "243/243 [==============================] - 1s 4ms/step - loss: 0.3641 - acc: 0.9506 - val_loss: 0.6292 - val_acc: 0.8033\n",
      "Epoch 69/100\n",
      "243/243 [==============================] - 1s 4ms/step - loss: 0.3645 - acc: 0.9527 - val_loss: 0.6334 - val_acc: 0.8033\n",
      "Epoch 70/100\n",
      "243/243 [==============================] - 1s 4ms/step - loss: 0.3592 - acc: 0.9588 - val_loss: 0.6344 - val_acc: 0.8033\n",
      "Epoch 71/100\n",
      "243/243 [==============================] - 1s 4ms/step - loss: 0.3600 - acc: 0.9630 - val_loss: 0.6298 - val_acc: 0.8033\n",
      "Epoch 72/100\n",
      "243/243 [==============================] - 1s 4ms/step - loss: 0.3621 - acc: 0.9403 - val_loss: 0.6251 - val_acc: 0.8033\n",
      "Epoch 73/100\n",
      "243/243 [==============================] - 1s 4ms/step - loss: 0.3588 - acc: 0.9506 - val_loss: 0.6347 - val_acc: 0.7951\n",
      "Epoch 74/100\n",
      "243/243 [==============================] - 1s 5ms/step - loss: 0.3504 - acc: 0.9588 - val_loss: 0.6249 - val_acc: 0.7869\n",
      "Epoch 75/100\n",
      "243/243 [==============================] - 1s 4ms/step - loss: 0.3492 - acc: 0.9547 - val_loss: 0.6377 - val_acc: 0.8033\n",
      "Epoch 76/100\n",
      "243/243 [==============================] - 1s 5ms/step - loss: 0.3471 - acc: 0.9609 - val_loss: 0.6257 - val_acc: 0.8033\n",
      "Epoch 77/100\n",
      "243/243 [==============================] - 1s 4ms/step - loss: 0.3454 - acc: 0.9630 - val_loss: 0.6397 - val_acc: 0.8033\n",
      "Epoch 78/100\n",
      "243/243 [==============================] - 1s 4ms/step - loss: 0.3427 - acc: 0.9588 - val_loss: 0.6193 - val_acc: 0.7869\n",
      "Epoch 79/100\n",
      "243/243 [==============================] - 1s 4ms/step - loss: 0.3402 - acc: 0.9671 - val_loss: 0.6320 - val_acc: 0.8033\n",
      "Epoch 80/100\n",
      "243/243 [==============================] - 1s 4ms/step - loss: 0.3379 - acc: 0.9609 - val_loss: 0.6234 - val_acc: 0.8033\n",
      "Epoch 81/100\n",
      "243/243 [==============================] - 1s 5ms/step - loss: 0.3366 - acc: 0.9712 - val_loss: 0.6348 - val_acc: 0.8033\n",
      "Epoch 82/100\n",
      "243/243 [==============================] - 1s 4ms/step - loss: 0.3362 - acc: 0.9630 - val_loss: 0.6196 - val_acc: 0.7869\n",
      "Epoch 83/100\n",
      "243/243 [==============================] - 1s 4ms/step - loss: 0.3326 - acc: 0.9671 - val_loss: 0.6583 - val_acc: 0.8033\n",
      "\n",
      "Epoch 00083: ReduceLROnPlateau reducing learning rate to 1.0000000474974514e-05.\n",
      "Epoch 84/100\n",
      "243/243 [==============================] - 1s 4ms/step - loss: 0.3400 - acc: 0.9444 - val_loss: 0.6397 - val_acc: 0.8033\n",
      "Epoch 85/100\n",
      "243/243 [==============================] - 1s 4ms/step - loss: 0.3310 - acc: 0.9671 - val_loss: 0.6262 - val_acc: 0.8115\n",
      "Epoch 86/100\n",
      "243/243 [==============================] - 1s 5ms/step - loss: 0.3308 - acc: 0.9671 - val_loss: 0.6193 - val_acc: 0.7869\n",
      "Epoch 87/100\n",
      "243/243 [==============================] - 1s 4ms/step - loss: 0.3294 - acc: 0.9753 - val_loss: 0.6205 - val_acc: 0.7869\n",
      "Epoch 88/100\n",
      "243/243 [==============================] - 1s 4ms/step - loss: 0.3282 - acc: 0.9733 - val_loss: 0.6257 - val_acc: 0.8115\n",
      "\n",
      "Epoch 00088: ReduceLROnPlateau reducing learning rate to 1.0000000656873453e-06.\n",
      "Epoch 00088: early stopping\n"
     ]
    }
   ],
   "source": [
    "mobilenet_model_mean=Sequential()\n",
    "mobilenet_model_mean.add(Dense(256,input_shape=(7,7,1024),activation='sigmoid',kernel_initializer='glorot_uniform',\n",
    "                kernel_regularizer= regularizers.l2()))\n",
    "\n",
    "\n",
    "mobilenet_model_mean.add(Dense(512,activation='sigmoid', kernel_regularizer= regularizers.l2()))\n",
    "mobilenet_model_mean.add(Flatten())\n",
    "mobilenet_model_mean.add(Dense(2, activation='sigmoid'))\n",
    "\n",
    "\n",
    "\n",
    "#OPtimizers\n",
    "adam = keras.optimizers.Adam(lr=0.001, decay=0.0005)\n",
    "\n",
    "## Callbacks\n",
    "earlystopper = EarlyStopping(monitor='val_loss', patience=10, verbose=1)\n",
    "reduce_lr = ReduceLROnPlateau(patience=5, verbose=1)\n",
    "\n",
    "## Compiling the model and defining loss function\n",
    "mobilenet_model_mean.compile(optimizer=adam, loss='binary_crossentropy', metrics=['accuracy'])\n",
    "\n",
    "## Training neural nets\n",
    "mobilenet_mean_history=mobilenet_model_mean.fit(mobilenet_mean_X_train, mobilenet_mean_Y_train,\n",
    "                                              validation_data=(mobilenet_mean_X_test,mobilenet_mean_Y_test),\n",
    "                                              epochs=100, batch_size=32,\n",
    "                                              callbacks=[reduce_lr, earlystopper])"
   ]
  },
  {
   "cell_type": "markdown",
   "metadata": {},
   "source": [
    "#### PLOTTING THE LOSS AND ACCURACY OF MODEL WITH MEAN OF FEATURES"
   ]
  },
  {
   "cell_type": "code",
   "execution_count": 21,
   "metadata": {},
   "outputs": [
    {
     "data": {
      "image/png": "[encoded data removed]",
      "text/plain": [
       "<Figure size 864x288 with 2 Axes>"
      ]
     },
     "metadata": {
      "needs_background": "light"
     },
     "output_type": "display_data"
    }
   ],
   "source": [
    "f, (ax1, ax2) = plt.subplots(1, 2, figsize=(12, 4))\n",
    "t = f.suptitle('MOBILENET MODEL WITH MEAN OF FETURES', fontsize=12)\n",
    "f.subplots_adjust(top=0.85, wspace=0.3)\n",
    "\n",
    "epoch_list = list(range(1,89))\n",
    "ax1.plot(epoch_list, mobilenet_mean_history.history['acc'], label='Train Accuracy')\n",
    "ax1.plot(epoch_list,mobilenet_mean_history.history['val_acc'], label='Validation Accuracy')\n",
    "ax1.set_xticks(np.arange(0, 89, 5))\n",
    "ax1.set_ylabel('Accuracy Value')\n",
    "ax1.set_xlabel('Epoch')\n",
    "ax1.set_title('Accuracy')\n",
    "l1 = ax1.legend(loc=\"best\")\n",
    "\n",
    "ax2.plot(epoch_list, mobilenet_mean_history.history['loss'], label='Train Loss')\n",
    "ax2.plot(epoch_list, mobilenet_mean_history.history['val_loss'], label='Validation Loss')\n",
    "ax2.set_xticks(np.arange(0, 89, 5))\n",
    "ax2.set_ylabel('Loss Value')\n",
    "ax2.set_xlabel('Epoch')\n",
    "ax2.set_title('Loss')\n",
    "l2 = ax2.legend(loc=\"best\")"
   ]
  },
  {
   "cell_type": "markdown",
   "metadata": {},
   "source": [
    "####  PREDICTIONS BASED ON MEAN OF FEATURES"
   ]
  },
  {
   "cell_type": "code",
   "execution_count": 22,
   "metadata": {},
   "outputs": [],
   "source": [
    "mobilenet_mean_pred_train =mobilenet_model_mean.predict_classes(mobilenet_mean_X_train)\n",
    "mobilenet_mean_pred_test =mobilenet_model_mean.predict_classes(mobilenet_mean_X_test)\n",
    "\n"
   ]
  },
  {
   "cell_type": "markdown",
   "metadata": {},
   "source": [
    "#### INVERSE TRANSFORMING THE LABELS"
   ]
  },
  {
   "cell_type": "code",
   "execution_count": 23,
   "metadata": {},
   "outputs": [],
   "source": [
    "mobilenet_labels_mean_train = np.argmax(mobilenet_mean_Y_train,axis=1)\n",
    "mobilenet_labels_mean_test = np.argmax(mobilenet_mean_Y_test,axis=1)\n"
   ]
  },
  {
   "cell_type": "markdown",
   "metadata": {},
   "source": [
    "#### METRIC SCORE FOR THE MODEL"
   ]
  },
  {
   "cell_type": "code",
   "execution_count": 24,
   "metadata": {},
   "outputs": [
    {
     "name": "stdout",
     "output_type": "stream",
     "text": [
      "ACCURACY SCORE OF MOBILENET with MEAN OF FEATURES ON TRAINING SET IS :0.9711934156378601\n",
      "ACCURACY SCORE OF MOBILENET with MEAN OF FEATURES ON TEST SET IS :0.8032786885245902\n"
     ]
    }
   ],
   "source": [
    "print(\"ACCURACY SCORE OF MOBILENET with MEAN OF FEATURES ON TRAINING SET IS :{}\".\n",
    "      format(accuracy_score(mobilenet_mean_pred_train,mobilenet_labels_mean_train)))\n",
    "      \n",
    "      \n",
    "print(\"ACCURACY SCORE OF MOBILENET with MEAN OF FEATURES ON TEST SET IS :{}\".\n",
    "      format(accuracy_score(mobilenet_mean_pred_test,mobilenet_labels_mean_test)))\n",
    "      \n",
    "      \n",
    "            "
   ]
  },
  {
   "cell_type": "markdown",
   "metadata": {},
   "source": [
    "#### MODEL SERIALIZATION"
   ]
  },
  {
   "cell_type": "code",
   "execution_count": 25,
   "metadata": {},
   "outputs": [
    {
     "name": "stdout",
     "output_type": "stream",
     "text": [
      "Saved model to disk\n"
     ]
    }
   ],
   "source": [
    "# serialize model to JSON\n",
    "model_json = mobilenet_model_mean.to_json()\n",
    "with open(\"mobilenet_mean.json\", \"w\") as json_file:\n",
    "    json_file.write(model_json)\n",
    "# serialize weights to HDF5\n",
    "mobilenet_model_mean.save_weights(\"mobilenet_mean.h5\")\n",
    "print(\"Saved model to disk\")\n"
   ]
  },
  {
   "cell_type": "markdown",
   "metadata": {},
   "source": [
    "#### MOBILENET WITH MEDIAN OF FEATURES"
   ]
  },
  {
   "cell_type": "markdown",
   "metadata": {},
   "source": [
    "#### CUSTOM FUNCTION FOR PROCESSING THE ABOVE FUNCCTION AND RETURNS THE MEDIAN OF FEATURES AND TARGET LABEL ACCORDINGLY"
   ]
  },
  {
   "cell_type": "code",
   "execution_count": 26,
   "metadata": {},
   "outputs": [],
   "source": [
    "def mobilenet_with_median(label,path):\n",
    "    folder =folders(label,path)\n",
    "    img_list=READ_IMAGES(folder)\n",
    "    img_list=np.array(img_list)\n",
    "    img_features =feature_vector2(mobile_net,img_list)\n",
    "    target_label = Label(label)\n",
    "    return img_features,target_label "
   ]
  },
  {
   "cell_type": "markdown",
   "metadata": {},
   "source": [
    "#### PROCESSING THE FOLDERS"
   ]
  },
  {
   "cell_type": "code",
   "execution_count": 27,
   "metadata": {},
   "outputs": [],
   "source": [
    "mobilenet_data2=[]\n",
    "for i,j in labels_and_folders:\n",
    "       mobilenet_data2.append(mobilenet_with_median(i,j))"
   ]
  },
  {
   "cell_type": "code",
   "execution_count": 28,
   "metadata": {},
   "outputs": [],
   "source": [
    "# GETTING  LIST OF TARGET VALUES FROM mobilnet_data2 list\n",
    "target_label_mobilenet_median =[j for i,j in mobilenet_data2]\n",
    "# converting target into encoding\n",
    "target_label_mobilenet_median=to_categorical(target_label_mobilenet_median)\n",
    "\n",
    "# MEDIAN OF FEATURES OF IMAGES\n",
    "\n",
    "features_median_mobilenet=[i for i,j in mobilenet_data2]\n"
   ]
  },
  {
   "cell_type": "markdown",
   "metadata": {},
   "source": [
    "#### SPLITTING THE TRAINING AND VALIDATION DATA  FOR MEDIAN OF FEATURES"
   ]
  },
  {
   "cell_type": "code",
   "execution_count": 32,
   "metadata": {},
   "outputs": [
    {
     "name": "stdout",
     "output_type": "stream",
     "text": [
      "THE NO.of Images in Training Data are : 243 \n",
      "THE NO.of Images in VALIDATION Data are : 61 \n"
     ]
    }
   ],
   "source": [
    "mobilenet_median_X_train,mobilenet_median_X_test,mobilenet_median_Y_train,mobilenet_median_Y_test = train_test_split(features_median_mobilenet,target_label_mobilenet_median,\n",
    "                                                                                                             test_size=0.2,random_state=141094)\n",
    "\n",
    "print(\"THE NO.of Images in Training Data are : {} \".format(len(mobilenet_median_X_train)))\n",
    "print(\"THE NO.of Images in VALIDATION Data are : {} \".format(len(mobilenet_median_X_test)))\n"
   ]
  },
  {
   "cell_type": "markdown",
   "metadata": {},
   "source": [
    "#### AS MODEL ACCEPTS ARRAY OF INPUTS CONVERTING LIST OF ARRAYS INTO ONE SINGLE ARRAY OF ARRAYS"
   ]
  },
  {
   "cell_type": "code",
   "execution_count": 33,
   "metadata": {},
   "outputs": [],
   "source": [
    "mobilenet_median_X_train =np.array(mobilenet_median_X_train)\n",
    "mobilenet_median_X_test =np.array(mobilenet_median_X_test)"
   ]
  },
  {
   "cell_type": "markdown",
   "metadata": {},
   "source": [
    "#### SIMPLE NEURAL NETWORK"
   ]
  },
  {
   "cell_type": "code",
   "execution_count": 34,
   "metadata": {
    "scrolled": true
   },
   "outputs": [
    {
     "name": "stdout",
     "output_type": "stream",
     "text": [
      "Train on 243 samples, validate on 61 samples\n",
      "Epoch 1/100\n",
      "243/243 [==============================] - 2s 8ms/step - loss: 8.5093 - acc: 0.5514 - val_loss: 6.9237 - val_acc: 0.7705\n",
      "Epoch 2/100\n",
      "243/243 [==============================] - 1s 3ms/step - loss: 6.4604 - acc: 0.5597 - val_loss: 5.6289 - val_acc: 0.7705\n",
      "Epoch 3/100\n",
      "243/243 [==============================] - 1s 2ms/step - loss: 5.0486 - acc: 0.5844 - val_loss: 4.1895 - val_acc: 0.7705\n",
      "Epoch 4/100\n",
      "243/243 [==============================] - 1s 2ms/step - loss: 4.0215 - acc: 0.5988 - val_loss: 3.3602 - val_acc: 0.5410\n",
      "Epoch 5/100\n",
      "243/243 [==============================] - 1s 3ms/step - loss: 3.1143 - acc: 0.6214 - val_loss: 2.6246 - val_acc: 0.7705\n",
      "Epoch 6/100\n",
      "243/243 [==============================] - 1s 2ms/step - loss: 2.4600 - acc: 0.6872 - val_loss: 2.1220 - val_acc: 0.7705\n",
      "Epoch 7/100\n",
      "243/243 [==============================] - 1s 2ms/step - loss: 1.9739 - acc: 0.6955 - val_loss: 1.9431 - val_acc: 0.4426\n",
      "Epoch 8/100\n",
      "243/243 [==============================] - 1s 2ms/step - loss: 1.6770 - acc: 0.6996 - val_loss: 1.5155 - val_acc: 0.6803\n",
      "Epoch 9/100\n",
      "243/243 [==============================] - 1s 3ms/step - loss: 1.4078 - acc: 0.7078 - val_loss: 1.2159 - val_acc: 0.7705\n",
      "Epoch 10/100\n",
      "243/243 [==============================] - 1s 3ms/step - loss: 1.1458 - acc: 0.8086 - val_loss: 1.0495 - val_acc: 0.7869\n",
      "Epoch 11/100\n",
      "243/243 [==============================] - 1s 2ms/step - loss: 1.0157 - acc: 0.7634 - val_loss: 0.9174 - val_acc: 0.8361\n",
      "Epoch 12/100\n",
      "243/243 [==============================] - 1s 3ms/step - loss: 0.9481 - acc: 0.7593 - val_loss: 1.7759 - val_acc: 0.2787\n",
      "Epoch 13/100\n",
      "243/243 [==============================] - 1s 3ms/step - loss: 0.9165 - acc: 0.7531 - val_loss: 0.9036 - val_acc: 0.7295\n",
      "Epoch 14/100\n",
      "243/243 [==============================] - 1s 3ms/step - loss: 0.7224 - acc: 0.8560 - val_loss: 0.7563 - val_acc: 0.8607\n",
      "Epoch 15/100\n",
      "243/243 [==============================] - 1s 3ms/step - loss: 0.6397 - acc: 0.8683 - val_loss: 0.6801 - val_acc: 0.8770\n",
      "Epoch 16/100\n",
      "243/243 [==============================] - 1s 3ms/step - loss: 0.5450 - acc: 0.9280 - val_loss: 0.8266 - val_acc: 0.6721\n",
      "Epoch 17/100\n",
      "243/243 [==============================] - 1s 3ms/step - loss: 0.5846 - acc: 0.8765 - val_loss: 0.5942 - val_acc: 0.8607\n",
      "Epoch 18/100\n",
      "243/243 [==============================] - 1s 3ms/step - loss: 0.5405 - acc: 0.8807 - val_loss: 0.6127 - val_acc: 0.8607\n",
      "Epoch 19/100\n",
      "243/243 [==============================] - 1s 3ms/step - loss: 0.4537 - acc: 0.9177 - val_loss: 0.6288 - val_acc: 0.8361\n",
      "Epoch 20/100\n",
      "243/243 [==============================] - 1s 3ms/step - loss: 0.4280 - acc: 0.9342 - val_loss: 0.5702 - val_acc: 0.8689\n",
      "Epoch 21/100\n",
      "243/243 [==============================] - 1s 2ms/step - loss: 0.4166 - acc: 0.9300 - val_loss: 0.5544 - val_acc: 0.8361\n",
      "Epoch 22/100\n",
      "243/243 [==============================] - 1s 3ms/step - loss: 0.4034 - acc: 0.9383 - val_loss: 0.5326 - val_acc: 0.8607\n",
      "Epoch 23/100\n",
      "243/243 [==============================] - 1s 2ms/step - loss: 0.3478 - acc: 0.9568 - val_loss: 0.6429 - val_acc: 0.8689\n",
      "Epoch 24/100\n",
      "243/243 [==============================] - 1s 3ms/step - loss: 0.3858 - acc: 0.9321 - val_loss: 0.5266 - val_acc: 0.8525\n",
      "Epoch 25/100\n",
      "243/243 [==============================] - 1s 2ms/step - loss: 0.3391 - acc: 0.9383 - val_loss: 0.4770 - val_acc: 0.8689\n",
      "Epoch 26/100\n",
      "243/243 [==============================] - 1s 3ms/step - loss: 0.3806 - acc: 0.9012 - val_loss: 0.5971 - val_acc: 0.8852\n",
      "Epoch 27/100\n",
      "243/243 [==============================] - 1s 2ms/step - loss: 0.3573 - acc: 0.9259 - val_loss: 0.4975 - val_acc: 0.8852\n",
      "Epoch 28/100\n",
      "243/243 [==============================] - 1s 3ms/step - loss: 0.3100 - acc: 0.9609 - val_loss: 0.5050 - val_acc: 0.8525\n",
      "Epoch 29/100\n",
      "243/243 [==============================] - 1s 3ms/step - loss: 0.2813 - acc: 0.9794 - val_loss: 0.4854 - val_acc: 0.8689\n",
      "Epoch 30/100\n",
      "243/243 [==============================] - 1s 3ms/step - loss: 0.2644 - acc: 0.9712 - val_loss: 0.5170 - val_acc: 0.8361\n",
      "\n",
      "Epoch 00030: ReduceLROnPlateau reducing learning rate to 0.00010000000474974513.\n",
      "Epoch 31/100\n",
      "243/243 [==============================] - 1s 2ms/step - loss: 0.2730 - acc: 0.9815 - val_loss: 0.4366 - val_acc: 0.8852\n",
      "Epoch 32/100\n",
      "243/243 [==============================] - 1s 3ms/step - loss: 0.2569 - acc: 0.9877 - val_loss: 0.4301 - val_acc: 0.9016\n",
      "Epoch 33/100\n",
      "243/243 [==============================] - 1s 3ms/step - loss: 0.2465 - acc: 0.9877 - val_loss: 0.4320 - val_acc: 0.9016\n",
      "Epoch 34/100\n",
      "243/243 [==============================] - 1s 3ms/step - loss: 0.2461 - acc: 0.9918 - val_loss: 0.4271 - val_acc: 0.9016\n",
      "Epoch 35/100\n",
      "243/243 [==============================] - 1s 3ms/step - loss: 0.2460 - acc: 0.9918 - val_loss: 0.4311 - val_acc: 0.9016\n",
      "Epoch 36/100\n",
      "243/243 [==============================] - 1s 3ms/step - loss: 0.2456 - acc: 0.9918 - val_loss: 0.4250 - val_acc: 0.8852\n",
      "Epoch 37/100\n",
      "243/243 [==============================] - 1s 3ms/step - loss: 0.2411 - acc: 0.9918 - val_loss: 0.4322 - val_acc: 0.9016\n",
      "Epoch 38/100\n",
      "243/243 [==============================] - 1s 3ms/step - loss: 0.2422 - acc: 0.9918 - val_loss: 0.4233 - val_acc: 0.9016\n",
      "Epoch 39/100\n",
      "243/243 [==============================] - 1s 3ms/step - loss: 0.2414 - acc: 0.9877 - val_loss: 0.4230 - val_acc: 0.9016\n",
      "Epoch 40/100\n",
      "243/243 [==============================] - 1s 3ms/step - loss: 0.2409 - acc: 0.9918 - val_loss: 0.4257 - val_acc: 0.9016\n",
      "Epoch 41/100\n",
      "243/243 [==============================] - 1s 3ms/step - loss: 0.2380 - acc: 0.9918 - val_loss: 0.4209 - val_acc: 0.9016\n",
      "Epoch 42/100\n",
      "243/243 [==============================] - 1s 3ms/step - loss: 0.2397 - acc: 0.9897 - val_loss: 0.4229 - val_acc: 0.9016\n",
      "Epoch 43/100\n",
      "243/243 [==============================] - 1s 3ms/step - loss: 0.2385 - acc: 0.9877 - val_loss: 0.4181 - val_acc: 0.9016\n",
      "Epoch 44/100\n",
      "243/243 [==============================] - 1s 3ms/step - loss: 0.2353 - acc: 0.9918 - val_loss: 0.4206 - val_acc: 0.9016\n",
      "Epoch 45/100\n",
      "243/243 [==============================] - 1s 3ms/step - loss: 0.2348 - acc: 0.9938 - val_loss: 0.4173 - val_acc: 0.9016\n",
      "Epoch 46/100\n",
      "243/243 [==============================] - 1s 3ms/step - loss: 0.2351 - acc: 0.9959 - val_loss: 0.4162 - val_acc: 0.9016\n",
      "Epoch 47/100\n",
      "243/243 [==============================] - 1s 3ms/step - loss: 0.2368 - acc: 0.9918 - val_loss: 0.4152 - val_acc: 0.9016\n",
      "Epoch 48/100\n",
      "243/243 [==============================] - 1s 3ms/step - loss: 0.2358 - acc: 0.9959 - val_loss: 0.4134 - val_acc: 0.9016\n",
      "Epoch 49/100\n",
      "243/243 [==============================] - 1s 3ms/step - loss: 0.2333 - acc: 0.9877 - val_loss: 0.4173 - val_acc: 0.9016\n",
      "Epoch 50/100\n",
      "243/243 [==============================] - 1s 3ms/step - loss: 0.2297 - acc: 0.9959 - val_loss: 0.4117 - val_acc: 0.9016\n",
      "Epoch 51/100\n",
      "243/243 [==============================] - 1s 3ms/step - loss: 0.2312 - acc: 0.9938 - val_loss: 0.4152 - val_acc: 0.9016\n",
      "Epoch 52/100\n",
      "243/243 [==============================] - 1s 3ms/step - loss: 0.2287 - acc: 0.9959 - val_loss: 0.4106 - val_acc: 0.9016\n",
      "Epoch 53/100\n",
      "243/243 [==============================] - 1s 3ms/step - loss: 0.2328 - acc: 0.9938 - val_loss: 0.4165 - val_acc: 0.9016\n",
      "Epoch 54/100\n",
      "243/243 [==============================] - 1s 3ms/step - loss: 0.2307 - acc: 0.9918 - val_loss: 0.4109 - val_acc: 0.9016\n",
      "Epoch 55/100\n",
      "243/243 [==============================] - 1s 2ms/step - loss: 0.2290 - acc: 0.9959 - val_loss: 0.4112 - val_acc: 0.9016\n",
      "Epoch 56/100\n",
      "243/243 [==============================] - 1s 3ms/step - loss: 0.2272 - acc: 0.9959 - val_loss: 0.4132 - val_acc: 0.9016\n",
      "Epoch 57/100\n",
      "243/243 [==============================] - 1s 3ms/step - loss: 0.2262 - acc: 0.9918 - val_loss: 0.4097 - val_acc: 0.9016\n",
      "Epoch 58/100\n",
      "243/243 [==============================] - 1s 3ms/step - loss: 0.2244 - acc: 0.9918 - val_loss: 0.4125 - val_acc: 0.9016\n",
      "Epoch 59/100\n",
      "243/243 [==============================] - 1s 3ms/step - loss: 0.2238 - acc: 0.9959 - val_loss: 0.4073 - val_acc: 0.9016\n",
      "Epoch 60/100\n",
      "243/243 [==============================] - 1s 3ms/step - loss: 0.2276 - acc: 0.9918 - val_loss: 0.4110 - val_acc: 0.9016\n",
      "Epoch 61/100\n",
      "243/243 [==============================] - 1s 3ms/step - loss: 0.2232 - acc: 0.9959 - val_loss: 0.4116 - val_acc: 0.9016\n",
      "Epoch 62/100\n",
      "243/243 [==============================] - 1s 2ms/step - loss: 0.2218 - acc: 0.9959 - val_loss: 0.4080 - val_acc: 0.9016\n",
      "Epoch 63/100\n",
      "243/243 [==============================] - 1s 2ms/step - loss: 0.2224 - acc: 0.9918 - val_loss: 0.4075 - val_acc: 0.9016\n",
      "Epoch 64/100\n",
      "243/243 [==============================] - 1s 2ms/step - loss: 0.2207 - acc: 0.9918 - val_loss: 0.4052 - val_acc: 0.9016\n",
      "Epoch 65/100\n",
      "243/243 [==============================] - 1s 2ms/step - loss: 0.2208 - acc: 0.9918 - val_loss: 0.4056 - val_acc: 0.9016\n",
      "Epoch 66/100\n",
      "243/243 [==============================] - 1s 2ms/step - loss: 0.2192 - acc: 0.9959 - val_loss: 0.4038 - val_acc: 0.9016\n",
      "Epoch 67/100\n",
      "243/243 [==============================] - 1s 3ms/step - loss: 0.2187 - acc: 0.9959 - val_loss: 0.4037 - val_acc: 0.9016\n",
      "Epoch 68/100\n",
      "243/243 [==============================] - 1s 2ms/step - loss: 0.2192 - acc: 0.9959 - val_loss: 0.4025 - val_acc: 0.9016\n",
      "Epoch 69/100\n",
      "243/243 [==============================] - 1s 2ms/step - loss: 0.2170 - acc: 0.9959 - val_loss: 0.4048 - val_acc: 0.9016\n",
      "Epoch 70/100\n",
      "243/243 [==============================] - 1s 2ms/step - loss: 0.2167 - acc: 1.0000 - val_loss: 0.4031 - val_acc: 0.9016\n",
      "Epoch 71/100\n",
      "243/243 [==============================] - 1s 2ms/step - loss: 0.2166 - acc: 1.0000 - val_loss: 0.4032 - val_acc: 0.9016\n",
      "Epoch 72/100\n",
      "243/243 [==============================] - 1s 2ms/step - loss: 0.2160 - acc: 0.9959 - val_loss: 0.4009 - val_acc: 0.9016\n",
      "Epoch 73/100\n",
      "243/243 [==============================] - 1s 2ms/step - loss: 0.2146 - acc: 1.0000 - val_loss: 0.3987 - val_acc: 0.9016\n",
      "Epoch 74/100\n",
      "243/243 [==============================] - 1s 2ms/step - loss: 0.2168 - acc: 0.9959 - val_loss: 0.4034 - val_acc: 0.9016\n",
      "Epoch 75/100\n",
      "243/243 [==============================] - 1s 3ms/step - loss: 0.2173 - acc: 0.9959 - val_loss: 0.3990 - val_acc: 0.9016\n",
      "Epoch 76/100\n",
      "243/243 [==============================] - 1s 2ms/step - loss: 0.2162 - acc: 0.9959 - val_loss: 0.4053 - val_acc: 0.9016\n",
      "Epoch 77/100\n",
      "243/243 [==============================] - 1s 2ms/step - loss: 0.2165 - acc: 0.9959 - val_loss: 0.3993 - val_acc: 0.9016\n",
      "Epoch 78/100\n",
      "243/243 [==============================] - 1s 2ms/step - loss: 0.2173 - acc: 0.9918 - val_loss: 0.4065 - val_acc: 0.8852\n",
      "\n",
      "Epoch 00078: ReduceLROnPlateau reducing learning rate to 1.0000000474974514e-05.\n",
      "Epoch 79/100\n",
      "243/243 [==============================] - 1s 2ms/step - loss: 0.2130 - acc: 0.9959 - val_loss: 0.4068 - val_acc: 0.8852\n",
      "Epoch 80/100\n",
      "243/243 [==============================] - 1s 3ms/step - loss: 0.2120 - acc: 0.9959 - val_loss: 0.4014 - val_acc: 0.9016\n",
      "Epoch 81/100\n",
      "243/243 [==============================] - 1s 2ms/step - loss: 0.2103 - acc: 1.0000 - val_loss: 0.3986 - val_acc: 0.9016\n",
      "Epoch 82/100\n",
      "243/243 [==============================] - 1s 2ms/step - loss: 0.2102 - acc: 1.0000 - val_loss: 0.3981 - val_acc: 0.9016\n",
      "Epoch 83/100\n",
      "243/243 [==============================] - 1s 2ms/step - loss: 0.2103 - acc: 1.0000 - val_loss: 0.3981 - val_acc: 0.9016\n",
      "Epoch 84/100\n",
      "243/243 [==============================] - 1s 2ms/step - loss: 0.2100 - acc: 1.0000 - val_loss: 0.3985 - val_acc: 0.9016\n",
      "Epoch 85/100\n",
      "243/243 [==============================] - 1s 2ms/step - loss: 0.2100 - acc: 1.0000 - val_loss: 0.3993 - val_acc: 0.9016\n",
      "Epoch 86/100\n",
      "243/243 [==============================] - 1s 2ms/step - loss: 0.2100 - acc: 1.0000 - val_loss: 0.3989 - val_acc: 0.9016\n",
      "Epoch 87/100\n",
      "243/243 [==============================] - 1s 2ms/step - loss: 0.2098 - acc: 1.0000 - val_loss: 0.3993 - val_acc: 0.9016\n",
      "\n",
      "Epoch 00087: ReduceLROnPlateau reducing learning rate to 1.0000000656873453e-06.\n",
      "Epoch 88/100\n",
      "243/243 [==============================] - 1s 2ms/step - loss: 0.2097 - acc: 1.0000 - val_loss: 0.3992 - val_acc: 0.9016\n",
      "Epoch 89/100\n",
      "243/243 [==============================] - 1s 2ms/step - loss: 0.2097 - acc: 1.0000 - val_loss: 0.3992 - val_acc: 0.9016\n",
      "Epoch 90/100\n",
      "243/243 [==============================] - 1s 3ms/step - loss: 0.2097 - acc: 1.0000 - val_loss: 0.3992 - val_acc: 0.9016\n",
      "Epoch 91/100\n",
      "243/243 [==============================] - 1s 2ms/step - loss: 0.2097 - acc: 1.0000 - val_loss: 0.3991 - val_acc: 0.9016\n",
      "Epoch 92/100\n",
      "243/243 [==============================] - 1s 3ms/step - loss: 0.2097 - acc: 1.0000 - val_loss: 0.3990 - val_acc: 0.9016\n",
      "\n",
      "Epoch 00092: ReduceLROnPlateau reducing learning rate to 1.0000001111620805e-07.\n",
      "Epoch 00092: early stopping\n"
     ]
    }
   ],
   "source": [
    "mobilenet_model_median=Sequential()\n",
    "mobilenet_model_median.add(Dense(256,input_shape=(7,7,1024),activation='sigmoid',kernel_initializer='glorot_uniform',\n",
    "                kernel_regularizer= regularizers.l2()))\n",
    "\n",
    "\n",
    "mobilenet_model_median.add(Dense(512,activation='sigmoid', kernel_regularizer= regularizers.l2()))\n",
    "mobilenet_model_median.add(Flatten())\n",
    "mobilenet_model_median.add(Dense(2, activation='sigmoid'))\n",
    "\n",
    "\n",
    "\n",
    "#OPtimizers\n",
    "adam = keras.optimizers.Adam(lr=0.001, decay=0.0005)\n",
    "\n",
    "## Callbacks\n",
    "earlystopper = EarlyStopping(monitor='val_loss', patience=10, verbose=1)\n",
    "reduce_lr = ReduceLROnPlateau(patience=5, verbose=1)\n",
    "\n",
    "## Compiling the model and defining loss function\n",
    "mobilenet_model_median.compile(optimizer=adam, loss='binary_crossentropy', metrics=['accuracy'])\n",
    "\n",
    "## Training neural nets\n",
    "mobilenet_median_history=mobilenet_model_median.fit(mobilenet_median_X_train, mobilenet_median_Y_train,\n",
    "                                              validation_data=(mobilenet_median_X_test,mobilenet_median_Y_test),\n",
    "                                              epochs=100, batch_size=32,\n",
    "                                              callbacks=[reduce_lr, earlystopper])"
   ]
  },
  {
   "cell_type": "markdown",
   "metadata": {},
   "source": [
    "#### PLOTTING THE LOSS AND ACCURACY OF MODEL WITH MEDIAN OF FEATURES"
   ]
  },
  {
   "cell_type": "code",
   "execution_count": 35,
   "metadata": {},
   "outputs": [
    {
     "data": {
      "image/png": "[encoded data removed]",
      "text/plain": [
       "<Figure size 864x288 with 2 Axes>"
      ]
     },
     "metadata": {
      "needs_background": "light"
     },
     "output_type": "display_data"
    }
   ],
   "source": [
    "f, (ax1, ax2) = plt.subplots(1, 2, figsize=(12, 4))\n",
    "t = f.suptitle('MOBILENET MODEL WITH MEDIAN OF FETURES', fontsize=12)\n",
    "f.subplots_adjust(top=0.85, wspace=0.3)\n",
    "\n",
    "epoch_list = list(range(1,93))\n",
    "ax1.plot(epoch_list, mobilenet_median_history.history['acc'], label='Train Accuracy')\n",
    "ax1.plot(epoch_list,mobilenet_median_history.history['val_acc'], label='Validation Accuracy')\n",
    "ax1.set_xticks(np.arange(0, 93, 5))\n",
    "ax1.set_ylabel('Accuracy Value')\n",
    "ax1.set_xlabel('Epoch')\n",
    "ax1.set_title('Accuracy')\n",
    "l1 = ax1.legend(loc=\"best\")\n",
    "\n",
    "ax2.plot(epoch_list, mobilenet_median_history.history['loss'], label='Train Loss')\n",
    "ax2.plot(epoch_list, mobilenet_median_history.history['val_loss'], label='Validation Loss')\n",
    "ax2.set_xticks(np.arange(0, 93, 5))\n",
    "ax2.set_ylabel('Loss Value')\n",
    "ax2.set_xlabel('Epoch')\n",
    "ax2.set_title('Loss')\n",
    "l2 = ax2.legend(loc=\"best\")"
   ]
  },
  {
   "cell_type": "markdown",
   "metadata": {},
   "source": [
    "####  PREDICTIONS BASED ON MEDIAN OF FEATURES"
   ]
  },
  {
   "cell_type": "code",
   "execution_count": 36,
   "metadata": {},
   "outputs": [],
   "source": [
    "mobilenet_median_pred_train =mobilenet_model_median.predict_classes(mobilenet_median_X_train)\n",
    "mobilenet_median_pred_test =mobilenet_model_median.predict_classes(mobilenet_median_X_test)\n"
   ]
  },
  {
   "cell_type": "markdown",
   "metadata": {},
   "source": [
    "#### INVERSE TRANSFORMING THE LABELS"
   ]
  },
  {
   "cell_type": "code",
   "execution_count": 37,
   "metadata": {},
   "outputs": [],
   "source": [
    "mobilenet_labels_median_train = np.argmax(mobilenet_median_Y_train,axis=1)\n",
    "mobilenet_labels_median_test = np.argmax(mobilenet_median_Y_test,axis=1)\n"
   ]
  },
  {
   "cell_type": "markdown",
   "metadata": {},
   "source": [
    "#### METRIC SCORE FOR MEDIAN OF FEATURES"
   ]
  },
  {
   "cell_type": "code",
   "execution_count": 38,
   "metadata": {},
   "outputs": [
    {
     "name": "stdout",
     "output_type": "stream",
     "text": [
      "ACCURACY SCORE OF MOBILENET with MEDIAN OF FEATURES ON TRAINING SET IS :1.0\n",
      "ACCURACY SCORE OF MOBILENET with MEDIAN OF FEATURES ON TEST SET IS :0.9016393442622951\n"
     ]
    }
   ],
   "source": [
    "print(\"ACCURACY SCORE OF MOBILENET with MEDIAN OF FEATURES ON TRAINING SET IS :{}\".\n",
    "      format(accuracy_score(mobilenet_median_pred_train,mobilenet_labels_median_train)))\n",
    "      \n",
    "      \n",
    "print(\"ACCURACY SCORE OF MOBILENET with MEDIAN OF FEATURES ON TEST SET IS :{}\".\n",
    "      format(accuracy_score(mobilenet_median_pred_test,mobilenet_labels_median_test)))\n",
    "      \n",
    "      \n",
    "            "
   ]
  },
  {
   "cell_type": "markdown",
   "metadata": {},
   "source": [
    "#### MODEL SERIALIZATION"
   ]
  },
  {
   "cell_type": "code",
   "execution_count": 39,
   "metadata": {},
   "outputs": [
    {
     "name": "stdout",
     "output_type": "stream",
     "text": [
      "Saved model to disk\n"
     ]
    }
   ],
   "source": [
    "# serialize model to JSON\n",
    "model_json = mobilenet_model_median.to_json()\n",
    "with open(\"mobilenet_median.json\", \"w\") as json_file:\n",
    "    json_file.write(model_json)\n",
    "# serialize weights to HDF5\n",
    "mobilenet_model_median.save_weights(\"mobilenet_median.h5\")\n",
    "print(\"Saved model to disk\")\n"
   ]
  }
 ],
 "metadata": {
  "kernelspec": {
   "display_name": "Python 3",
   "language": "python",
   "name": "python3"
  },
  "language_info": {
   "codemirror_mode": {
    "name": "ipython",
    "version": 3
   },
   "file_extension": ".py",
   "mimetype": "text/x-python",
   "name": "python",
   "nbconvert_exporter": "python",
   "pygments_lexer": "ipython3",
   "version": "3.7.1"
  }
 },
 "nbformat": 4,
 "nbformat_minor": 2
}
