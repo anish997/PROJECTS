{
 "cells": [
  {
   "cell_type": "code",
   "execution_count": 1,
   "metadata": {},
   "outputs": [
    {
     "name": "stderr",
     "output_type": "stream",
     "text": [
      "Using TensorFlow backend.\n"
     ]
    }
   ],
   "source": [
    "import warnings\n",
    "warnings.filterwarnings('ignore')\n",
    "\n",
    "import random\n",
    "\n",
    "from keras.preprocessing.image import ImageDataGenerator  # DATA AUGMNETATION\n",
    "from keras.preprocessing.image import load_img,img_to_array\n",
    "\n",
    "import numpy  as np\n",
    "import os\n",
    "import pandas as pd\n",
    "import shutil\n",
    "import glob\n",
    "import re\n",
    "import numpy as np\n",
    "import matplotlib.pyplot as plt\n",
    "from keras.preprocessing.image import load_img,img_to_array\n",
    "import keras\n",
    "from keras.models import Model\n",
    "import cv2\n",
    "from keras.utils import to_categorical\n",
    "from sklearn.model_selection import train_test_split\n",
    "from keras import regularizers, optimizers\n",
    "from keras.layers import Dense,Flatten\n",
    "from keras.models import Sequential\n",
    "from keras.callbacks import EarlyStopping, ReduceLROnPlateau\n",
    "from sklearn.metrics import accuracy_score\n",
    "from keras.models import model_from_json\n",
    "from keras.layers import Input, Dense, Conv2D, Conv3D, DepthwiseConv2D, SeparableConv2D, Conv3DTranspose\n",
    "from keras.layers import Flatten, MaxPool2D, AvgPool2D, GlobalAvgPool2D, UpSampling2D, BatchNormalization\n",
    "from keras.layers import Concatenate, Add, Dropout, ReLU, Activation,\n",
    "from keras.models import model_from_json\n",
    "\n"
   ]
  },
  {
   "cell_type": "code",
   "execution_count": 22,
   "metadata": {},
   "outputs": [],
   "source": [
    "import cv2"
   ]
  },
  {
   "cell_type": "code",
   "execution_count": 2,
   "metadata": {},
   "outputs": [],
   "source": [
    "os.chdir('C:\\\\Users\\\\anish_yagt7hg\\\\Desktop\\\\internship\\\\COVID-19_CLASSIFICATION\\\\DATA')"
   ]
  },
  {
   "cell_type": "code",
   "execution_count": 3,
   "metadata": {},
   "outputs": [
    {
     "data": {
      "text/plain": [
       "'C:\\\\Users\\\\anish_yagt7hg\\\\Desktop\\\\internship\\\\COVID-19_CLASSIFICATION\\\\DATA'"
      ]
     },
     "execution_count": 3,
     "metadata": {},
     "output_type": "execute_result"
    }
   ],
   "source": [
    "os.getcwd()"
   ]
  },
  {
   "cell_type": "code",
   "execution_count": 4,
   "metadata": {},
   "outputs": [],
   "source": [
    "labels=[]\n",
    "root_folders=[]\n",
    "for root,dir,filenames in os.walk(os.getcwd()):\n",
    "    for i in dir:\n",
    "        if i != None and i not in ['COVID','NON_COVID']:\n",
    "            labels.append(i)\n",
    "    root_folders.append(root)\n",
    "        "
   ]
  },
  {
   "cell_type": "code",
   "execution_count": 5,
   "metadata": {},
   "outputs": [
    {
     "data": {
      "text/plain": [
       "['C:\\\\Users\\\\anish_yagt7hg\\\\Desktop\\\\internship\\\\COVID-19_CLASSIFICATION\\\\DATA\\\\non_covid_Patient_0',\n",
       " 'C:\\\\Users\\\\anish_yagt7hg\\\\Desktop\\\\internship\\\\COVID-19_CLASSIFICATION\\\\DATA\\\\non_covid_Patient_1',\n",
       " 'C:\\\\Users\\\\anish_yagt7hg\\\\Desktop\\\\internship\\\\COVID-19_CLASSIFICATION\\\\DATA\\\\non_covid_Patient_10',\n",
       " 'C:\\\\Users\\\\anish_yagt7hg\\\\Desktop\\\\internship\\\\COVID-19_CLASSIFICATION\\\\DATA\\\\non_covid_Patient_11',\n",
       " 'C:\\\\Users\\\\anish_yagt7hg\\\\Desktop\\\\internship\\\\COVID-19_CLASSIFICATION\\\\DATA\\\\non_covid_Patient_12',\n",
       " 'C:\\\\Users\\\\anish_yagt7hg\\\\Desktop\\\\internship\\\\COVID-19_CLASSIFICATION\\\\DATA\\\\non_covid_Patient_13',\n",
       " 'C:\\\\Users\\\\anish_yagt7hg\\\\Desktop\\\\internship\\\\COVID-19_CLASSIFICATION\\\\DATA\\\\non_covid_Patient_14',\n",
       " 'C:\\\\Users\\\\anish_yagt7hg\\\\Desktop\\\\internship\\\\COVID-19_CLASSIFICATION\\\\DATA\\\\non_covid_Patient_15',\n",
       " 'C:\\\\Users\\\\anish_yagt7hg\\\\Desktop\\\\internship\\\\COVID-19_CLASSIFICATION\\\\DATA\\\\non_covid_Patient_16',\n",
       " 'C:\\\\Users\\\\anish_yagt7hg\\\\Desktop\\\\internship\\\\COVID-19_CLASSIFICATION\\\\DATA\\\\non_covid_Patient_17',\n",
       " 'C:\\\\Users\\\\anish_yagt7hg\\\\Desktop\\\\internship\\\\COVID-19_CLASSIFICATION\\\\DATA\\\\non_covid_Patient_18',\n",
       " 'C:\\\\Users\\\\anish_yagt7hg\\\\Desktop\\\\internship\\\\COVID-19_CLASSIFICATION\\\\DATA\\\\non_covid_Patient_19',\n",
       " 'C:\\\\Users\\\\anish_yagt7hg\\\\Desktop\\\\internship\\\\COVID-19_CLASSIFICATION\\\\DATA\\\\non_covid_Patient_2',\n",
       " 'C:\\\\Users\\\\anish_yagt7hg\\\\Desktop\\\\internship\\\\COVID-19_CLASSIFICATION\\\\DATA\\\\non_covid_Patient_20',\n",
       " 'C:\\\\Users\\\\anish_yagt7hg\\\\Desktop\\\\internship\\\\COVID-19_CLASSIFICATION\\\\DATA\\\\non_covid_Patient_21',\n",
       " 'C:\\\\Users\\\\anish_yagt7hg\\\\Desktop\\\\internship\\\\COVID-19_CLASSIFICATION\\\\DATA\\\\non_covid_Patient_22',\n",
       " 'C:\\\\Users\\\\anish_yagt7hg\\\\Desktop\\\\internship\\\\COVID-19_CLASSIFICATION\\\\DATA\\\\non_covid_Patient_23',\n",
       " 'C:\\\\Users\\\\anish_yagt7hg\\\\Desktop\\\\internship\\\\COVID-19_CLASSIFICATION\\\\DATA\\\\non_covid_Patient_24',\n",
       " 'C:\\\\Users\\\\anish_yagt7hg\\\\Desktop\\\\internship\\\\COVID-19_CLASSIFICATION\\\\DATA\\\\non_covid_Patient_25',\n",
       " 'C:\\\\Users\\\\anish_yagt7hg\\\\Desktop\\\\internship\\\\COVID-19_CLASSIFICATION\\\\DATA\\\\non_covid_Patient_26',\n",
       " 'C:\\\\Users\\\\anish_yagt7hg\\\\Desktop\\\\internship\\\\COVID-19_CLASSIFICATION\\\\DATA\\\\non_covid_Patient_27',\n",
       " 'C:\\\\Users\\\\anish_yagt7hg\\\\Desktop\\\\internship\\\\COVID-19_CLASSIFICATION\\\\DATA\\\\non_covid_Patient_28',\n",
       " 'C:\\\\Users\\\\anish_yagt7hg\\\\Desktop\\\\internship\\\\COVID-19_CLASSIFICATION\\\\DATA\\\\non_covid_Patient_29',\n",
       " 'C:\\\\Users\\\\anish_yagt7hg\\\\Desktop\\\\internship\\\\COVID-19_CLASSIFICATION\\\\DATA\\\\non_covid_Patient_3',\n",
       " 'C:\\\\Users\\\\anish_yagt7hg\\\\Desktop\\\\internship\\\\COVID-19_CLASSIFICATION\\\\DATA\\\\non_covid_Patient_30',\n",
       " 'C:\\\\Users\\\\anish_yagt7hg\\\\Desktop\\\\internship\\\\COVID-19_CLASSIFICATION\\\\DATA\\\\non_covid_Patient_31',\n",
       " 'C:\\\\Users\\\\anish_yagt7hg\\\\Desktop\\\\internship\\\\COVID-19_CLASSIFICATION\\\\DATA\\\\non_covid_Patient_32',\n",
       " 'C:\\\\Users\\\\anish_yagt7hg\\\\Desktop\\\\internship\\\\COVID-19_CLASSIFICATION\\\\DATA\\\\non_covid_Patient_33',\n",
       " 'C:\\\\Users\\\\anish_yagt7hg\\\\Desktop\\\\internship\\\\COVID-19_CLASSIFICATION\\\\DATA\\\\non_covid_Patient_34',\n",
       " 'C:\\\\Users\\\\anish_yagt7hg\\\\Desktop\\\\internship\\\\COVID-19_CLASSIFICATION\\\\DATA\\\\non_covid_Patient_35',\n",
       " 'C:\\\\Users\\\\anish_yagt7hg\\\\Desktop\\\\internship\\\\COVID-19_CLASSIFICATION\\\\DATA\\\\non_covid_Patient_36',\n",
       " 'C:\\\\Users\\\\anish_yagt7hg\\\\Desktop\\\\internship\\\\COVID-19_CLASSIFICATION\\\\DATA\\\\non_covid_Patient_37',\n",
       " 'C:\\\\Users\\\\anish_yagt7hg\\\\Desktop\\\\internship\\\\COVID-19_CLASSIFICATION\\\\DATA\\\\non_covid_Patient_38',\n",
       " 'C:\\\\Users\\\\anish_yagt7hg\\\\Desktop\\\\internship\\\\COVID-19_CLASSIFICATION\\\\DATA\\\\non_covid_Patient_39',\n",
       " 'C:\\\\Users\\\\anish_yagt7hg\\\\Desktop\\\\internship\\\\COVID-19_CLASSIFICATION\\\\DATA\\\\non_covid_Patient_4',\n",
       " 'C:\\\\Users\\\\anish_yagt7hg\\\\Desktop\\\\internship\\\\COVID-19_CLASSIFICATION\\\\DATA\\\\non_covid_Patient_40',\n",
       " 'C:\\\\Users\\\\anish_yagt7hg\\\\Desktop\\\\internship\\\\COVID-19_CLASSIFICATION\\\\DATA\\\\non_covid_Patient_41',\n",
       " 'C:\\\\Users\\\\anish_yagt7hg\\\\Desktop\\\\internship\\\\COVID-19_CLASSIFICATION\\\\DATA\\\\non_covid_Patient_42',\n",
       " 'C:\\\\Users\\\\anish_yagt7hg\\\\Desktop\\\\internship\\\\COVID-19_CLASSIFICATION\\\\DATA\\\\non_covid_Patient_43',\n",
       " 'C:\\\\Users\\\\anish_yagt7hg\\\\Desktop\\\\internship\\\\COVID-19_CLASSIFICATION\\\\DATA\\\\non_covid_Patient_44',\n",
       " 'C:\\\\Users\\\\anish_yagt7hg\\\\Desktop\\\\internship\\\\COVID-19_CLASSIFICATION\\\\DATA\\\\non_covid_Patient_45',\n",
       " 'C:\\\\Users\\\\anish_yagt7hg\\\\Desktop\\\\internship\\\\COVID-19_CLASSIFICATION\\\\DATA\\\\non_covid_Patient_46',\n",
       " 'C:\\\\Users\\\\anish_yagt7hg\\\\Desktop\\\\internship\\\\COVID-19_CLASSIFICATION\\\\DATA\\\\non_covid_Patient_47',\n",
       " 'C:\\\\Users\\\\anish_yagt7hg\\\\Desktop\\\\internship\\\\COVID-19_CLASSIFICATION\\\\DATA\\\\non_covid_Patient_48',\n",
       " 'C:\\\\Users\\\\anish_yagt7hg\\\\Desktop\\\\internship\\\\COVID-19_CLASSIFICATION\\\\DATA\\\\non_covid_Patient_49',\n",
       " 'C:\\\\Users\\\\anish_yagt7hg\\\\Desktop\\\\internship\\\\COVID-19_CLASSIFICATION\\\\DATA\\\\non_covid_Patient_5',\n",
       " 'C:\\\\Users\\\\anish_yagt7hg\\\\Desktop\\\\internship\\\\COVID-19_CLASSIFICATION\\\\DATA\\\\non_covid_Patient_50',\n",
       " 'C:\\\\Users\\\\anish_yagt7hg\\\\Desktop\\\\internship\\\\COVID-19_CLASSIFICATION\\\\DATA\\\\non_covid_Patient_51',\n",
       " 'C:\\\\Users\\\\anish_yagt7hg\\\\Desktop\\\\internship\\\\COVID-19_CLASSIFICATION\\\\DATA\\\\non_covid_Patient_52',\n",
       " 'C:\\\\Users\\\\anish_yagt7hg\\\\Desktop\\\\internship\\\\COVID-19_CLASSIFICATION\\\\DATA\\\\non_covid_Patient_53',\n",
       " 'C:\\\\Users\\\\anish_yagt7hg\\\\Desktop\\\\internship\\\\COVID-19_CLASSIFICATION\\\\DATA\\\\non_covid_Patient_54',\n",
       " 'C:\\\\Users\\\\anish_yagt7hg\\\\Desktop\\\\internship\\\\COVID-19_CLASSIFICATION\\\\DATA\\\\non_covid_Patient_55',\n",
       " 'C:\\\\Users\\\\anish_yagt7hg\\\\Desktop\\\\internship\\\\COVID-19_CLASSIFICATION\\\\DATA\\\\non_covid_Patient_56',\n",
       " 'C:\\\\Users\\\\anish_yagt7hg\\\\Desktop\\\\internship\\\\COVID-19_CLASSIFICATION\\\\DATA\\\\non_covid_Patient_57',\n",
       " 'C:\\\\Users\\\\anish_yagt7hg\\\\Desktop\\\\internship\\\\COVID-19_CLASSIFICATION\\\\DATA\\\\non_covid_Patient_58',\n",
       " 'C:\\\\Users\\\\anish_yagt7hg\\\\Desktop\\\\internship\\\\COVID-19_CLASSIFICATION\\\\DATA\\\\non_covid_Patient_59',\n",
       " 'C:\\\\Users\\\\anish_yagt7hg\\\\Desktop\\\\internship\\\\COVID-19_CLASSIFICATION\\\\DATA\\\\non_covid_Patient_6',\n",
       " 'C:\\\\Users\\\\anish_yagt7hg\\\\Desktop\\\\internship\\\\COVID-19_CLASSIFICATION\\\\DATA\\\\non_covid_Patient_60',\n",
       " 'C:\\\\Users\\\\anish_yagt7hg\\\\Desktop\\\\internship\\\\COVID-19_CLASSIFICATION\\\\DATA\\\\non_covid_Patient_61',\n",
       " 'C:\\\\Users\\\\anish_yagt7hg\\\\Desktop\\\\internship\\\\COVID-19_CLASSIFICATION\\\\DATA\\\\non_covid_Patient_62',\n",
       " 'C:\\\\Users\\\\anish_yagt7hg\\\\Desktop\\\\internship\\\\COVID-19_CLASSIFICATION\\\\DATA\\\\non_covid_Patient_63',\n",
       " 'C:\\\\Users\\\\anish_yagt7hg\\\\Desktop\\\\internship\\\\COVID-19_CLASSIFICATION\\\\DATA\\\\non_covid_Patient_64',\n",
       " 'C:\\\\Users\\\\anish_yagt7hg\\\\Desktop\\\\internship\\\\COVID-19_CLASSIFICATION\\\\DATA\\\\non_covid_Patient_65',\n",
       " 'C:\\\\Users\\\\anish_yagt7hg\\\\Desktop\\\\internship\\\\COVID-19_CLASSIFICATION\\\\DATA\\\\non_covid_Patient_66',\n",
       " 'C:\\\\Users\\\\anish_yagt7hg\\\\Desktop\\\\internship\\\\COVID-19_CLASSIFICATION\\\\DATA\\\\non_covid_Patient_67',\n",
       " 'C:\\\\Users\\\\anish_yagt7hg\\\\Desktop\\\\internship\\\\COVID-19_CLASSIFICATION\\\\DATA\\\\non_covid_Patient_68',\n",
       " 'C:\\\\Users\\\\anish_yagt7hg\\\\Desktop\\\\internship\\\\COVID-19_CLASSIFICATION\\\\DATA\\\\non_covid_Patient_69',\n",
       " 'C:\\\\Users\\\\anish_yagt7hg\\\\Desktop\\\\internship\\\\COVID-19_CLASSIFICATION\\\\DATA\\\\non_covid_Patient_7',\n",
       " 'C:\\\\Users\\\\anish_yagt7hg\\\\Desktop\\\\internship\\\\COVID-19_CLASSIFICATION\\\\DATA\\\\non_covid_Patient_70',\n",
       " 'C:\\\\Users\\\\anish_yagt7hg\\\\Desktop\\\\internship\\\\COVID-19_CLASSIFICATION\\\\DATA\\\\non_covid_Patient_71',\n",
       " 'C:\\\\Users\\\\anish_yagt7hg\\\\Desktop\\\\internship\\\\COVID-19_CLASSIFICATION\\\\DATA\\\\non_covid_Patient_72',\n",
       " 'C:\\\\Users\\\\anish_yagt7hg\\\\Desktop\\\\internship\\\\COVID-19_CLASSIFICATION\\\\DATA\\\\non_covid_Patient_73',\n",
       " 'C:\\\\Users\\\\anish_yagt7hg\\\\Desktop\\\\internship\\\\COVID-19_CLASSIFICATION\\\\DATA\\\\non_covid_Patient_74',\n",
       " 'C:\\\\Users\\\\anish_yagt7hg\\\\Desktop\\\\internship\\\\COVID-19_CLASSIFICATION\\\\DATA\\\\non_covid_Patient_75',\n",
       " 'C:\\\\Users\\\\anish_yagt7hg\\\\Desktop\\\\internship\\\\COVID-19_CLASSIFICATION\\\\DATA\\\\non_covid_Patient_76',\n",
       " 'C:\\\\Users\\\\anish_yagt7hg\\\\Desktop\\\\internship\\\\COVID-19_CLASSIFICATION\\\\DATA\\\\non_covid_Patient_77',\n",
       " 'C:\\\\Users\\\\anish_yagt7hg\\\\Desktop\\\\internship\\\\COVID-19_CLASSIFICATION\\\\DATA\\\\non_covid_Patient_78',\n",
       " 'C:\\\\Users\\\\anish_yagt7hg\\\\Desktop\\\\internship\\\\COVID-19_CLASSIFICATION\\\\DATA\\\\non_covid_Patient_79',\n",
       " 'C:\\\\Users\\\\anish_yagt7hg\\\\Desktop\\\\internship\\\\COVID-19_CLASSIFICATION\\\\DATA\\\\non_covid_Patient_8',\n",
       " 'C:\\\\Users\\\\anish_yagt7hg\\\\Desktop\\\\internship\\\\COVID-19_CLASSIFICATION\\\\DATA\\\\non_covid_Patient_80',\n",
       " 'C:\\\\Users\\\\anish_yagt7hg\\\\Desktop\\\\internship\\\\COVID-19_CLASSIFICATION\\\\DATA\\\\non_covid_Patient_81',\n",
       " 'C:\\\\Users\\\\anish_yagt7hg\\\\Desktop\\\\internship\\\\COVID-19_CLASSIFICATION\\\\DATA\\\\non_covid_Patient_82',\n",
       " 'C:\\\\Users\\\\anish_yagt7hg\\\\Desktop\\\\internship\\\\COVID-19_CLASSIFICATION\\\\DATA\\\\non_covid_Patient_83',\n",
       " 'C:\\\\Users\\\\anish_yagt7hg\\\\Desktop\\\\internship\\\\COVID-19_CLASSIFICATION\\\\DATA\\\\non_covid_Patient_84',\n",
       " 'C:\\\\Users\\\\anish_yagt7hg\\\\Desktop\\\\internship\\\\COVID-19_CLASSIFICATION\\\\DATA\\\\non_covid_Patient_85',\n",
       " 'C:\\\\Users\\\\anish_yagt7hg\\\\Desktop\\\\internship\\\\COVID-19_CLASSIFICATION\\\\DATA\\\\non_covid_Patient_86',\n",
       " 'C:\\\\Users\\\\anish_yagt7hg\\\\Desktop\\\\internship\\\\COVID-19_CLASSIFICATION\\\\DATA\\\\non_covid_Patient_88',\n",
       " 'C:\\\\Users\\\\anish_yagt7hg\\\\Desktop\\\\internship\\\\COVID-19_CLASSIFICATION\\\\DATA\\\\non_covid_Patient_89',\n",
       " 'C:\\\\Users\\\\anish_yagt7hg\\\\Desktop\\\\internship\\\\COVID-19_CLASSIFICATION\\\\DATA\\\\non_covid_Patient_9',\n",
       " 'C:\\\\Users\\\\anish_yagt7hg\\\\Desktop\\\\internship\\\\COVID-19_CLASSIFICATION\\\\DATA\\\\non_covid_Patient_90',\n",
       " 'C:\\\\Users\\\\anish_yagt7hg\\\\Desktop\\\\internship\\\\COVID-19_CLASSIFICATION\\\\DATA\\\\non_covid_Patient_91',\n",
       " 'C:\\\\Users\\\\anish_yagt7hg\\\\Desktop\\\\internship\\\\COVID-19_CLASSIFICATION\\\\DATA\\\\Patient 1',\n",
       " 'C:\\\\Users\\\\anish_yagt7hg\\\\Desktop\\\\internship\\\\COVID-19_CLASSIFICATION\\\\DATA\\\\Patient 10',\n",
       " 'C:\\\\Users\\\\anish_yagt7hg\\\\Desktop\\\\internship\\\\COVID-19_CLASSIFICATION\\\\DATA\\\\Patient 100',\n",
       " 'C:\\\\Users\\\\anish_yagt7hg\\\\Desktop\\\\internship\\\\COVID-19_CLASSIFICATION\\\\DATA\\\\Patient 101',\n",
       " 'C:\\\\Users\\\\anish_yagt7hg\\\\Desktop\\\\internship\\\\COVID-19_CLASSIFICATION\\\\DATA\\\\Patient 102',\n",
       " 'C:\\\\Users\\\\anish_yagt7hg\\\\Desktop\\\\internship\\\\COVID-19_CLASSIFICATION\\\\DATA\\\\Patient 103',\n",
       " 'C:\\\\Users\\\\anish_yagt7hg\\\\Desktop\\\\internship\\\\COVID-19_CLASSIFICATION\\\\DATA\\\\Patient 104',\n",
       " 'C:\\\\Users\\\\anish_yagt7hg\\\\Desktop\\\\internship\\\\COVID-19_CLASSIFICATION\\\\DATA\\\\Patient 105',\n",
       " 'C:\\\\Users\\\\anish_yagt7hg\\\\Desktop\\\\internship\\\\COVID-19_CLASSIFICATION\\\\DATA\\\\Patient 106',\n",
       " 'C:\\\\Users\\\\anish_yagt7hg\\\\Desktop\\\\internship\\\\COVID-19_CLASSIFICATION\\\\DATA\\\\Patient 107',\n",
       " 'C:\\\\Users\\\\anish_yagt7hg\\\\Desktop\\\\internship\\\\COVID-19_CLASSIFICATION\\\\DATA\\\\Patient 108',\n",
       " 'C:\\\\Users\\\\anish_yagt7hg\\\\Desktop\\\\internship\\\\COVID-19_CLASSIFICATION\\\\DATA\\\\Patient 109',\n",
       " 'C:\\\\Users\\\\anish_yagt7hg\\\\Desktop\\\\internship\\\\COVID-19_CLASSIFICATION\\\\DATA\\\\Patient 11',\n",
       " 'C:\\\\Users\\\\anish_yagt7hg\\\\Desktop\\\\internship\\\\COVID-19_CLASSIFICATION\\\\DATA\\\\Patient 110',\n",
       " 'C:\\\\Users\\\\anish_yagt7hg\\\\Desktop\\\\internship\\\\COVID-19_CLASSIFICATION\\\\DATA\\\\Patient 111',\n",
       " 'C:\\\\Users\\\\anish_yagt7hg\\\\Desktop\\\\internship\\\\COVID-19_CLASSIFICATION\\\\DATA\\\\Patient 112',\n",
       " 'C:\\\\Users\\\\anish_yagt7hg\\\\Desktop\\\\internship\\\\COVID-19_CLASSIFICATION\\\\DATA\\\\Patient 113',\n",
       " 'C:\\\\Users\\\\anish_yagt7hg\\\\Desktop\\\\internship\\\\COVID-19_CLASSIFICATION\\\\DATA\\\\Patient 114',\n",
       " 'C:\\\\Users\\\\anish_yagt7hg\\\\Desktop\\\\internship\\\\COVID-19_CLASSIFICATION\\\\DATA\\\\Patient 115',\n",
       " 'C:\\\\Users\\\\anish_yagt7hg\\\\Desktop\\\\internship\\\\COVID-19_CLASSIFICATION\\\\DATA\\\\Patient 116',\n",
       " 'C:\\\\Users\\\\anish_yagt7hg\\\\Desktop\\\\internship\\\\COVID-19_CLASSIFICATION\\\\DATA\\\\Patient 117',\n",
       " 'C:\\\\Users\\\\anish_yagt7hg\\\\Desktop\\\\internship\\\\COVID-19_CLASSIFICATION\\\\DATA\\\\Patient 118',\n",
       " 'C:\\\\Users\\\\anish_yagt7hg\\\\Desktop\\\\internship\\\\COVID-19_CLASSIFICATION\\\\DATA\\\\Patient 119',\n",
       " 'C:\\\\Users\\\\anish_yagt7hg\\\\Desktop\\\\internship\\\\COVID-19_CLASSIFICATION\\\\DATA\\\\Patient 12',\n",
       " 'C:\\\\Users\\\\anish_yagt7hg\\\\Desktop\\\\internship\\\\COVID-19_CLASSIFICATION\\\\DATA\\\\Patient 120',\n",
       " 'C:\\\\Users\\\\anish_yagt7hg\\\\Desktop\\\\internship\\\\COVID-19_CLASSIFICATION\\\\DATA\\\\Patient 121',\n",
       " 'C:\\\\Users\\\\anish_yagt7hg\\\\Desktop\\\\internship\\\\COVID-19_CLASSIFICATION\\\\DATA\\\\Patient 122',\n",
       " 'C:\\\\Users\\\\anish_yagt7hg\\\\Desktop\\\\internship\\\\COVID-19_CLASSIFICATION\\\\DATA\\\\Patient 123',\n",
       " 'C:\\\\Users\\\\anish_yagt7hg\\\\Desktop\\\\internship\\\\COVID-19_CLASSIFICATION\\\\DATA\\\\Patient 124',\n",
       " 'C:\\\\Users\\\\anish_yagt7hg\\\\Desktop\\\\internship\\\\COVID-19_CLASSIFICATION\\\\DATA\\\\Patient 125',\n",
       " 'C:\\\\Users\\\\anish_yagt7hg\\\\Desktop\\\\internship\\\\COVID-19_CLASSIFICATION\\\\DATA\\\\Patient 126',\n",
       " 'C:\\\\Users\\\\anish_yagt7hg\\\\Desktop\\\\internship\\\\COVID-19_CLASSIFICATION\\\\DATA\\\\Patient 127',\n",
       " 'C:\\\\Users\\\\anish_yagt7hg\\\\Desktop\\\\internship\\\\COVID-19_CLASSIFICATION\\\\DATA\\\\Patient 128',\n",
       " 'C:\\\\Users\\\\anish_yagt7hg\\\\Desktop\\\\internship\\\\COVID-19_CLASSIFICATION\\\\DATA\\\\Patient 129',\n",
       " 'C:\\\\Users\\\\anish_yagt7hg\\\\Desktop\\\\internship\\\\COVID-19_CLASSIFICATION\\\\DATA\\\\Patient 13',\n",
       " 'C:\\\\Users\\\\anish_yagt7hg\\\\Desktop\\\\internship\\\\COVID-19_CLASSIFICATION\\\\DATA\\\\Patient 130',\n",
       " 'C:\\\\Users\\\\anish_yagt7hg\\\\Desktop\\\\internship\\\\COVID-19_CLASSIFICATION\\\\DATA\\\\Patient 131',\n",
       " 'C:\\\\Users\\\\anish_yagt7hg\\\\Desktop\\\\internship\\\\COVID-19_CLASSIFICATION\\\\DATA\\\\Patient 132',\n",
       " 'C:\\\\Users\\\\anish_yagt7hg\\\\Desktop\\\\internship\\\\COVID-19_CLASSIFICATION\\\\DATA\\\\Patient 133',\n",
       " 'C:\\\\Users\\\\anish_yagt7hg\\\\Desktop\\\\internship\\\\COVID-19_CLASSIFICATION\\\\DATA\\\\Patient 134',\n",
       " 'C:\\\\Users\\\\anish_yagt7hg\\\\Desktop\\\\internship\\\\COVID-19_CLASSIFICATION\\\\DATA\\\\Patient 135',\n",
       " 'C:\\\\Users\\\\anish_yagt7hg\\\\Desktop\\\\internship\\\\COVID-19_CLASSIFICATION\\\\DATA\\\\Patient 136',\n",
       " 'C:\\\\Users\\\\anish_yagt7hg\\\\Desktop\\\\internship\\\\COVID-19_CLASSIFICATION\\\\DATA\\\\Patient 137',\n",
       " 'C:\\\\Users\\\\anish_yagt7hg\\\\Desktop\\\\internship\\\\COVID-19_CLASSIFICATION\\\\DATA\\\\Patient 138',\n",
       " 'C:\\\\Users\\\\anish_yagt7hg\\\\Desktop\\\\internship\\\\COVID-19_CLASSIFICATION\\\\DATA\\\\Patient 139',\n",
       " 'C:\\\\Users\\\\anish_yagt7hg\\\\Desktop\\\\internship\\\\COVID-19_CLASSIFICATION\\\\DATA\\\\Patient 14',\n",
       " 'C:\\\\Users\\\\anish_yagt7hg\\\\Desktop\\\\internship\\\\COVID-19_CLASSIFICATION\\\\DATA\\\\Patient 140',\n",
       " 'C:\\\\Users\\\\anish_yagt7hg\\\\Desktop\\\\internship\\\\COVID-19_CLASSIFICATION\\\\DATA\\\\Patient 141',\n",
       " 'C:\\\\Users\\\\anish_yagt7hg\\\\Desktop\\\\internship\\\\COVID-19_CLASSIFICATION\\\\DATA\\\\Patient 142',\n",
       " 'C:\\\\Users\\\\anish_yagt7hg\\\\Desktop\\\\internship\\\\COVID-19_CLASSIFICATION\\\\DATA\\\\Patient 143',\n",
       " 'C:\\\\Users\\\\anish_yagt7hg\\\\Desktop\\\\internship\\\\COVID-19_CLASSIFICATION\\\\DATA\\\\Patient 144',\n",
       " 'C:\\\\Users\\\\anish_yagt7hg\\\\Desktop\\\\internship\\\\COVID-19_CLASSIFICATION\\\\DATA\\\\Patient 145',\n",
       " 'C:\\\\Users\\\\anish_yagt7hg\\\\Desktop\\\\internship\\\\COVID-19_CLASSIFICATION\\\\DATA\\\\Patient 146',\n",
       " 'C:\\\\Users\\\\anish_yagt7hg\\\\Desktop\\\\internship\\\\COVID-19_CLASSIFICATION\\\\DATA\\\\Patient 147',\n",
       " 'C:\\\\Users\\\\anish_yagt7hg\\\\Desktop\\\\internship\\\\COVID-19_CLASSIFICATION\\\\DATA\\\\Patient 148',\n",
       " 'C:\\\\Users\\\\anish_yagt7hg\\\\Desktop\\\\internship\\\\COVID-19_CLASSIFICATION\\\\DATA\\\\Patient 149',\n",
       " 'C:\\\\Users\\\\anish_yagt7hg\\\\Desktop\\\\internship\\\\COVID-19_CLASSIFICATION\\\\DATA\\\\Patient 15',\n",
       " 'C:\\\\Users\\\\anish_yagt7hg\\\\Desktop\\\\internship\\\\COVID-19_CLASSIFICATION\\\\DATA\\\\Patient 150',\n",
       " 'C:\\\\Users\\\\anish_yagt7hg\\\\Desktop\\\\internship\\\\COVID-19_CLASSIFICATION\\\\DATA\\\\Patient 151',\n",
       " 'C:\\\\Users\\\\anish_yagt7hg\\\\Desktop\\\\internship\\\\COVID-19_CLASSIFICATION\\\\DATA\\\\Patient 152',\n",
       " 'C:\\\\Users\\\\anish_yagt7hg\\\\Desktop\\\\internship\\\\COVID-19_CLASSIFICATION\\\\DATA\\\\Patient 153',\n",
       " 'C:\\\\Users\\\\anish_yagt7hg\\\\Desktop\\\\internship\\\\COVID-19_CLASSIFICATION\\\\DATA\\\\Patient 154',\n",
       " 'C:\\\\Users\\\\anish_yagt7hg\\\\Desktop\\\\internship\\\\COVID-19_CLASSIFICATION\\\\DATA\\\\Patient 155',\n",
       " 'C:\\\\Users\\\\anish_yagt7hg\\\\Desktop\\\\internship\\\\COVID-19_CLASSIFICATION\\\\DATA\\\\Patient 156',\n",
       " 'C:\\\\Users\\\\anish_yagt7hg\\\\Desktop\\\\internship\\\\COVID-19_CLASSIFICATION\\\\DATA\\\\Patient 157',\n",
       " 'C:\\\\Users\\\\anish_yagt7hg\\\\Desktop\\\\internship\\\\COVID-19_CLASSIFICATION\\\\DATA\\\\Patient 158',\n",
       " 'C:\\\\Users\\\\anish_yagt7hg\\\\Desktop\\\\internship\\\\COVID-19_CLASSIFICATION\\\\DATA\\\\Patient 159',\n",
       " 'C:\\\\Users\\\\anish_yagt7hg\\\\Desktop\\\\internship\\\\COVID-19_CLASSIFICATION\\\\DATA\\\\Patient 16',\n",
       " 'C:\\\\Users\\\\anish_yagt7hg\\\\Desktop\\\\internship\\\\COVID-19_CLASSIFICATION\\\\DATA\\\\Patient 160',\n",
       " 'C:\\\\Users\\\\anish_yagt7hg\\\\Desktop\\\\internship\\\\COVID-19_CLASSIFICATION\\\\DATA\\\\Patient 161',\n",
       " 'C:\\\\Users\\\\anish_yagt7hg\\\\Desktop\\\\internship\\\\COVID-19_CLASSIFICATION\\\\DATA\\\\Patient 162',\n",
       " 'C:\\\\Users\\\\anish_yagt7hg\\\\Desktop\\\\internship\\\\COVID-19_CLASSIFICATION\\\\DATA\\\\Patient 163',\n",
       " 'C:\\\\Users\\\\anish_yagt7hg\\\\Desktop\\\\internship\\\\COVID-19_CLASSIFICATION\\\\DATA\\\\Patient 164',\n",
       " 'C:\\\\Users\\\\anish_yagt7hg\\\\Desktop\\\\internship\\\\COVID-19_CLASSIFICATION\\\\DATA\\\\Patient 165',\n",
       " 'C:\\\\Users\\\\anish_yagt7hg\\\\Desktop\\\\internship\\\\COVID-19_CLASSIFICATION\\\\DATA\\\\Patient 166',\n",
       " 'C:\\\\Users\\\\anish_yagt7hg\\\\Desktop\\\\internship\\\\COVID-19_CLASSIFICATION\\\\DATA\\\\Patient 167',\n",
       " 'C:\\\\Users\\\\anish_yagt7hg\\\\Desktop\\\\internship\\\\COVID-19_CLASSIFICATION\\\\DATA\\\\Patient 168',\n",
       " 'C:\\\\Users\\\\anish_yagt7hg\\\\Desktop\\\\internship\\\\COVID-19_CLASSIFICATION\\\\DATA\\\\Patient 169',\n",
       " 'C:\\\\Users\\\\anish_yagt7hg\\\\Desktop\\\\internship\\\\COVID-19_CLASSIFICATION\\\\DATA\\\\Patient 17',\n",
       " 'C:\\\\Users\\\\anish_yagt7hg\\\\Desktop\\\\internship\\\\COVID-19_CLASSIFICATION\\\\DATA\\\\Patient 170',\n",
       " 'C:\\\\Users\\\\anish_yagt7hg\\\\Desktop\\\\internship\\\\COVID-19_CLASSIFICATION\\\\DATA\\\\Patient 171',\n",
       " 'C:\\\\Users\\\\anish_yagt7hg\\\\Desktop\\\\internship\\\\COVID-19_CLASSIFICATION\\\\DATA\\\\Patient 172',\n",
       " 'C:\\\\Users\\\\anish_yagt7hg\\\\Desktop\\\\internship\\\\COVID-19_CLASSIFICATION\\\\DATA\\\\Patient 173',\n",
       " 'C:\\\\Users\\\\anish_yagt7hg\\\\Desktop\\\\internship\\\\COVID-19_CLASSIFICATION\\\\DATA\\\\Patient 174',\n",
       " 'C:\\\\Users\\\\anish_yagt7hg\\\\Desktop\\\\internship\\\\COVID-19_CLASSIFICATION\\\\DATA\\\\Patient 175',\n",
       " 'C:\\\\Users\\\\anish_yagt7hg\\\\Desktop\\\\internship\\\\COVID-19_CLASSIFICATION\\\\DATA\\\\Patient 176',\n",
       " 'C:\\\\Users\\\\anish_yagt7hg\\\\Desktop\\\\internship\\\\COVID-19_CLASSIFICATION\\\\DATA\\\\Patient 177',\n",
       " 'C:\\\\Users\\\\anish_yagt7hg\\\\Desktop\\\\internship\\\\COVID-19_CLASSIFICATION\\\\DATA\\\\Patient 178',\n",
       " 'C:\\\\Users\\\\anish_yagt7hg\\\\Desktop\\\\internship\\\\COVID-19_CLASSIFICATION\\\\DATA\\\\Patient 179',\n",
       " 'C:\\\\Users\\\\anish_yagt7hg\\\\Desktop\\\\internship\\\\COVID-19_CLASSIFICATION\\\\DATA\\\\Patient 18',\n",
       " 'C:\\\\Users\\\\anish_yagt7hg\\\\Desktop\\\\internship\\\\COVID-19_CLASSIFICATION\\\\DATA\\\\Patient 180',\n",
       " 'C:\\\\Users\\\\anish_yagt7hg\\\\Desktop\\\\internship\\\\COVID-19_CLASSIFICATION\\\\DATA\\\\Patient 181',\n",
       " 'C:\\\\Users\\\\anish_yagt7hg\\\\Desktop\\\\internship\\\\COVID-19_CLASSIFICATION\\\\DATA\\\\Patient 182',\n",
       " 'C:\\\\Users\\\\anish_yagt7hg\\\\Desktop\\\\internship\\\\COVID-19_CLASSIFICATION\\\\DATA\\\\Patient 183',\n",
       " 'C:\\\\Users\\\\anish_yagt7hg\\\\Desktop\\\\internship\\\\COVID-19_CLASSIFICATION\\\\DATA\\\\Patient 184',\n",
       " 'C:\\\\Users\\\\anish_yagt7hg\\\\Desktop\\\\internship\\\\COVID-19_CLASSIFICATION\\\\DATA\\\\Patient 185',\n",
       " 'C:\\\\Users\\\\anish_yagt7hg\\\\Desktop\\\\internship\\\\COVID-19_CLASSIFICATION\\\\DATA\\\\Patient 186',\n",
       " 'C:\\\\Users\\\\anish_yagt7hg\\\\Desktop\\\\internship\\\\COVID-19_CLASSIFICATION\\\\DATA\\\\Patient 187',\n",
       " 'C:\\\\Users\\\\anish_yagt7hg\\\\Desktop\\\\internship\\\\COVID-19_CLASSIFICATION\\\\DATA\\\\Patient 188',\n",
       " 'C:\\\\Users\\\\anish_yagt7hg\\\\Desktop\\\\internship\\\\COVID-19_CLASSIFICATION\\\\DATA\\\\Patient 189',\n",
       " 'C:\\\\Users\\\\anish_yagt7hg\\\\Desktop\\\\internship\\\\COVID-19_CLASSIFICATION\\\\DATA\\\\Patient 19',\n",
       " 'C:\\\\Users\\\\anish_yagt7hg\\\\Desktop\\\\internship\\\\COVID-19_CLASSIFICATION\\\\DATA\\\\Patient 190',\n",
       " 'C:\\\\Users\\\\anish_yagt7hg\\\\Desktop\\\\internship\\\\COVID-19_CLASSIFICATION\\\\DATA\\\\Patient 191',\n",
       " 'C:\\\\Users\\\\anish_yagt7hg\\\\Desktop\\\\internship\\\\COVID-19_CLASSIFICATION\\\\DATA\\\\Patient 192',\n",
       " 'C:\\\\Users\\\\anish_yagt7hg\\\\Desktop\\\\internship\\\\COVID-19_CLASSIFICATION\\\\DATA\\\\Patient 193',\n",
       " 'C:\\\\Users\\\\anish_yagt7hg\\\\Desktop\\\\internship\\\\COVID-19_CLASSIFICATION\\\\DATA\\\\Patient 194',\n",
       " 'C:\\\\Users\\\\anish_yagt7hg\\\\Desktop\\\\internship\\\\COVID-19_CLASSIFICATION\\\\DATA\\\\Patient 195',\n",
       " 'C:\\\\Users\\\\anish_yagt7hg\\\\Desktop\\\\internship\\\\COVID-19_CLASSIFICATION\\\\DATA\\\\Patient 196',\n",
       " 'C:\\\\Users\\\\anish_yagt7hg\\\\Desktop\\\\internship\\\\COVID-19_CLASSIFICATION\\\\DATA\\\\Patient 197',\n",
       " 'C:\\\\Users\\\\anish_yagt7hg\\\\Desktop\\\\internship\\\\COVID-19_CLASSIFICATION\\\\DATA\\\\Patient 199',\n",
       " 'C:\\\\Users\\\\anish_yagt7hg\\\\Desktop\\\\internship\\\\COVID-19_CLASSIFICATION\\\\DATA\\\\Patient 2',\n",
       " 'C:\\\\Users\\\\anish_yagt7hg\\\\Desktop\\\\internship\\\\COVID-19_CLASSIFICATION\\\\DATA\\\\Patient 20',\n",
       " 'C:\\\\Users\\\\anish_yagt7hg\\\\Desktop\\\\internship\\\\COVID-19_CLASSIFICATION\\\\DATA\\\\Patient 200',\n",
       " 'C:\\\\Users\\\\anish_yagt7hg\\\\Desktop\\\\internship\\\\COVID-19_CLASSIFICATION\\\\DATA\\\\Patient 201',\n",
       " 'C:\\\\Users\\\\anish_yagt7hg\\\\Desktop\\\\internship\\\\COVID-19_CLASSIFICATION\\\\DATA\\\\Patient 202',\n",
       " 'C:\\\\Users\\\\anish_yagt7hg\\\\Desktop\\\\internship\\\\COVID-19_CLASSIFICATION\\\\DATA\\\\Patient 203',\n",
       " 'C:\\\\Users\\\\anish_yagt7hg\\\\Desktop\\\\internship\\\\COVID-19_CLASSIFICATION\\\\DATA\\\\Patient 204',\n",
       " 'C:\\\\Users\\\\anish_yagt7hg\\\\Desktop\\\\internship\\\\COVID-19_CLASSIFICATION\\\\DATA\\\\Patient 205',\n",
       " 'C:\\\\Users\\\\anish_yagt7hg\\\\Desktop\\\\internship\\\\COVID-19_CLASSIFICATION\\\\DATA\\\\Patient 206',\n",
       " 'C:\\\\Users\\\\anish_yagt7hg\\\\Desktop\\\\internship\\\\COVID-19_CLASSIFICATION\\\\DATA\\\\Patient 207',\n",
       " 'C:\\\\Users\\\\anish_yagt7hg\\\\Desktop\\\\internship\\\\COVID-19_CLASSIFICATION\\\\DATA\\\\Patient 208',\n",
       " 'C:\\\\Users\\\\anish_yagt7hg\\\\Desktop\\\\internship\\\\COVID-19_CLASSIFICATION\\\\DATA\\\\Patient 209',\n",
       " 'C:\\\\Users\\\\anish_yagt7hg\\\\Desktop\\\\internship\\\\COVID-19_CLASSIFICATION\\\\DATA\\\\Patient 21',\n",
       " 'C:\\\\Users\\\\anish_yagt7hg\\\\Desktop\\\\internship\\\\COVID-19_CLASSIFICATION\\\\DATA\\\\Patient 210',\n",
       " 'C:\\\\Users\\\\anish_yagt7hg\\\\Desktop\\\\internship\\\\COVID-19_CLASSIFICATION\\\\DATA\\\\Patient 211',\n",
       " 'C:\\\\Users\\\\anish_yagt7hg\\\\Desktop\\\\internship\\\\COVID-19_CLASSIFICATION\\\\DATA\\\\Patient 212',\n",
       " 'C:\\\\Users\\\\anish_yagt7hg\\\\Desktop\\\\internship\\\\COVID-19_CLASSIFICATION\\\\DATA\\\\Patient 213',\n",
       " 'C:\\\\Users\\\\anish_yagt7hg\\\\Desktop\\\\internship\\\\COVID-19_CLASSIFICATION\\\\DATA\\\\Patient 214',\n",
       " 'C:\\\\Users\\\\anish_yagt7hg\\\\Desktop\\\\internship\\\\COVID-19_CLASSIFICATION\\\\DATA\\\\Patient 215',\n",
       " 'C:\\\\Users\\\\anish_yagt7hg\\\\Desktop\\\\internship\\\\COVID-19_CLASSIFICATION\\\\DATA\\\\Patient 216',\n",
       " 'C:\\\\Users\\\\anish_yagt7hg\\\\Desktop\\\\internship\\\\COVID-19_CLASSIFICATION\\\\DATA\\\\Patient 22',\n",
       " 'C:\\\\Users\\\\anish_yagt7hg\\\\Desktop\\\\internship\\\\COVID-19_CLASSIFICATION\\\\DATA\\\\Patient 23',\n",
       " 'C:\\\\Users\\\\anish_yagt7hg\\\\Desktop\\\\internship\\\\COVID-19_CLASSIFICATION\\\\DATA\\\\Patient 24',\n",
       " 'C:\\\\Users\\\\anish_yagt7hg\\\\Desktop\\\\internship\\\\COVID-19_CLASSIFICATION\\\\DATA\\\\Patient 25',\n",
       " 'C:\\\\Users\\\\anish_yagt7hg\\\\Desktop\\\\internship\\\\COVID-19_CLASSIFICATION\\\\DATA\\\\Patient 26',\n",
       " 'C:\\\\Users\\\\anish_yagt7hg\\\\Desktop\\\\internship\\\\COVID-19_CLASSIFICATION\\\\DATA\\\\Patient 27',\n",
       " 'C:\\\\Users\\\\anish_yagt7hg\\\\Desktop\\\\internship\\\\COVID-19_CLASSIFICATION\\\\DATA\\\\Patient 28',\n",
       " 'C:\\\\Users\\\\anish_yagt7hg\\\\Desktop\\\\internship\\\\COVID-19_CLASSIFICATION\\\\DATA\\\\Patient 29',\n",
       " 'C:\\\\Users\\\\anish_yagt7hg\\\\Desktop\\\\internship\\\\COVID-19_CLASSIFICATION\\\\DATA\\\\Patient 3',\n",
       " 'C:\\\\Users\\\\anish_yagt7hg\\\\Desktop\\\\internship\\\\COVID-19_CLASSIFICATION\\\\DATA\\\\Patient 30',\n",
       " 'C:\\\\Users\\\\anish_yagt7hg\\\\Desktop\\\\internship\\\\COVID-19_CLASSIFICATION\\\\DATA\\\\Patient 31',\n",
       " 'C:\\\\Users\\\\anish_yagt7hg\\\\Desktop\\\\internship\\\\COVID-19_CLASSIFICATION\\\\DATA\\\\Patient 32',\n",
       " 'C:\\\\Users\\\\anish_yagt7hg\\\\Desktop\\\\internship\\\\COVID-19_CLASSIFICATION\\\\DATA\\\\Patient 33',\n",
       " 'C:\\\\Users\\\\anish_yagt7hg\\\\Desktop\\\\internship\\\\COVID-19_CLASSIFICATION\\\\DATA\\\\Patient 34',\n",
       " 'C:\\\\Users\\\\anish_yagt7hg\\\\Desktop\\\\internship\\\\COVID-19_CLASSIFICATION\\\\DATA\\\\Patient 35',\n",
       " 'C:\\\\Users\\\\anish_yagt7hg\\\\Desktop\\\\internship\\\\COVID-19_CLASSIFICATION\\\\DATA\\\\Patient 36',\n",
       " 'C:\\\\Users\\\\anish_yagt7hg\\\\Desktop\\\\internship\\\\COVID-19_CLASSIFICATION\\\\DATA\\\\Patient 37',\n",
       " 'C:\\\\Users\\\\anish_yagt7hg\\\\Desktop\\\\internship\\\\COVID-19_CLASSIFICATION\\\\DATA\\\\Patient 38',\n",
       " 'C:\\\\Users\\\\anish_yagt7hg\\\\Desktop\\\\internship\\\\COVID-19_CLASSIFICATION\\\\DATA\\\\Patient 39',\n",
       " 'C:\\\\Users\\\\anish_yagt7hg\\\\Desktop\\\\internship\\\\COVID-19_CLASSIFICATION\\\\DATA\\\\Patient 4',\n",
       " 'C:\\\\Users\\\\anish_yagt7hg\\\\Desktop\\\\internship\\\\COVID-19_CLASSIFICATION\\\\DATA\\\\Patient 40',\n",
       " 'C:\\\\Users\\\\anish_yagt7hg\\\\Desktop\\\\internship\\\\COVID-19_CLASSIFICATION\\\\DATA\\\\Patient 41',\n",
       " 'C:\\\\Users\\\\anish_yagt7hg\\\\Desktop\\\\internship\\\\COVID-19_CLASSIFICATION\\\\DATA\\\\Patient 42',\n",
       " 'C:\\\\Users\\\\anish_yagt7hg\\\\Desktop\\\\internship\\\\COVID-19_CLASSIFICATION\\\\DATA\\\\Patient 43',\n",
       " 'C:\\\\Users\\\\anish_yagt7hg\\\\Desktop\\\\internship\\\\COVID-19_CLASSIFICATION\\\\DATA\\\\Patient 44',\n",
       " 'C:\\\\Users\\\\anish_yagt7hg\\\\Desktop\\\\internship\\\\COVID-19_CLASSIFICATION\\\\DATA\\\\Patient 45',\n",
       " 'C:\\\\Users\\\\anish_yagt7hg\\\\Desktop\\\\internship\\\\COVID-19_CLASSIFICATION\\\\DATA\\\\Patient 46',\n",
       " 'C:\\\\Users\\\\anish_yagt7hg\\\\Desktop\\\\internship\\\\COVID-19_CLASSIFICATION\\\\DATA\\\\Patient 47',\n",
       " 'C:\\\\Users\\\\anish_yagt7hg\\\\Desktop\\\\internship\\\\COVID-19_CLASSIFICATION\\\\DATA\\\\Patient 48',\n",
       " 'C:\\\\Users\\\\anish_yagt7hg\\\\Desktop\\\\internship\\\\COVID-19_CLASSIFICATION\\\\DATA\\\\Patient 49',\n",
       " 'C:\\\\Users\\\\anish_yagt7hg\\\\Desktop\\\\internship\\\\COVID-19_CLASSIFICATION\\\\DATA\\\\Patient 5',\n",
       " 'C:\\\\Users\\\\anish_yagt7hg\\\\Desktop\\\\internship\\\\COVID-19_CLASSIFICATION\\\\DATA\\\\Patient 50',\n",
       " 'C:\\\\Users\\\\anish_yagt7hg\\\\Desktop\\\\internship\\\\COVID-19_CLASSIFICATION\\\\DATA\\\\Patient 51',\n",
       " 'C:\\\\Users\\\\anish_yagt7hg\\\\Desktop\\\\internship\\\\COVID-19_CLASSIFICATION\\\\DATA\\\\Patient 52',\n",
       " 'C:\\\\Users\\\\anish_yagt7hg\\\\Desktop\\\\internship\\\\COVID-19_CLASSIFICATION\\\\DATA\\\\Patient 53',\n",
       " 'C:\\\\Users\\\\anish_yagt7hg\\\\Desktop\\\\internship\\\\COVID-19_CLASSIFICATION\\\\DATA\\\\Patient 54',\n",
       " 'C:\\\\Users\\\\anish_yagt7hg\\\\Desktop\\\\internship\\\\COVID-19_CLASSIFICATION\\\\DATA\\\\Patient 55',\n",
       " 'C:\\\\Users\\\\anish_yagt7hg\\\\Desktop\\\\internship\\\\COVID-19_CLASSIFICATION\\\\DATA\\\\Patient 56',\n",
       " 'C:\\\\Users\\\\anish_yagt7hg\\\\Desktop\\\\internship\\\\COVID-19_CLASSIFICATION\\\\DATA\\\\Patient 57',\n",
       " 'C:\\\\Users\\\\anish_yagt7hg\\\\Desktop\\\\internship\\\\COVID-19_CLASSIFICATION\\\\DATA\\\\Patient 58',\n",
       " 'C:\\\\Users\\\\anish_yagt7hg\\\\Desktop\\\\internship\\\\COVID-19_CLASSIFICATION\\\\DATA\\\\Patient 59',\n",
       " 'C:\\\\Users\\\\anish_yagt7hg\\\\Desktop\\\\internship\\\\COVID-19_CLASSIFICATION\\\\DATA\\\\Patient 6',\n",
       " 'C:\\\\Users\\\\anish_yagt7hg\\\\Desktop\\\\internship\\\\COVID-19_CLASSIFICATION\\\\DATA\\\\Patient 60',\n",
       " 'C:\\\\Users\\\\anish_yagt7hg\\\\Desktop\\\\internship\\\\COVID-19_CLASSIFICATION\\\\DATA\\\\Patient 61',\n",
       " 'C:\\\\Users\\\\anish_yagt7hg\\\\Desktop\\\\internship\\\\COVID-19_CLASSIFICATION\\\\DATA\\\\Patient 62',\n",
       " 'C:\\\\Users\\\\anish_yagt7hg\\\\Desktop\\\\internship\\\\COVID-19_CLASSIFICATION\\\\DATA\\\\Patient 63',\n",
       " 'C:\\\\Users\\\\anish_yagt7hg\\\\Desktop\\\\internship\\\\COVID-19_CLASSIFICATION\\\\DATA\\\\Patient 64',\n",
       " 'C:\\\\Users\\\\anish_yagt7hg\\\\Desktop\\\\internship\\\\COVID-19_CLASSIFICATION\\\\DATA\\\\Patient 65',\n",
       " 'C:\\\\Users\\\\anish_yagt7hg\\\\Desktop\\\\internship\\\\COVID-19_CLASSIFICATION\\\\DATA\\\\Patient 66',\n",
       " 'C:\\\\Users\\\\anish_yagt7hg\\\\Desktop\\\\internship\\\\COVID-19_CLASSIFICATION\\\\DATA\\\\Patient 67',\n",
       " 'C:\\\\Users\\\\anish_yagt7hg\\\\Desktop\\\\internship\\\\COVID-19_CLASSIFICATION\\\\DATA\\\\Patient 68',\n",
       " 'C:\\\\Users\\\\anish_yagt7hg\\\\Desktop\\\\internship\\\\COVID-19_CLASSIFICATION\\\\DATA\\\\Patient 69',\n",
       " 'C:\\\\Users\\\\anish_yagt7hg\\\\Desktop\\\\internship\\\\COVID-19_CLASSIFICATION\\\\DATA\\\\Patient 7',\n",
       " 'C:\\\\Users\\\\anish_yagt7hg\\\\Desktop\\\\internship\\\\COVID-19_CLASSIFICATION\\\\DATA\\\\Patient 70',\n",
       " 'C:\\\\Users\\\\anish_yagt7hg\\\\Desktop\\\\internship\\\\COVID-19_CLASSIFICATION\\\\DATA\\\\Patient 71',\n",
       " 'C:\\\\Users\\\\anish_yagt7hg\\\\Desktop\\\\internship\\\\COVID-19_CLASSIFICATION\\\\DATA\\\\Patient 72',\n",
       " 'C:\\\\Users\\\\anish_yagt7hg\\\\Desktop\\\\internship\\\\COVID-19_CLASSIFICATION\\\\DATA\\\\Patient 73',\n",
       " 'C:\\\\Users\\\\anish_yagt7hg\\\\Desktop\\\\internship\\\\COVID-19_CLASSIFICATION\\\\DATA\\\\Patient 74',\n",
       " 'C:\\\\Users\\\\anish_yagt7hg\\\\Desktop\\\\internship\\\\COVID-19_CLASSIFICATION\\\\DATA\\\\Patient 75',\n",
       " 'C:\\\\Users\\\\anish_yagt7hg\\\\Desktop\\\\internship\\\\COVID-19_CLASSIFICATION\\\\DATA\\\\Patient 76',\n",
       " 'C:\\\\Users\\\\anish_yagt7hg\\\\Desktop\\\\internship\\\\COVID-19_CLASSIFICATION\\\\DATA\\\\Patient 78',\n",
       " 'C:\\\\Users\\\\anish_yagt7hg\\\\Desktop\\\\internship\\\\COVID-19_CLASSIFICATION\\\\DATA\\\\Patient 8',\n",
       " 'C:\\\\Users\\\\anish_yagt7hg\\\\Desktop\\\\internship\\\\COVID-19_CLASSIFICATION\\\\DATA\\\\Patient 80',\n",
       " 'C:\\\\Users\\\\anish_yagt7hg\\\\Desktop\\\\internship\\\\COVID-19_CLASSIFICATION\\\\DATA\\\\Patient 81',\n",
       " 'C:\\\\Users\\\\anish_yagt7hg\\\\Desktop\\\\internship\\\\COVID-19_CLASSIFICATION\\\\DATA\\\\Patient 82',\n",
       " 'C:\\\\Users\\\\anish_yagt7hg\\\\Desktop\\\\internship\\\\COVID-19_CLASSIFICATION\\\\DATA\\\\Patient 83',\n",
       " 'C:\\\\Users\\\\anish_yagt7hg\\\\Desktop\\\\internship\\\\COVID-19_CLASSIFICATION\\\\DATA\\\\Patient 84',\n",
       " 'C:\\\\Users\\\\anish_yagt7hg\\\\Desktop\\\\internship\\\\COVID-19_CLASSIFICATION\\\\DATA\\\\Patient 85',\n",
       " 'C:\\\\Users\\\\anish_yagt7hg\\\\Desktop\\\\internship\\\\COVID-19_CLASSIFICATION\\\\DATA\\\\Patient 86',\n",
       " 'C:\\\\Users\\\\anish_yagt7hg\\\\Desktop\\\\internship\\\\COVID-19_CLASSIFICATION\\\\DATA\\\\Patient 87',\n",
       " 'C:\\\\Users\\\\anish_yagt7hg\\\\Desktop\\\\internship\\\\COVID-19_CLASSIFICATION\\\\DATA\\\\Patient 88',\n",
       " 'C:\\\\Users\\\\anish_yagt7hg\\\\Desktop\\\\internship\\\\COVID-19_CLASSIFICATION\\\\DATA\\\\Patient 89',\n",
       " 'C:\\\\Users\\\\anish_yagt7hg\\\\Desktop\\\\internship\\\\COVID-19_CLASSIFICATION\\\\DATA\\\\Patient 9',\n",
       " 'C:\\\\Users\\\\anish_yagt7hg\\\\Desktop\\\\internship\\\\COVID-19_CLASSIFICATION\\\\DATA\\\\Patient 90',\n",
       " 'C:\\\\Users\\\\anish_yagt7hg\\\\Desktop\\\\internship\\\\COVID-19_CLASSIFICATION\\\\DATA\\\\Patient 91',\n",
       " 'C:\\\\Users\\\\anish_yagt7hg\\\\Desktop\\\\internship\\\\COVID-19_CLASSIFICATION\\\\DATA\\\\Patient 92',\n",
       " 'C:\\\\Users\\\\anish_yagt7hg\\\\Desktop\\\\internship\\\\COVID-19_CLASSIFICATION\\\\DATA\\\\Patient 93',\n",
       " 'C:\\\\Users\\\\anish_yagt7hg\\\\Desktop\\\\internship\\\\COVID-19_CLASSIFICATION\\\\DATA\\\\Patient 94',\n",
       " 'C:\\\\Users\\\\anish_yagt7hg\\\\Desktop\\\\internship\\\\COVID-19_CLASSIFICATION\\\\DATA\\\\Patient 95',\n",
       " 'C:\\\\Users\\\\anish_yagt7hg\\\\Desktop\\\\internship\\\\COVID-19_CLASSIFICATION\\\\DATA\\\\Patient 96',\n",
       " 'C:\\\\Users\\\\anish_yagt7hg\\\\Desktop\\\\internship\\\\COVID-19_CLASSIFICATION\\\\DATA\\\\Patient 97',\n",
       " 'C:\\\\Users\\\\anish_yagt7hg\\\\Desktop\\\\internship\\\\COVID-19_CLASSIFICATION\\\\DATA\\\\Patient 98',\n",
       " 'C:\\\\Users\\\\anish_yagt7hg\\\\Desktop\\\\internship\\\\COVID-19_CLASSIFICATION\\\\DATA\\\\Patient 99']"
      ]
     },
     "execution_count": 5,
     "metadata": {},
     "output_type": "execute_result"
    }
   ],
   "source": [
    "root_folders = [i for i in root_folders if  not i.split('\\\\')[-1] in [ 'DATA']]\n",
    "root_folders"
   ]
  },
  {
   "cell_type": "code",
   "execution_count": 6,
   "metadata": {},
   "outputs": [],
   "source": [
    "labels_and_folders=[(i,j) for i,j in zip(labels,root_folders)]"
   ]
  },
  {
   "cell_type": "code",
   "execution_count": 7,
   "metadata": {},
   "outputs": [
    {
     "data": {
      "text/plain": [
       "('non_covid_Patient_0',\n",
       " 'C:\\\\Users\\\\anish_yagt7hg\\\\Desktop\\\\internship\\\\COVID-19_CLASSIFICATION\\\\DATA\\\\non_covid_Patient_0')"
      ]
     },
     "execution_count": 7,
     "metadata": {},
     "output_type": "execute_result"
    }
   ],
   "source": [
    "labels_and_folders[0]"
   ]
  },
  {
   "cell_type": "code",
   "execution_count": 8,
   "metadata": {},
   "outputs": [],
   "source": [
    "def folders(label,path):\n",
    "    folder =[os.path.join(path+'\\\\'+ file) for file in os.listdir(path)]\n",
    "    return folder"
   ]
  },
  {
   "cell_type": "code",
   "execution_count": 49,
   "metadata": {},
   "outputs": [],
   "source": [
    "def READ_IMAGES(data):\n",
    "    \n",
    "    for img in range(len(data)):\n",
    "        data[img] = load_img(data[img],target_size=(224,224,3),color_mode='rgb')     # REDAING IMAGES IN RGB MODE and#    RESIZING IMAGE INTO (224 X 224 x3)\n",
    "        data[img] = img_to_array(data[img])\n",
    "        data[img] = data[img]/255                                 #   scaling the value between 0 and 1\n",
    "        data[img] = cv2.pow(data[img],0.6)                        # applying power transformation for enhancing images \n",
    "    return np.array(data)\n",
    "        "
   ]
  },
  {
   "cell_type": "code",
   "execution_count": 61,
   "metadata": {},
   "outputs": [],
   "source": [
    "def Label(label):\n",
    "        if label.startswith('non_covid_Patient'):\n",
    "            return 0\n",
    "        else:\n",
    "            return 1\n"
   ]
  },
  {
   "cell_type": "code",
   "execution_count": 63,
   "metadata": {},
   "outputs": [],
   "source": [
    "def process(label,path):\n",
    "    folder =folders(label,path)\n",
    "    img_list=READ_IMAGES(folder)\n",
    "    img_list=np.array(img_list)\n",
    "    img_features =np.mean(img_list,axis=0)\n",
    "    target_label = Label(label)\n",
    "    return img_features,target_label "
   ]
  },
  {
   "cell_type": "code",
   "execution_count": 64,
   "metadata": {},
   "outputs": [],
   "source": [
    "data=[]\n",
    "for i,j in labels_and_folders:\n",
    "        data.append(process(i,j))"
   ]
  },
  {
   "cell_type": "code",
   "execution_count": 69,
   "metadata": {},
   "outputs": [
    {
     "data": {
      "text/plain": [
       "(224, 224, 3)"
      ]
     },
     "execution_count": 69,
     "metadata": {},
     "output_type": "execute_result"
    }
   ],
   "source": [
    "data[-1][0].shape"
   ]
  },
  {
   "cell_type": "code",
   "execution_count": 70,
   "metadata": {},
   "outputs": [
    {
     "data": {
      "text/plain": [
       "304"
      ]
     },
     "execution_count": 70,
     "metadata": {},
     "output_type": "execute_result"
    }
   ],
   "source": [
    "len(data)"
   ]
  },
  {
   "cell_type": "code",
   "execution_count": 71,
   "metadata": {},
   "outputs": [],
   "source": [
    "target_label_squeezenet_mean =[j for i,j in data]\n",
    "target_label_squeezenet_mean=to_categorical(target_label_squeezenet_mean)\n",
    "features_mean_squeeze_net=[i for i,j in data]\n"
   ]
  },
  {
   "cell_type": "code",
   "execution_count": 72,
   "metadata": {},
   "outputs": [
    {
     "name": "stdout",
     "output_type": "stream",
     "text": [
      "304 304\n"
     ]
    }
   ],
   "source": [
    "print(len(target_label_squeezenet_mean),len(features_mean_squeeze_net))"
   ]
  },
  {
   "cell_type": "code",
   "execution_count": 75,
   "metadata": {},
   "outputs": [
    {
     "name": "stdout",
     "output_type": "stream",
     "text": [
      "THE NO.of Images in Training Data are : 243 \n",
      "THE NO.of Images in VALIDATION Data are : 61 \n"
     ]
    }
   ],
   "source": [
    "squeezenet_mean_X_train,squeezenet_mean_X_test,squeezenet_mean_Y_train,squeezenet_mean_Y_test = train_test_split(\n",
    "    features_mean_squeeze_net,target_label_squeezenet_mean,test_size=0.2,random_state=141890)\n",
    "\n",
    "print(\"THE NO.of Images in Training Data are : {} \".format(len(squeezenet_mean_X_train)))\n",
    "print(\"THE NO.of Images in VALIDATION Data are : {} \".format(len(squeezenet_mean_X_test)))\n"
   ]
  },
  {
   "cell_type": "code",
   "execution_count": 76,
   "metadata": {},
   "outputs": [
    {
     "data": {
      "text/plain": [
       "(224, 224, 3)"
      ]
     },
     "execution_count": 76,
     "metadata": {},
     "output_type": "execute_result"
    }
   ],
   "source": [
    "squeezenet_mean_X_train[0].shape\n"
   ]
  },
  {
   "cell_type": "code",
   "execution_count": 90,
   "metadata": {},
   "outputs": [
    {
     "data": {
      "text/plain": [
       "array([0., 1.], dtype=float32)"
      ]
     },
     "execution_count": 90,
     "metadata": {},
     "output_type": "execute_result"
    }
   ],
   "source": [
    "squeezenet_mean_Y_train[0]"
   ]
  },
  {
   "cell_type": "code",
   "execution_count": 77,
   "metadata": {},
   "outputs": [],
   "source": [
    "squeezenet_mean_X_train =np.array(squeezenet_mean_X_train)\n",
    "squeezenet_mean_X_test =np.array(squeezenet_mean_X_test)"
   ]
  },
  {
   "cell_type": "code",
   "execution_count": 78,
   "metadata": {},
   "outputs": [],
   "source": [
    "def squeezenet(input_shape, n_classes):\n",
    "    def fire(x, fs, fe):\n",
    "        s = Conv2D(fs, 1, activation='relu')(x)\n",
    "        e1 = Conv2D(fe, 1, activation='relu')(s)\n",
    "        e3 = Conv2D(fe, 3, padding='same', activation='relu')(s)\n",
    "        output = Concatenate()([e1, e3])\n",
    "        return output\n",
    "    input = Input(input_shape)\n",
    "\n",
    "    x = Conv2D(96, 7, strides=2, padding='same', activation='relu')(input)\n",
    "    x = MaxPool2D(3, strides=2, padding='same')(x)\n",
    "\n",
    "    x = fire(x, 16, 64)\n",
    "    x = fire(x, 16, 64)\n",
    "    x = fire(x, 32, 128)\n",
    "    x = MaxPool2D(3, strides=2, padding='same')(x)\n",
    "\n",
    "    x = fire(x, 32, 128)\n",
    "    x = fire(x, 48, 192)\n",
    "    x = fire(x, 48, 192)\n",
    "    x = fire(x, 64, 256)\n",
    "    x = MaxPool2D(3, strides=2, padding='same')(x)\n",
    "\n",
    "    x = fire(x, 64, 256)\n",
    "    x = Conv2D(n_classes, 1)(x)\n",
    "    x = GlobalAvgPool2D()(x)\n",
    "\n",
    "    output = Activation('sigmoid')(x)\n",
    "\n",
    "    model = Model(input, output)\n",
    "    return model"
   ]
  },
  {
   "cell_type": "code",
   "execution_count": 79,
   "metadata": {},
   "outputs": [
    {
     "name": "stdout",
     "output_type": "stream",
     "text": [
      "WARNING:tensorflow:From C:\\Users\\anish_yagt7hg\\Anaconda3\\lib\\site-packages\\tensorflow\\python\\framework\\op_def_library.py:263: colocate_with (from tensorflow.python.framework.ops) is deprecated and will be removed in a future version.\n",
      "Instructions for updating:\n",
      "Colocations handled automatically by placer.\n"
     ]
    }
   ],
   "source": [
    "model = squeezenet((224,224,3),2)"
   ]
  },
  {
   "cell_type": "code",
   "execution_count": 82,
   "metadata": {
    "scrolled": true
   },
   "outputs": [
    {
     "name": "stdout",
     "output_type": "stream",
     "text": [
      "Train on 243 samples, validate on 61 samples\n",
      "Epoch 1/100\n",
      "243/243 [==============================] - 50s 207ms/step - loss: 0.8829 - acc: 0.7119 - val_loss: 0.6469 - val_acc: 0.6557\n",
      "Epoch 2/100\n",
      "243/243 [==============================] - 51s 212ms/step - loss: 0.6625 - acc: 0.7119 - val_loss: 0.6524 - val_acc: 0.6557\n",
      "Epoch 3/100\n",
      "243/243 [==============================] - 49s 201ms/step - loss: 0.8192 - acc: 0.7119 - val_loss: 0.6457 - val_acc: 0.6557\n",
      "Epoch 4/100\n",
      "243/243 [==============================] - 47s 195ms/step - loss: 0.6144 - acc: 0.7119 - val_loss: 0.6445 - val_acc: 0.6557\n",
      "Epoch 5/100\n",
      "243/243 [==============================] - 46s 188ms/step - loss: 0.5989 - acc: 0.7119 - val_loss: 0.6715 - val_acc: 0.6557\n",
      "Epoch 6/100\n",
      "243/243 [==============================] - 48s 196ms/step - loss: 0.6085 - acc: 0.7119 - val_loss: 0.6501 - val_acc: 0.6557\n",
      "Epoch 7/100\n",
      "243/243 [==============================] - 45s 186ms/step - loss: 0.6022 - acc: 0.7119 - val_loss: 0.6555 - val_acc: 0.6557\n",
      "Epoch 8/100\n",
      "243/243 [==============================] - 44s 181ms/step - loss: 0.6004 - acc: 0.7119 - val_loss: 0.6511 - val_acc: 0.6557\n",
      "Epoch 9/100\n",
      "243/243 [==============================] - 44s 180ms/step - loss: 0.6012 - acc: 0.7119 - val_loss: 0.6483 - val_acc: 0.6557\n",
      "\n",
      "Epoch 00009: ReduceLROnPlateau reducing learning rate to 0.0009999999776482583.\n",
      "Epoch 10/100\n",
      "243/243 [==============================] - 45s 186ms/step - loss: 0.6010 - acc: 0.7119 - val_loss: 0.6479 - val_acc: 0.6557\n",
      "Epoch 11/100\n",
      "243/243 [==============================] - 47s 192ms/step - loss: 0.6009 - acc: 0.7119 - val_loss: 0.6480 - val_acc: 0.6557\n",
      "Epoch 12/100\n",
      "243/243 [==============================] - 44s 183ms/step - loss: 0.6011 - acc: 0.7119 - val_loss: 0.6489 - val_acc: 0.6557\n",
      "Epoch 13/100\n",
      "243/243 [==============================] - 43s 179ms/step - loss: 0.6007 - acc: 0.7119 - val_loss: 0.6491 - val_acc: 0.6557\n",
      "Epoch 14/100\n",
      "243/243 [==============================] - 45s 185ms/step - loss: 0.6006 - acc: 0.7119 - val_loss: 0.6497 - val_acc: 0.6557\n",
      "\n",
      "Epoch 00014: ReduceLROnPlateau reducing learning rate to 9.999999310821295e-05.\n",
      "Epoch 00014: early stopping\n"
     ]
    }
   ],
   "source": [
    "#OPtimizers\n",
    "adam = keras.optimizers.Adam(lr=0.01, decay=0.0005)\n",
    "\n",
    "## Callbacks\n",
    "earlystopper = EarlyStopping(monitor='val_loss', patience=10, verbose=1)\n",
    "reduce_lr = ReduceLROnPlateau(patience=5, verbose=1)\n",
    "\n",
    "## Compiling the model and defining loss function\n",
    "model.compile(optimizer=adam, loss='binary_crossentropy', metrics=['accuracy'])\n",
    "\n",
    "## Training neural nets\n",
    "history=model.fit(squeezenet_mean_X_train,squeezenet_mean_Y_train,validation_data=(squeezenet_mean_X_test,squeezenet_mean_Y_test),\n",
    "                                              epochs=100, batch_size=32,\n",
    "                                              callbacks=[reduce_lr, earlystopper])"
   ]
  },
  {
   "cell_type": "code",
   "execution_count": 83,
   "metadata": {},
   "outputs": [
    {
     "data": {
      "image/png": "[encoded data removed]",
      "text/plain": [
       "<Figure size 864x288 with 2 Axes>"
      ]
     },
     "metadata": {
      "needs_background": "light"
     },
     "output_type": "display_data"
    }
   ],
   "source": [
    "f, (ax1, ax2) = plt.subplots(1, 2, figsize=(12, 4))\n",
    "t = f.suptitle('SQUEEZENET MODEL WITH MEAN OF FETURES', fontsize=12)\n",
    "f.subplots_adjust(top=0.85, wspace=0.3)\n",
    "\n",
    "epoch_list = list(range(1,15))\n",
    "ax1.plot(epoch_list, history.history['acc'], label='Train Accuracy')\n",
    "ax1.plot(epoch_list,history.history['val_acc'], label='Validation Accuracy')\n",
    "ax1.set_xticks(np.arange(0, 15, 5))\n",
    "ax1.set_ylabel('Accuracy Value')\n",
    "ax1.set_xlabel('Epoch')\n",
    "ax1.set_title('Accuracy')\n",
    "l1 = ax1.legend(loc=\"best\")\n",
    "\n",
    "ax2.plot(epoch_list, history.history['loss'], label='Train Loss')\n",
    "ax2.plot(epoch_list, history.history['val_loss'], label='Validation Loss')\n",
    "ax2.set_xticks(np.arange(0, 15, 5))\n",
    "ax2.set_ylabel('Loss Value')\n",
    "ax2.set_xlabel('Epoch')\n",
    "ax2.set_title('Loss')\n",
    "l2 = ax2.legend(loc=\"best\")"
   ]
  },
  {
   "cell_type": "code",
   "execution_count": 94,
   "metadata": {},
   "outputs": [],
   "source": [
    "squeezenet_mean_pred_train =np.argmax(model.predict(squeezenet_mean_X_train),axis=1)\n",
    "squeezenet_mean_pred_test =np.argmax(model.predict(squeezenet_mean_X_test),axis=1)\n"
   ]
  },
  {
   "cell_type": "code",
   "execution_count": 95,
   "metadata": {},
   "outputs": [],
   "source": [
    "squeezenet_labels_mean_train = np.argmax(squeezenet_mean_Y_train,axis=1)\n",
    "squeezenet_labels_mean_test = np.argmax(squeezenet_mean_Y_test,axis=1)\n"
   ]
  },
  {
   "cell_type": "code",
   "execution_count": 96,
   "metadata": {},
   "outputs": [
    {
     "name": "stdout",
     "output_type": "stream",
     "text": [
      "ACCURACY SCORE OF SQUEEZENET with MEAN OF FEATURES ON TRAINING SET IS :0.7119341563786008\n",
      "ACCURACY SCORE OF SQUEEZENET with MEAN OF FEATURES ON TEST SET IS :0.6557377049180327\n"
     ]
    }
   ],
   "source": [
    "print(\"ACCURACY SCORE OF SQUEEZENET with MEAN OF FEATURES ON TRAINING SET IS :{}\".\n",
    "      format(accuracy_score(squeezenet_labels_mean_train,squeezenet_mean_pred_train)))\n",
    "      \n",
    "      \n",
    "print(\"ACCURACY SCORE OF SQUEEZENET with MEAN OF FEATURES ON TEST SET IS :{}\".\n",
    "      format(accuracy_score(squeezenet_labels_mean_test,squeezenet_mean_pred_test)))\n",
    "      \n",
    "      \n",
    "            "
   ]
  },
  {
   "cell_type": "markdown",
   "metadata": {},
   "source": [
    "#### SAVING WEIGHTS AND MODEL"
   ]
  },
  {
   "cell_type": "code",
   "execution_count": 97,
   "metadata": {},
   "outputs": [
    {
     "name": "stdout",
     "output_type": "stream",
     "text": [
      "Saved model to disk\n"
     ]
    }
   ],
   "source": [
    "# serialize model to JSON\n",
    "model_json = model.to_json()\n",
    "with open(\"squeezenet_model_mean.json\", \"w\") as json_file:\n",
    "    json_file.write(model_json)\n",
    "# serialize weights to HDF5\n",
    "model.save_weights(\"squeezenet_model_mean.h5\")\n",
    "print(\"Saved model to disk\")\n"
   ]
  },
  {
   "cell_type": "markdown",
   "metadata": {},
   "source": [
    "#### EXPERIMENTS WITH MEDIAN OF FEATURES"
   ]
  },
  {
   "cell_type": "code",
   "execution_count": 98,
   "metadata": {},
   "outputs": [],
   "source": [
    "def process1(label,path):\n",
    "    folder =folders(label,path)\n",
    "    img_list=READ_IMAGES(folder)\n",
    "    img_list=np.array(img_list)\n",
    "    img_features =np.median(img_list,axis=0)\n",
    "    target_label = Label(label)\n",
    "    return img_features,target_label "
   ]
  },
  {
   "cell_type": "code",
   "execution_count": 99,
   "metadata": {},
   "outputs": [],
   "source": [
    "data1=[]\n",
    "for i,j in labels_and_folders:\n",
    "        data1.append(process1(i,j))"
   ]
  },
  {
   "cell_type": "code",
   "execution_count": 100,
   "metadata": {},
   "outputs": [],
   "source": [
    "target_label_squeezenet_median =[j for i,j in data1]\n",
    "target_label_squeezenet_median=to_categorical(target_label_squeezenet_median)\n",
    "features_median_squeeze_net=[i for i,j in data1]\n"
   ]
  },
  {
   "cell_type": "code",
   "execution_count": 102,
   "metadata": {},
   "outputs": [
    {
     "name": "stdout",
     "output_type": "stream",
     "text": [
      "304 304\n"
     ]
    }
   ],
   "source": [
    "print(len(target_label_squeezenet_median),len(features_median_squeeze_net))"
   ]
  },
  {
   "cell_type": "code",
   "execution_count": 103,
   "metadata": {},
   "outputs": [
    {
     "name": "stdout",
     "output_type": "stream",
     "text": [
      "THE NO.of Images in Training Data are : 243 \n",
      "THE NO.of Images in VALIDATION Data are : 61 \n"
     ]
    }
   ],
   "source": [
    "squeezenet_median_X_train,squeezenet_median_X_test,squeezenet_median_Y_train,squeezenet_median_Y_test = train_test_split(\n",
    "    features_median_squeeze_net,target_label_squeezenet_median,test_size=0.2,random_state=141899)\n",
    "\n",
    "print(\"THE NO.of Images in Training Data are : {} \".format(len(squeezenet_median_X_train)))\n",
    "print(\"THE NO.of Images in VALIDATION Data are : {} \".format(len(squeezenet_median_X_test)))\n"
   ]
  },
  {
   "cell_type": "code",
   "execution_count": 106,
   "metadata": {},
   "outputs": [],
   "source": [
    "squeezenet_median_X_train =np.array(squeezenet_median_X_train)\n",
    "squeezenet_median_X_test =np.array(squeezenet_median_X_test)"
   ]
  },
  {
   "cell_type": "code",
   "execution_count": 107,
   "metadata": {},
   "outputs": [],
   "source": [
    "model1= squeezenet((224,224,3),2)"
   ]
  },
  {
   "cell_type": "code",
   "execution_count": 108,
   "metadata": {},
   "outputs": [
    {
     "name": "stdout",
     "output_type": "stream",
     "text": [
      "Train on 243 samples, validate on 61 samples\n",
      "Epoch 1/100\n",
      "243/243 [==============================] - 47s 195ms/step - loss: 0.6922 - acc: 0.6749 - val_loss: 0.6897 - val_acc: 0.7213\n",
      "Epoch 2/100\n",
      "243/243 [==============================] - 46s 188ms/step - loss: 0.6867 - acc: 0.6955 - val_loss: 0.6730 - val_acc: 0.7213\n",
      "Epoch 3/100\n",
      "243/243 [==============================] - 45s 187ms/step - loss: 0.6506 - acc: 0.6955 - val_loss: 0.5952 - val_acc: 0.7213\n",
      "Epoch 4/100\n",
      "243/243 [==============================] - 45s 186ms/step - loss: 0.6133 - acc: 0.6955 - val_loss: 0.5789 - val_acc: 0.7213\n",
      "Epoch 5/100\n",
      "243/243 [==============================] - 45s 183ms/step - loss: 0.6134 - acc: 0.6955 - val_loss: 0.5918 - val_acc: 0.7213\n",
      "Epoch 6/100\n",
      "243/243 [==============================] - 43s 178ms/step - loss: 0.6125 - acc: 0.6955 - val_loss: 0.5853 - val_acc: 0.7213\n",
      "Epoch 7/100\n",
      "243/243 [==============================] - 43s 177ms/step - loss: 0.6124 - acc: 0.6955 - val_loss: 0.5755 - val_acc: 0.7213\n",
      "Epoch 8/100\n",
      "243/243 [==============================] - 43s 177ms/step - loss: 0.6098 - acc: 0.6955 - val_loss: 0.5811 - val_acc: 0.7213\n",
      "Epoch 9/100\n",
      "243/243 [==============================] - 43s 177ms/step - loss: 0.6094 - acc: 0.6955 - val_loss: 0.5787 - val_acc: 0.7213\n",
      "Epoch 10/100\n",
      "243/243 [==============================] - 43s 178ms/step - loss: 0.6096 - acc: 0.6955 - val_loss: 0.5771 - val_acc: 0.7213\n",
      "Epoch 11/100\n",
      "243/243 [==============================] - 46s 190ms/step - loss: 0.6097 - acc: 0.6955 - val_loss: 0.5808 - val_acc: 0.7213\n",
      "Epoch 12/100\n",
      "243/243 [==============================] - 51s 211ms/step - loss: 0.6078 - acc: 0.6955 - val_loss: 0.5769 - val_acc: 0.7213\n",
      "\n",
      "Epoch 00012: ReduceLROnPlateau reducing learning rate to 9.999999747378752e-06.\n",
      "Epoch 13/100\n",
      "243/243 [==============================] - 45s 186ms/step - loss: 0.6079 - acc: 0.6955 - val_loss: 0.5764 - val_acc: 0.7213\n",
      "Epoch 14/100\n",
      "243/243 [==============================] - 43s 179ms/step - loss: 0.6077 - acc: 0.6955 - val_loss: 0.5765 - val_acc: 0.7213\n",
      "Epoch 15/100\n",
      "243/243 [==============================] - 47s 193ms/step - loss: 0.6076 - acc: 0.6955 - val_loss: 0.5769 - val_acc: 0.7213\n",
      "Epoch 16/100\n",
      "243/243 [==============================] - 51s 210ms/step - loss: 0.6075 - acc: 0.6955 - val_loss: 0.5774 - val_acc: 0.7213\n",
      "Epoch 17/100\n",
      "243/243 [==============================] - 57s 234ms/step - loss: 0.6076 - acc: 0.6955 - val_loss: 0.5779 - val_acc: 0.7213\n",
      "\n",
      "Epoch 00017: ReduceLROnPlateau reducing learning rate to 9.999999747378752e-07.\n",
      "Epoch 00017: early stopping\n"
     ]
    }
   ],
   "source": [
    "#OPtimizers\n",
    "adam = keras.optimizers.Adam(lr=0.0001, decay=0.00005)\n",
    "\n",
    "## Callbacks\n",
    "earlystopper = EarlyStopping(monitor='val_loss', patience=10, verbose=1)\n",
    "reduce_lr = ReduceLROnPlateau(patience=5, verbose=1)\n",
    "\n",
    "## Compiling the model and defining loss function\n",
    "model1.compile(optimizer=adam, loss='binary_crossentropy', metrics=['accuracy'])\n",
    "\n",
    "## Training neural nets\n",
    "history1=model1.fit(squeezenet_median_X_train,squeezenet_median_Y_train,validation_data=(squeezenet_median_X_test,squeezenet_median_Y_test),\n",
    "                                              epochs=100, batch_size=32,\n",
    "                                              callbacks=[reduce_lr, earlystopper])"
   ]
  },
  {
   "cell_type": "code",
   "execution_count": 109,
   "metadata": {},
   "outputs": [
    {
     "data": {
      "image/png": "[encoded data removed]",
      "text/plain": [
       "<Figure size 864x288 with 2 Axes>"
      ]
     },
     "metadata": {
      "needs_background": "light"
     },
     "output_type": "display_data"
    }
   ],
   "source": [
    "f, (ax1, ax2) = plt.subplots(1, 2, figsize=(12, 4))\n",
    "t = f.suptitle('SQUEEZENET MODEL WITH MEDIAN OF FETURES', fontsize=12)\n",
    "f.subplots_adjust(top=0.85, wspace=0.3)\n",
    "\n",
    "epoch_list = list(range(1,18))\n",
    "ax1.plot(epoch_list, history1.history['acc'], label='Train Accuracy')\n",
    "ax1.plot(epoch_list,history1.history['val_acc'], label='Validation Accuracy')\n",
    "ax1.set_xticks(np.arange(0, 18, 5))\n",
    "ax1.set_ylabel('Accuracy Value')\n",
    "ax1.set_xlabel('Epoch')\n",
    "ax1.set_title('Accuracy')\n",
    "l1 = ax1.legend(loc=\"best\")\n",
    "\n",
    "ax2.plot(epoch_list, history1.history['loss'], label='Train Loss')\n",
    "ax2.plot(epoch_list, history1.history['val_loss'], label='Validation Loss')\n",
    "ax2.set_xticks(np.arange(0, 18, 5))\n",
    "ax2.set_ylabel('Loss Value')\n",
    "ax2.set_xlabel('Epoch')\n",
    "ax2.set_title('Loss')\n",
    "l2 = ax2.legend(loc=\"best\")"
   ]
  },
  {
   "cell_type": "code",
   "execution_count": 110,
   "metadata": {},
   "outputs": [],
   "source": [
    "squeezenet_median_pred_train =np.argmax(model1.predict(squeezenet_median_X_train),axis=1)\n",
    "squeezenet_median_pred_test =np.argmax(model1.predict(squeezenet_median_X_test),axis=1)\n"
   ]
  },
  {
   "cell_type": "code",
   "execution_count": 111,
   "metadata": {},
   "outputs": [],
   "source": [
    "squeezenet_labels_median_train = np.argmax(squeezenet_median_Y_train,axis=1)\n",
    "squeezenet_labels_median_test = np.argmax(squeezenet_median_Y_test,axis=1)\n"
   ]
  },
  {
   "cell_type": "code",
   "execution_count": 112,
   "metadata": {},
   "outputs": [
    {
     "name": "stdout",
     "output_type": "stream",
     "text": [
      "ACCURACY SCORE OF SQUEEZENET with MEDIAN OF FEATURES ON TRAINING SET IS :0.6954732510288066\n",
      "ACCURACY SCORE OF SQUEEZENET with MEDIAN OF FEATURES ON TEST SET IS :0.7213114754098361\n"
     ]
    }
   ],
   "source": [
    "print(\"ACCURACY SCORE OF SQUEEZENET with MEDIAN OF FEATURES ON TRAINING SET IS :{}\".\n",
    "      format(accuracy_score(squeezenet_labels_median_train,squeezenet_median_pred_train)))\n",
    "      \n",
    "      \n",
    "print(\"ACCURACY SCORE OF SQUEEZENET with MEDIAN OF FEATURES ON TEST SET IS :{}\".\n",
    "      format(accuracy_score(squeezenet_labels_median_test,squeezenet_median_pred_test)))\n",
    "      \n",
    "      \n",
    "            "
   ]
  },
  {
   "cell_type": "code",
   "execution_count": 113,
   "metadata": {},
   "outputs": [
    {
     "name": "stdout",
     "output_type": "stream",
     "text": [
      "Saved model to disk\n"
     ]
    }
   ],
   "source": [
    "# serialize model to JSON\n",
    "model_json = model1.to_json()\n",
    "with open(\"squeezenet_model_median.json\", \"w\") as json_file:\n",
    "    json_file.write(model_json)\n",
    "# serialize weights to HDF5\n",
    "model1.save_weights(\"squeezenet_model_median.h5\")\n",
    "print(\"Saved model to disk\")\n"
   ]
  }
 ],
 "metadata": {
  "kernelspec": {
   "display_name": "Python 3",
   "language": "python",
   "name": "python3"
  },
  "language_info": {
   "codemirror_mode": {
    "name": "ipython",
    "version": 3
   },
   "file_extension": ".py",
   "mimetype": "text/x-python",
   "name": "python",
   "nbconvert_exporter": "python",
   "pygments_lexer": "ipython3",
   "version": "3.7.1"
  }
 },
 "nbformat": 4,
 "nbformat_minor": 2
}
