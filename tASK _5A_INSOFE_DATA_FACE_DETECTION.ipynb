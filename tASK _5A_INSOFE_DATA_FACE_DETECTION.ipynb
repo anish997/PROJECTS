{
  "nbformat": 4,
  "nbformat_minor": 0,
  "metadata": {
    "colab": {
      "name": "INSOFE_DATA_FACE_DETECTION.ipynb",
      "provenance": [],
      "collapsed_sections": [],
      "toc_visible": true
    },
    "kernelspec": {
      "name": "python3",
      "display_name": "Python 3"
    },
    "accelerator": "GPU"
  },
  "cells": [
    {
      "cell_type": "code",
      "metadata": {
        "id": "voxpf6g13MpI",
        "colab_type": "code",
        "colab": {}
      },
      "source": [
        "import os     # os module for file operations\n",
        "from zipfile import ZipFile     # extracting zipfile content\n",
        "from sklearn.model_selection import train_test_split   # splitting data into training and validation\n",
        "from sklearn.preprocessing import LabelEncoder    # converting  categories into integer numbers\n",
        "import numpy as np                           # For array  operations\n",
        "import cv2                                  # image preprocessing\n",
        "import matplotlib.pyplot as plt               # plotting curves\n",
        "import warnings                              # for ignoring warnings\n",
        "warnings.filterwarnings('ignore')\n",
        "import random                                 #sampling the data\n",
        "import math                                   #  mathematical operations\n",
        "from sklearn import metrics                   # for measuring perfomances\n",
        "from keras.utils import to_categorical        # converting categories into sparse arrays\n",
        "#DEFINING MODEL PARAMETERS\n",
        "from keras.layers import Conv2D, MaxPooling2D, Flatten, Dense, Dropout,GlobalAveragePooling2D\n",
        "from keras.models import Sequential\n",
        "from keras import optimizers   # FOR FASTER TRAIINING\n",
        "from keras.preprocessing.image import ImageDataGenerator  # DATA AUGMNETATION\n",
        "from keras.callbacks import EarlyStopping,LearningRateScheduler,ReduceLROnPlateau   # CALLBACKS\n",
        "from keras.layers import Dropout,BatchNormalization      # REGULARIZATION LAYERS\n",
        "from keras.optimizers import SGD,Adam   #OPTIMIZERS\n",
        "from keras.applications.inception_v3 import InceptionV3    # TRANSFER LEARNING MODEL\n",
        "from keras import Model\n",
        "import shutil           # FOR COPYING FILES \n",
        "import pandas as pd     # FOR CREATING DATAFRAMES"
      ],
      "execution_count": null,
      "outputs": []
    },
    {
      "cell_type": "code",
      "metadata": {
        "id": "TX0SVG1TA-Oc",
        "colab_type": "code",
        "colab": {
          "base_uri": "https://localhost:8080/",
          "height": 121
        },
        "outputId": "7558ff02-4306-4a58-9b3f-873a09f71f8a"
      },
      "source": [
        "from google.colab import drive\n",
        "drive.mount('/content/drive')"
      ],
      "execution_count": null,
      "outputs": [
        {
          "output_type": "stream",
          "text": [
            "Go to this URL in a browser: https://accounts.google.com/o/oauth2/auth?client_id=947318989803-6bn6qk8qdgf4n4g3pfee6491hc0brc4i.apps.googleusercontent.com&redirect_uri=urn%3aietf%3awg%3aoauth%3a2.0%3aoob&response_type=code&scope=email%20https%3a%2f%2fwww.googleapis.com%2fauth%2fdocs.test%20https%3a%2f%2fwww.googleapis.com%2fauth%2fdrive%20https%3a%2f%2fwww.googleapis.com%2fauth%2fdrive.photos.readonly%20https%3a%2f%2fwww.googleapis.com%2fauth%2fpeopleapi.readonly\n",
            "\n",
            "Enter your authorization code:\n",
            "··········\n",
            "Mounted at /content/drive\n"
          ],
          "name": "stdout"
        }
      ]
    },
    {
      "cell_type": "code",
      "metadata": {
        "id": "dZRmcro-57Xg",
        "colab_type": "code",
        "colab": {
          "base_uri": "https://localhost:8080/",
          "height": 34
        },
        "outputId": "f02c6ec3-997e-489a-c40b-f1802f468d92"
      },
      "source": [
        "path =os.getcwd()   #  getting current directory\n",
        "os.chdir('/content/drive/My Drive/DATA')   # changing directory\n",
        "path =os.getcwd()\n",
        "print(path)\n"
      ],
      "execution_count": null,
      "outputs": [
        {
          "output_type": "stream",
          "text": [
            "/content/drive/My Drive/DATA\n"
          ],
          "name": "stdout"
        }
      ]
    },
    {
      "cell_type": "markdown",
      "metadata": {
        "id": "KSOYmCWd7Czt",
        "colab_type": "text"
      },
      "source": [
        "TO GENERATE  FEATURES IMAGES ARE NEEDED TO BE AUGMENT BY USING IMAGE DATA GENERATOR AND SAVE IN THEIR RESPECTIVE FOLDERS"
      ]
    },
    {
      "cell_type": "code",
      "metadata": {
        "id": "YFuImD5BwQDI",
        "colab_type": "code",
        "colab": {
          "base_uri": "https://localhost:8080/",
          "height": 35
        },
        "outputId": "217069d3-b92b-4ce5-d966-5d1ce132300a"
      },
      "source": [
        "path"
      ],
      "execution_count": null,
      "outputs": [
        {
          "output_type": "execute_result",
          "data": {
            "application/vnd.google.colaboratory.intrinsic": {
              "type": "string"
            },
            "text/plain": [
              "'/content/drive/My Drive/DATA'"
            ]
          },
          "metadata": {
            "tags": []
          },
          "execution_count": 36
        }
      ]
    },
    {
      "cell_type": "markdown",
      "metadata": {
        "id": "RRpofWdobhkE",
        "colab_type": "text"
      },
      "source": [
        "GENERATING IMAGES FOR IMAGE AUGMENTATION"
      ]
    },
    {
      "cell_type": "code",
      "metadata": {
        "id": "jpFP6xbP7AVT",
        "colab_type": "code",
        "colab": {}
      },
      "source": [
        "def image_generation(folder,label):\n",
        "    img_dir =os.listdir(folder)\n",
        "    img=os.path.join(path,label,random.choice(img_dir))\n",
        "    img=load_img(img)\n",
        "    x=img_to_array(img)\n",
        "    x=x.reshape((1,)+x.shape)\n",
        "    \n",
        "    \n",
        "    datagen = ImageDataGenerator(rescale=1./255, zoom_range=0.3, rotation_range=50,\n",
        "                                   width_shift_range=0.2, height_shift_range=0.2, shear_range=0.2, \n",
        "                                   horizontal_flip=True, fill_mode='nearest')\n",
        "\n",
        "    i=0\n",
        "    for batch in datagen.flow(x,batch_size=1,save_to_dir=os.path.join(path,label),save_prefix=label,save_format='jpeg'):\n",
        "        i+=1\n",
        "        if i>=30:\n",
        "            break"
      ],
      "execution_count": null,
      "outputs": []
    },
    {
      "cell_type": "code",
      "metadata": {
        "id": "3wIWBYx0-QrP",
        "colab_type": "code",
        "colab": {}
      },
      "source": [
        "folders=os.listdir(path)        # image folders in the current directory\n"
      ],
      "execution_count": null,
      "outputs": []
    },
    {
      "cell_type": "code",
      "metadata": {
        "id": "QH2J0X224cDj",
        "colab_type": "code",
        "colab": {
          "base_uri": "https://localhost:8080/",
          "height": 1000
        },
        "outputId": "71987a34-0082-4d1a-d76f-f7893d3c51d9"
      },
      "source": [
        "folders"
      ],
      "execution_count": null,
      "outputs": [
        {
          "output_type": "execute_result",
          "data": {
            "text/plain": [
              "['will',\n",
              " 'wjsaic',\n",
              " 'vstros',\n",
              " 'wylsow',\n",
              " 'wardcy',\n",
              " 'wjhugh',\n",
              " 'vpsavo',\n",
              " 'yfhsie',\n",
              " 'wjalbe',\n",
              " 'whussa',\n",
              " 'tjpret',\n",
              " 'thgear',\n",
              " 'virvi',\n",
              " 'tjdyke',\n",
              " 'tony',\n",
              " 'tthurs',\n",
              " 'vanta',\n",
              " 'voudcx',\n",
              " 'todris',\n",
              " 'tom',\n",
              " 'stu',\n",
              " 'spyount',\n",
              " 'tchand',\n",
              " 'swsmit',\n",
              " 'theod',\n",
              " 'svkriz',\n",
              " 'swewin',\n",
              " 'theoc',\n",
              " 'swren',\n",
              " 'ste',\n",
              " 'skumar',\n",
              " 'spacl',\n",
              " 'smredh',\n",
              " 'smalga',\n",
              " 'smrobb',\n",
              " 'smille',\n",
              " 'spletc',\n",
              " 'smfarrf',\n",
              " 'snhopp',\n",
              " 'slbirc',\n",
              " 'sidick',\n",
              " 'sjkill',\n",
              " 'sjpalm',\n",
              " 'shpill',\n",
              " 'simm',\n",
              " 'sjbeck',\n",
              " 'sirmcb',\n",
              " 'sherbe',\n",
              " 'sjcutt',\n",
              " 'shamilc',\n",
              " 'sar',\n",
              " 'saedwa',\n",
              " 'sdwall',\n",
              " 'sbains',\n",
              " 'sgjday',\n",
              " 'sapere',\n",
              " 'sdaly',\n",
              " 'sandm',\n",
              " 'saduah',\n",
              " 'rwsick',\n",
              " 'robin',\n",
              " 'rnpwil',\n",
              " 'rshaw',\n",
              " 'rposbo',\n",
              " 'rlocke',\n",
              " 'rsanti',\n",
              " 'rscoop',\n",
              " 'rrowle',\n",
              " 'rmcoll',\n",
              " 'rmpugh',\n",
              " 'rhosan',\n",
              " 'rjlabr',\n",
              " 'rjobyr',\n",
              " 'rjwils',\n",
              " 'rhaitk',\n",
              " 'riphil',\n",
              " 'rgspru',\n",
              " 'rgharr',\n",
              " 'rhnorm',\n",
              " 'rjdunc',\n",
              " 'rbrown',\n",
              " 'ptnich',\n",
              " 'pvaris',\n",
              " 'pspliu',\n",
              " 'pwest',\n",
              " 'rafox',\n",
              " 'rchadh',\n",
              " 'reaton',\n",
              " 'rarobi',\n",
              " 'pshurr',\n",
              " 'phughe',\n",
              " 'pguan',\n",
              " 'pmives',\n",
              " 'pjrand',\n",
              " 'pjmcar',\n",
              " 'pmbtin',\n",
              " 'pjburr',\n",
              " 'pmspry',\n",
              " 'pmathi',\n",
              " 'pgray',\n",
              " 'pgolds',\n",
              " 'pchyta',\n",
              " 'pajaco',\n",
              " 'pears',\n",
              " 'pacole',\n",
              " 'pcfry',\n",
              " 'padnor',\n",
              " 'papad',\n",
              " 'pgfost',\n",
              " 'pat',\n",
              " 'nmakri',\n",
              " 'oegill',\n",
              " 'ohpark',\n",
              " 'nrclar',\n",
              " 'obeidn',\n",
              " 'nwilli',\n",
              " 'nrrbar',\n",
              " 'ogefen',\n",
              " 'npbour',\n",
              " 'npmitc',\n",
              " 'njmoor',\n",
              " 'namart',\n",
              " 'ndbank',\n",
              " 'nhrams',\n",
              " 'nandri',\n",
              " 'nhotoo',\n",
              " 'nahaig',\n",
              " 'ndhagu',\n",
              " 'namull',\n",
              " 'nhahme',\n",
              " 'mwilco',\n",
              " 'mpdavie',\n",
              " 'mystery',\n",
              " 'mpetti',\n",
              " 'moshep',\n",
              " 'moors',\n",
              " 'mroper',\n",
              " 'mwillc',\n",
              " 'mrhami',\n",
              " 'muthay',\n",
              " 'mkotza',\n",
              " 'mkosto',\n",
              " 'mhoore',\n",
              " 'mhwill',\n",
              " 'michael',\n",
              " 'mkvwon',\n",
              " 'mjhans',\n",
              " 'mizli',\n",
              " 'mike',\n",
              " 'miaduc',\n",
              " 'mdchud',\n",
              " 'mefait',\n",
              " 'mberdo',\n",
              " 'mdpove',\n",
              " 'mclarkd',\n",
              " 'martin',\n",
              " 'memiah',\n",
              " 'mdcowl',\n",
              " 'mbutle',\n",
              " 'matth',\n",
              " 'lejnno',\n",
              " 'lfso',\n",
              " 'maasht',\n",
              " 'lyond',\n",
              " 'llambr',\n",
              " 'lib',\n",
              " 'llevet',\n",
              " 'lidov',\n",
              " 'macci',\n",
              " 'mamago',\n",
              " 'ldgodd',\n",
              " 'kphans',\n",
              " 'kouri',\n",
              " 'klclar',\n",
              " 'kjwith',\n",
              " 'kmbald',\n",
              " 'ksunth',\n",
              " 'lcelli',\n",
              " 'labenm',\n",
              " 'ldebna',\n",
              " 'kelbied',\n",
              " 'kaknig',\n",
              " 'kbartl',\n",
              " 'kaatki',\n",
              " 'khughe',\n",
              " 'jshea',\n",
              " 'kdjone',\n",
              " 'kdaska',\n",
              " 'jwdpag',\n",
              " 'khchan',\n",
              " 'jrtobi',\n",
              " 'jlrums',\n",
              " 'jlemon',\n",
              " 'jphoor',\n",
              " 'jserai',\n",
              " 'john',\n",
              " 'jmedin',\n",
              " 'jonesd',\n",
              " 'jjohns',\n",
              " 'jross',\n",
              " 'jer',\n",
              " 'jgelln',\n",
              " 'jcarte',\n",
              " 'jepott',\n",
              " 'jjkeho',\n",
              " 'jjdacl',\n",
              " 'jedphi',\n",
              " 'jcgrij',\n",
              " 'jdbenm',\n",
              " 'jgloma',\n",
              " 'ireloz',\n",
              " 'irdrew',\n",
              " 'jabins',\n",
              " 'jbgood',\n",
              " 'ihopki',\n",
              " 'ischou',\n",
              " 'isbald',\n",
              " 'ijfran',\n",
              " 'jagrif',\n",
              " 'jbierl',\n",
              " 'hcarpe',\n",
              " 'idsizm',\n",
              " 'ieorf',\n",
              " 'hensm',\n",
              " 'icolli',\n",
              " 'hwyman',\n",
              " 'hsgrim',\n",
              " 'hmgula',\n",
              " 'howar',\n",
              " 'ian',\n",
              " 'gstamo',\n",
              " 'gpreec',\n",
              " 'gsvird',\n",
              " 'hartb',\n",
              " 'gmwate',\n",
              " 'gpsmit',\n",
              " 'gsreas',\n",
              " 'gpapaz',\n",
              " 'gsmall',\n",
              " 'gmidgl',\n",
              " 'glen',\n",
              " 'gjbods',\n",
              " 'gllong',\n",
              " 'ggeorg',\n",
              " 'gjhero',\n",
              " 'gghazv',\n",
              " 'ggrego',\n",
              " 'gjnorm',\n",
              " 'gfilip',\n",
              " 'gmagul',\n",
              " 'gdhatc',\n",
              " 'gdsamp',\n",
              " 'drbost',\n",
              " 'ekavaz',\n",
              " 'gcprie',\n",
              " 'fmquaz',\n",
              " 'filip',\n",
              " 'elalio',\n",
              " 'elduns',\n",
              " 'fordj',\n",
              " 'dnoguy',\n",
              " 'djmart',\n",
              " 'djpben',\n",
              " 'dkourkf',\n",
              " 'djtye',\n",
              " 'dmcdow',\n",
              " 'doraj',\n",
              " 'dmwest',\n",
              " 'djotto',\n",
              " 'dlwise',\n",
              " 'dfhodd',\n",
              " 'dfarre',\n",
              " 'dgemen',\n",
              " 'dhaydo',\n",
              " 'dioann',\n",
              " 'djhugh',\n",
              " 'dcbowe',\n",
              " 'den',\n",
              " 'djbirc',\n",
              " 'djevan',\n",
              " 'dav',\n",
              " 'cwang',\n",
              " 'cwchoi',\n",
              " 'dakram',\n",
              " 'darda',\n",
              " 'cywan',\n",
              " 'damvo',\n",
              " 'darodr',\n",
              " 'dah',\n",
              " 'dagran',\n",
              " 'csjscu',\n",
              " 'cowie',\n",
              " 'cjhewi',\n",
              " 'cjsake',\n",
              " 'cladam',\n",
              " 'csanch',\n",
              " 'cshubb',\n",
              " 'cprice',\n",
              " 'cpatki',\n",
              " 'cmkirk',\n",
              " 'cfloro',\n",
              " 'cgboyc',\n",
              " 'chr',\n",
              " 'cjcarr',\n",
              " 'cjdenn',\n",
              " 'cdlarg',\n",
              " 'cjbowe',\n",
              " 'ccjame',\n",
              " 'cferdo',\n",
              " 'cchris',\n",
              " 'cadugd',\n",
              " 'bplyce',\n",
              " 'carund',\n",
              " 'awjsud',\n",
              " 'bschap',\n",
              " 'boylee',\n",
              " 'azavro',\n",
              " 'bmphil',\n",
              " 'atfpou',\n",
              " 'bcbesta',\n",
              " 'apdavi',\n",
              " 'ardper',\n",
              " 'asewil',\n",
              " 'astefa',\n",
              " 'arwebb',\n",
              " 'ant',\n",
              " 'apapou',\n",
              " 'asamma',\n",
              " 'asheal',\n",
              " 'aolcer',\n",
              " 'ambarw',\n",
              " 'and',\n",
              " 'alebes',\n",
              " 'amtalb',\n",
              " 'amflem',\n",
              " 'akopci',\n",
              " 'anpage',\n",
              " 'anonym1',\n",
              " 'anonym2',\n",
              " 'anonym',\n",
              " 'ajbake',\n",
              " 'admars',\n",
              " 'ahodki',\n",
              " 'ajones',\n",
              " 'ajflem',\n",
              " 'agaffa',\n",
              " 'akatsi',\n",
              " 'adhast',\n",
              " 'adpoun',\n",
              " 'ajsega',\n",
              " '9540822',\n",
              " '9602283',\n",
              " '9630643',\n",
              " '9540768',\n",
              " '9540792',\n",
              " 'acatsa',\n",
              " '9540849',\n",
              " '9540784',\n",
              " '9556273',\n",
              " '9540814',\n",
              " '9540652',\n",
              " '9540687',\n",
              " '9540741',\n",
              " '9540717',\n",
              " '9540636',\n",
              " '9540733',\n",
              " '9540644',\n",
              " '9540709',\n",
              " '9540725',\n",
              " '9540695',\n",
              " '9338543',\n",
              " '9540547',\n",
              " '9540512',\n",
              " '9540563',\n",
              " '9414649',\n",
              " '9540628',\n",
              " '9540601',\n",
              " '9540474',\n",
              " '9416994',\n",
              " '9540504',\n",
              " '9338497',\n",
              " '9336923',\n",
              " '9332898',\n",
              " '9338535',\n",
              " '9338519',\n",
              " '9338462',\n",
              " '9338489',\n",
              " '9338446',\n",
              " '9338527',\n",
              " '9338454',\n",
              " '9326871']"
            ]
          },
          "metadata": {
            "tags": []
          },
          "execution_count": 5
        }
      ]
    },
    {
      "cell_type": "code",
      "metadata": {
        "id": "-RoBuLAZ-5IW",
        "colab_type": "code",
        "colab": {}
      },
      "source": [
        "random.seed(47)\n",
        "HUNDRED_CLASSES = random.sample(set(folders),k=100)      # SAMPLING 100 DIFFERENT PERSONS / FOLDERS"
      ],
      "execution_count": null,
      "outputs": []
    },
    {
      "cell_type": "code",
      "metadata": {
        "id": "ft6_j9xt_AVn",
        "colab_type": "code",
        "colab": {
          "base_uri": "https://localhost:8080/",
          "height": 34
        },
        "outputId": "ea3e2b7a-592e-4c0c-dde0-c9e80b9aff2a"
      },
      "source": [
        "len(set(HUNDRED_CLASSES))"
      ],
      "execution_count": null,
      "outputs": [
        {
          "output_type": "execute_result",
          "data": {
            "text/plain": [
              "100"
            ]
          },
          "metadata": {
            "tags": []
          },
          "execution_count": 7
        }
      ]
    },
    {
      "cell_type": "code",
      "metadata": {
        "id": "2xFEjCkJ_o4T",
        "colab_type": "code",
        "colab": {}
      },
      "source": [
        "HUNDRED_CLASSES=[os.path.join(path,i) for i in HUNDRED_CLASSES]"
      ],
      "execution_count": null,
      "outputs": []
    },
    {
      "cell_type": "markdown",
      "metadata": {
        "id": "eYm9TlH9btyd",
        "colab_type": "text"
      },
      "source": [
        "CREATING TEST DATA"
      ]
    },
    {
      "cell_type": "code",
      "metadata": {
        "id": "3C-E2NG_fnuv",
        "colab_type": "code",
        "colab": {}
      },
      "source": [
        "def test_data(folders):\n",
        "    data=[]\n",
        "    for i in folders:\n",
        "        img = random.choice(os.listdir(i))\n",
        "        data.append(os.path.join(path,i.split('\\\\')[-1],img))\n",
        "    return data\n",
        "        "
      ],
      "execution_count": null,
      "outputs": []
    },
    {
      "cell_type": "code",
      "metadata": {
        "id": "wpfKQu6y96rn",
        "colab_type": "code",
        "colab": {
          "base_uri": "https://localhost:8080/",
          "height": 1000
        },
        "outputId": "ecbd7c84-80c1-48ab-ea0a-377893433772"
      },
      "source": [
        "HUNDRED_CLASSES               #  LIST OF FOLDERS OF HUNDRED CLASSES CLASSIFIER"
      ],
      "execution_count": null,
      "outputs": [
        {
          "output_type": "execute_result",
          "data": {
            "text/plain": [
              "['/content/drive/My Drive/DATA/mhoore',\n",
              " '/content/drive/My Drive/DATA/khughe',\n",
              " '/content/drive/My Drive/DATA/rshaw',\n",
              " '/content/drive/My Drive/DATA/hcarpe',\n",
              " '/content/drive/My Drive/DATA/pcfry',\n",
              " '/content/drive/My Drive/DATA/smrobb',\n",
              " '/content/drive/My Drive/DATA/dmwest',\n",
              " '/content/drive/My Drive/DATA/cprice',\n",
              " '/content/drive/My Drive/DATA/ajflem',\n",
              " '/content/drive/My Drive/DATA/djmart',\n",
              " '/content/drive/My Drive/DATA/cdlarg',\n",
              " '/content/drive/My Drive/DATA/fordj',\n",
              " '/content/drive/My Drive/DATA/9540814',\n",
              " '/content/drive/My Drive/DATA/9414649',\n",
              " '/content/drive/My Drive/DATA/swsmit',\n",
              " '/content/drive/My Drive/DATA/pmspry',\n",
              " '/content/drive/My Drive/DATA/sjpalm',\n",
              " '/content/drive/My Drive/DATA/jserai',\n",
              " '/content/drive/My Drive/DATA/pguan',\n",
              " '/content/drive/My Drive/DATA/kouri',\n",
              " '/content/drive/My Drive/DATA/hmgula',\n",
              " '/content/drive/My Drive/DATA/kelbied',\n",
              " '/content/drive/My Drive/DATA/jmedin',\n",
              " '/content/drive/My Drive/DATA/svkriz',\n",
              " '/content/drive/My Drive/DATA/mpdavie',\n",
              " '/content/drive/My Drive/DATA/jcarte',\n",
              " '/content/drive/My Drive/DATA/9540547',\n",
              " '/content/drive/My Drive/DATA/damvo',\n",
              " '/content/drive/My Drive/DATA/9540784',\n",
              " '/content/drive/My Drive/DATA/9338454',\n",
              " '/content/drive/My Drive/DATA/mhwill',\n",
              " '/content/drive/My Drive/DATA/ldebna',\n",
              " '/content/drive/My Drive/DATA/pwest',\n",
              " '/content/drive/My Drive/DATA/idsizm',\n",
              " '/content/drive/My Drive/DATA/ihopki',\n",
              " '/content/drive/My Drive/DATA/ggeorg',\n",
              " '/content/drive/My Drive/DATA/kmbald',\n",
              " '/content/drive/My Drive/DATA/den',\n",
              " '/content/drive/My Drive/DATA/dfarre',\n",
              " '/content/drive/My Drive/DATA/wardcy',\n",
              " '/content/drive/My Drive/DATA/pmathi',\n",
              " '/content/drive/My Drive/DATA/dmcdow',\n",
              " '/content/drive/My Drive/DATA/9540768',\n",
              " '/content/drive/My Drive/DATA/moshep',\n",
              " '/content/drive/My Drive/DATA/mike',\n",
              " '/content/drive/My Drive/DATA/ahodki',\n",
              " '/content/drive/My Drive/DATA/pears',\n",
              " '/content/drive/My Drive/DATA/9540717',\n",
              " '/content/drive/My Drive/DATA/theoc',\n",
              " '/content/drive/My Drive/DATA/swewin',\n",
              " '/content/drive/My Drive/DATA/kaatki',\n",
              " '/content/drive/My Drive/DATA/9338543',\n",
              " '/content/drive/My Drive/DATA/mkotza',\n",
              " '/content/drive/My Drive/DATA/anonym1',\n",
              " '/content/drive/My Drive/DATA/will',\n",
              " '/content/drive/My Drive/DATA/azavro',\n",
              " '/content/drive/My Drive/DATA/kphans',\n",
              " '/content/drive/My Drive/DATA/cmkirk',\n",
              " '/content/drive/My Drive/DATA/mamago',\n",
              " '/content/drive/My Drive/DATA/ajones',\n",
              " '/content/drive/My Drive/DATA/gcprie',\n",
              " '/content/drive/My Drive/DATA/gsreas',\n",
              " '/content/drive/My Drive/DATA/rjobyr',\n",
              " '/content/drive/My Drive/DATA/awjsud',\n",
              " '/content/drive/My Drive/DATA/muthay',\n",
              " '/content/drive/My Drive/DATA/wjsaic',\n",
              " '/content/drive/My Drive/DATA/gghazv',\n",
              " '/content/drive/My Drive/DATA/saedwa',\n",
              " '/content/drive/My Drive/DATA/rscoop',\n",
              " '/content/drive/My Drive/DATA/9630643',\n",
              " '/content/drive/My Drive/DATA/fmquaz',\n",
              " '/content/drive/My Drive/DATA/csanch',\n",
              " '/content/drive/My Drive/DATA/atfpou',\n",
              " '/content/drive/My Drive/DATA/cferdo',\n",
              " '/content/drive/My Drive/DATA/9338535',\n",
              " '/content/drive/My Drive/DATA/ccjame',\n",
              " '/content/drive/My Drive/DATA/boylee',\n",
              " '/content/drive/My Drive/DATA/rlocke',\n",
              " '/content/drive/My Drive/DATA/admars',\n",
              " '/content/drive/My Drive/DATA/rposbo',\n",
              " '/content/drive/My Drive/DATA/9540849',\n",
              " '/content/drive/My Drive/DATA/namart',\n",
              " '/content/drive/My Drive/DATA/jcgrij',\n",
              " '/content/drive/My Drive/DATA/jlrums',\n",
              " '/content/drive/My Drive/DATA/9540822',\n",
              " '/content/drive/My Drive/DATA/martin',\n",
              " '/content/drive/My Drive/DATA/9338527',\n",
              " '/content/drive/My Drive/DATA/rnpwil',\n",
              " '/content/drive/My Drive/DATA/pchyta',\n",
              " '/content/drive/My Drive/DATA/ggrego',\n",
              " '/content/drive/My Drive/DATA/darodr',\n",
              " '/content/drive/My Drive/DATA/pajaco',\n",
              " '/content/drive/My Drive/DATA/virvi',\n",
              " '/content/drive/My Drive/DATA/ldgodd',\n",
              " '/content/drive/My Drive/DATA/ekavaz',\n",
              " '/content/drive/My Drive/DATA/bschap',\n",
              " '/content/drive/My Drive/DATA/pgray',\n",
              " '/content/drive/My Drive/DATA/cowie',\n",
              " '/content/drive/My Drive/DATA/cpatki',\n",
              " '/content/drive/My Drive/DATA/anonym']"
            ]
          },
          "metadata": {
            "tags": []
          },
          "execution_count": 10
        }
      ]
    },
    {
      "cell_type": "code",
      "metadata": {
        "id": "pOSo8sGKfL3r",
        "colab_type": "code",
        "colab": {
          "base_uri": "https://localhost:8080/",
          "height": 34
        },
        "outputId": "96628263-a420-47e4-9a9a-f19819edc61a"
      },
      "source": [
        "TEST_DATA =test_data(HUNDRED_CLASSES)\n",
        "\n",
        "len(set(TEST_DATA))"
      ],
      "execution_count": null,
      "outputs": [
        {
          "output_type": "execute_result",
          "data": {
            "text/plain": [
              "100"
            ]
          },
          "metadata": {
            "tags": []
          },
          "execution_count": 11
        }
      ]
    },
    {
      "cell_type": "markdown",
      "metadata": {
        "id": "7jDKfxLzb-r-",
        "colab_type": "text"
      },
      "source": [
        "READING DATA FROM FOLDERS"
      ]
    },
    {
      "cell_type": "code",
      "metadata": {
        "id": "dOoQjWI8_8yS",
        "colab_type": "code",
        "colab": {}
      },
      "source": [
        "def READ_DATA(folders):\n",
        "  data=[]\n",
        "  for i in folders:\n",
        "    data.append([os.path.join(path,i.split('/')[-1],file) for file in os.listdir(i)])\n",
        "  flattened_list = []\n",
        "  for x in data:\n",
        "    for y in x:\n",
        "        flattened_list.append(y)\n",
        "  return flattened_list"
      ],
      "execution_count": null,
      "outputs": []
    },
    {
      "cell_type": "code",
      "metadata": {
        "id": "bLZhJtZXBvNh",
        "colab_type": "code",
        "colab": {}
      },
      "source": [
        "DATA = READ_DATA(HUNDRED_CLASSES)       # READING DATA FROM HUNDRED CLASSES"
      ],
      "execution_count": null,
      "outputs": []
    },
    {
      "cell_type": "code",
      "metadata": {
        "id": "krm1Vvaf6DFw",
        "colab_type": "code",
        "colab": {}
      },
      "source": [
        "DATA =list(set(DATA)-set(TEST_DATA))   # REMOVING EXTRA POINTS FROM TEST DATA"
      ],
      "execution_count": null,
      "outputs": []
    },
    {
      "cell_type": "code",
      "metadata": {
        "id": "_cr5H6iefsWc",
        "colab_type": "code",
        "colab": {
          "base_uri": "https://localhost:8080/",
          "height": 34
        },
        "outputId": "eb228578-4eff-4fae-c687-261b57e6199e"
      },
      "source": [
        "len(DATA)"
      ],
      "execution_count": null,
      "outputs": [
        {
          "output_type": "execute_result",
          "data": {
            "text/plain": [
              "1850"
            ]
          },
          "metadata": {
            "tags": []
          },
          "execution_count": 15
        }
      ]
    },
    {
      "cell_type": "markdown",
      "metadata": {
        "id": "Qx-cIQts6_vv",
        "colab_type": "text"
      },
      "source": [
        "CHECKING WETHER ANY ZERO BYTE IMAGES ARE PRESENT"
      ]
    },
    {
      "cell_type": "code",
      "metadata": {
        "id": "7lb1GPxQ7Bjf",
        "colab_type": "code",
        "colab": {}
      },
      "source": [
        "remove_duplicates=[]\n",
        "for file in DATA:\n",
        "    if os.path.getsize(file)==0:\n",
        "         remove_duplicates.append(file)"
      ],
      "execution_count": null,
      "outputs": []
    },
    {
      "cell_type": "code",
      "metadata": {
        "id": "CThsxtIL8fMF",
        "colab_type": "code",
        "colab": {
          "base_uri": "https://localhost:8080/",
          "height": 34
        },
        "outputId": "091fd761-ef4f-4be2-8184-7c496d558012"
      },
      "source": [
        "remove_duplicates"
      ],
      "execution_count": null,
      "outputs": [
        {
          "output_type": "execute_result",
          "data": {
            "text/plain": [
              "[]"
            ]
          },
          "metadata": {
            "tags": []
          },
          "execution_count": 17
        }
      ]
    },
    {
      "cell_type": "markdown",
      "metadata": {
        "id": "LsGxwgnvEyJr",
        "colab_type": "text"
      },
      "source": [
        "CHECKING WETHER IF ANY IMAGE FORMATS ARE THERE OTHER THAN THE JPG OR NOT"
      ]
    },
    {
      "cell_type": "code",
      "metadata": {
        "id": "CAWuHBc_g10M",
        "colab_type": "code",
        "colab": {}
      },
      "source": [
        "err=[]\n",
        "da=[]\n",
        "for i in DATA:\n",
        "  if i.endswith('jpg') or i.endswith(\"jpeg\"):\n",
        "    da.append(i)\n",
        "  else:\n",
        "    err.append(i)\n"
      ],
      "execution_count": null,
      "outputs": []
    },
    {
      "cell_type": "code",
      "metadata": {
        "id": "s_z9ryTOhI7T",
        "colab_type": "code",
        "colab": {
          "base_uri": "https://localhost:8080/",
          "height": 34
        },
        "outputId": "a027b4a4-d05c-4eb5-c0fb-f5d901d9940d"
      },
      "source": [
        "err"
      ],
      "execution_count": null,
      "outputs": [
        {
          "output_type": "execute_result",
          "data": {
            "text/plain": [
              "[]"
            ]
          },
          "metadata": {
            "tags": []
          },
          "execution_count": 19
        }
      ]
    },
    {
      "cell_type": "code",
      "metadata": {
        "id": "vrkLrG5MHIaI",
        "colab_type": "code",
        "colab": {
          "base_uri": "https://localhost:8080/",
          "height": 34
        },
        "outputId": "c27f4836-487d-459d-ed67-27bd85ccaedc"
      },
      "source": [
        "LABELS =[i.split('/')[-2] for i in DATA]                          # DEFINING CLASSES FOR THE TRAINING DATA\n",
        "TEST_LABELS = [i.split('/')[-2] for i in TEST_DATA]               # DEFINING  CLASSES FOR TEST DATA\n",
        "print(len(set(LABELS)),len(set(TEST_LABELS)))"
      ],
      "execution_count": null,
      "outputs": [
        {
          "output_type": "stream",
          "text": [
            "100 100\n"
          ],
          "name": "stdout"
        }
      ]
    },
    {
      "cell_type": "code",
      "metadata": {
        "id": "T8cyqS7cHaU5",
        "colab_type": "code",
        "colab": {
          "base_uri": "https://localhost:8080/",
          "height": 34
        },
        "outputId": "09b0d477-eab1-4bbe-bfe6-ab30e5112bea"
      },
      "source": [
        "nb_classes=len(set(LABELS))\n",
        "nb_classes"
      ],
      "execution_count": null,
      "outputs": [
        {
          "output_type": "execute_result",
          "data": {
            "text/plain": [
              "100"
            ]
          },
          "metadata": {
            "tags": []
          },
          "execution_count": 21
        }
      ]
    },
    {
      "cell_type": "markdown",
      "metadata": {
        "id": "FY83-AAcFGAr",
        "colab_type": "text"
      },
      "source": [
        "LABEL ENCODING AND CONVERTING CLASSES INTO CATEGORIES"
      ]
    },
    {
      "cell_type": "code",
      "metadata": {
        "id": "YMc_A3EsIAJY",
        "colab_type": "code",
        "colab": {}
      },
      "source": [
        "le=LabelEncoder()\n",
        "le.fit(LABELS)\n",
        "train_labels =le.transform(LABELS)\n",
        "Y=to_categorical(train_labels,nb_classes)\n",
        "Y =np.array(Y)"
      ],
      "execution_count": null,
      "outputs": []
    },
    {
      "cell_type": "markdown",
      "metadata": {
        "id": "gLjbnNiZFMrI",
        "colab_type": "text"
      },
      "source": [
        "SPLITTING DATA INTO TRAIN AND TEST"
      ]
    },
    {
      "cell_type": "code",
      "metadata": {
        "id": "unZqhjCOIEbg",
        "colab_type": "code",
        "colab": {}
      },
      "source": [
        "X_train,X_test,Y_train,Y_test=train_test_split(DATA,Y,test_size=0.30,random_state =800)"
      ],
      "execution_count": null,
      "outputs": []
    },
    {
      "cell_type": "code",
      "metadata": {
        "id": "PrnPNUZiITW9",
        "colab_type": "code",
        "colab": {
          "base_uri": "https://localhost:8080/",
          "height": 50
        },
        "outputId": "c2d43b56-5470-4543-e854-378ef5692d42"
      },
      "source": [
        "print(len(X_train),len(Y_train))\n",
        "print(len(X_test),len(Y_test))"
      ],
      "execution_count": null,
      "outputs": [
        {
          "output_type": "stream",
          "text": [
            "1480 1480\n",
            "370 370\n"
          ],
          "name": "stdout"
        }
      ]
    },
    {
      "cell_type": "code",
      "metadata": {
        "id": "pwQTv9DGIfs8",
        "colab_type": "code",
        "colab": {}
      },
      "source": [
        "def READ_IMAGES(data):\n",
        "    dim=(180,180)\n",
        "    for img in range(len(data)):\n",
        "        data[img] = cv2.imread(data[img],cv2.IMREAD_COLOR)     # REDAING IMAGES IN RGB MODE\n",
        "        data[img] =cv2.resize(data[img],dim)                    # RESIZING IMAGE INTO (180 x 180)\n",
        "        data[img] = data[img]/255                                 #   scaling the value between 0 and 1\n",
        "        data[img] = cv2.pow(data[img],0.6)                        # applying power transformation for enhancing images \n",
        "    return np.array(data)\n",
        "        "
      ],
      "execution_count": null,
      "outputs": []
    },
    {
      "cell_type": "code",
      "metadata": {
        "id": "RYaMnOFYIznT",
        "colab_type": "code",
        "colab": {}
      },
      "source": [
        "X_train =READ_IMAGES(X_train)              # APPLYING CUSTOM FUNCTION FOR TRAINING DATA"
      ],
      "execution_count": null,
      "outputs": []
    },
    {
      "cell_type": "code",
      "metadata": {
        "id": "gRX0vTwuI3dX",
        "colab_type": "code",
        "colab": {}
      },
      "source": [
        "X_test = READ_IMAGES(X_test)               # APPLYING CUSTOM FUNCTION FOR VALIDATION DATA"
      ],
      "execution_count": null,
      "outputs": []
    },
    {
      "cell_type": "code",
      "metadata": {
        "id": "vtkGTW6eJLfZ",
        "colab_type": "code",
        "colab": {
          "base_uri": "https://localhost:8080/",
          "height": 34
        },
        "outputId": "d8895ede-940b-4d23-bc52-75a19630e485"
      },
      "source": [
        "X_train[0].shape"
      ],
      "execution_count": null,
      "outputs": [
        {
          "output_type": "execute_result",
          "data": {
            "text/plain": [
              "(180, 180, 3)"
            ]
          },
          "metadata": {
            "tags": []
          },
          "execution_count": 38
        }
      ]
    },
    {
      "cell_type": "code",
      "metadata": {
        "id": "hRNvf73eghpb",
        "colab_type": "code",
        "colab": {}
      },
      "source": [
        "TEST_DATA = READ_IMAGES(TEST_DATA)        # APPLYING CUSTOM FUNCTION FOR TEST DATA"
      ],
      "execution_count": null,
      "outputs": []
    },
    {
      "cell_type": "code",
      "metadata": {
        "id": "mgqFqVFGJPZR",
        "colab_type": "code",
        "colab": {}
      },
      "source": [
        "batch_size = 40                            #DEFINING HOW MANY IMAGES TO BE PROCESSED  ONCE\n",
        "classes = nb_classes                        # OUTPUT CLASSES\n",
        "epochs =25                                   # EPOCHS  FOR TRAINING IMAGES"
      ],
      "execution_count": null,
      "outputs": []
    },
    {
      "cell_type": "markdown",
      "metadata": {
        "id": "nD2YwSmfGZat",
        "colab_type": "text"
      },
      "source": [
        "CUSTOM FUNCTION FOR SCHEDULING THE LEARNING RATE"
      ]
    },
    {
      "cell_type": "code",
      "metadata": {
        "id": "q-dhw7qALDhp",
        "colab_type": "code",
        "colab": {}
      },
      "source": [
        "initial_lrate = 0.01\n",
        "\n",
        "def decay(epoch, steps=200):\n",
        "    initial_lrate = 0.01\n",
        "    drop = 0.96\n",
        "    epochs_drop = 8\n",
        "    lrate = initial_lrate * math.pow(drop, math.floor((1+epoch)/epochs_drop))\n",
        "    return lrate\n",
        "\n",
        "sgd = SGD(lr=initial_lrate, momentum=0.9, nesterov=False)\n",
        "\n",
        "lr_sc = LearningRateScheduler(decay, verbose=1)"
      ],
      "execution_count": null,
      "outputs": []
    },
    {
      "cell_type": "markdown",
      "metadata": {
        "id": "3csDMR80Gfu7",
        "colab_type": "text"
      },
      "source": [
        "CUSTOM FUNCTION FOR TESTING PERFOMANCE IN TEST DATA"
      ]
    },
    {
      "cell_type": "code",
      "metadata": {
        "id": "xWBSQ3FBPYfA",
        "colab_type": "code",
        "colab": {}
      },
      "source": [
        "def perfomance(true_labels,pred_labels):\n",
        "    score = metrics.accuracy_score(true_labels,pred_labels)\n",
        "    return score"
      ],
      "execution_count": null,
      "outputs": []
    },
    {
      "cell_type": "markdown",
      "metadata": {
        "id": "a_hltDV6GqKe",
        "colab_type": "text"
      },
      "source": [
        "CUSTOM FUNCTION FOR PREDICTIONS ON TEST DATA"
      ]
    },
    {
      "cell_type": "code",
      "metadata": {
        "id": "sD4mNyqTPZD3",
        "colab_type": "code",
        "colab": {}
      },
      "source": [
        "def TEST_PREDICTIONS(data,model):\n",
        "    img_pred = model.predict_classes(data)\n",
        "    img_pred = le.inverse_transform(img_pred)\n",
        "    return img_pred"
      ],
      "execution_count": null,
      "outputs": []
    },
    {
      "cell_type": "markdown",
      "metadata": {
        "id": "3oO0xcKvGwP7",
        "colab_type": "text"
      },
      "source": [
        "DEFINING CALLBACKS FOR TRAINING DATA"
      ]
    },
    {
      "cell_type": "code",
      "metadata": {
        "id": "jTgsy_s6i1x2",
        "colab_type": "code",
        "colab": {}
      },
      "source": [
        "es =EarlyStopping(monitor='val_accuracy',patience=5,mode='auto',verbose=1)"
      ],
      "execution_count": null,
      "outputs": []
    },
    {
      "cell_type": "markdown",
      "metadata": {
        "id": "8_SzO-waJTp2",
        "colab_type": "text"
      },
      "source": [
        "# VANILLA MODEL WITHOUT ANY DROPOUT AND NORMALIZATION"
      ]
    },
    {
      "cell_type": "code",
      "metadata": {
        "id": "XZBlJSPZJbjX",
        "colab_type": "code",
        "colab": {}
      },
      "source": [
        "model = Sequential()\n",
        "\n",
        "model.add(Conv2D(64, kernel_size=(3, 3), activation='relu', padding='same',\n",
        "                 input_shape=(180,180,3)))\n",
        "model.add(MaxPooling2D(pool_size=(2, 2)))\n",
        "\n",
        "model.add(Conv2D(128, kernel_size=(3, 3), activation='relu'))\n",
        "model.add(MaxPooling2D(pool_size=(2, 2)))\n",
        "\n",
        "\n",
        "model.add(Conv2D(256, kernel_size=(3, 3), activation='relu'))\n",
        "model.add(MaxPooling2D(pool_size=(2, 2)))\n",
        "\n",
        "model.add(Flatten())\n",
        "model.add(Dense(512, activation='relu'))\n",
        "model.add(Dense(512,activation='relu'))\n",
        "model.add(Dense(nb_classes, activation='softmax'))\n",
        "\n",
        "\n"
      ],
      "execution_count": null,
      "outputs": []
    },
    {
      "cell_type": "code",
      "metadata": {
        "id": "uhwo8BGCJt-V",
        "colab_type": "code",
        "colab": {
          "base_uri": "https://localhost:8080/",
          "height": 487
        },
        "outputId": "f6f1a9d0-c538-4f57-ec48-1de5bdbff064"
      },
      "source": [
        "model.compile(loss='categorical_crossentropy',\n",
        "              optimizer=sgd,\n",
        "          metrics=['accuracy'])\n",
        "\n",
        "model.summary()"
      ],
      "execution_count": null,
      "outputs": [
        {
          "output_type": "stream",
          "text": [
            "Model: \"sequential_2\"\n",
            "_________________________________________________________________\n",
            "Layer (type)                 Output Shape              Param #   \n",
            "=================================================================\n",
            "conv2d_4 (Conv2D)            (None, 180, 180, 64)      1792      \n",
            "_________________________________________________________________\n",
            "max_pooling2d_4 (MaxPooling2 (None, 90, 90, 64)        0         \n",
            "_________________________________________________________________\n",
            "conv2d_5 (Conv2D)            (None, 88, 88, 128)       73856     \n",
            "_________________________________________________________________\n",
            "max_pooling2d_5 (MaxPooling2 (None, 44, 44, 128)       0         \n",
            "_________________________________________________________________\n",
            "conv2d_6 (Conv2D)            (None, 42, 42, 256)       295168    \n",
            "_________________________________________________________________\n",
            "max_pooling2d_6 (MaxPooling2 (None, 21, 21, 256)       0         \n",
            "_________________________________________________________________\n",
            "flatten_2 (Flatten)          (None, 112896)            0         \n",
            "_________________________________________________________________\n",
            "dense_4 (Dense)              (None, 512)               57803264  \n",
            "_________________________________________________________________\n",
            "dense_5 (Dense)              (None, 512)               262656    \n",
            "_________________________________________________________________\n",
            "dense_6 (Dense)              (None, 100)               51300     \n",
            "=================================================================\n",
            "Total params: 58,488,036\n",
            "Trainable params: 58,488,036\n",
            "Non-trainable params: 0\n",
            "_________________________________________________________________\n"
          ],
          "name": "stdout"
        }
      ]
    },
    {
      "cell_type": "code",
      "metadata": {
        "id": "2jocK6m6Kcxj",
        "colab_type": "code",
        "colab": {
          "base_uri": "https://localhost:8080/",
          "height": 1000
        },
        "outputId": "8a57a77f-a93e-4285-ba27-982f694c8c51"
      },
      "source": [
        "history = model.fit(x=X_train, y=Y_train,\n",
        "                    validation_data=(X_test,Y_test),\n",
        "                    batch_size=batch_size,\n",
        "                    epochs=epochs,\n",
        "                  verbose=1,callbacks=[lr_sc,es])  "
      ],
      "execution_count": null,
      "outputs": [
        {
          "output_type": "stream",
          "text": [
            "Train on 1480 samples, validate on 370 samples\n",
            "Epoch 1/25\n",
            "\n",
            "Epoch 00001: LearningRateScheduler setting learning rate to 0.01.\n",
            "1480/1480 [==============================] - 13s 9ms/step - loss: 4.5895 - accuracy: 0.0277 - val_loss: 4.5368 - val_accuracy: 0.0405\n",
            "Epoch 2/25\n",
            "\n",
            "Epoch 00002: LearningRateScheduler setting learning rate to 0.01.\n",
            "1480/1480 [==============================] - 4s 3ms/step - loss: 3.9644 - accuracy: 0.1223 - val_loss: 2.9893 - val_accuracy: 0.2865\n",
            "Epoch 3/25\n",
            "\n",
            "Epoch 00003: LearningRateScheduler setting learning rate to 0.01.\n",
            "1480/1480 [==============================] - 4s 3ms/step - loss: 2.0224 - accuracy: 0.5493 - val_loss: 1.1670 - val_accuracy: 0.6541\n",
            "Epoch 4/25\n",
            "\n",
            "Epoch 00004: LearningRateScheduler setting learning rate to 0.01.\n",
            "1480/1480 [==============================] - 4s 3ms/step - loss: 0.7268 - accuracy: 0.8223 - val_loss: 0.6183 - val_accuracy: 0.8541\n",
            "Epoch 5/25\n",
            "\n",
            "Epoch 00005: LearningRateScheduler setting learning rate to 0.01.\n",
            "1480/1480 [==============================] - 4s 3ms/step - loss: 0.2307 - accuracy: 0.9297 - val_loss: 0.3500 - val_accuracy: 0.9189\n",
            "Epoch 6/25\n",
            "\n",
            "Epoch 00006: LearningRateScheduler setting learning rate to 0.01.\n",
            "1480/1480 [==============================] - 4s 3ms/step - loss: 0.1547 - accuracy: 0.9622 - val_loss: 0.2673 - val_accuracy: 0.9405\n",
            "Epoch 7/25\n",
            "\n",
            "Epoch 00007: LearningRateScheduler setting learning rate to 0.01.\n",
            "1480/1480 [==============================] - 4s 3ms/step - loss: 0.1280 - accuracy: 0.9622 - val_loss: 0.2580 - val_accuracy: 0.9378\n",
            "Epoch 8/25\n",
            "\n",
            "Epoch 00008: LearningRateScheduler setting learning rate to 0.0096.\n",
            "1480/1480 [==============================] - 4s 3ms/step - loss: 0.0568 - accuracy: 0.9899 - val_loss: 0.0898 - val_accuracy: 0.9730\n",
            "Epoch 9/25\n",
            "\n",
            "Epoch 00009: LearningRateScheduler setting learning rate to 0.0096.\n",
            "1480/1480 [==============================] - 4s 3ms/step - loss: 0.0160 - accuracy: 0.9966 - val_loss: 0.1002 - val_accuracy: 0.9784\n",
            "Epoch 10/25\n",
            "\n",
            "Epoch 00010: LearningRateScheduler setting learning rate to 0.0096.\n",
            "1480/1480 [==============================] - 4s 3ms/step - loss: 0.0172 - accuracy: 0.9959 - val_loss: 0.0905 - val_accuracy: 0.9676\n",
            "Epoch 11/25\n",
            "\n",
            "Epoch 00011: LearningRateScheduler setting learning rate to 0.0096.\n",
            "1480/1480 [==============================] - 4s 3ms/step - loss: 0.0075 - accuracy: 0.9986 - val_loss: 0.1164 - val_accuracy: 0.9703\n",
            "Epoch 12/25\n",
            "\n",
            "Epoch 00012: LearningRateScheduler setting learning rate to 0.0096.\n",
            "1480/1480 [==============================] - 4s 3ms/step - loss: 0.0058 - accuracy: 0.9980 - val_loss: 0.0873 - val_accuracy: 0.9811\n",
            "Epoch 13/25\n",
            "\n",
            "Epoch 00013: LearningRateScheduler setting learning rate to 0.0096.\n",
            "1480/1480 [==============================] - 4s 3ms/step - loss: 0.0024 - accuracy: 0.9993 - val_loss: 0.0994 - val_accuracy: 0.9811\n",
            "Epoch 14/25\n",
            "\n",
            "Epoch 00014: LearningRateScheduler setting learning rate to 0.0096.\n",
            "1480/1480 [==============================] - 4s 3ms/step - loss: 3.5295e-04 - accuracy: 1.0000 - val_loss: 0.0972 - val_accuracy: 0.9784\n",
            "Epoch 15/25\n",
            "\n",
            "Epoch 00015: LearningRateScheduler setting learning rate to 0.0096.\n",
            "1480/1480 [==============================] - 5s 3ms/step - loss: 2.2636e-04 - accuracy: 1.0000 - val_loss: 0.0980 - val_accuracy: 0.9784\n",
            "Epoch 16/25\n",
            "\n",
            "Epoch 00016: LearningRateScheduler setting learning rate to 0.009216.\n",
            "1480/1480 [==============================] - 5s 3ms/step - loss: 1.7751e-04 - accuracy: 1.0000 - val_loss: 0.0992 - val_accuracy: 0.9784\n",
            "Epoch 17/25\n",
            "\n",
            "Epoch 00017: LearningRateScheduler setting learning rate to 0.009216.\n",
            "1480/1480 [==============================] - 5s 3ms/step - loss: 1.5091e-04 - accuracy: 1.0000 - val_loss: 0.0998 - val_accuracy: 0.9784\n",
            "Epoch 00017: early stopping\n"
          ],
          "name": "stdout"
        }
      ]
    },
    {
      "cell_type": "code",
      "metadata": {
        "id": "B7Mie-xHKfVF",
        "colab_type": "code",
        "colab": {
          "base_uri": "https://localhost:8080/",
          "height": 308
        },
        "outputId": "9051c316-c712-4528-a14f-36be8c7d65cd"
      },
      "source": [
        "f, (ax1, ax2) = plt.subplots(1, 2, figsize=(12, 4))\n",
        "t = f.suptitle('BASIC CNN PERFOMANCE', fontsize=12)\n",
        "f.subplots_adjust(top=0.85, wspace=0.3)\n",
        "\n",
        "epoch_list = list(range(1,18))\n",
        "ax1.plot(epoch_list, history.history['accuracy'], label='Train Accuracy')\n",
        "ax1.plot(epoch_list, history.history['val_accuracy'], label='Validation Accuracy')\n",
        "ax1.set_xticks(np.arange(0, 18, 3))\n",
        "ax1.set_ylabel('Accuracy Value')\n",
        "ax1.set_xlabel('Epoch')\n",
        "ax1.set_title('Accuracy')\n",
        "l1 = ax1.legend(loc=\"best\")\n",
        "\n",
        "ax2.plot(epoch_list, history.history['loss'], label='Train Loss')\n",
        "ax2.plot(epoch_list, history.history['val_loss'], label='Validation Loss')\n",
        "ax2.set_xticks(np.arange(0, 18, 3))\n",
        "ax2.set_ylabel('Loss Value')\n",
        "ax2.set_xlabel('Epoch')\n",
        "ax2.set_title('Loss')\n",
        "l2 = ax2.legend(loc=\"best\")"
      ],
      "execution_count": null,
      "outputs": [
        {
          "output_type": "display_data",
          "data": {
            "image/png": "[encoded data removed]",
            "text/plain": [
              "<Figure size 864x288 with 2 Axes>"
            ]
          },
          "metadata": {
            "tags": [],
            "needs_background": "light"
          }
        }
      ]
    },
    {
      "cell_type": "code",
      "metadata": {
        "id": "WL9yEHMONhZe",
        "colab_type": "code",
        "colab": {}
      },
      "source": [
        "BASE_MODEL_PREDICTIONS = TEST_PREDICTIONS(TEST_DATA,model)\n"
      ],
      "execution_count": null,
      "outputs": []
    },
    {
      "cell_type": "code",
      "metadata": {
        "id": "M6J8QpPphYJe",
        "colab_type": "code",
        "colab": {
          "base_uri": "https://localhost:8080/",
          "height": 34
        },
        "outputId": "0f944169-decc-4523-d8d5-c9c76345a20e"
      },
      "source": [
        "print(\"THE VANILLA MODEL CNN PERFOMANCE IS :%d\",perfomance(TEST_LABELS,BASE_MODEL_PREDICTIONS))"
      ],
      "execution_count": null,
      "outputs": [
        {
          "output_type": "stream",
          "text": [
            "THE VANILLA MODEL CNN PERFOMANCE IS :%d 0.99\n"
          ],
          "name": "stdout"
        }
      ]
    },
    {
      "cell_type": "markdown",
      "metadata": {
        "id": "YK31QqZAiUBe",
        "colab_type": "text"
      },
      "source": [
        "#ADDING DROPOUT"
      ]
    },
    {
      "cell_type": "code",
      "metadata": {
        "id": "ri7m66bRiYhG",
        "colab_type": "code",
        "colab": {}
      },
      "source": [
        "model_1 = Sequential()\n",
        "\n",
        "model_1.add(Conv2D(64, kernel_size=(3, 3), activation='relu',padding='same',input_shape=(180,180,3)))\n",
        "model_1.add(Dropout(0.2))\n",
        "model_1.add(MaxPooling2D(pool_size=(2, 2)))\n",
        "\n",
        "model_1.add(Conv2D(128, kernel_size=(3, 3), activation='relu'))\n",
        "model_1.add(Dropout(0.2))\n",
        "model_1.add(MaxPooling2D(pool_size=(2, 2)))\n",
        "\n",
        "model_1.add(Conv2D(256, kernel_size=(3, 3), activation='relu'))\n",
        "model_1.add(Dropout(0.2))\n",
        "model_1.add(MaxPooling2D(pool_size=(2, 2)))\n",
        "\n",
        "model_1.add(Flatten())\n",
        "model_1.add(Dense(512, activation='relu'))\n",
        "model_1.add(Dropout(0.4))\n",
        "model_1.add(Dense(nb_classes, activation='softmax'))\n"
      ],
      "execution_count": null,
      "outputs": []
    },
    {
      "cell_type": "code",
      "metadata": {
        "id": "1wyCRKJ4iZWy",
        "colab_type": "code",
        "colab": {
          "base_uri": "https://localhost:8080/",
          "height": 588
        },
        "outputId": "002bd727-a46d-4590-bebe-8e888330715d"
      },
      "source": [
        "model_1.compile(loss='categorical_crossentropy',\n",
        "              optimizer=sgd,\n",
        "              metrics=['accuracy'])\n",
        "model_1.summary()"
      ],
      "execution_count": null,
      "outputs": [
        {
          "output_type": "stream",
          "text": [
            "Model: \"sequential_4\"\n",
            "_________________________________________________________________\n",
            "Layer (type)                 Output Shape              Param #   \n",
            "=================================================================\n",
            "conv2d_10 (Conv2D)           (None, 180, 180, 64)      1792      \n",
            "_________________________________________________________________\n",
            "dropout_5 (Dropout)          (None, 180, 180, 64)      0         \n",
            "_________________________________________________________________\n",
            "max_pooling2d_10 (MaxPooling (None, 90, 90, 64)        0         \n",
            "_________________________________________________________________\n",
            "conv2d_11 (Conv2D)           (None, 88, 88, 128)       73856     \n",
            "_________________________________________________________________\n",
            "dropout_6 (Dropout)          (None, 88, 88, 128)       0         \n",
            "_________________________________________________________________\n",
            "max_pooling2d_11 (MaxPooling (None, 44, 44, 128)       0         \n",
            "_________________________________________________________________\n",
            "conv2d_12 (Conv2D)           (None, 42, 42, 256)       295168    \n",
            "_________________________________________________________________\n",
            "dropout_7 (Dropout)          (None, 42, 42, 256)       0         \n",
            "_________________________________________________________________\n",
            "max_pooling2d_12 (MaxPooling (None, 21, 21, 256)       0         \n",
            "_________________________________________________________________\n",
            "flatten_4 (Flatten)          (None, 112896)            0         \n",
            "_________________________________________________________________\n",
            "dense_9 (Dense)              (None, 512)               57803264  \n",
            "_________________________________________________________________\n",
            "dropout_8 (Dropout)          (None, 512)               0         \n",
            "_________________________________________________________________\n",
            "dense_10 (Dense)             (None, 100)               51300     \n",
            "=================================================================\n",
            "Total params: 58,225,380\n",
            "Trainable params: 58,225,380\n",
            "Non-trainable params: 0\n",
            "_________________________________________________________________\n"
          ],
          "name": "stdout"
        }
      ]
    },
    {
      "cell_type": "code",
      "metadata": {
        "id": "p8MMNeOPifwk",
        "colab_type": "code",
        "colab": {
          "base_uri": "https://localhost:8080/",
          "height": 1000
        },
        "outputId": "0df7e8fc-d5ad-44bd-c0f1-a353bfb218be"
      },
      "source": [
        "history2= model_1.fit(x=X_train, y=Y_train,\n",
        "                    validation_data=(X_test,Y_test),\n",
        "                    batch_size=40,\n",
        "                    epochs=25,\n",
        "                  verbose=1,callbacks=[lr_sc,es])"
      ],
      "execution_count": null,
      "outputs": [
        {
          "output_type": "stream",
          "text": [
            "Train on 1480 samples, validate on 370 samples\n",
            "Epoch 1/25\n",
            "\n",
            "Epoch 00001: LearningRateScheduler setting learning rate to 0.01.\n",
            "1480/1480 [==============================] - 7s 5ms/step - loss: 4.5693 - accuracy: 0.0162 - val_loss: 4.4530 - val_accuracy: 0.0730\n",
            "Epoch 2/25\n",
            "\n",
            "Epoch 00002: LearningRateScheduler setting learning rate to 0.01.\n",
            "1480/1480 [==============================] - 7s 5ms/step - loss: 3.3036 - accuracy: 0.2385 - val_loss: 2.5119 - val_accuracy: 0.6432\n",
            "Epoch 3/25\n",
            "\n",
            "Epoch 00003: LearningRateScheduler setting learning rate to 0.01.\n",
            "1480/1480 [==============================] - 7s 5ms/step - loss: 1.3978 - accuracy: 0.6473 - val_loss: 1.3461 - val_accuracy: 0.7919\n",
            "Epoch 4/25\n",
            "\n",
            "Epoch 00004: LearningRateScheduler setting learning rate to 0.01.\n",
            "1480/1480 [==============================] - 7s 5ms/step - loss: 0.6649 - accuracy: 0.8243 - val_loss: 0.3671 - val_accuracy: 0.9405\n",
            "Epoch 5/25\n",
            "\n",
            "Epoch 00005: LearningRateScheduler setting learning rate to 0.01.\n",
            "1480/1480 [==============================] - 7s 5ms/step - loss: 0.4148 - accuracy: 0.8899 - val_loss: 0.6530 - val_accuracy: 0.9162\n",
            "Epoch 6/25\n",
            "\n",
            "Epoch 00006: LearningRateScheduler setting learning rate to 0.01.\n",
            "1480/1480 [==============================] - 7s 5ms/step - loss: 0.1860 - accuracy: 0.9493 - val_loss: 0.2689 - val_accuracy: 0.9649\n",
            "Epoch 7/25\n",
            "\n",
            "Epoch 00007: LearningRateScheduler setting learning rate to 0.01.\n",
            "1480/1480 [==============================] - 7s 5ms/step - loss: 0.0915 - accuracy: 0.9757 - val_loss: 0.2003 - val_accuracy: 0.9676\n",
            "Epoch 8/25\n",
            "\n",
            "Epoch 00008: LearningRateScheduler setting learning rate to 0.0096.\n",
            "1480/1480 [==============================] - 7s 5ms/step - loss: 0.0579 - accuracy: 0.9784 - val_loss: 0.1103 - val_accuracy: 0.9784\n",
            "Epoch 9/25\n",
            "\n",
            "Epoch 00009: LearningRateScheduler setting learning rate to 0.0096.\n",
            "1480/1480 [==============================] - 7s 5ms/step - loss: 0.0320 - accuracy: 0.9912 - val_loss: 0.1138 - val_accuracy: 0.9757\n",
            "Epoch 10/25\n",
            "\n",
            "Epoch 00010: LearningRateScheduler setting learning rate to 0.0096.\n",
            "1480/1480 [==============================] - 7s 5ms/step - loss: 0.0447 - accuracy: 0.9865 - val_loss: 0.1356 - val_accuracy: 0.9730\n",
            "Epoch 11/25\n",
            "\n",
            "Epoch 00011: LearningRateScheduler setting learning rate to 0.0096.\n",
            "1480/1480 [==============================] - 7s 5ms/step - loss: 0.0422 - accuracy: 0.9892 - val_loss: 0.0929 - val_accuracy: 0.9838\n",
            "Epoch 12/25\n",
            "\n",
            "Epoch 00012: LearningRateScheduler setting learning rate to 0.0096.\n",
            "1480/1480 [==============================] - 7s 5ms/step - loss: 0.0374 - accuracy: 0.9878 - val_loss: 0.1024 - val_accuracy: 0.9892\n",
            "Epoch 13/25\n",
            "\n",
            "Epoch 00013: LearningRateScheduler setting learning rate to 0.0096.\n",
            "1480/1480 [==============================] - 7s 5ms/step - loss: 0.0092 - accuracy: 0.9993 - val_loss: 0.0650 - val_accuracy: 0.9865\n",
            "Epoch 14/25\n",
            "\n",
            "Epoch 00014: LearningRateScheduler setting learning rate to 0.0096.\n",
            "1480/1480 [==============================] - 7s 5ms/step - loss: 0.0058 - accuracy: 0.9986 - val_loss: 0.0572 - val_accuracy: 0.9865\n",
            "Epoch 15/25\n",
            "\n",
            "Epoch 00015: LearningRateScheduler setting learning rate to 0.0096.\n",
            "1480/1480 [==============================] - 7s 5ms/step - loss: 0.0101 - accuracy: 0.9973 - val_loss: 0.0799 - val_accuracy: 0.9865\n",
            "Epoch 16/25\n",
            "\n",
            "Epoch 00016: LearningRateScheduler setting learning rate to 0.009216.\n",
            "1480/1480 [==============================] - 7s 5ms/step - loss: 0.0080 - accuracy: 0.9980 - val_loss: 0.0511 - val_accuracy: 0.9892\n",
            "Epoch 17/25\n",
            "\n",
            "Epoch 00017: LearningRateScheduler setting learning rate to 0.009216.\n",
            "1480/1480 [==============================] - 7s 5ms/step - loss: 0.0025 - accuracy: 0.9993 - val_loss: 0.0578 - val_accuracy: 0.9865\n",
            "Epoch 00017: early stopping\n"
          ],
          "name": "stdout"
        }
      ]
    },
    {
      "cell_type": "code",
      "metadata": {
        "id": "xHWGQf4Fi72x",
        "colab_type": "code",
        "colab": {
          "base_uri": "https://localhost:8080/",
          "height": 308
        },
        "outputId": "1a6c3dcc-6726-42ad-9457-df7fab17aa7a"
      },
      "source": [
        "f, (ax1, ax2) = plt.subplots(1, 2, figsize=(12, 4))\n",
        "t = f.suptitle(' CNN PERFOMANCE AFTER ADDING DROPOUT TO INPUT AND OUTPUT LAYERS', fontsize=12)\n",
        "f.subplots_adjust(top=0.85, wspace=0.3)\n",
        "\n",
        "epoch_list = list(range(1,18))\n",
        "ax1.plot(epoch_list, history2.history['accuracy'], label='Train Accuracy')\n",
        "ax1.plot(epoch_list, history2.history['val_accuracy'], label='Validation Accuracy')\n",
        "ax1.set_xticks(np.arange(0, 17, 2))\n",
        "ax1.set_ylabel('Accuracy Value')\n",
        "ax1.set_xlabel('Epoch')\n",
        "ax1.set_title('Accuracy')\n",
        "l1 = ax1.legend(loc=\"best\")\n",
        "\n",
        "ax2.plot(epoch_list, history2.history['loss'], label='Train Loss')\n",
        "ax2.plot(epoch_list, history2.history['val_loss'], label='Validation Loss')\n",
        "ax2.set_xticks(np.arange(0, 17, 2))\n",
        "ax2.set_ylabel('Loss Value')\n",
        "ax2.set_xlabel('Epoch')\n",
        "ax2.set_title('Loss')\n",
        "l2 = ax2.legend(loc=\"best\")"
      ],
      "execution_count": null,
      "outputs": [
        {
          "output_type": "display_data",
          "data": {
            "image/png": "[encoded data removed]",
            "text/plain": [
              "<Figure size 864x288 with 2 Axes>"
            ]
          },
          "metadata": {
            "tags": [],
            "needs_background": "light"
          }
        }
      ]
    },
    {
      "cell_type": "code",
      "metadata": {
        "id": "XSx-jPOFjA9-",
        "colab_type": "code",
        "colab": {}
      },
      "source": [
        " CNN_WITH_DROPOUT_MODEL_PREDICTIONS = TEST_PREDICTIONS(TEST_DATA,model_1)\n"
      ],
      "execution_count": null,
      "outputs": []
    },
    {
      "cell_type": "code",
      "metadata": {
        "id": "chdWe_nsppoB",
        "colab_type": "code",
        "colab": {
          "base_uri": "https://localhost:8080/",
          "height": 34
        },
        "outputId": "f4fca871-70c2-4ab6-c2e6-19fa15129db6"
      },
      "source": [
        "print(\"THE  CNN WITH DROPUT PERFOMANCE IS :%d\",perfomance(TEST_LABELS,CNN_WITH_DROPOUT_MODEL_PREDICTIONS))"
      ],
      "execution_count": null,
      "outputs": [
        {
          "output_type": "stream",
          "text": [
            "THE  CNN WITH DROPUT PERFOMANCE IS :%d 0.99\n"
          ],
          "name": "stdout"
        }
      ]
    },
    {
      "cell_type": "markdown",
      "metadata": {
        "id": "8zq5j21Zopo0",
        "colab_type": "text"
      },
      "source": [
        "#CHANGE IN PERFOMANCE IF WE CHANGE ACTIVATION FUNCTION , KERNEL INITIALIZER ,BATCH NORMALIZATION"
      ]
    },
    {
      "cell_type": "code",
      "metadata": {
        "id": "G4xVrl9eqGwZ",
        "colab_type": "code",
        "colab": {}
      },
      "source": [
        "model_2 = Sequential()\n",
        "\n",
        "model_2.add(Conv2D(64, kernel_size=(3, 3), activation='elu',padding='same',input_shape=(180,180,3),kernel_initializer='glorot_normal'))\n",
        "model_2.add(Dropout(0.2))\n",
        "model_2.add(MaxPooling2D(pool_size=(2, 2)))\n",
        "model_2.add(BatchNormalization())\n",
        "\n",
        "model_2.add(Conv2D(128, kernel_size=(3, 3), activation='elu'))\n",
        "\n",
        "model_2.add(MaxPooling2D(pool_size=(2, 2)))\n",
        "model_2.add(BatchNormalization())\n",
        "model_2.add(Conv2D(256, kernel_size=(3, 3), activation='elu'))\n",
        "model_2.add(MaxPooling2D(pool_size=(2, 2)))\n",
        "\n",
        "model_2.add(Flatten())\n",
        "model_2.add(Dense(512, activation='relu'))\n",
        "model_2.add(Dropout(0.3))\n",
        "model_2.add(Dense(512, activation='relu'))\n",
        "\n",
        "model_2.add(Dense(nb_classes, activation='softmax'))"
      ],
      "execution_count": null,
      "outputs": []
    },
    {
      "cell_type": "code",
      "metadata": {
        "id": "6EJSKMJ3qLPG",
        "colab_type": "code",
        "colab": {}
      },
      "source": [
        "model_2.compile(loss='categorical_crossentropy',\n",
        "              optimizer=Adam(),\n",
        "              metrics=['accuracy'])\n",
        "\n"
      ],
      "execution_count": null,
      "outputs": []
    },
    {
      "cell_type": "code",
      "metadata": {
        "id": "dkGbvfXDqPsI",
        "colab_type": "code",
        "colab": {
          "base_uri": "https://localhost:8080/",
          "height": 588
        },
        "outputId": "a01cacf9-2eeb-4058-e34c-8dcd438c2c06"
      },
      "source": [
        "history3= model_2.fit(x=X_train, y=Y_train,\n",
        "                    validation_data=(X_test,Y_test),\n",
        "                    batch_size=40,\n",
        "                    epochs=25,\n",
        "                    verbose=1,callbacks=[lr_sc,es]) "
      ],
      "execution_count": null,
      "outputs": [
        {
          "output_type": "stream",
          "text": [
            "Train on 1480 samples, validate on 370 samples\n",
            "Epoch 1/25\n",
            "\n",
            "Epoch 00001: LearningRateScheduler setting learning rate to 0.01.\n",
            "1480/1480 [==============================] - 9s 6ms/step - loss: 391.0218 - accuracy: 0.0088 - val_loss: 1544.8714 - val_accuracy: 0.0027\n",
            "Epoch 2/25\n",
            "\n",
            "Epoch 00002: LearningRateScheduler setting learning rate to 0.01.\n",
            "1480/1480 [==============================] - 8s 5ms/step - loss: 4.6394 - accuracy: 0.0101 - val_loss: 940.6136 - val_accuracy: 0.0027\n",
            "Epoch 3/25\n",
            "\n",
            "Epoch 00003: LearningRateScheduler setting learning rate to 0.01.\n",
            "1480/1480 [==============================] - 8s 5ms/step - loss: 4.6348 - accuracy: 0.0122 - val_loss: 32.8493 - val_accuracy: 0.0081\n",
            "Epoch 4/25\n",
            "\n",
            "Epoch 00004: LearningRateScheduler setting learning rate to 0.01.\n",
            "1480/1480 [==============================] - 8s 6ms/step - loss: 7.0593 - accuracy: 0.0128 - val_loss: 17.0020 - val_accuracy: 0.0000e+00\n",
            "Epoch 5/25\n",
            "\n",
            "Epoch 00005: LearningRateScheduler setting learning rate to 0.01.\n",
            "1480/1480 [==============================] - 8s 6ms/step - loss: 4.8344 - accuracy: 0.0128 - val_loss: 4.6439 - val_accuracy: 0.0000e+00\n",
            "Epoch 6/25\n",
            "\n",
            "Epoch 00006: LearningRateScheduler setting learning rate to 0.01.\n",
            "1480/1480 [==============================] - 8s 6ms/step - loss: 7.9129 - accuracy: 0.0115 - val_loss: 5.5995 - val_accuracy: 0.0000e+00\n",
            "Epoch 7/25\n",
            "\n",
            "Epoch 00007: LearningRateScheduler setting learning rate to 0.01.\n",
            "1480/1480 [==============================] - 8s 6ms/step - loss: 4.6006 - accuracy: 0.0128 - val_loss: 4.8811 - val_accuracy: 0.0000e+00\n",
            "Epoch 8/25\n",
            "\n",
            "Epoch 00008: LearningRateScheduler setting learning rate to 0.0096.\n",
            "1480/1480 [==============================] - 8s 6ms/step - loss: 4.5999 - accuracy: 0.0128 - val_loss: 4.6914 - val_accuracy: 0.0000e+00\n",
            "Epoch 00008: early stopping\n"
          ],
          "name": "stdout"
        }
      ]
    },
    {
      "cell_type": "code",
      "metadata": {
        "id": "BnIM3NAoqqtH",
        "colab_type": "code",
        "colab": {
          "base_uri": "https://localhost:8080/",
          "height": 308
        },
        "outputId": "a2510b49-a22f-4bac-b960-7d09b8e532d0"
      },
      "source": [
        "f, (ax1, ax2) = plt.subplots(1, 2, figsize=(12, 4))\n",
        "t = f.suptitle('CNN WITH ELU AND XAVIER INITIALIZATION Performance', fontsize=12)\n",
        "f.subplots_adjust(top=0.85, wspace=0.3)\n",
        "\n",
        "epoch_list = list(range(1,9))\n",
        "ax1.plot(epoch_list, history3.history['accuracy'], label='Train Accuracy')\n",
        "ax1.plot(epoch_list, history3.history['val_accuracy'], label='Validation Accuracy')\n",
        "ax1.set_xticks(np.arange(0,9))\n",
        "ax1.set_ylabel('Accuracy Value')\n",
        "ax1.set_xlabel('Epoch')\n",
        "ax1.set_title('Accuracy')\n",
        "l1 = ax1.legend(loc=\"best\")\n",
        "\n",
        "ax2.plot(epoch_list, history3.history['loss'], label='Train Loss')\n",
        "ax2.plot(epoch_list, history3.history['val_loss'], label='Validation Loss')\n",
        "ax2.set_xticks(np.arange(0,9))\n",
        "ax2.set_ylabel('Loss Value')\n",
        "ax2.set_xlabel('Epoch')\n",
        "ax2.set_title('Loss')\n",
        "l2 = ax2.legend(loc=\"best\")"
      ],
      "execution_count": null,
      "outputs": [
        {
          "output_type": "display_data",
          "data": {
            "image/png": "[encoded data removed]",
            "text/plain": [
              "<Figure size 864x288 with 2 Axes>"
            ]
          },
          "metadata": {
            "tags": [],
            "needs_background": "light"
          }
        }
      ]
    },
    {
      "cell_type": "code",
      "metadata": {
        "id": "T8WQU4oLqy3T",
        "colab_type": "code",
        "colab": {}
      },
      "source": [
        " CNN_WITH_ELU_MODEL_PREDICTIONS = TEST_PREDICTIONS(TEST_DATA,model_2)\n"
      ],
      "execution_count": null,
      "outputs": []
    },
    {
      "cell_type": "code",
      "metadata": {
        "id": "EfjrS8KQrBrH",
        "colab_type": "code",
        "colab": {
          "base_uri": "https://localhost:8080/",
          "height": 34
        },
        "outputId": "b7c5fb9c-72fc-4525-9e8c-f657f37727ea"
      },
      "source": [
        "print(\"THE  CNN WITH ELU AND XAVIER INITIALIZER PERFOMANCE IS :%d\",perfomance(TEST_LABELS,CNN_WITH_ELU_MODEL_PREDICTIONS))"
      ],
      "execution_count": null,
      "outputs": [
        {
          "output_type": "stream",
          "text": [
            "THE  CNN WITH ELU AND XAVIER INITIALIZER PERFOMANCE IS :%d 0.01\n"
          ],
          "name": "stdout"
        }
      ]
    },
    {
      "cell_type": "markdown",
      "metadata": {
        "id": "4hOCgDh8m0Fr",
        "colab_type": "text"
      },
      "source": [
        "FROM THE ABOVE TRAININING NETWOTK WE CAN CLEARLY STATE THAT CHANGE IN ACTIVATION FUNCTION AND OPTIMIZERS VARY DIFFERENTLY \n",
        "BASED ON TRAINING DATA , SO LETS TRY BY USING DATA AUGMENTATION"
      ]
    },
    {
      "cell_type": "markdown",
      "metadata": {
        "id": "uzVMnn311itM",
        "colab_type": "text"
      },
      "source": [
        "TRAINING USING DATA AUGMENTATION"
      ]
    },
    {
      "cell_type": "code",
      "metadata": {
        "id": "7ffZndvj1r_v",
        "colab_type": "code",
        "colab": {}
      },
      "source": [
        "initial_lrate = 0.1\n",
        "\n",
        "def decay(epoch, steps=400):\n",
        "    initial_lrate = 0.01\n",
        "    drop = 0.6\n",
        "    epochs_drop = 10\n",
        "    lrate = initial_lrate * math.pow(drop, math.floor((1+epoch)/epochs_drop))\n",
        "    return lrate\n",
        "\n",
        "sgd = SGD(lr=0.01, momentum=0.9, nesterov=False)\n",
        "\n",
        "lr_sc = LearningRateScheduler(decay, verbose=1)"
      ],
      "execution_count": null,
      "outputs": []
    },
    {
      "cell_type": "code",
      "metadata": {
        "id": "WqtuMT6v1qFI",
        "colab_type": "code",
        "colab": {}
      },
      "source": [
        "train_datagen = ImageDataGenerator(rescale=1./255, zoom_range=0.3, rotation_range=30,\n",
        "                                   width_shift_range=0.2, height_shift_range=0.2, shear_range=0.2, \n",
        "                                   horizontal_flip=True, fill_mode='nearest')\n",
        "\n",
        "val_datagen =  ImageDataGenerator(rescale=1./255)"
      ],
      "execution_count": null,
      "outputs": []
    },
    {
      "cell_type": "code",
      "metadata": {
        "id": "iKWieMLUqWDO",
        "colab_type": "code",
        "colab": {
          "base_uri": "https://localhost:8080/",
          "height": 35
        },
        "outputId": "7212d32f-807d-439d-ec22-c135828db92a"
      },
      "source": [
        "DATA[0]"
      ],
      "execution_count": null,
      "outputs": [
        {
          "output_type": "execute_result",
          "data": {
            "application/vnd.google.colaboratory.intrinsic": {
              "type": "string"
            },
            "text/plain": [
              "'/content/DATA/nhahme/nhahme.9.jpg'"
            ]
          },
          "metadata": {
            "tags": []
          },
          "execution_count": 156
        }
      ]
    },
    {
      "cell_type": "code",
      "metadata": {
        "id": "jIjd7Qgj1uEH",
        "colab_type": "code",
        "colab": {}
      },
      "source": [
        "train_generator = train_datagen.flow(X_train, Y_train, batch_size=40)\n",
        "val_generator = train_datagen.flow(X_test,Y_test, batch_size=32)"
      ],
      "execution_count": null,
      "outputs": []
    },
    {
      "cell_type": "code",
      "metadata": {
        "id": "Wab3tKYQ1yoQ",
        "colab_type": "code",
        "colab": {}
      },
      "source": [
        "model_4 = Sequential()\n",
        "\n",
        "model_4.add(Conv2D(32, kernel_size=(3, 3), activation='relu', \n",
        "                 input_shape=(180,180,3)))\n",
        "model_4.add(MaxPooling2D(pool_size=(2, 2)))\n",
        "model_4.add(BatchNormalization())\n",
        "\n",
        "\n",
        "model_4.add(Conv2D(64, kernel_size=(3, 3), activation='relu'))\n",
        "model_4.add(MaxPooling2D(pool_size=(2, 2)))\n",
        "model_4.add(BatchNormalization())\n",
        "\n",
        "model_4.add(Conv2D(128, kernel_size=(3, 3), activation='relu'))\n",
        "model_4.add(MaxPooling2D(pool_size=(2, 2)))\n",
        "model_4.add(BatchNormalization())\n",
        "\n",
        "\n",
        "model_4.add(Conv2D(256, kernel_size=(3, 3), activation='relu'))\n",
        "model_4.add(MaxPooling2D(pool_size=(2, 2)))\n",
        "model_4.add(BatchNormalization())\n",
        "\n",
        "\n",
        "model_4.add(Flatten())\n",
        "model_4.add(Dense(512, activation='relu'))\n",
        "model_4.add(Dropout(0.3))\n",
        "model_4.add(Dense(512,activation='relu'))\n",
        "model_4.add(Dense(nb_classes, activation='softmax'))\n",
        "\n",
        "\n"
      ],
      "execution_count": null,
      "outputs": []
    },
    {
      "cell_type": "code",
      "metadata": {
        "id": "pk3mIgsd1_tc",
        "colab_type": "code",
        "colab": {}
      },
      "source": [
        "model_4.compile(loss='categorical_crossentropy',\n",
        "              optimizer=sgd,\n",
        "              metrics=['accuracy'])"
      ],
      "execution_count": null,
      "outputs": []
    },
    {
      "cell_type": "code",
      "metadata": {
        "id": "DAMbekIG2Dth",
        "colab_type": "code",
        "colab": {
          "base_uri": "https://localhost:8080/",
          "height": 1000
        },
        "outputId": "1951706c-fbbc-43fe-c1fb-7b0942359f9a"
      },
      "source": [
        "history4= model_4.fit_generator(train_generator,\n",
        "                    validation_data=val_generator,\n",
        "                    epochs=45,\n",
        "                    verbose=1,callbacks=[lr_sc])         "
      ],
      "execution_count": null,
      "outputs": [
        {
          "output_type": "stream",
          "text": [
            "Epoch 1/45\n",
            "\n",
            "Epoch 00001: LearningRateScheduler setting learning rate to 0.01.\n",
            "37/37 [==============================] - 13s 361ms/step - loss: 4.5904 - accuracy: 0.0824 - val_loss: 16.8770 - val_accuracy: 0.0081\n",
            "Epoch 2/45\n",
            "\n",
            "Epoch 00002: LearningRateScheduler setting learning rate to 0.01.\n",
            "37/37 [==============================] - 12s 334ms/step - loss: 3.5004 - accuracy: 0.1851 - val_loss: 58.4651 - val_accuracy: 0.0081\n",
            "Epoch 3/45\n",
            "\n",
            "Epoch 00003: LearningRateScheduler setting learning rate to 0.01.\n",
            "37/37 [==============================] - 13s 340ms/step - loss: 2.8452 - accuracy: 0.2527 - val_loss: 82.5973 - val_accuracy: 0.0081\n",
            "Epoch 4/45\n",
            "\n",
            "Epoch 00004: LearningRateScheduler setting learning rate to 0.01.\n",
            "37/37 [==============================] - 13s 339ms/step - loss: 2.5382 - accuracy: 0.3169 - val_loss: 64.8993 - val_accuracy: 0.0054\n",
            "Epoch 5/45\n",
            "\n",
            "Epoch 00005: LearningRateScheduler setting learning rate to 0.01.\n",
            "37/37 [==============================] - 13s 339ms/step - loss: 2.1955 - accuracy: 0.4007 - val_loss: 52.0021 - val_accuracy: 0.0108\n",
            "Epoch 6/45\n",
            "\n",
            "Epoch 00006: LearningRateScheduler setting learning rate to 0.01.\n",
            "37/37 [==============================] - 13s 342ms/step - loss: 2.0635 - accuracy: 0.4041 - val_loss: 66.8064 - val_accuracy: 0.0054\n",
            "Epoch 7/45\n",
            "\n",
            "Epoch 00007: LearningRateScheduler setting learning rate to 0.01.\n",
            "37/37 [==============================] - 12s 331ms/step - loss: 1.9207 - accuracy: 0.4520 - val_loss: 135.9636 - val_accuracy: 0.0108\n",
            "Epoch 8/45\n",
            "\n",
            "Epoch 00008: LearningRateScheduler setting learning rate to 0.01.\n",
            "37/37 [==============================] - 13s 339ms/step - loss: 1.6866 - accuracy: 0.4959 - val_loss: 127.5766 - val_accuracy: 0.0054\n",
            "Epoch 9/45\n",
            "\n",
            "Epoch 00009: LearningRateScheduler setting learning rate to 0.01.\n",
            "37/37 [==============================] - 13s 339ms/step - loss: 1.7483 - accuracy: 0.4926 - val_loss: 198.5319 - val_accuracy: 0.0081\n",
            "Epoch 10/45\n",
            "\n",
            "Epoch 00010: LearningRateScheduler setting learning rate to 0.006.\n",
            "37/37 [==============================] - 13s 342ms/step - loss: 1.4853 - accuracy: 0.5426 - val_loss: 221.1665 - val_accuracy: 0.0108\n",
            "Epoch 11/45\n",
            "\n",
            "Epoch 00011: LearningRateScheduler setting learning rate to 0.006.\n",
            "37/37 [==============================] - 13s 339ms/step - loss: 1.1716 - accuracy: 0.6331 - val_loss: 232.2124 - val_accuracy: 0.0081\n",
            "Epoch 12/45\n",
            "\n",
            "Epoch 00012: LearningRateScheduler setting learning rate to 0.006.\n",
            "37/37 [==============================] - 13s 345ms/step - loss: 1.1194 - accuracy: 0.6534 - val_loss: 207.9239 - val_accuracy: 0.0054\n",
            "Epoch 13/45\n",
            "\n",
            "Epoch 00013: LearningRateScheduler setting learning rate to 0.006.\n",
            "37/37 [==============================] - 13s 342ms/step - loss: 1.0031 - accuracy: 0.6878 - val_loss: 247.5027 - val_accuracy: 0.0135\n",
            "Epoch 14/45\n",
            "\n",
            "Epoch 00014: LearningRateScheduler setting learning rate to 0.006.\n",
            "37/37 [==============================] - 12s 337ms/step - loss: 0.8971 - accuracy: 0.7061 - val_loss: 244.7160 - val_accuracy: 0.0081\n",
            "Epoch 15/45\n",
            "\n",
            "Epoch 00015: LearningRateScheduler setting learning rate to 0.006.\n",
            "37/37 [==============================] - 13s 340ms/step - loss: 0.8863 - accuracy: 0.7230 - val_loss: 185.5583 - val_accuracy: 0.0135\n",
            "Epoch 16/45\n",
            "\n",
            "Epoch 00016: LearningRateScheduler setting learning rate to 0.006.\n",
            "37/37 [==============================] - 13s 341ms/step - loss: 0.9119 - accuracy: 0.7169 - val_loss: 221.1263 - val_accuracy: 0.0081\n",
            "Epoch 17/45\n",
            "\n",
            "Epoch 00017: LearningRateScheduler setting learning rate to 0.006.\n",
            "37/37 [==============================] - 13s 341ms/step - loss: 0.8498 - accuracy: 0.7351 - val_loss: 137.9471 - val_accuracy: 0.0081\n",
            "Epoch 18/45\n",
            "\n",
            "Epoch 00018: LearningRateScheduler setting learning rate to 0.006.\n",
            "37/37 [==============================] - 13s 343ms/step - loss: 0.7434 - accuracy: 0.7561 - val_loss: 118.9137 - val_accuracy: 0.0081\n",
            "Epoch 19/45\n",
            "\n",
            "Epoch 00019: LearningRateScheduler setting learning rate to 0.006.\n",
            "37/37 [==============================] - 12s 337ms/step - loss: 0.6936 - accuracy: 0.7635 - val_loss: 156.0181 - val_accuracy: 0.0081\n",
            "Epoch 20/45\n",
            "\n",
            "Epoch 00020: LearningRateScheduler setting learning rate to 0.0036.\n",
            "37/37 [==============================] - 12s 338ms/step - loss: 0.6573 - accuracy: 0.7811 - val_loss: 67.9795 - val_accuracy: 0.0081\n",
            "Epoch 21/45\n",
            "\n",
            "Epoch 00021: LearningRateScheduler setting learning rate to 0.0036.\n",
            "37/37 [==============================] - 13s 342ms/step - loss: 0.5385 - accuracy: 0.8257 - val_loss: 31.4994 - val_accuracy: 0.0162\n",
            "Epoch 22/45\n",
            "\n",
            "Epoch 00022: LearningRateScheduler setting learning rate to 0.0036.\n",
            "37/37 [==============================] - 12s 334ms/step - loss: 0.4942 - accuracy: 0.8378 - val_loss: 39.3850 - val_accuracy: 0.0216\n",
            "Epoch 23/45\n",
            "\n",
            "Epoch 00023: LearningRateScheduler setting learning rate to 0.0036.\n",
            "37/37 [==============================] - 12s 335ms/step - loss: 0.5196 - accuracy: 0.8304 - val_loss: 40.7180 - val_accuracy: 0.0189\n",
            "Epoch 24/45\n",
            "\n",
            "Epoch 00024: LearningRateScheduler setting learning rate to 0.0036.\n",
            "37/37 [==============================] - 12s 335ms/step - loss: 0.4814 - accuracy: 0.8412 - val_loss: 1.5165 - val_accuracy: 0.6135\n",
            "Epoch 25/45\n",
            "\n",
            "Epoch 00025: LearningRateScheduler setting learning rate to 0.0036.\n",
            "37/37 [==============================] - 12s 336ms/step - loss: 0.5259 - accuracy: 0.8189 - val_loss: 10.4425 - val_accuracy: 0.2243\n",
            "Epoch 26/45\n",
            "\n",
            "Epoch 00026: LearningRateScheduler setting learning rate to 0.0036.\n",
            "37/37 [==============================] - 12s 331ms/step - loss: 0.4594 - accuracy: 0.8561 - val_loss: 7.7413 - val_accuracy: 0.2838\n",
            "Epoch 27/45\n",
            "\n",
            "Epoch 00027: LearningRateScheduler setting learning rate to 0.0036.\n",
            "37/37 [==============================] - 12s 333ms/step - loss: 0.4299 - accuracy: 0.8541 - val_loss: 4.9311 - val_accuracy: 0.4703\n",
            "Epoch 28/45\n",
            "\n",
            "Epoch 00028: LearningRateScheduler setting learning rate to 0.0036.\n",
            "37/37 [==============================] - 12s 330ms/step - loss: 0.4257 - accuracy: 0.8541 - val_loss: 22.3791 - val_accuracy: 0.0649\n",
            "Epoch 29/45\n",
            "\n",
            "Epoch 00029: LearningRateScheduler setting learning rate to 0.0036.\n",
            "37/37 [==============================] - 12s 331ms/step - loss: 0.4330 - accuracy: 0.8473 - val_loss: 8.9983 - val_accuracy: 0.1811\n",
            "Epoch 30/45\n",
            "\n",
            "Epoch 00030: LearningRateScheduler setting learning rate to 0.0021599999999999996.\n",
            "37/37 [==============================] - 12s 332ms/step - loss: 0.4152 - accuracy: 0.8541 - val_loss: 0.8164 - val_accuracy: 0.6351\n",
            "Epoch 31/45\n",
            "\n",
            "Epoch 00031: LearningRateScheduler setting learning rate to 0.0021599999999999996.\n",
            "37/37 [==============================] - 12s 334ms/step - loss: 0.3769 - accuracy: 0.8736 - val_loss: 5.8433 - val_accuracy: 0.2865\n",
            "Epoch 32/45\n",
            "\n",
            "Epoch 00032: LearningRateScheduler setting learning rate to 0.0021599999999999996.\n",
            "37/37 [==============================] - 12s 331ms/step - loss: 0.3289 - accuracy: 0.8980 - val_loss: 0.7023 - val_accuracy: 0.6919\n",
            "Epoch 33/45\n",
            "\n",
            "Epoch 00033: LearningRateScheduler setting learning rate to 0.0021599999999999996.\n",
            "37/37 [==============================] - 12s 332ms/step - loss: 0.3198 - accuracy: 0.8953 - val_loss: 0.3321 - val_accuracy: 0.8811\n",
            "Epoch 34/45\n",
            "\n",
            "Epoch 00034: LearningRateScheduler setting learning rate to 0.0021599999999999996.\n",
            "37/37 [==============================] - 12s 329ms/step - loss: 0.3177 - accuracy: 0.8845 - val_loss: 2.3352 - val_accuracy: 0.7027\n",
            "Epoch 35/45\n",
            "\n",
            "Epoch 00035: LearningRateScheduler setting learning rate to 0.0021599999999999996.\n",
            "37/37 [==============================] - 12s 329ms/step - loss: 0.2868 - accuracy: 0.9135 - val_loss: 1.3447 - val_accuracy: 0.6703\n",
            "Epoch 36/45\n",
            "\n",
            "Epoch 00036: LearningRateScheduler setting learning rate to 0.0021599999999999996.\n",
            "37/37 [==============================] - 12s 335ms/step - loss: 0.2713 - accuracy: 0.9142 - val_loss: 1.1874 - val_accuracy: 0.7568\n",
            "Epoch 37/45\n",
            "\n",
            "Epoch 00037: LearningRateScheduler setting learning rate to 0.0021599999999999996.\n",
            "37/37 [==============================] - 12s 334ms/step - loss: 0.2633 - accuracy: 0.9081 - val_loss: 0.4213 - val_accuracy: 0.7189\n",
            "Epoch 38/45\n",
            "\n",
            "Epoch 00038: LearningRateScheduler setting learning rate to 0.0021599999999999996.\n",
            "37/37 [==============================] - 12s 333ms/step - loss: 0.2628 - accuracy: 0.9115 - val_loss: 2.3234 - val_accuracy: 0.5189\n",
            "Epoch 39/45\n",
            "\n",
            "Epoch 00039: LearningRateScheduler setting learning rate to 0.0021599999999999996.\n",
            "37/37 [==============================] - 12s 330ms/step - loss: 0.2358 - accuracy: 0.9155 - val_loss: 0.6849 - val_accuracy: 0.7838\n",
            "Epoch 40/45\n",
            "\n",
            "Epoch 00040: LearningRateScheduler setting learning rate to 0.001296.\n",
            "37/37 [==============================] - 12s 333ms/step - loss: 0.2560 - accuracy: 0.9115 - val_loss: 0.6953 - val_accuracy: 0.6865\n",
            "Epoch 41/45\n",
            "\n",
            "Epoch 00041: LearningRateScheduler setting learning rate to 0.001296.\n",
            "37/37 [==============================] - 12s 332ms/step - loss: 0.2649 - accuracy: 0.9142 - val_loss: 0.3159 - val_accuracy: 0.8459\n",
            "Epoch 42/45\n",
            "\n",
            "Epoch 00042: LearningRateScheduler setting learning rate to 0.001296.\n",
            "37/37 [==============================] - 12s 329ms/step - loss: 0.2883 - accuracy: 0.9128 - val_loss: 0.3726 - val_accuracy: 0.9378\n",
            "Epoch 43/45\n",
            "\n",
            "Epoch 00043: LearningRateScheduler setting learning rate to 0.001296.\n",
            "37/37 [==============================] - 12s 329ms/step - loss: 0.1996 - accuracy: 0.9331 - val_loss: 1.2303 - val_accuracy: 0.8162\n",
            "Epoch 44/45\n",
            "\n",
            "Epoch 00044: LearningRateScheduler setting learning rate to 0.001296.\n",
            "37/37 [==============================] - 12s 335ms/step - loss: 0.2205 - accuracy: 0.9236 - val_loss: 1.0598 - val_accuracy: 0.8486\n",
            "Epoch 45/45\n",
            "\n",
            "Epoch 00045: LearningRateScheduler setting learning rate to 0.001296.\n",
            "37/37 [==============================] - 12s 333ms/step - loss: 0.2418 - accuracy: 0.9182 - val_loss: 0.5306 - val_accuracy: 0.8973\n"
          ],
          "name": "stdout"
        }
      ]
    },
    {
      "cell_type": "code",
      "metadata": {
        "id": "qk0SFhqP3F89",
        "colab_type": "code",
        "colab": {
          "base_uri": "https://localhost:8080/",
          "height": 308
        },
        "outputId": "cbebed66-43a0-4cda-93f7-4a34a2c6cbcc"
      },
      "source": [
        "f, (ax1, ax2) = plt.subplots(1, 2, figsize=(12, 4))\n",
        "t = f.suptitle('CNN WITH AUGMENTATION Performance', fontsize=12)\n",
        "f.subplots_adjust(top=0.85, wspace=0.3)\n",
        "\n",
        "epoch_list = list(range(1,46))\n",
        "ax1.plot(epoch_list, history4.history['accuracy'], label='Train Accuracy')\n",
        "ax1.plot(epoch_list, history4.history['val_accuracy'], label='Validation Accuracy')\n",
        "ax1.set_xticks(np.arange(0,46,5))\n",
        "ax1.set_ylabel('Accuracy Value')\n",
        "ax1.set_xlabel('Epoch')\n",
        "ax1.set_title('Accuracy')\n",
        "l1 = ax1.legend(loc=\"best\")\n",
        "\n",
        "ax2.plot(epoch_list, history4.history['loss'], label='Train Loss')\n",
        "ax2.plot(epoch_list, history4.history['val_loss'], label='Validation Loss')\n",
        "ax2.set_xticks(np.arange(0,46,5))\n",
        "ax2.set_ylabel('Loss Value')\n",
        "ax2.set_xlabel('Epoch')\n",
        "ax2.set_title('Loss')\n",
        "l2 = ax2.legend(loc=\"best\")"
      ],
      "execution_count": null,
      "outputs": [
        {
          "output_type": "display_data",
          "data": {
            "image/png": "[encoded data removed]",
            "text/plain": [
              "<Figure size 864x288 with 2 Axes>"
            ]
          },
          "metadata": {
            "tags": [],
            "needs_background": "light"
          }
        }
      ]
    },
    {
      "cell_type": "code",
      "metadata": {
        "id": "Vhc4x4Uw2YaM",
        "colab_type": "code",
        "colab": {}
      },
      "source": [
        " CNN_WITH_AUGMENTATION_MODEL_PREDICTIONS = TEST_PREDICTIONS(TEST_DATA,model_4)"
      ],
      "execution_count": null,
      "outputs": []
    },
    {
      "cell_type": "code",
      "metadata": {
        "id": "vh9XJwrl2jsH",
        "colab_type": "code",
        "colab": {
          "base_uri": "https://localhost:8080/",
          "height": 34
        },
        "outputId": "aa3af7e0-0e7a-40b8-8dc6-c48941bdd461"
      },
      "source": [
        "print(\"THE  CNN WITH  AUGMENTATION AND XAVIER INITIALIZER PERFOMANCE IS :%d\",perfomance(TEST_LABELS,CNN_WITH_AUGMENTATION_MODEL_PREDICTIONS))"
      ],
      "execution_count": null,
      "outputs": [
        {
          "output_type": "stream",
          "text": [
            "THE  CNN WITH  AUGMENTATION AND XAVIER INITIALIZER PERFOMANCE IS :%d 0.01\n"
          ],
          "name": "stdout"
        }
      ]
    },
    {
      "cell_type": "markdown",
      "metadata": {
        "id": "h53brzZ-HCNm",
        "colab_type": "text"
      },
      "source": [
        "TRANSFER LEARNING USING INCEPTION V3"
      ]
    },
    {
      "cell_type": "code",
      "metadata": {
        "id": "0Vg68kJOEXt2",
        "colab_type": "code",
        "colab": {}
      },
      "source": [
        "def decay(epoch, steps=400):\n",
        "    initial_lrate = 0.008\n",
        "    drop = 0.6\n",
        "    epochs_drop = 10\n",
        "    lrate = initial_lrate * math.pow(drop, math.floor((1+epoch)/epochs_drop))\n",
        "    return lrate\n",
        "\n",
        "sgd = SGD(lr=0.008, momentum=0.9, nesterov=False)\n",
        "\n",
        "lr_sc = LearningRateScheduler(decay, verbose=1)"
      ],
      "execution_count": null,
      "outputs": []
    },
    {
      "cell_type": "code",
      "metadata": {
        "id": "e6HJW_nP_fo1",
        "colab_type": "code",
        "colab": {}
      },
      "source": [
        "reduce_lr = ReduceLROnPlateau(monitor='val_loss', factor=0.2,\n",
        "                              patience=5, min_lr=0.001)"
      ],
      "execution_count": null,
      "outputs": []
    },
    {
      "cell_type": "code",
      "metadata": {
        "id": "CYjZK4FCHG_p",
        "colab_type": "code",
        "colab": {}
      },
      "source": [
        "\n",
        "trained_model = InceptionV3(include_top=False,weights='imagenet')\n",
        "x = trained_model.output\n",
        "x=GlobalAveragePooling2D()(x)\n",
        "x = Dense(512, activation='relu')(x)\n",
        "x= Dropout(0.3)(x)\n",
        "x = Dense(512, activation='relu')(x)\n",
        "    \n",
        "pred_inception= Dense(nb_classes,activation='softmax')(x)\n",
        "inception_model = Model(inputs=trained_model.input,outputs=pred_inception)\n",
        "    \n",
        "for layer in trained_model.layers:\n",
        "      layer.trainable =True\n",
        "    \n",
        "pd.set_option(\"display.max_rows\", 311)  \n",
        "layers = [(layer, layer.name, layer.trainable) for layer in trained_model.layers]\n",
        "#pd.DataFrame(layers, columns=['Layer Type', 'Layer Name', 'Layer Trainable'])    \n",
        "    \n",
        "    "
      ],
      "execution_count": null,
      "outputs": []
    },
    {
      "cell_type": "code",
      "metadata": {
        "id": "savEzBvrESm3",
        "colab_type": "code",
        "colab": {}
      },
      "source": [
        "inception_model.compile(loss='categorical_crossentropy',\n",
        "                  metrics=['accuracy'],optimizer=sgd)\n",
        "\n",
        "    "
      ],
      "execution_count": null,
      "outputs": []
    },
    {
      "cell_type": "code",
      "metadata": {
        "id": "5FPxpel4Hzaf",
        "colab_type": "code",
        "colab": {
          "base_uri": "https://localhost:8080/",
          "height": 722
        },
        "outputId": "3ad1758a-584a-48c8-8a0d-7ba46a2f060d"
      },
      "source": [
        "inception_history=inception_model.fit(x=X_train,y=Y_train,\n",
        "                                      validation_data=(X_test,Y_test),\n",
        "          batch_size=40,\n",
        "          epochs=100,callbacks=[lr_sc,reduce_lr,es ])"
      ],
      "execution_count": null,
      "outputs": [
        {
          "output_type": "stream",
          "text": [
            "Train on 1480 samples, validate on 370 samples\n",
            "Epoch 1/100\n",
            "\n",
            "Epoch 00001: LearningRateScheduler setting learning rate to 0.01.\n",
            "1480/1480 [==============================] - 29s 19ms/step - loss: 3.3885 - accuracy: 0.3372 - val_loss: 4.0119 - val_accuracy: 0.2027\n",
            "Epoch 2/100\n",
            "\n",
            "Epoch 00002: LearningRateScheduler setting learning rate to 0.01.\n",
            "1480/1480 [==============================] - 13s 8ms/step - loss: 0.5342 - accuracy: 0.9020 - val_loss: 2.3751 - val_accuracy: 0.4108\n",
            "Epoch 3/100\n",
            "\n",
            "Epoch 00003: LearningRateScheduler setting learning rate to 0.01.\n",
            "1480/1480 [==============================] - 13s 9ms/step - loss: 0.0480 - accuracy: 0.9946 - val_loss: 0.1884 - val_accuracy: 0.9568\n",
            "Epoch 4/100\n",
            "\n",
            "Epoch 00004: LearningRateScheduler setting learning rate to 0.01.\n",
            "1480/1480 [==============================] - 13s 9ms/step - loss: 0.0160 - accuracy: 0.9986 - val_loss: 0.0176 - val_accuracy: 0.9946\n",
            "Epoch 5/100\n",
            "\n",
            "Epoch 00005: LearningRateScheduler setting learning rate to 0.01.\n",
            "1480/1480 [==============================] - 13s 9ms/step - loss: 0.0055 - accuracy: 1.0000 - val_loss: 0.0031 - val_accuracy: 1.0000\n",
            "Epoch 6/100\n",
            "\n",
            "Epoch 00006: LearningRateScheduler setting learning rate to 0.01.\n",
            "1480/1480 [==============================] - 13s 9ms/step - loss: 0.0040 - accuracy: 1.0000 - val_loss: 0.0023 - val_accuracy: 1.0000\n",
            "Epoch 7/100\n",
            "\n",
            "Epoch 00007: LearningRateScheduler setting learning rate to 0.01.\n",
            "1480/1480 [==============================] - 13s 8ms/step - loss: 0.0028 - accuracy: 1.0000 - val_loss: 0.0016 - val_accuracy: 1.0000\n",
            "Epoch 8/100\n",
            "\n",
            "Epoch 00008: LearningRateScheduler setting learning rate to 0.01.\n",
            "1480/1480 [==============================] - 13s 8ms/step - loss: 0.0144 - accuracy: 0.9986 - val_loss: 0.0021 - val_accuracy: 1.0000\n",
            "Epoch 9/100\n",
            "\n",
            "Epoch 00009: LearningRateScheduler setting learning rate to 0.01.\n",
            "1480/1480 [==============================] - 13s 9ms/step - loss: 0.0037 - accuracy: 1.0000 - val_loss: 0.0014 - val_accuracy: 1.0000\n",
            "Epoch 10/100\n",
            "\n",
            "Epoch 00010: LearningRateScheduler setting learning rate to 0.006.\n",
            "1480/1480 [==============================] - 13s 9ms/step - loss: 0.0019 - accuracy: 1.0000 - val_loss: 0.0013 - val_accuracy: 1.0000\n",
            "Epoch 00010: early stopping\n"
          ],
          "name": "stdout"
        }
      ]
    },
    {
      "cell_type": "code",
      "metadata": {
        "id": "nwMpYQfXHRZ8",
        "colab_type": "code",
        "colab": {}
      },
      "source": [
        " TRANSFER_LEARNING_MODEL_PREDICTIONS = inception_model.predict(TEST_DATA)\n"
      ],
      "execution_count": null,
      "outputs": []
    },
    {
      "cell_type": "code",
      "metadata": {
        "id": "ei2-zSzWORQy",
        "colab_type": "code",
        "colab": {}
      },
      "source": [
        "y_classes = [np.argmax(te, axis=None, out=None) for te in TRANSFER_LEARNING_MODEL_PREDICTIONS]\n",
        "y_classes =le.inverse_transform(y_classes)"
      ],
      "execution_count": null,
      "outputs": []
    },
    {
      "cell_type": "code",
      "metadata": {
        "id": "7hlI6IuyRc5c",
        "colab_type": "code",
        "colab": {}
      },
      "source": [
        "label =pd.get_dummies(LABELS,sparse=True)"
      ],
      "execution_count": null,
      "outputs": []
    },
    {
      "cell_type": "code",
      "metadata": {
        "id": "RbBEZLCiHRNr",
        "colab_type": "code",
        "colab": {
          "base_uri": "https://localhost:8080/",
          "height": 34
        },
        "outputId": "07ba2b5f-6e1d-4045-f68a-d91a10f15b3d"
      },
      "source": [
        "print(\"THE TRANSFER LEARNING MODEL PERFOMANCE IS :%d\",perfomance(TEST_LABELS,y_classes))"
      ],
      "execution_count": null,
      "outputs": [
        {
          "output_type": "stream",
          "text": [
            "THE TRANSFER LEARNING MODEL PERFOMANCE IS :%d 1.0\n"
          ],
          "name": "stdout"
        }
      ]
    },
    {
      "cell_type": "code",
      "metadata": {
        "id": "goQw-MivVZq9",
        "colab_type": "code",
        "colab": {}
      },
      "source": [
        "basic_cnn_perfomance = perfomance(TEST_LABELS,BASE_MODEL_PREDICTIONS)\n",
        "cnn_with_dropout_perfomance =perfomance(TEST_LABELS,CNN_WITH_DROPOUT_MODEL_PREDICTIONS)\n",
        "cnn_with_ELU_activation_perfomace = perfomance(TEST_LABELS,CNN_WITH_ELU_MODEL_PREDICTIONS)\n",
        "cnn_with_image_augmentation_perfomance=perfomance(TEST_LABELS,CNN_WITH_AUGMENTATION_MODEL_PREDICTIONS)\n",
        "transfer_learning_perfomance =perfomance(TEST_LABELS,y_classes)"
      ],
      "execution_count": null,
      "outputs": []
    },
    {
      "cell_type": "code",
      "metadata": {
        "id": "V0jRNQqrXHkN",
        "colab_type": "code",
        "colab": {}
      },
      "source": [
        "perfomances_list =[basic_cnn_perfomance,cnn_with_dropout_perfomance,cnn_with_ELU_activation_perfomace,cnn_with_image_augmentation_perfomance,\n",
        "                   transfer_learning_perfomance]"
      ],
      "execution_count": null,
      "outputs": []
    },
    {
      "cell_type": "code",
      "metadata": {
        "id": "wH6f9e_8XxKo",
        "colab_type": "code",
        "colab": {}
      },
      "source": [
        "model_names=['basic_cnn_model','cnn_model_with_dropout','cnn_with_ELU','cnn_with_image_augmentation','INCEPTION']"
      ],
      "execution_count": null,
      "outputs": []
    },
    {
      "cell_type": "code",
      "metadata": {
        "id": "Hgrd6PdnXdLz",
        "colab_type": "code",
        "colab": {}
      },
      "source": [
        "perfomances_dataframe =pd.DataFrame(perfomances_list,columns=['ACCURACY'],index=model_names)"
      ],
      "execution_count": null,
      "outputs": []
    },
    {
      "cell_type": "code",
      "metadata": {
        "id": "sqDnxWERXsl1",
        "colab_type": "code",
        "colab": {
          "base_uri": "https://localhost:8080/",
          "height": 195
        },
        "outputId": "3b24333d-b267-4313-c7dd-7c951ab82602"
      },
      "source": [
        "perfomances_dataframe"
      ],
      "execution_count": null,
      "outputs": [
        {
          "output_type": "execute_result",
          "data": {
            "text/html": [
              "<div>\n",
              "<style scoped>\n",
              "    .dataframe tbody tr th:only-of-type {\n",
              "        vertical-align: middle;\n",
              "    }\n",
              "\n",
              "    .dataframe tbody tr th {\n",
              "        vertical-align: top;\n",
              "    }\n",
              "\n",
              "    .dataframe thead th {\n",
              "        text-align: right;\n",
              "    }\n",
              "</style>\n",
              "<table border=\"1\" class=\"dataframe\">\n",
              "  <thead>\n",
              "    <tr style=\"text-align: right;\">\n",
              "      <th></th>\n",
              "      <th>ACCURACY</th>\n",
              "    </tr>\n",
              "  </thead>\n",
              "  <tbody>\n",
              "    <tr>\n",
              "      <th>basic_cnn_model</th>\n",
              "      <td>0.99</td>\n",
              "    </tr>\n",
              "    <tr>\n",
              "      <th>cnn_model_with_dropout</th>\n",
              "      <td>0.99</td>\n",
              "    </tr>\n",
              "    <tr>\n",
              "      <th>cnn_with_ELU</th>\n",
              "      <td>0.01</td>\n",
              "    </tr>\n",
              "    <tr>\n",
              "      <th>cnn_with_image_augmentation</th>\n",
              "      <td>0.01</td>\n",
              "    </tr>\n",
              "    <tr>\n",
              "      <th>INCEPTION</th>\n",
              "      <td>1.00</td>\n",
              "    </tr>\n",
              "  </tbody>\n",
              "</table>\n",
              "</div>"
            ],
            "text/plain": [
              "                             ACCURACY\n",
              "basic_cnn_model                  0.99\n",
              "cnn_model_with_dropout           0.99\n",
              "cnn_with_ELU                     0.01\n",
              "cnn_with_image_augmentation      0.01\n",
              "INCEPTION                        1.00"
            ]
          },
          "metadata": {
            "tags": []
          },
          "execution_count": 186
        }
      ]
    },
    {
      "cell_type": "markdown",
      "metadata": {
        "id": "_84cFVg5WaFV",
        "colab_type": "text"
      },
      "source": [
        ""
      ]
    }
  ]
}