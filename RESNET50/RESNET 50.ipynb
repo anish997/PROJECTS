{
 "cells": [
  {
   "cell_type": "code",
   "execution_count": 2,
   "metadata": {},
   "outputs": [
    {
     "name": "stderr",
     "output_type": "stream",
     "text": [
      "Using TensorFlow backend.\n"
     ]
    }
   ],
   "source": [
    " # IGNORE WARNINGS\n",
    "import warnings\n",
    "warnings.filterwarnings('ignore')\n",
    "\n",
    "# NUMPY PACKAGES\n",
    "import numpy  as np\n",
    "# GENERATING RANDOM  OBJECTS\n",
    "\n",
    "import random \n",
    "#  FOR  SYSTEM OPERATIONS\n",
    "\n",
    "import os\n",
    "\n",
    "# GENERATING PLOTS\n",
    "import matplotlib.pyplot as plt\n",
    "\n",
    "# IMAGE PREPRCESSING\n",
    "from keras.preprocessing.image import load_img,img_to_array\n",
    "\n",
    "#RESNET50 APPLICATIONS#\n",
    "from keras.applications import ResNet50\n",
    "\n",
    "# MODEL OBJECT\n",
    "from keras.models import Model\n",
    "\n",
    "# IMAGE OPERATIONS\n",
    "import cv2\n",
    "\n",
    "# ONE HOT ENCODING\n",
    "from keras.utils import to_categorical\n",
    "\n",
    "# SPLITTING DATA OPERATIONS\n",
    "from sklearn.model_selection import train_test_split\n",
    "\n",
    "# TRAINING NEURAL NETWORKS\n",
    "from keras import regularizers, optimizers\n",
    "\n",
    "# FULLY CONNCETD LAYERS AND FLATTENING OUTPUT\n",
    "from keras.layers import Dense,Flatten\n",
    "\n",
    " # GENERATING SEQUENTIAL OBJECT\n",
    "from keras.models import Sequential\n",
    "\n",
    "# CALL BACKS\n",
    "from keras.callbacks import EarlyStopping, ReduceLROnPlateau\n",
    "\n",
    "# CLASSIFICATION METRICS\n",
    "from sklearn.metrics import accuracy_score\n",
    "\n",
    "\n",
    "# DEEP LEARNING MODEL OBJECTS  TO SAVE\n",
    "from keras.models import model_from_json\n",
    "\n",
    " # DEEP LEARNING  PACKAGE SOURCE API\n",
    "import keras\n"
   ]
  },
  {
   "cell_type": "markdown",
   "metadata": {},
   "source": [
    "#### PATH WHERE FOLDER EXISTS"
   ]
  },
  {
   "cell_type": "code",
   "execution_count": 27,
   "metadata": {},
   "outputs": [],
   "source": [
    "os.chdir('C:\\\\Users\\\\anish_yagt7hg\\\\Desktop\\\\internship\\\\COVID-19_CLASSIFICATION\\\\DATA')"
   ]
  },
  {
   "cell_type": "code",
   "execution_count": 28,
   "metadata": {},
   "outputs": [
    {
     "data": {
      "text/plain": [
       "'C:\\\\Users\\\\anish_yagt7hg\\\\Desktop\\\\internship\\\\COVID-19_CLASSIFICATION\\\\DATA'"
      ]
     },
     "execution_count": 28,
     "metadata": {},
     "output_type": "execute_result"
    }
   ],
   "source": [
    "os.getcwd()"
   ]
  },
  {
   "cell_type": "markdown",
   "metadata": {},
   "source": [
    "#### APPENDING PATH TO FOLDERS"
   ]
  },
  {
   "cell_type": "code",
   "execution_count": 4,
   "metadata": {},
   "outputs": [],
   "source": [
    "labels=[]\n",
    "root_folders=[]\n",
    "for root,dir,filenames in os.walk(os.getcwd()):\n",
    "    for i in dir:\n",
    "        if i != None and i not in ['COVID','NON_COVID']:\n",
    "            labels.append(i)\n",
    "    root_folders.append(root)\n",
    "        "
   ]
  },
  {
   "cell_type": "code",
   "execution_count": 5,
   "metadata": {},
   "outputs": [
    {
     "data": {
      "text/plain": [
       "['C:\\\\Users\\\\anish_yagt7hg\\\\Desktop\\\\internship\\\\COVID-19_CLASSIFICATION\\\\DATA\\\\non_covid_Patient_0',\n",
       " 'C:\\\\Users\\\\anish_yagt7hg\\\\Desktop\\\\internship\\\\COVID-19_CLASSIFICATION\\\\DATA\\\\non_covid_Patient_1',\n",
       " 'C:\\\\Users\\\\anish_yagt7hg\\\\Desktop\\\\internship\\\\COVID-19_CLASSIFICATION\\\\DATA\\\\non_covid_Patient_10',\n",
       " 'C:\\\\Users\\\\anish_yagt7hg\\\\Desktop\\\\internship\\\\COVID-19_CLASSIFICATION\\\\DATA\\\\non_covid_Patient_11',\n",
       " 'C:\\\\Users\\\\anish_yagt7hg\\\\Desktop\\\\internship\\\\COVID-19_CLASSIFICATION\\\\DATA\\\\non_covid_Patient_12',\n",
       " 'C:\\\\Users\\\\anish_yagt7hg\\\\Desktop\\\\internship\\\\COVID-19_CLASSIFICATION\\\\DATA\\\\non_covid_Patient_13',\n",
       " 'C:\\\\Users\\\\anish_yagt7hg\\\\Desktop\\\\internship\\\\COVID-19_CLASSIFICATION\\\\DATA\\\\non_covid_Patient_14',\n",
       " 'C:\\\\Users\\\\anish_yagt7hg\\\\Desktop\\\\internship\\\\COVID-19_CLASSIFICATION\\\\DATA\\\\non_covid_Patient_15',\n",
       " 'C:\\\\Users\\\\anish_yagt7hg\\\\Desktop\\\\internship\\\\COVID-19_CLASSIFICATION\\\\DATA\\\\non_covid_Patient_16',\n",
       " 'C:\\\\Users\\\\anish_yagt7hg\\\\Desktop\\\\internship\\\\COVID-19_CLASSIFICATION\\\\DATA\\\\non_covid_Patient_17',\n",
       " 'C:\\\\Users\\\\anish_yagt7hg\\\\Desktop\\\\internship\\\\COVID-19_CLASSIFICATION\\\\DATA\\\\non_covid_Patient_18',\n",
       " 'C:\\\\Users\\\\anish_yagt7hg\\\\Desktop\\\\internship\\\\COVID-19_CLASSIFICATION\\\\DATA\\\\non_covid_Patient_19',\n",
       " 'C:\\\\Users\\\\anish_yagt7hg\\\\Desktop\\\\internship\\\\COVID-19_CLASSIFICATION\\\\DATA\\\\non_covid_Patient_2',\n",
       " 'C:\\\\Users\\\\anish_yagt7hg\\\\Desktop\\\\internship\\\\COVID-19_CLASSIFICATION\\\\DATA\\\\non_covid_Patient_20',\n",
       " 'C:\\\\Users\\\\anish_yagt7hg\\\\Desktop\\\\internship\\\\COVID-19_CLASSIFICATION\\\\DATA\\\\non_covid_Patient_21',\n",
       " 'C:\\\\Users\\\\anish_yagt7hg\\\\Desktop\\\\internship\\\\COVID-19_CLASSIFICATION\\\\DATA\\\\non_covid_Patient_22',\n",
       " 'C:\\\\Users\\\\anish_yagt7hg\\\\Desktop\\\\internship\\\\COVID-19_CLASSIFICATION\\\\DATA\\\\non_covid_Patient_23',\n",
       " 'C:\\\\Users\\\\anish_yagt7hg\\\\Desktop\\\\internship\\\\COVID-19_CLASSIFICATION\\\\DATA\\\\non_covid_Patient_24',\n",
       " 'C:\\\\Users\\\\anish_yagt7hg\\\\Desktop\\\\internship\\\\COVID-19_CLASSIFICATION\\\\DATA\\\\non_covid_Patient_25',\n",
       " 'C:\\\\Users\\\\anish_yagt7hg\\\\Desktop\\\\internship\\\\COVID-19_CLASSIFICATION\\\\DATA\\\\non_covid_Patient_26',\n",
       " 'C:\\\\Users\\\\anish_yagt7hg\\\\Desktop\\\\internship\\\\COVID-19_CLASSIFICATION\\\\DATA\\\\non_covid_Patient_27',\n",
       " 'C:\\\\Users\\\\anish_yagt7hg\\\\Desktop\\\\internship\\\\COVID-19_CLASSIFICATION\\\\DATA\\\\non_covid_Patient_28',\n",
       " 'C:\\\\Users\\\\anish_yagt7hg\\\\Desktop\\\\internship\\\\COVID-19_CLASSIFICATION\\\\DATA\\\\non_covid_Patient_29',\n",
       " 'C:\\\\Users\\\\anish_yagt7hg\\\\Desktop\\\\internship\\\\COVID-19_CLASSIFICATION\\\\DATA\\\\non_covid_Patient_3',\n",
       " 'C:\\\\Users\\\\anish_yagt7hg\\\\Desktop\\\\internship\\\\COVID-19_CLASSIFICATION\\\\DATA\\\\non_covid_Patient_30',\n",
       " 'C:\\\\Users\\\\anish_yagt7hg\\\\Desktop\\\\internship\\\\COVID-19_CLASSIFICATION\\\\DATA\\\\non_covid_Patient_31',\n",
       " 'C:\\\\Users\\\\anish_yagt7hg\\\\Desktop\\\\internship\\\\COVID-19_CLASSIFICATION\\\\DATA\\\\non_covid_Patient_32',\n",
       " 'C:\\\\Users\\\\anish_yagt7hg\\\\Desktop\\\\internship\\\\COVID-19_CLASSIFICATION\\\\DATA\\\\non_covid_Patient_33',\n",
       " 'C:\\\\Users\\\\anish_yagt7hg\\\\Desktop\\\\internship\\\\COVID-19_CLASSIFICATION\\\\DATA\\\\non_covid_Patient_34',\n",
       " 'C:\\\\Users\\\\anish_yagt7hg\\\\Desktop\\\\internship\\\\COVID-19_CLASSIFICATION\\\\DATA\\\\non_covid_Patient_35',\n",
       " 'C:\\\\Users\\\\anish_yagt7hg\\\\Desktop\\\\internship\\\\COVID-19_CLASSIFICATION\\\\DATA\\\\non_covid_Patient_36',\n",
       " 'C:\\\\Users\\\\anish_yagt7hg\\\\Desktop\\\\internship\\\\COVID-19_CLASSIFICATION\\\\DATA\\\\non_covid_Patient_37',\n",
       " 'C:\\\\Users\\\\anish_yagt7hg\\\\Desktop\\\\internship\\\\COVID-19_CLASSIFICATION\\\\DATA\\\\non_covid_Patient_38',\n",
       " 'C:\\\\Users\\\\anish_yagt7hg\\\\Desktop\\\\internship\\\\COVID-19_CLASSIFICATION\\\\DATA\\\\non_covid_Patient_39',\n",
       " 'C:\\\\Users\\\\anish_yagt7hg\\\\Desktop\\\\internship\\\\COVID-19_CLASSIFICATION\\\\DATA\\\\non_covid_Patient_4',\n",
       " 'C:\\\\Users\\\\anish_yagt7hg\\\\Desktop\\\\internship\\\\COVID-19_CLASSIFICATION\\\\DATA\\\\non_covid_Patient_40',\n",
       " 'C:\\\\Users\\\\anish_yagt7hg\\\\Desktop\\\\internship\\\\COVID-19_CLASSIFICATION\\\\DATA\\\\non_covid_Patient_41',\n",
       " 'C:\\\\Users\\\\anish_yagt7hg\\\\Desktop\\\\internship\\\\COVID-19_CLASSIFICATION\\\\DATA\\\\non_covid_Patient_42',\n",
       " 'C:\\\\Users\\\\anish_yagt7hg\\\\Desktop\\\\internship\\\\COVID-19_CLASSIFICATION\\\\DATA\\\\non_covid_Patient_43',\n",
       " 'C:\\\\Users\\\\anish_yagt7hg\\\\Desktop\\\\internship\\\\COVID-19_CLASSIFICATION\\\\DATA\\\\non_covid_Patient_44',\n",
       " 'C:\\\\Users\\\\anish_yagt7hg\\\\Desktop\\\\internship\\\\COVID-19_CLASSIFICATION\\\\DATA\\\\non_covid_Patient_45',\n",
       " 'C:\\\\Users\\\\anish_yagt7hg\\\\Desktop\\\\internship\\\\COVID-19_CLASSIFICATION\\\\DATA\\\\non_covid_Patient_46',\n",
       " 'C:\\\\Users\\\\anish_yagt7hg\\\\Desktop\\\\internship\\\\COVID-19_CLASSIFICATION\\\\DATA\\\\non_covid_Patient_47',\n",
       " 'C:\\\\Users\\\\anish_yagt7hg\\\\Desktop\\\\internship\\\\COVID-19_CLASSIFICATION\\\\DATA\\\\non_covid_Patient_48',\n",
       " 'C:\\\\Users\\\\anish_yagt7hg\\\\Desktop\\\\internship\\\\COVID-19_CLASSIFICATION\\\\DATA\\\\non_covid_Patient_49',\n",
       " 'C:\\\\Users\\\\anish_yagt7hg\\\\Desktop\\\\internship\\\\COVID-19_CLASSIFICATION\\\\DATA\\\\non_covid_Patient_5',\n",
       " 'C:\\\\Users\\\\anish_yagt7hg\\\\Desktop\\\\internship\\\\COVID-19_CLASSIFICATION\\\\DATA\\\\non_covid_Patient_50',\n",
       " 'C:\\\\Users\\\\anish_yagt7hg\\\\Desktop\\\\internship\\\\COVID-19_CLASSIFICATION\\\\DATA\\\\non_covid_Patient_51',\n",
       " 'C:\\\\Users\\\\anish_yagt7hg\\\\Desktop\\\\internship\\\\COVID-19_CLASSIFICATION\\\\DATA\\\\non_covid_Patient_52',\n",
       " 'C:\\\\Users\\\\anish_yagt7hg\\\\Desktop\\\\internship\\\\COVID-19_CLASSIFICATION\\\\DATA\\\\non_covid_Patient_53',\n",
       " 'C:\\\\Users\\\\anish_yagt7hg\\\\Desktop\\\\internship\\\\COVID-19_CLASSIFICATION\\\\DATA\\\\non_covid_Patient_54',\n",
       " 'C:\\\\Users\\\\anish_yagt7hg\\\\Desktop\\\\internship\\\\COVID-19_CLASSIFICATION\\\\DATA\\\\non_covid_Patient_55',\n",
       " 'C:\\\\Users\\\\anish_yagt7hg\\\\Desktop\\\\internship\\\\COVID-19_CLASSIFICATION\\\\DATA\\\\non_covid_Patient_56',\n",
       " 'C:\\\\Users\\\\anish_yagt7hg\\\\Desktop\\\\internship\\\\COVID-19_CLASSIFICATION\\\\DATA\\\\non_covid_Patient_57',\n",
       " 'C:\\\\Users\\\\anish_yagt7hg\\\\Desktop\\\\internship\\\\COVID-19_CLASSIFICATION\\\\DATA\\\\non_covid_Patient_58',\n",
       " 'C:\\\\Users\\\\anish_yagt7hg\\\\Desktop\\\\internship\\\\COVID-19_CLASSIFICATION\\\\DATA\\\\non_covid_Patient_59',\n",
       " 'C:\\\\Users\\\\anish_yagt7hg\\\\Desktop\\\\internship\\\\COVID-19_CLASSIFICATION\\\\DATA\\\\non_covid_Patient_6',\n",
       " 'C:\\\\Users\\\\anish_yagt7hg\\\\Desktop\\\\internship\\\\COVID-19_CLASSIFICATION\\\\DATA\\\\non_covid_Patient_60',\n",
       " 'C:\\\\Users\\\\anish_yagt7hg\\\\Desktop\\\\internship\\\\COVID-19_CLASSIFICATION\\\\DATA\\\\non_covid_Patient_61',\n",
       " 'C:\\\\Users\\\\anish_yagt7hg\\\\Desktop\\\\internship\\\\COVID-19_CLASSIFICATION\\\\DATA\\\\non_covid_Patient_62',\n",
       " 'C:\\\\Users\\\\anish_yagt7hg\\\\Desktop\\\\internship\\\\COVID-19_CLASSIFICATION\\\\DATA\\\\non_covid_Patient_63',\n",
       " 'C:\\\\Users\\\\anish_yagt7hg\\\\Desktop\\\\internship\\\\COVID-19_CLASSIFICATION\\\\DATA\\\\non_covid_Patient_64',\n",
       " 'C:\\\\Users\\\\anish_yagt7hg\\\\Desktop\\\\internship\\\\COVID-19_CLASSIFICATION\\\\DATA\\\\non_covid_Patient_65',\n",
       " 'C:\\\\Users\\\\anish_yagt7hg\\\\Desktop\\\\internship\\\\COVID-19_CLASSIFICATION\\\\DATA\\\\non_covid_Patient_66',\n",
       " 'C:\\\\Users\\\\anish_yagt7hg\\\\Desktop\\\\internship\\\\COVID-19_CLASSIFICATION\\\\DATA\\\\non_covid_Patient_67',\n",
       " 'C:\\\\Users\\\\anish_yagt7hg\\\\Desktop\\\\internship\\\\COVID-19_CLASSIFICATION\\\\DATA\\\\non_covid_Patient_68',\n",
       " 'C:\\\\Users\\\\anish_yagt7hg\\\\Desktop\\\\internship\\\\COVID-19_CLASSIFICATION\\\\DATA\\\\non_covid_Patient_69',\n",
       " 'C:\\\\Users\\\\anish_yagt7hg\\\\Desktop\\\\internship\\\\COVID-19_CLASSIFICATION\\\\DATA\\\\non_covid_Patient_7',\n",
       " 'C:\\\\Users\\\\anish_yagt7hg\\\\Desktop\\\\internship\\\\COVID-19_CLASSIFICATION\\\\DATA\\\\non_covid_Patient_70',\n",
       " 'C:\\\\Users\\\\anish_yagt7hg\\\\Desktop\\\\internship\\\\COVID-19_CLASSIFICATION\\\\DATA\\\\non_covid_Patient_71',\n",
       " 'C:\\\\Users\\\\anish_yagt7hg\\\\Desktop\\\\internship\\\\COVID-19_CLASSIFICATION\\\\DATA\\\\non_covid_Patient_72',\n",
       " 'C:\\\\Users\\\\anish_yagt7hg\\\\Desktop\\\\internship\\\\COVID-19_CLASSIFICATION\\\\DATA\\\\non_covid_Patient_73',\n",
       " 'C:\\\\Users\\\\anish_yagt7hg\\\\Desktop\\\\internship\\\\COVID-19_CLASSIFICATION\\\\DATA\\\\non_covid_Patient_74',\n",
       " 'C:\\\\Users\\\\anish_yagt7hg\\\\Desktop\\\\internship\\\\COVID-19_CLASSIFICATION\\\\DATA\\\\non_covid_Patient_75',\n",
       " 'C:\\\\Users\\\\anish_yagt7hg\\\\Desktop\\\\internship\\\\COVID-19_CLASSIFICATION\\\\DATA\\\\non_covid_Patient_76',\n",
       " 'C:\\\\Users\\\\anish_yagt7hg\\\\Desktop\\\\internship\\\\COVID-19_CLASSIFICATION\\\\DATA\\\\non_covid_Patient_77',\n",
       " 'C:\\\\Users\\\\anish_yagt7hg\\\\Desktop\\\\internship\\\\COVID-19_CLASSIFICATION\\\\DATA\\\\non_covid_Patient_78',\n",
       " 'C:\\\\Users\\\\anish_yagt7hg\\\\Desktop\\\\internship\\\\COVID-19_CLASSIFICATION\\\\DATA\\\\non_covid_Patient_79',\n",
       " 'C:\\\\Users\\\\anish_yagt7hg\\\\Desktop\\\\internship\\\\COVID-19_CLASSIFICATION\\\\DATA\\\\non_covid_Patient_8',\n",
       " 'C:\\\\Users\\\\anish_yagt7hg\\\\Desktop\\\\internship\\\\COVID-19_CLASSIFICATION\\\\DATA\\\\non_covid_Patient_80',\n",
       " 'C:\\\\Users\\\\anish_yagt7hg\\\\Desktop\\\\internship\\\\COVID-19_CLASSIFICATION\\\\DATA\\\\non_covid_Patient_81',\n",
       " 'C:\\\\Users\\\\anish_yagt7hg\\\\Desktop\\\\internship\\\\COVID-19_CLASSIFICATION\\\\DATA\\\\non_covid_Patient_82',\n",
       " 'C:\\\\Users\\\\anish_yagt7hg\\\\Desktop\\\\internship\\\\COVID-19_CLASSIFICATION\\\\DATA\\\\non_covid_Patient_83',\n",
       " 'C:\\\\Users\\\\anish_yagt7hg\\\\Desktop\\\\internship\\\\COVID-19_CLASSIFICATION\\\\DATA\\\\non_covid_Patient_84',\n",
       " 'C:\\\\Users\\\\anish_yagt7hg\\\\Desktop\\\\internship\\\\COVID-19_CLASSIFICATION\\\\DATA\\\\non_covid_Patient_85',\n",
       " 'C:\\\\Users\\\\anish_yagt7hg\\\\Desktop\\\\internship\\\\COVID-19_CLASSIFICATION\\\\DATA\\\\non_covid_Patient_86',\n",
       " 'C:\\\\Users\\\\anish_yagt7hg\\\\Desktop\\\\internship\\\\COVID-19_CLASSIFICATION\\\\DATA\\\\non_covid_Patient_88',\n",
       " 'C:\\\\Users\\\\anish_yagt7hg\\\\Desktop\\\\internship\\\\COVID-19_CLASSIFICATION\\\\DATA\\\\non_covid_Patient_89',\n",
       " 'C:\\\\Users\\\\anish_yagt7hg\\\\Desktop\\\\internship\\\\COVID-19_CLASSIFICATION\\\\DATA\\\\non_covid_Patient_9',\n",
       " 'C:\\\\Users\\\\anish_yagt7hg\\\\Desktop\\\\internship\\\\COVID-19_CLASSIFICATION\\\\DATA\\\\non_covid_Patient_90',\n",
       " 'C:\\\\Users\\\\anish_yagt7hg\\\\Desktop\\\\internship\\\\COVID-19_CLASSIFICATION\\\\DATA\\\\non_covid_Patient_91',\n",
       " 'C:\\\\Users\\\\anish_yagt7hg\\\\Desktop\\\\internship\\\\COVID-19_CLASSIFICATION\\\\DATA\\\\Patient 1',\n",
       " 'C:\\\\Users\\\\anish_yagt7hg\\\\Desktop\\\\internship\\\\COVID-19_CLASSIFICATION\\\\DATA\\\\Patient 10',\n",
       " 'C:\\\\Users\\\\anish_yagt7hg\\\\Desktop\\\\internship\\\\COVID-19_CLASSIFICATION\\\\DATA\\\\Patient 100',\n",
       " 'C:\\\\Users\\\\anish_yagt7hg\\\\Desktop\\\\internship\\\\COVID-19_CLASSIFICATION\\\\DATA\\\\Patient 101',\n",
       " 'C:\\\\Users\\\\anish_yagt7hg\\\\Desktop\\\\internship\\\\COVID-19_CLASSIFICATION\\\\DATA\\\\Patient 102',\n",
       " 'C:\\\\Users\\\\anish_yagt7hg\\\\Desktop\\\\internship\\\\COVID-19_CLASSIFICATION\\\\DATA\\\\Patient 103',\n",
       " 'C:\\\\Users\\\\anish_yagt7hg\\\\Desktop\\\\internship\\\\COVID-19_CLASSIFICATION\\\\DATA\\\\Patient 104',\n",
       " 'C:\\\\Users\\\\anish_yagt7hg\\\\Desktop\\\\internship\\\\COVID-19_CLASSIFICATION\\\\DATA\\\\Patient 105',\n",
       " 'C:\\\\Users\\\\anish_yagt7hg\\\\Desktop\\\\internship\\\\COVID-19_CLASSIFICATION\\\\DATA\\\\Patient 106',\n",
       " 'C:\\\\Users\\\\anish_yagt7hg\\\\Desktop\\\\internship\\\\COVID-19_CLASSIFICATION\\\\DATA\\\\Patient 107',\n",
       " 'C:\\\\Users\\\\anish_yagt7hg\\\\Desktop\\\\internship\\\\COVID-19_CLASSIFICATION\\\\DATA\\\\Patient 108',\n",
       " 'C:\\\\Users\\\\anish_yagt7hg\\\\Desktop\\\\internship\\\\COVID-19_CLASSIFICATION\\\\DATA\\\\Patient 109',\n",
       " 'C:\\\\Users\\\\anish_yagt7hg\\\\Desktop\\\\internship\\\\COVID-19_CLASSIFICATION\\\\DATA\\\\Patient 11',\n",
       " 'C:\\\\Users\\\\anish_yagt7hg\\\\Desktop\\\\internship\\\\COVID-19_CLASSIFICATION\\\\DATA\\\\Patient 110',\n",
       " 'C:\\\\Users\\\\anish_yagt7hg\\\\Desktop\\\\internship\\\\COVID-19_CLASSIFICATION\\\\DATA\\\\Patient 111',\n",
       " 'C:\\\\Users\\\\anish_yagt7hg\\\\Desktop\\\\internship\\\\COVID-19_CLASSIFICATION\\\\DATA\\\\Patient 112',\n",
       " 'C:\\\\Users\\\\anish_yagt7hg\\\\Desktop\\\\internship\\\\COVID-19_CLASSIFICATION\\\\DATA\\\\Patient 113',\n",
       " 'C:\\\\Users\\\\anish_yagt7hg\\\\Desktop\\\\internship\\\\COVID-19_CLASSIFICATION\\\\DATA\\\\Patient 114',\n",
       " 'C:\\\\Users\\\\anish_yagt7hg\\\\Desktop\\\\internship\\\\COVID-19_CLASSIFICATION\\\\DATA\\\\Patient 115',\n",
       " 'C:\\\\Users\\\\anish_yagt7hg\\\\Desktop\\\\internship\\\\COVID-19_CLASSIFICATION\\\\DATA\\\\Patient 116',\n",
       " 'C:\\\\Users\\\\anish_yagt7hg\\\\Desktop\\\\internship\\\\COVID-19_CLASSIFICATION\\\\DATA\\\\Patient 117',\n",
       " 'C:\\\\Users\\\\anish_yagt7hg\\\\Desktop\\\\internship\\\\COVID-19_CLASSIFICATION\\\\DATA\\\\Patient 118',\n",
       " 'C:\\\\Users\\\\anish_yagt7hg\\\\Desktop\\\\internship\\\\COVID-19_CLASSIFICATION\\\\DATA\\\\Patient 119',\n",
       " 'C:\\\\Users\\\\anish_yagt7hg\\\\Desktop\\\\internship\\\\COVID-19_CLASSIFICATION\\\\DATA\\\\Patient 12',\n",
       " 'C:\\\\Users\\\\anish_yagt7hg\\\\Desktop\\\\internship\\\\COVID-19_CLASSIFICATION\\\\DATA\\\\Patient 120',\n",
       " 'C:\\\\Users\\\\anish_yagt7hg\\\\Desktop\\\\internship\\\\COVID-19_CLASSIFICATION\\\\DATA\\\\Patient 121',\n",
       " 'C:\\\\Users\\\\anish_yagt7hg\\\\Desktop\\\\internship\\\\COVID-19_CLASSIFICATION\\\\DATA\\\\Patient 122',\n",
       " 'C:\\\\Users\\\\anish_yagt7hg\\\\Desktop\\\\internship\\\\COVID-19_CLASSIFICATION\\\\DATA\\\\Patient 123',\n",
       " 'C:\\\\Users\\\\anish_yagt7hg\\\\Desktop\\\\internship\\\\COVID-19_CLASSIFICATION\\\\DATA\\\\Patient 124',\n",
       " 'C:\\\\Users\\\\anish_yagt7hg\\\\Desktop\\\\internship\\\\COVID-19_CLASSIFICATION\\\\DATA\\\\Patient 125',\n",
       " 'C:\\\\Users\\\\anish_yagt7hg\\\\Desktop\\\\internship\\\\COVID-19_CLASSIFICATION\\\\DATA\\\\Patient 126',\n",
       " 'C:\\\\Users\\\\anish_yagt7hg\\\\Desktop\\\\internship\\\\COVID-19_CLASSIFICATION\\\\DATA\\\\Patient 127',\n",
       " 'C:\\\\Users\\\\anish_yagt7hg\\\\Desktop\\\\internship\\\\COVID-19_CLASSIFICATION\\\\DATA\\\\Patient 128',\n",
       " 'C:\\\\Users\\\\anish_yagt7hg\\\\Desktop\\\\internship\\\\COVID-19_CLASSIFICATION\\\\DATA\\\\Patient 129',\n",
       " 'C:\\\\Users\\\\anish_yagt7hg\\\\Desktop\\\\internship\\\\COVID-19_CLASSIFICATION\\\\DATA\\\\Patient 13',\n",
       " 'C:\\\\Users\\\\anish_yagt7hg\\\\Desktop\\\\internship\\\\COVID-19_CLASSIFICATION\\\\DATA\\\\Patient 130',\n",
       " 'C:\\\\Users\\\\anish_yagt7hg\\\\Desktop\\\\internship\\\\COVID-19_CLASSIFICATION\\\\DATA\\\\Patient 131',\n",
       " 'C:\\\\Users\\\\anish_yagt7hg\\\\Desktop\\\\internship\\\\COVID-19_CLASSIFICATION\\\\DATA\\\\Patient 132',\n",
       " 'C:\\\\Users\\\\anish_yagt7hg\\\\Desktop\\\\internship\\\\COVID-19_CLASSIFICATION\\\\DATA\\\\Patient 133',\n",
       " 'C:\\\\Users\\\\anish_yagt7hg\\\\Desktop\\\\internship\\\\COVID-19_CLASSIFICATION\\\\DATA\\\\Patient 134',\n",
       " 'C:\\\\Users\\\\anish_yagt7hg\\\\Desktop\\\\internship\\\\COVID-19_CLASSIFICATION\\\\DATA\\\\Patient 135',\n",
       " 'C:\\\\Users\\\\anish_yagt7hg\\\\Desktop\\\\internship\\\\COVID-19_CLASSIFICATION\\\\DATA\\\\Patient 136',\n",
       " 'C:\\\\Users\\\\anish_yagt7hg\\\\Desktop\\\\internship\\\\COVID-19_CLASSIFICATION\\\\DATA\\\\Patient 137',\n",
       " 'C:\\\\Users\\\\anish_yagt7hg\\\\Desktop\\\\internship\\\\COVID-19_CLASSIFICATION\\\\DATA\\\\Patient 138',\n",
       " 'C:\\\\Users\\\\anish_yagt7hg\\\\Desktop\\\\internship\\\\COVID-19_CLASSIFICATION\\\\DATA\\\\Patient 139',\n",
       " 'C:\\\\Users\\\\anish_yagt7hg\\\\Desktop\\\\internship\\\\COVID-19_CLASSIFICATION\\\\DATA\\\\Patient 14',\n",
       " 'C:\\\\Users\\\\anish_yagt7hg\\\\Desktop\\\\internship\\\\COVID-19_CLASSIFICATION\\\\DATA\\\\Patient 140',\n",
       " 'C:\\\\Users\\\\anish_yagt7hg\\\\Desktop\\\\internship\\\\COVID-19_CLASSIFICATION\\\\DATA\\\\Patient 141',\n",
       " 'C:\\\\Users\\\\anish_yagt7hg\\\\Desktop\\\\internship\\\\COVID-19_CLASSIFICATION\\\\DATA\\\\Patient 142',\n",
       " 'C:\\\\Users\\\\anish_yagt7hg\\\\Desktop\\\\internship\\\\COVID-19_CLASSIFICATION\\\\DATA\\\\Patient 143',\n",
       " 'C:\\\\Users\\\\anish_yagt7hg\\\\Desktop\\\\internship\\\\COVID-19_CLASSIFICATION\\\\DATA\\\\Patient 144',\n",
       " 'C:\\\\Users\\\\anish_yagt7hg\\\\Desktop\\\\internship\\\\COVID-19_CLASSIFICATION\\\\DATA\\\\Patient 145',\n",
       " 'C:\\\\Users\\\\anish_yagt7hg\\\\Desktop\\\\internship\\\\COVID-19_CLASSIFICATION\\\\DATA\\\\Patient 146',\n",
       " 'C:\\\\Users\\\\anish_yagt7hg\\\\Desktop\\\\internship\\\\COVID-19_CLASSIFICATION\\\\DATA\\\\Patient 147',\n",
       " 'C:\\\\Users\\\\anish_yagt7hg\\\\Desktop\\\\internship\\\\COVID-19_CLASSIFICATION\\\\DATA\\\\Patient 148',\n",
       " 'C:\\\\Users\\\\anish_yagt7hg\\\\Desktop\\\\internship\\\\COVID-19_CLASSIFICATION\\\\DATA\\\\Patient 149',\n",
       " 'C:\\\\Users\\\\anish_yagt7hg\\\\Desktop\\\\internship\\\\COVID-19_CLASSIFICATION\\\\DATA\\\\Patient 15',\n",
       " 'C:\\\\Users\\\\anish_yagt7hg\\\\Desktop\\\\internship\\\\COVID-19_CLASSIFICATION\\\\DATA\\\\Patient 150',\n",
       " 'C:\\\\Users\\\\anish_yagt7hg\\\\Desktop\\\\internship\\\\COVID-19_CLASSIFICATION\\\\DATA\\\\Patient 151',\n",
       " 'C:\\\\Users\\\\anish_yagt7hg\\\\Desktop\\\\internship\\\\COVID-19_CLASSIFICATION\\\\DATA\\\\Patient 152',\n",
       " 'C:\\\\Users\\\\anish_yagt7hg\\\\Desktop\\\\internship\\\\COVID-19_CLASSIFICATION\\\\DATA\\\\Patient 153',\n",
       " 'C:\\\\Users\\\\anish_yagt7hg\\\\Desktop\\\\internship\\\\COVID-19_CLASSIFICATION\\\\DATA\\\\Patient 154',\n",
       " 'C:\\\\Users\\\\anish_yagt7hg\\\\Desktop\\\\internship\\\\COVID-19_CLASSIFICATION\\\\DATA\\\\Patient 155',\n",
       " 'C:\\\\Users\\\\anish_yagt7hg\\\\Desktop\\\\internship\\\\COVID-19_CLASSIFICATION\\\\DATA\\\\Patient 156',\n",
       " 'C:\\\\Users\\\\anish_yagt7hg\\\\Desktop\\\\internship\\\\COVID-19_CLASSIFICATION\\\\DATA\\\\Patient 157',\n",
       " 'C:\\\\Users\\\\anish_yagt7hg\\\\Desktop\\\\internship\\\\COVID-19_CLASSIFICATION\\\\DATA\\\\Patient 158',\n",
       " 'C:\\\\Users\\\\anish_yagt7hg\\\\Desktop\\\\internship\\\\COVID-19_CLASSIFICATION\\\\DATA\\\\Patient 159',\n",
       " 'C:\\\\Users\\\\anish_yagt7hg\\\\Desktop\\\\internship\\\\COVID-19_CLASSIFICATION\\\\DATA\\\\Patient 16',\n",
       " 'C:\\\\Users\\\\anish_yagt7hg\\\\Desktop\\\\internship\\\\COVID-19_CLASSIFICATION\\\\DATA\\\\Patient 160',\n",
       " 'C:\\\\Users\\\\anish_yagt7hg\\\\Desktop\\\\internship\\\\COVID-19_CLASSIFICATION\\\\DATA\\\\Patient 161',\n",
       " 'C:\\\\Users\\\\anish_yagt7hg\\\\Desktop\\\\internship\\\\COVID-19_CLASSIFICATION\\\\DATA\\\\Patient 162',\n",
       " 'C:\\\\Users\\\\anish_yagt7hg\\\\Desktop\\\\internship\\\\COVID-19_CLASSIFICATION\\\\DATA\\\\Patient 163',\n",
       " 'C:\\\\Users\\\\anish_yagt7hg\\\\Desktop\\\\internship\\\\COVID-19_CLASSIFICATION\\\\DATA\\\\Patient 164',\n",
       " 'C:\\\\Users\\\\anish_yagt7hg\\\\Desktop\\\\internship\\\\COVID-19_CLASSIFICATION\\\\DATA\\\\Patient 165',\n",
       " 'C:\\\\Users\\\\anish_yagt7hg\\\\Desktop\\\\internship\\\\COVID-19_CLASSIFICATION\\\\DATA\\\\Patient 166',\n",
       " 'C:\\\\Users\\\\anish_yagt7hg\\\\Desktop\\\\internship\\\\COVID-19_CLASSIFICATION\\\\DATA\\\\Patient 167',\n",
       " 'C:\\\\Users\\\\anish_yagt7hg\\\\Desktop\\\\internship\\\\COVID-19_CLASSIFICATION\\\\DATA\\\\Patient 168',\n",
       " 'C:\\\\Users\\\\anish_yagt7hg\\\\Desktop\\\\internship\\\\COVID-19_CLASSIFICATION\\\\DATA\\\\Patient 169',\n",
       " 'C:\\\\Users\\\\anish_yagt7hg\\\\Desktop\\\\internship\\\\COVID-19_CLASSIFICATION\\\\DATA\\\\Patient 17',\n",
       " 'C:\\\\Users\\\\anish_yagt7hg\\\\Desktop\\\\internship\\\\COVID-19_CLASSIFICATION\\\\DATA\\\\Patient 170',\n",
       " 'C:\\\\Users\\\\anish_yagt7hg\\\\Desktop\\\\internship\\\\COVID-19_CLASSIFICATION\\\\DATA\\\\Patient 171',\n",
       " 'C:\\\\Users\\\\anish_yagt7hg\\\\Desktop\\\\internship\\\\COVID-19_CLASSIFICATION\\\\DATA\\\\Patient 172',\n",
       " 'C:\\\\Users\\\\anish_yagt7hg\\\\Desktop\\\\internship\\\\COVID-19_CLASSIFICATION\\\\DATA\\\\Patient 173',\n",
       " 'C:\\\\Users\\\\anish_yagt7hg\\\\Desktop\\\\internship\\\\COVID-19_CLASSIFICATION\\\\DATA\\\\Patient 174',\n",
       " 'C:\\\\Users\\\\anish_yagt7hg\\\\Desktop\\\\internship\\\\COVID-19_CLASSIFICATION\\\\DATA\\\\Patient 175',\n",
       " 'C:\\\\Users\\\\anish_yagt7hg\\\\Desktop\\\\internship\\\\COVID-19_CLASSIFICATION\\\\DATA\\\\Patient 176',\n",
       " 'C:\\\\Users\\\\anish_yagt7hg\\\\Desktop\\\\internship\\\\COVID-19_CLASSIFICATION\\\\DATA\\\\Patient 177',\n",
       " 'C:\\\\Users\\\\anish_yagt7hg\\\\Desktop\\\\internship\\\\COVID-19_CLASSIFICATION\\\\DATA\\\\Patient 178',\n",
       " 'C:\\\\Users\\\\anish_yagt7hg\\\\Desktop\\\\internship\\\\COVID-19_CLASSIFICATION\\\\DATA\\\\Patient 179',\n",
       " 'C:\\\\Users\\\\anish_yagt7hg\\\\Desktop\\\\internship\\\\COVID-19_CLASSIFICATION\\\\DATA\\\\Patient 18',\n",
       " 'C:\\\\Users\\\\anish_yagt7hg\\\\Desktop\\\\internship\\\\COVID-19_CLASSIFICATION\\\\DATA\\\\Patient 180',\n",
       " 'C:\\\\Users\\\\anish_yagt7hg\\\\Desktop\\\\internship\\\\COVID-19_CLASSIFICATION\\\\DATA\\\\Patient 181',\n",
       " 'C:\\\\Users\\\\anish_yagt7hg\\\\Desktop\\\\internship\\\\COVID-19_CLASSIFICATION\\\\DATA\\\\Patient 182',\n",
       " 'C:\\\\Users\\\\anish_yagt7hg\\\\Desktop\\\\internship\\\\COVID-19_CLASSIFICATION\\\\DATA\\\\Patient 183',\n",
       " 'C:\\\\Users\\\\anish_yagt7hg\\\\Desktop\\\\internship\\\\COVID-19_CLASSIFICATION\\\\DATA\\\\Patient 184',\n",
       " 'C:\\\\Users\\\\anish_yagt7hg\\\\Desktop\\\\internship\\\\COVID-19_CLASSIFICATION\\\\DATA\\\\Patient 185',\n",
       " 'C:\\\\Users\\\\anish_yagt7hg\\\\Desktop\\\\internship\\\\COVID-19_CLASSIFICATION\\\\DATA\\\\Patient 186',\n",
       " 'C:\\\\Users\\\\anish_yagt7hg\\\\Desktop\\\\internship\\\\COVID-19_CLASSIFICATION\\\\DATA\\\\Patient 187',\n",
       " 'C:\\\\Users\\\\anish_yagt7hg\\\\Desktop\\\\internship\\\\COVID-19_CLASSIFICATION\\\\DATA\\\\Patient 188',\n",
       " 'C:\\\\Users\\\\anish_yagt7hg\\\\Desktop\\\\internship\\\\COVID-19_CLASSIFICATION\\\\DATA\\\\Patient 189',\n",
       " 'C:\\\\Users\\\\anish_yagt7hg\\\\Desktop\\\\internship\\\\COVID-19_CLASSIFICATION\\\\DATA\\\\Patient 19',\n",
       " 'C:\\\\Users\\\\anish_yagt7hg\\\\Desktop\\\\internship\\\\COVID-19_CLASSIFICATION\\\\DATA\\\\Patient 190',\n",
       " 'C:\\\\Users\\\\anish_yagt7hg\\\\Desktop\\\\internship\\\\COVID-19_CLASSIFICATION\\\\DATA\\\\Patient 191',\n",
       " 'C:\\\\Users\\\\anish_yagt7hg\\\\Desktop\\\\internship\\\\COVID-19_CLASSIFICATION\\\\DATA\\\\Patient 192',\n",
       " 'C:\\\\Users\\\\anish_yagt7hg\\\\Desktop\\\\internship\\\\COVID-19_CLASSIFICATION\\\\DATA\\\\Patient 193',\n",
       " 'C:\\\\Users\\\\anish_yagt7hg\\\\Desktop\\\\internship\\\\COVID-19_CLASSIFICATION\\\\DATA\\\\Patient 194',\n",
       " 'C:\\\\Users\\\\anish_yagt7hg\\\\Desktop\\\\internship\\\\COVID-19_CLASSIFICATION\\\\DATA\\\\Patient 195',\n",
       " 'C:\\\\Users\\\\anish_yagt7hg\\\\Desktop\\\\internship\\\\COVID-19_CLASSIFICATION\\\\DATA\\\\Patient 196',\n",
       " 'C:\\\\Users\\\\anish_yagt7hg\\\\Desktop\\\\internship\\\\COVID-19_CLASSIFICATION\\\\DATA\\\\Patient 197',\n",
       " 'C:\\\\Users\\\\anish_yagt7hg\\\\Desktop\\\\internship\\\\COVID-19_CLASSIFICATION\\\\DATA\\\\Patient 199',\n",
       " 'C:\\\\Users\\\\anish_yagt7hg\\\\Desktop\\\\internship\\\\COVID-19_CLASSIFICATION\\\\DATA\\\\Patient 2',\n",
       " 'C:\\\\Users\\\\anish_yagt7hg\\\\Desktop\\\\internship\\\\COVID-19_CLASSIFICATION\\\\DATA\\\\Patient 20',\n",
       " 'C:\\\\Users\\\\anish_yagt7hg\\\\Desktop\\\\internship\\\\COVID-19_CLASSIFICATION\\\\DATA\\\\Patient 200',\n",
       " 'C:\\\\Users\\\\anish_yagt7hg\\\\Desktop\\\\internship\\\\COVID-19_CLASSIFICATION\\\\DATA\\\\Patient 201',\n",
       " 'C:\\\\Users\\\\anish_yagt7hg\\\\Desktop\\\\internship\\\\COVID-19_CLASSIFICATION\\\\DATA\\\\Patient 202',\n",
       " 'C:\\\\Users\\\\anish_yagt7hg\\\\Desktop\\\\internship\\\\COVID-19_CLASSIFICATION\\\\DATA\\\\Patient 203',\n",
       " 'C:\\\\Users\\\\anish_yagt7hg\\\\Desktop\\\\internship\\\\COVID-19_CLASSIFICATION\\\\DATA\\\\Patient 204',\n",
       " 'C:\\\\Users\\\\anish_yagt7hg\\\\Desktop\\\\internship\\\\COVID-19_CLASSIFICATION\\\\DATA\\\\Patient 205',\n",
       " 'C:\\\\Users\\\\anish_yagt7hg\\\\Desktop\\\\internship\\\\COVID-19_CLASSIFICATION\\\\DATA\\\\Patient 206',\n",
       " 'C:\\\\Users\\\\anish_yagt7hg\\\\Desktop\\\\internship\\\\COVID-19_CLASSIFICATION\\\\DATA\\\\Patient 207',\n",
       " 'C:\\\\Users\\\\anish_yagt7hg\\\\Desktop\\\\internship\\\\COVID-19_CLASSIFICATION\\\\DATA\\\\Patient 208',\n",
       " 'C:\\\\Users\\\\anish_yagt7hg\\\\Desktop\\\\internship\\\\COVID-19_CLASSIFICATION\\\\DATA\\\\Patient 209',\n",
       " 'C:\\\\Users\\\\anish_yagt7hg\\\\Desktop\\\\internship\\\\COVID-19_CLASSIFICATION\\\\DATA\\\\Patient 21',\n",
       " 'C:\\\\Users\\\\anish_yagt7hg\\\\Desktop\\\\internship\\\\COVID-19_CLASSIFICATION\\\\DATA\\\\Patient 210',\n",
       " 'C:\\\\Users\\\\anish_yagt7hg\\\\Desktop\\\\internship\\\\COVID-19_CLASSIFICATION\\\\DATA\\\\Patient 211',\n",
       " 'C:\\\\Users\\\\anish_yagt7hg\\\\Desktop\\\\internship\\\\COVID-19_CLASSIFICATION\\\\DATA\\\\Patient 212',\n",
       " 'C:\\\\Users\\\\anish_yagt7hg\\\\Desktop\\\\internship\\\\COVID-19_CLASSIFICATION\\\\DATA\\\\Patient 213',\n",
       " 'C:\\\\Users\\\\anish_yagt7hg\\\\Desktop\\\\internship\\\\COVID-19_CLASSIFICATION\\\\DATA\\\\Patient 214',\n",
       " 'C:\\\\Users\\\\anish_yagt7hg\\\\Desktop\\\\internship\\\\COVID-19_CLASSIFICATION\\\\DATA\\\\Patient 215',\n",
       " 'C:\\\\Users\\\\anish_yagt7hg\\\\Desktop\\\\internship\\\\COVID-19_CLASSIFICATION\\\\DATA\\\\Patient 216',\n",
       " 'C:\\\\Users\\\\anish_yagt7hg\\\\Desktop\\\\internship\\\\COVID-19_CLASSIFICATION\\\\DATA\\\\Patient 22',\n",
       " 'C:\\\\Users\\\\anish_yagt7hg\\\\Desktop\\\\internship\\\\COVID-19_CLASSIFICATION\\\\DATA\\\\Patient 23',\n",
       " 'C:\\\\Users\\\\anish_yagt7hg\\\\Desktop\\\\internship\\\\COVID-19_CLASSIFICATION\\\\DATA\\\\Patient 24',\n",
       " 'C:\\\\Users\\\\anish_yagt7hg\\\\Desktop\\\\internship\\\\COVID-19_CLASSIFICATION\\\\DATA\\\\Patient 25',\n",
       " 'C:\\\\Users\\\\anish_yagt7hg\\\\Desktop\\\\internship\\\\COVID-19_CLASSIFICATION\\\\DATA\\\\Patient 26',\n",
       " 'C:\\\\Users\\\\anish_yagt7hg\\\\Desktop\\\\internship\\\\COVID-19_CLASSIFICATION\\\\DATA\\\\Patient 27',\n",
       " 'C:\\\\Users\\\\anish_yagt7hg\\\\Desktop\\\\internship\\\\COVID-19_CLASSIFICATION\\\\DATA\\\\Patient 28',\n",
       " 'C:\\\\Users\\\\anish_yagt7hg\\\\Desktop\\\\internship\\\\COVID-19_CLASSIFICATION\\\\DATA\\\\Patient 29',\n",
       " 'C:\\\\Users\\\\anish_yagt7hg\\\\Desktop\\\\internship\\\\COVID-19_CLASSIFICATION\\\\DATA\\\\Patient 3',\n",
       " 'C:\\\\Users\\\\anish_yagt7hg\\\\Desktop\\\\internship\\\\COVID-19_CLASSIFICATION\\\\DATA\\\\Patient 30',\n",
       " 'C:\\\\Users\\\\anish_yagt7hg\\\\Desktop\\\\internship\\\\COVID-19_CLASSIFICATION\\\\DATA\\\\Patient 31',\n",
       " 'C:\\\\Users\\\\anish_yagt7hg\\\\Desktop\\\\internship\\\\COVID-19_CLASSIFICATION\\\\DATA\\\\Patient 32',\n",
       " 'C:\\\\Users\\\\anish_yagt7hg\\\\Desktop\\\\internship\\\\COVID-19_CLASSIFICATION\\\\DATA\\\\Patient 33',\n",
       " 'C:\\\\Users\\\\anish_yagt7hg\\\\Desktop\\\\internship\\\\COVID-19_CLASSIFICATION\\\\DATA\\\\Patient 34',\n",
       " 'C:\\\\Users\\\\anish_yagt7hg\\\\Desktop\\\\internship\\\\COVID-19_CLASSIFICATION\\\\DATA\\\\Patient 35',\n",
       " 'C:\\\\Users\\\\anish_yagt7hg\\\\Desktop\\\\internship\\\\COVID-19_CLASSIFICATION\\\\DATA\\\\Patient 36',\n",
       " 'C:\\\\Users\\\\anish_yagt7hg\\\\Desktop\\\\internship\\\\COVID-19_CLASSIFICATION\\\\DATA\\\\Patient 37',\n",
       " 'C:\\\\Users\\\\anish_yagt7hg\\\\Desktop\\\\internship\\\\COVID-19_CLASSIFICATION\\\\DATA\\\\Patient 38',\n",
       " 'C:\\\\Users\\\\anish_yagt7hg\\\\Desktop\\\\internship\\\\COVID-19_CLASSIFICATION\\\\DATA\\\\Patient 39',\n",
       " 'C:\\\\Users\\\\anish_yagt7hg\\\\Desktop\\\\internship\\\\COVID-19_CLASSIFICATION\\\\DATA\\\\Patient 4',\n",
       " 'C:\\\\Users\\\\anish_yagt7hg\\\\Desktop\\\\internship\\\\COVID-19_CLASSIFICATION\\\\DATA\\\\Patient 40',\n",
       " 'C:\\\\Users\\\\anish_yagt7hg\\\\Desktop\\\\internship\\\\COVID-19_CLASSIFICATION\\\\DATA\\\\Patient 41',\n",
       " 'C:\\\\Users\\\\anish_yagt7hg\\\\Desktop\\\\internship\\\\COVID-19_CLASSIFICATION\\\\DATA\\\\Patient 42',\n",
       " 'C:\\\\Users\\\\anish_yagt7hg\\\\Desktop\\\\internship\\\\COVID-19_CLASSIFICATION\\\\DATA\\\\Patient 43',\n",
       " 'C:\\\\Users\\\\anish_yagt7hg\\\\Desktop\\\\internship\\\\COVID-19_CLASSIFICATION\\\\DATA\\\\Patient 44',\n",
       " 'C:\\\\Users\\\\anish_yagt7hg\\\\Desktop\\\\internship\\\\COVID-19_CLASSIFICATION\\\\DATA\\\\Patient 45',\n",
       " 'C:\\\\Users\\\\anish_yagt7hg\\\\Desktop\\\\internship\\\\COVID-19_CLASSIFICATION\\\\DATA\\\\Patient 46',\n",
       " 'C:\\\\Users\\\\anish_yagt7hg\\\\Desktop\\\\internship\\\\COVID-19_CLASSIFICATION\\\\DATA\\\\Patient 47',\n",
       " 'C:\\\\Users\\\\anish_yagt7hg\\\\Desktop\\\\internship\\\\COVID-19_CLASSIFICATION\\\\DATA\\\\Patient 48',\n",
       " 'C:\\\\Users\\\\anish_yagt7hg\\\\Desktop\\\\internship\\\\COVID-19_CLASSIFICATION\\\\DATA\\\\Patient 49',\n",
       " 'C:\\\\Users\\\\anish_yagt7hg\\\\Desktop\\\\internship\\\\COVID-19_CLASSIFICATION\\\\DATA\\\\Patient 5',\n",
       " 'C:\\\\Users\\\\anish_yagt7hg\\\\Desktop\\\\internship\\\\COVID-19_CLASSIFICATION\\\\DATA\\\\Patient 50',\n",
       " 'C:\\\\Users\\\\anish_yagt7hg\\\\Desktop\\\\internship\\\\COVID-19_CLASSIFICATION\\\\DATA\\\\Patient 51',\n",
       " 'C:\\\\Users\\\\anish_yagt7hg\\\\Desktop\\\\internship\\\\COVID-19_CLASSIFICATION\\\\DATA\\\\Patient 52',\n",
       " 'C:\\\\Users\\\\anish_yagt7hg\\\\Desktop\\\\internship\\\\COVID-19_CLASSIFICATION\\\\DATA\\\\Patient 53',\n",
       " 'C:\\\\Users\\\\anish_yagt7hg\\\\Desktop\\\\internship\\\\COVID-19_CLASSIFICATION\\\\DATA\\\\Patient 54',\n",
       " 'C:\\\\Users\\\\anish_yagt7hg\\\\Desktop\\\\internship\\\\COVID-19_CLASSIFICATION\\\\DATA\\\\Patient 55',\n",
       " 'C:\\\\Users\\\\anish_yagt7hg\\\\Desktop\\\\internship\\\\COVID-19_CLASSIFICATION\\\\DATA\\\\Patient 56',\n",
       " 'C:\\\\Users\\\\anish_yagt7hg\\\\Desktop\\\\internship\\\\COVID-19_CLASSIFICATION\\\\DATA\\\\Patient 57',\n",
       " 'C:\\\\Users\\\\anish_yagt7hg\\\\Desktop\\\\internship\\\\COVID-19_CLASSIFICATION\\\\DATA\\\\Patient 58',\n",
       " 'C:\\\\Users\\\\anish_yagt7hg\\\\Desktop\\\\internship\\\\COVID-19_CLASSIFICATION\\\\DATA\\\\Patient 59',\n",
       " 'C:\\\\Users\\\\anish_yagt7hg\\\\Desktop\\\\internship\\\\COVID-19_CLASSIFICATION\\\\DATA\\\\Patient 6',\n",
       " 'C:\\\\Users\\\\anish_yagt7hg\\\\Desktop\\\\internship\\\\COVID-19_CLASSIFICATION\\\\DATA\\\\Patient 60',\n",
       " 'C:\\\\Users\\\\anish_yagt7hg\\\\Desktop\\\\internship\\\\COVID-19_CLASSIFICATION\\\\DATA\\\\Patient 61',\n",
       " 'C:\\\\Users\\\\anish_yagt7hg\\\\Desktop\\\\internship\\\\COVID-19_CLASSIFICATION\\\\DATA\\\\Patient 62',\n",
       " 'C:\\\\Users\\\\anish_yagt7hg\\\\Desktop\\\\internship\\\\COVID-19_CLASSIFICATION\\\\DATA\\\\Patient 63',\n",
       " 'C:\\\\Users\\\\anish_yagt7hg\\\\Desktop\\\\internship\\\\COVID-19_CLASSIFICATION\\\\DATA\\\\Patient 64',\n",
       " 'C:\\\\Users\\\\anish_yagt7hg\\\\Desktop\\\\internship\\\\COVID-19_CLASSIFICATION\\\\DATA\\\\Patient 65',\n",
       " 'C:\\\\Users\\\\anish_yagt7hg\\\\Desktop\\\\internship\\\\COVID-19_CLASSIFICATION\\\\DATA\\\\Patient 66',\n",
       " 'C:\\\\Users\\\\anish_yagt7hg\\\\Desktop\\\\internship\\\\COVID-19_CLASSIFICATION\\\\DATA\\\\Patient 67',\n",
       " 'C:\\\\Users\\\\anish_yagt7hg\\\\Desktop\\\\internship\\\\COVID-19_CLASSIFICATION\\\\DATA\\\\Patient 68',\n",
       " 'C:\\\\Users\\\\anish_yagt7hg\\\\Desktop\\\\internship\\\\COVID-19_CLASSIFICATION\\\\DATA\\\\Patient 69',\n",
       " 'C:\\\\Users\\\\anish_yagt7hg\\\\Desktop\\\\internship\\\\COVID-19_CLASSIFICATION\\\\DATA\\\\Patient 7',\n",
       " 'C:\\\\Users\\\\anish_yagt7hg\\\\Desktop\\\\internship\\\\COVID-19_CLASSIFICATION\\\\DATA\\\\Patient 70',\n",
       " 'C:\\\\Users\\\\anish_yagt7hg\\\\Desktop\\\\internship\\\\COVID-19_CLASSIFICATION\\\\DATA\\\\Patient 71',\n",
       " 'C:\\\\Users\\\\anish_yagt7hg\\\\Desktop\\\\internship\\\\COVID-19_CLASSIFICATION\\\\DATA\\\\Patient 72',\n",
       " 'C:\\\\Users\\\\anish_yagt7hg\\\\Desktop\\\\internship\\\\COVID-19_CLASSIFICATION\\\\DATA\\\\Patient 73',\n",
       " 'C:\\\\Users\\\\anish_yagt7hg\\\\Desktop\\\\internship\\\\COVID-19_CLASSIFICATION\\\\DATA\\\\Patient 74',\n",
       " 'C:\\\\Users\\\\anish_yagt7hg\\\\Desktop\\\\internship\\\\COVID-19_CLASSIFICATION\\\\DATA\\\\Patient 75',\n",
       " 'C:\\\\Users\\\\anish_yagt7hg\\\\Desktop\\\\internship\\\\COVID-19_CLASSIFICATION\\\\DATA\\\\Patient 76',\n",
       " 'C:\\\\Users\\\\anish_yagt7hg\\\\Desktop\\\\internship\\\\COVID-19_CLASSIFICATION\\\\DATA\\\\Patient 78',\n",
       " 'C:\\\\Users\\\\anish_yagt7hg\\\\Desktop\\\\internship\\\\COVID-19_CLASSIFICATION\\\\DATA\\\\Patient 8',\n",
       " 'C:\\\\Users\\\\anish_yagt7hg\\\\Desktop\\\\internship\\\\COVID-19_CLASSIFICATION\\\\DATA\\\\Patient 80',\n",
       " 'C:\\\\Users\\\\anish_yagt7hg\\\\Desktop\\\\internship\\\\COVID-19_CLASSIFICATION\\\\DATA\\\\Patient 81',\n",
       " 'C:\\\\Users\\\\anish_yagt7hg\\\\Desktop\\\\internship\\\\COVID-19_CLASSIFICATION\\\\DATA\\\\Patient 82',\n",
       " 'C:\\\\Users\\\\anish_yagt7hg\\\\Desktop\\\\internship\\\\COVID-19_CLASSIFICATION\\\\DATA\\\\Patient 83',\n",
       " 'C:\\\\Users\\\\anish_yagt7hg\\\\Desktop\\\\internship\\\\COVID-19_CLASSIFICATION\\\\DATA\\\\Patient 84',\n",
       " 'C:\\\\Users\\\\anish_yagt7hg\\\\Desktop\\\\internship\\\\COVID-19_CLASSIFICATION\\\\DATA\\\\Patient 85',\n",
       " 'C:\\\\Users\\\\anish_yagt7hg\\\\Desktop\\\\internship\\\\COVID-19_CLASSIFICATION\\\\DATA\\\\Patient 86',\n",
       " 'C:\\\\Users\\\\anish_yagt7hg\\\\Desktop\\\\internship\\\\COVID-19_CLASSIFICATION\\\\DATA\\\\Patient 87',\n",
       " 'C:\\\\Users\\\\anish_yagt7hg\\\\Desktop\\\\internship\\\\COVID-19_CLASSIFICATION\\\\DATA\\\\Patient 88',\n",
       " 'C:\\\\Users\\\\anish_yagt7hg\\\\Desktop\\\\internship\\\\COVID-19_CLASSIFICATION\\\\DATA\\\\Patient 89',\n",
       " 'C:\\\\Users\\\\anish_yagt7hg\\\\Desktop\\\\internship\\\\COVID-19_CLASSIFICATION\\\\DATA\\\\Patient 9',\n",
       " 'C:\\\\Users\\\\anish_yagt7hg\\\\Desktop\\\\internship\\\\COVID-19_CLASSIFICATION\\\\DATA\\\\Patient 90',\n",
       " 'C:\\\\Users\\\\anish_yagt7hg\\\\Desktop\\\\internship\\\\COVID-19_CLASSIFICATION\\\\DATA\\\\Patient 91',\n",
       " 'C:\\\\Users\\\\anish_yagt7hg\\\\Desktop\\\\internship\\\\COVID-19_CLASSIFICATION\\\\DATA\\\\Patient 92',\n",
       " 'C:\\\\Users\\\\anish_yagt7hg\\\\Desktop\\\\internship\\\\COVID-19_CLASSIFICATION\\\\DATA\\\\Patient 93',\n",
       " 'C:\\\\Users\\\\anish_yagt7hg\\\\Desktop\\\\internship\\\\COVID-19_CLASSIFICATION\\\\DATA\\\\Patient 94',\n",
       " 'C:\\\\Users\\\\anish_yagt7hg\\\\Desktop\\\\internship\\\\COVID-19_CLASSIFICATION\\\\DATA\\\\Patient 95',\n",
       " 'C:\\\\Users\\\\anish_yagt7hg\\\\Desktop\\\\internship\\\\COVID-19_CLASSIFICATION\\\\DATA\\\\Patient 96',\n",
       " 'C:\\\\Users\\\\anish_yagt7hg\\\\Desktop\\\\internship\\\\COVID-19_CLASSIFICATION\\\\DATA\\\\Patient 97',\n",
       " 'C:\\\\Users\\\\anish_yagt7hg\\\\Desktop\\\\internship\\\\COVID-19_CLASSIFICATION\\\\DATA\\\\Patient 98',\n",
       " 'C:\\\\Users\\\\anish_yagt7hg\\\\Desktop\\\\internship\\\\COVID-19_CLASSIFICATION\\\\DATA\\\\Patient 99']"
      ]
     },
     "execution_count": 5,
     "metadata": {},
     "output_type": "execute_result"
    }
   ],
   "source": [
    "root_folders = [i for i in root_folders if  not i.split('\\\\')[-1] in [ 'DATA']]\n",
    "root_folders"
   ]
  },
  {
   "cell_type": "markdown",
   "metadata": {},
   "source": [
    "#### A LIST CONTAINING TUBLE OF FOLDER PATH AND LABEL"
   ]
  },
  {
   "cell_type": "code",
   "execution_count": 6,
   "metadata": {},
   "outputs": [],
   "source": [
    "labels_and_folders=[(i,j) for i,j in zip(labels,root_folders)]"
   ]
  },
  {
   "cell_type": "markdown",
   "metadata": {},
   "source": [
    "#### folders function for proceesing the images in a folder by appending path"
   ]
  },
  {
   "cell_type": "code",
   "execution_count": 7,
   "metadata": {},
   "outputs": [],
   "source": [
    "def folders(label,path):\n",
    "    folder =[os.path.join(path+'\\\\'+ file) for file in os.listdir(path)]\n",
    "    return folder"
   ]
  },
  {
   "cell_type": "markdown",
   "metadata": {},
   "source": [
    "#### READ_IMAGES is a custom function by  processing the data  and returning an array"
   ]
  },
  {
   "cell_type": "code",
   "execution_count": 8,
   "metadata": {},
   "outputs": [],
   "source": [
    "def READ_IMAGES(data):\n",
    "    \n",
    "    for img in range(len(data)):\n",
    "        data[img] = load_img(data[img],target_size=(224,224,3),color_mode='rgb')     # REDAING IMAGES IN RGB MODE and#    RESIZING IMAGE INTO (224 X 224 x3)\n",
    "        data[img] = img_to_array(data[img])\n",
    "        data[img] = data[img]/255                                 #   scaling the value between 0 and 1\n",
    "        data[img] = cv2.pow(data[img],0.6)                        # applying power transformation for enhancing images \n",
    "    return np.array(data)\n",
    "        "
   ]
  },
  {
   "cell_type": "markdown",
   "metadata": {},
   "source": [
    "#### feature_vector function predicts the output and returns mean of features"
   ]
  },
  {
   "cell_type": "code",
   "execution_count": 9,
   "metadata": {},
   "outputs": [],
   "source": [
    "def feature_vector(model,image):\n",
    "    ft_vector = model.predict(image)\n",
    "    feature_vector = np.mean(ft_vector,axis=0)\n",
    "    return feature_vector\n",
    "        "
   ]
  },
  {
   "cell_type": "markdown",
   "metadata": {},
   "source": [
    "#### LABELLING THE  TARGET"
   ]
  },
  {
   "cell_type": "code",
   "execution_count": 10,
   "metadata": {},
   "outputs": [],
   "source": [
    "def Label(label):\n",
    "        if label.startswith('non_covid_Patient'):\n",
    "            return 0\n",
    "        else:\n",
    "            return 1\n"
   ]
  },
  {
   "cell_type": "markdown",
   "metadata": {},
   "source": [
    "#### feature_vector2 function predicts the output and returns median of features¶"
   ]
  },
  {
   "cell_type": "code",
   "execution_count": 11,
   "metadata": {},
   "outputs": [],
   "source": [
    "def feature_vector2(model,image):\n",
    "    ft_vector = model.predict(image)\n",
    "    feature_vector = np.median(ft_vector,axis=0)\n",
    "    return feature_vector\n",
    "        "
   ]
  },
  {
   "cell_type": "markdown",
   "metadata": {},
   "source": [
    "#### SETTING RESNET  50 INTO NON -TRAINABLE"
   ]
  },
  {
   "cell_type": "code",
   "execution_count": 3,
   "metadata": {},
   "outputs": [
    {
     "name": "stdout",
     "output_type": "stream",
     "text": [
      "WARNING:tensorflow:From C:\\Users\\anish_yagt7hg\\Anaconda3\\lib\\site-packages\\tensorflow\\python\\framework\\op_def_library.py:263: colocate_with (from tensorflow.python.framework.ops) is deprecated and will be removed in a future version.\n",
      "Instructions for updating:\n",
      "Colocations handled automatically by placer.\n"
     ]
    }
   ],
   "source": [
    "# importing resnet application\n",
    "res_net =ResNet50(include_top=False,weights ='imagenet',input_shape =(224,224,3))\n",
    "#taking the output layer\n",
    "output =res_net.layers[-1].output\n",
    "output = keras.layers.Flatten()(output)\n",
    "\n",
    "# creating model instance object\n",
    "Resnet_model = Model(res_net.input,output)\n",
    "\n",
    "Resnet_model.trainable = False\n",
    "for layer in Resnet_model.layers:\n",
    "    layer.trainable = False"
   ]
  },
  {
   "cell_type": "markdown",
   "metadata": {},
   "source": [
    "#### custom function for proceesing resnet  with mean of fatures"
   ]
  },
  {
   "cell_type": "code",
   "execution_count": 17,
   "metadata": {},
   "outputs": [],
   "source": [
    "def resnet_with_mean(label,path):\n",
    "    folder =folders(label,path)\n",
    "    img_list=READ_IMAGES(folder)\n",
    "    img_list=np.array(img_list)\n",
    "    img_features =feature_vector(res_net,img_list)\n",
    "    target_label = Label(label)\n",
    "    return img_features,target_label "
   ]
  },
  {
   "cell_type": "markdown",
   "metadata": {},
   "source": [
    "#### LIst  containing array of features and label"
   ]
  },
  {
   "cell_type": "code",
   "execution_count": 18,
   "metadata": {},
   "outputs": [],
   "source": [
    "resnet_data=[]\n",
    "for i,j in labels_and_folders:\n",
    "    resnet_data.append(resnet_with_mean(i,j))"
   ]
  },
  {
   "cell_type": "code",
   "execution_count": 19,
   "metadata": {},
   "outputs": [],
   "source": [
    "# target label\n",
    "target_label_resnet_mean =[j for i,j in resnet_data]\n",
    "# label encoding\n",
    "target_label_resnet_mean=to_categorical(target_label_resnet_mean)\n",
    "\n",
    "# features of array\n",
    "features_mean_resnet=[i for i,j in resnet_data]\n"
   ]
  },
  {
   "cell_type": "markdown",
   "metadata": {},
   "source": [
    "### splitting the data into train and test"
   ]
  },
  {
   "cell_type": "code",
   "execution_count": 21,
   "metadata": {},
   "outputs": [
    {
     "name": "stdout",
     "output_type": "stream",
     "text": [
      "THE NO.of Images in Training Data are : 243 \n",
      "THE NO.of Images in VALIDATION Data are : 61 \n"
     ]
    }
   ],
   "source": [
    "resnet_mean_X_train,resnet_mean_X_test,resnet_mean_Y_train,resnet_mean_Y_test = train_test_split(features_mean_resnet,target_label_resnet_mean,test_size=0.2,random_state=142899)\n",
    "\n",
    "print(\"THE NO.of Images in Training Data are : {} \".format(len(resnet_mean_X_train)))\n",
    "print(\"THE NO.of Images in VALIDATION Data are : {} \".format(len(resnet_mean_X_test)))\n"
   ]
  },
  {
   "cell_type": "markdown",
   "metadata": {},
   "source": [
    "#### converting list of arrays into array of arrays"
   ]
  },
  {
   "cell_type": "code",
   "execution_count": 22,
   "metadata": {},
   "outputs": [],
   "source": [
    "resnet_mean_X_train =np.array(resnet_mean_X_train)\n",
    "resnet_mean_X_test =np.array(resnet_mean_X_test)"
   ]
  },
  {
   "cell_type": "code",
   "execution_count": 23,
   "metadata": {},
   "outputs": [
    {
     "data": {
      "text/plain": [
       "(7, 7, 2048)"
      ]
     },
     "execution_count": 23,
     "metadata": {},
     "output_type": "execute_result"
    }
   ],
   "source": [
    "resnet_mean_X_train[0].shape"
   ]
  },
  {
   "cell_type": "markdown",
   "metadata": {},
   "source": [
    "#### DEFINING MODEL"
   ]
  },
  {
   "cell_type": "code",
   "execution_count": 25,
   "metadata": {
    "scrolled": true
   },
   "outputs": [
    {
     "name": "stdout",
     "output_type": "stream",
     "text": [
      "Train on 243 samples, validate on 61 samples\n",
      "Epoch 1/100\n",
      "243/243 [==============================] - 2s 10ms/step - loss: 9.7429 - acc: 0.5720 - val_loss: 8.0766 - val_acc: 0.6393\n",
      "Epoch 2/100\n",
      "243/243 [==============================] - 1s 4ms/step - loss: 6.2762 - acc: 0.6008 - val_loss: 5.4489 - val_acc: 0.6393\n",
      "Epoch 3/100\n",
      "243/243 [==============================] - 1s 4ms/step - loss: 4.6782 - acc: 0.6626 - val_loss: 3.9967 - val_acc: 0.3607\n",
      "Epoch 4/100\n",
      "243/243 [==============================] - 1s 4ms/step - loss: 3.5311 - acc: 0.6749 - val_loss: 3.2184 - val_acc: 0.6393\n",
      "Epoch 5/100\n",
      "243/243 [==============================] - 1s 4ms/step - loss: 2.8443 - acc: 0.6420 - val_loss: 2.6355 - val_acc: 0.6393\n",
      "Epoch 6/100\n",
      "243/243 [==============================] - 1s 4ms/step - loss: 2.3190 - acc: 0.7160 - val_loss: 2.2883 - val_acc: 0.6393\n",
      "Epoch 7/100\n",
      "243/243 [==============================] - 1s 4ms/step - loss: 1.9604 - acc: 0.7160 - val_loss: 1.8178 - val_acc: 0.6393\n",
      "Epoch 8/100\n",
      "243/243 [==============================] - 1s 4ms/step - loss: 1.7374 - acc: 0.6296 - val_loss: 1.6947 - val_acc: 0.6393\n",
      "Epoch 9/100\n",
      "243/243 [==============================] - 1s 4ms/step - loss: 1.4942 - acc: 0.7222 - val_loss: 1.6080 - val_acc: 0.3607\n",
      "Epoch 10/100\n",
      "243/243 [==============================] - 1s 4ms/step - loss: 1.4729 - acc: 0.6049 - val_loss: 1.3713 - val_acc: 0.3607\n",
      "Epoch 11/100\n",
      "243/243 [==============================] - 1s 4ms/step - loss: 1.3333 - acc: 0.5350 - val_loss: 1.2794 - val_acc: 0.6393\n",
      "Epoch 12/100\n",
      "243/243 [==============================] - 1s 4ms/step - loss: 1.1863 - acc: 0.5802 - val_loss: 1.2931 - val_acc: 0.6393\n",
      "Epoch 13/100\n",
      "243/243 [==============================] - 1s 5ms/step - loss: 1.0942 - acc: 0.7160 - val_loss: 1.0915 - val_acc: 0.6393\n",
      "Epoch 14/100\n",
      "243/243 [==============================] - 1s 5ms/step - loss: 0.9691 - acc: 0.7160 - val_loss: 0.9695 - val_acc: 0.6393\n",
      "Epoch 15/100\n",
      "243/243 [==============================] - 1s 5ms/step - loss: 0.9041 - acc: 0.7160 - val_loss: 0.9222 - val_acc: 0.6393\n",
      "Epoch 16/100\n",
      "243/243 [==============================] - 1s 4ms/step - loss: 0.9501 - acc: 0.5761 - val_loss: 0.9843 - val_acc: 0.6393\n",
      "Epoch 17/100\n",
      "243/243 [==============================] - 1s 5ms/step - loss: 0.8008 - acc: 0.7160 - val_loss: 0.8416 - val_acc: 0.6393\n",
      "Epoch 18/100\n",
      "243/243 [==============================] - 1s 5ms/step - loss: 0.7847 - acc: 0.7160 - val_loss: 0.8063 - val_acc: 0.6393\n",
      "Epoch 19/100\n",
      "243/243 [==============================] - 1s 5ms/step - loss: 0.7622 - acc: 0.7140 - val_loss: 0.8854 - val_acc: 0.6393\n",
      "Epoch 20/100\n",
      "243/243 [==============================] - 1s 5ms/step - loss: 0.7375 - acc: 0.7160 - val_loss: 0.8129 - val_acc: 0.6393\n",
      "Epoch 21/100\n",
      "243/243 [==============================] - 1s 5ms/step - loss: 0.7046 - acc: 0.7160 - val_loss: 0.7770 - val_acc: 0.6393\n",
      "Epoch 22/100\n",
      "243/243 [==============================] - 1s 5ms/step - loss: 0.7205 - acc: 0.6255 - val_loss: 0.9006 - val_acc: 0.6393\n",
      "Epoch 23/100\n",
      "243/243 [==============================] - 1s 4ms/step - loss: 0.8281 - acc: 0.7160 - val_loss: 0.7840 - val_acc: 0.3607\n",
      "Epoch 24/100\n",
      "243/243 [==============================] - 1s 5ms/step - loss: 0.9661 - acc: 0.5597 - val_loss: 0.9965 - val_acc: 0.6393\n",
      "Epoch 25/100\n",
      "243/243 [==============================] - 1s 4ms/step - loss: 0.7694 - acc: 0.7160 - val_loss: 0.7907 - val_acc: 0.6393\n",
      "Epoch 26/100\n",
      "243/243 [==============================] - 1s 5ms/step - loss: 0.7411 - acc: 0.7160 - val_loss: 0.7929 - val_acc: 0.6393\n",
      "\n",
      "Epoch 00026: ReduceLROnPlateau reducing learning rate to 0.00010000000474974513.\n",
      "Epoch 27/100\n",
      "243/243 [==============================] - 1s 5ms/step - loss: 0.7224 - acc: 0.7160 - val_loss: 0.7890 - val_acc: 0.6393\n",
      "Epoch 28/100\n",
      "243/243 [==============================] - 1s 4ms/step - loss: 0.7179 - acc: 0.7160 - val_loss: 0.7829 - val_acc: 0.6393\n",
      "Epoch 29/100\n",
      "243/243 [==============================] - 1s 5ms/step - loss: 0.7140 - acc: 0.7160 - val_loss: 0.7800 - val_acc: 0.6393\n",
      "Epoch 30/100\n",
      "243/243 [==============================] - 1s 5ms/step - loss: 0.7097 - acc: 0.7160 - val_loss: 0.7779 - val_acc: 0.6393\n",
      "Epoch 31/100\n",
      "243/243 [==============================] - 1s 5ms/step - loss: 0.7055 - acc: 0.7160 - val_loss: 0.7761 - val_acc: 0.6393\n",
      "Epoch 32/100\n",
      "243/243 [==============================] - 1s 5ms/step - loss: 0.7012 - acc: 0.7160 - val_loss: 0.7716 - val_acc: 0.6393\n",
      "Epoch 33/100\n",
      "243/243 [==============================] - 1s 5ms/step - loss: 0.6983 - acc: 0.7160 - val_loss: 0.7662 - val_acc: 0.6393\n",
      "Epoch 34/100\n",
      "243/243 [==============================] - 1s 5ms/step - loss: 0.6949 - acc: 0.7160 - val_loss: 0.7722 - val_acc: 0.6393\n",
      "Epoch 35/100\n",
      "243/243 [==============================] - 1s 4ms/step - loss: 0.6916 - acc: 0.7160 - val_loss: 0.7581 - val_acc: 0.6393\n",
      "Epoch 36/100\n",
      "243/243 [==============================] - 1s 4ms/step - loss: 0.6904 - acc: 0.7160 - val_loss: 0.7623 - val_acc: 0.6393\n",
      "Epoch 37/100\n",
      "243/243 [==============================] - 1s 5ms/step - loss: 0.6831 - acc: 0.7160 - val_loss: 0.7460 - val_acc: 0.6393\n",
      "Epoch 38/100\n",
      "243/243 [==============================] - 1s 5ms/step - loss: 0.6854 - acc: 0.7160 - val_loss: 0.7492 - val_acc: 0.6393\n",
      "Epoch 39/100\n",
      "243/243 [==============================] - 1s 4ms/step - loss: 0.6770 - acc: 0.7160 - val_loss: 0.7414 - val_acc: 0.6393\n",
      "Epoch 40/100\n",
      "243/243 [==============================] - 1s 4ms/step - loss: 0.6745 - acc: 0.7160 - val_loss: 0.7395 - val_acc: 0.6393\n",
      "Epoch 41/100\n",
      "243/243 [==============================] - 1s 4ms/step - loss: 0.6720 - acc: 0.7160 - val_loss: 0.7424 - val_acc: 0.6393\n",
      "Epoch 42/100\n",
      "243/243 [==============================] - 1s 4ms/step - loss: 0.6701 - acc: 0.7160 - val_loss: 0.7353 - val_acc: 0.6393\n",
      "Epoch 43/100\n",
      "243/243 [==============================] - 1s 4ms/step - loss: 0.6660 - acc: 0.7160 - val_loss: 0.7442 - val_acc: 0.6393\n",
      "Epoch 44/100\n",
      "243/243 [==============================] - 1s 4ms/step - loss: 0.6644 - acc: 0.7160 - val_loss: 0.7334 - val_acc: 0.6393\n",
      "Epoch 45/100\n",
      "243/243 [==============================] - 1s 4ms/step - loss: 0.6631 - acc: 0.7160 - val_loss: 0.7255 - val_acc: 0.6393\n",
      "Epoch 46/100\n",
      "243/243 [==============================] - 1s 4ms/step - loss: 0.6592 - acc: 0.7160 - val_loss: 0.7303 - val_acc: 0.6393\n",
      "Epoch 47/100\n",
      "243/243 [==============================] - 1s 4ms/step - loss: 0.6616 - acc: 0.7160 - val_loss: 0.7329 - val_acc: 0.6393\n",
      "Epoch 48/100\n",
      "243/243 [==============================] - 1s 4ms/step - loss: 0.6546 - acc: 0.7160 - val_loss: 0.7163 - val_acc: 0.6393\n",
      "Epoch 49/100\n",
      "243/243 [==============================] - 1s 4ms/step - loss: 0.6562 - acc: 0.7160 - val_loss: 0.7284 - val_acc: 0.6393\n",
      "Epoch 50/100\n",
      "243/243 [==============================] - 1s 4ms/step - loss: 0.6555 - acc: 0.7160 - val_loss: 0.7125 - val_acc: 0.6393\n",
      "Epoch 51/100\n",
      "243/243 [==============================] - 1s 4ms/step - loss: 0.6480 - acc: 0.7160 - val_loss: 0.7279 - val_acc: 0.6393\n",
      "Epoch 52/100\n",
      "243/243 [==============================] - 1s 5ms/step - loss: 0.6539 - acc: 0.7160 - val_loss: 0.7328 - val_acc: 0.6393\n",
      "Epoch 53/100\n",
      "243/243 [==============================] - 1s 5ms/step - loss: 0.6598 - acc: 0.7160 - val_loss: 0.7025 - val_acc: 0.6393\n",
      "Epoch 54/100\n",
      "243/243 [==============================] - 1s 5ms/step - loss: 0.6508 - acc: 0.7160 - val_loss: 0.7357 - val_acc: 0.6393\n",
      "Epoch 55/100\n",
      "243/243 [==============================] - 1s 4ms/step - loss: 0.6460 - acc: 0.7160 - val_loss: 0.7093 - val_acc: 0.6393\n",
      "Epoch 56/100\n",
      "243/243 [==============================] - 1s 4ms/step - loss: 0.6586 - acc: 0.7160 - val_loss: 0.6997 - val_acc: 0.6393\n",
      "Epoch 57/100\n",
      "243/243 [==============================] - 1s 4ms/step - loss: 0.6384 - acc: 0.7160 - val_loss: 0.7283 - val_acc: 0.6393\n",
      "Epoch 58/100\n",
      "243/243 [==============================] - 1s 4ms/step - loss: 0.6418 - acc: 0.7160 - val_loss: 0.7082 - val_acc: 0.6393\n",
      "Epoch 59/100\n",
      "243/243 [==============================] - 1s 4ms/step - loss: 0.6396 - acc: 0.7160 - val_loss: 0.6988 - val_acc: 0.6393\n",
      "Epoch 60/100\n",
      "243/243 [==============================] - 1s 4ms/step - loss: 0.6382 - acc: 0.7160 - val_loss: 0.7162 - val_acc: 0.6393\n",
      "Epoch 61/100\n",
      "243/243 [==============================] - 1s 4ms/step - loss: 0.6361 - acc: 0.7160 - val_loss: 0.7040 - val_acc: 0.6393\n",
      "Epoch 62/100\n",
      "243/243 [==============================] - 1s 4ms/step - loss: 0.6339 - acc: 0.7160 - val_loss: 0.6935 - val_acc: 0.6393\n",
      "Epoch 63/100\n",
      "243/243 [==============================] - 1s 4ms/step - loss: 0.6402 - acc: 0.7160 - val_loss: 0.7203 - val_acc: 0.6393\n",
      "Epoch 64/100\n",
      "243/243 [==============================] - 1s 4ms/step - loss: 0.6400 - acc: 0.7160 - val_loss: 0.6904 - val_acc: 0.6393\n",
      "Epoch 65/100\n",
      "243/243 [==============================] - 1s 4ms/step - loss: 0.6464 - acc: 0.7160 - val_loss: 0.7207 - val_acc: 0.6393\n",
      "Epoch 66/100\n",
      "243/243 [==============================] - 1s 4ms/step - loss: 0.6713 - acc: 0.7160 - val_loss: 0.6904 - val_acc: 0.6393\n",
      "Epoch 67/100\n",
      "243/243 [==============================] - 1s 5ms/step - loss: 0.6401 - acc: 0.7160 - val_loss: 0.7680 - val_acc: 0.6393\n",
      "Epoch 68/100\n",
      "243/243 [==============================] - 1s 4ms/step - loss: 0.6491 - acc: 0.7160 - val_loss: 0.6847 - val_acc: 0.6393\n",
      "Epoch 69/100\n",
      "243/243 [==============================] - 1s 4ms/step - loss: 0.6277 - acc: 0.7160 - val_loss: 0.7208 - val_acc: 0.6393\n",
      "Epoch 70/100\n",
      "243/243 [==============================] - 1s 4ms/step - loss: 0.6342 - acc: 0.7160 - val_loss: 0.6892 - val_acc: 0.6393\n",
      "Epoch 71/100\n",
      "243/243 [==============================] - 1s 4ms/step - loss: 0.6282 - acc: 0.7160 - val_loss: 0.6890 - val_acc: 0.6393\n",
      "Epoch 72/100\n",
      "243/243 [==============================] - 1s 4ms/step - loss: 0.6279 - acc: 0.7160 - val_loss: 0.6965 - val_acc: 0.6393\n",
      "Epoch 73/100\n",
      "243/243 [==============================] - 1s 5ms/step - loss: 0.6304 - acc: 0.7160 - val_loss: 0.7069 - val_acc: 0.6393\n",
      "\n",
      "Epoch 00073: ReduceLROnPlateau reducing learning rate to 1.0000000474974514e-05.\n",
      "Epoch 74/100\n",
      "243/243 [==============================] - 1s 4ms/step - loss: 0.6248 - acc: 0.7160 - val_loss: 0.6978 - val_acc: 0.6393\n",
      "Epoch 75/100\n",
      "243/243 [==============================] - 1s 4ms/step - loss: 0.6234 - acc: 0.7160 - val_loss: 0.6935 - val_acc: 0.6393\n",
      "Epoch 76/100\n",
      "243/243 [==============================] - 1s 4ms/step - loss: 0.6232 - acc: 0.7160 - val_loss: 0.6930 - val_acc: 0.6393\n",
      "Epoch 77/100\n",
      "243/243 [==============================] - 1s 4ms/step - loss: 0.6231 - acc: 0.7160 - val_loss: 0.6938 - val_acc: 0.6393\n",
      "Epoch 78/100\n",
      "243/243 [==============================] - 1s 4ms/step - loss: 0.6233 - acc: 0.7160 - val_loss: 0.6956 - val_acc: 0.6393\n",
      "\n",
      "Epoch 00078: ReduceLROnPlateau reducing learning rate to 1.0000000656873453e-06.\n",
      "Epoch 00078: early stopping\n"
     ]
    }
   ],
   "source": [
    "resnet_model_mean=Sequential()\n",
    "resnet_model_mean.add(Dense(256,input_shape=(7,7,2048),activation='sigmoid',kernel_initializer='glorot_uniform',\n",
    "                kernel_regularizer= regularizers.l2()))\n",
    "\n",
    "\n",
    "#resnet_model_mean.add(Dense(512,activation='sigmoid', kernel_regularizer= regularizers.l2()))\n",
    "resnet_model_mean.add(Dense(512,activation='sigmoid', kernel_regularizer= regularizers.l2()))\n",
    "\n",
    "resnet_model_mean.add(Flatten())\n",
    "resnet_model_mean.add(Dense(2, activation='sigmoid'))\n",
    "\n",
    "\n",
    "\n",
    "#OPtimizers\n",
    "adam = keras.optimizers.Adam(lr=0.001, decay=0.0005)\n",
    "\n",
    "## Callbacks\n",
    "earlystopper = EarlyStopping(monitor='val_loss', patience=10, verbose=1)\n",
    "reduce_lr = ReduceLROnPlateau(patience=5, verbose=1)\n",
    "\n",
    "## Compiling the model and defining loss function\n",
    "resnet_model_mean.compile(optimizer=adam, loss='binary_crossentropy', metrics=['accuracy'])\n",
    "\n",
    "## Training neural nets\n",
    "resnet_mean_history=resnet_model_mean.fit(resnet_mean_X_train, resnet_mean_Y_train, validation_data=(resnet_mean_X_test,resnet_mean_Y_test ),\n",
    "                                          epochs=100, batch_size=32, \n",
    "                                          callbacks=[reduce_lr, earlystopper])"
   ]
  },
  {
   "cell_type": "markdown",
   "metadata": {},
   "source": [
    "#### PLOTTING LOSS AND ACCURACY OF  MEAN OF FEATURES"
   ]
  },
  {
   "cell_type": "code",
   "execution_count": 26,
   "metadata": {},
   "outputs": [
    {
     "data": {
      "image/png": "[encoded data removed]",
      "text/plain": [
       "<Figure size 864x288 with 2 Axes>"
      ]
     },
     "metadata": {
      "needs_background": "light"
     },
     "output_type": "display_data"
    }
   ],
   "source": [
    "f, (ax1, ax2) = plt.subplots(1, 2, figsize=(12, 4))\n",
    "t = f.suptitle('RESNET_50 MODEL WITH MEAN OF FETURES', fontsize=12)\n",
    "f.subplots_adjust(top=0.85, wspace=0.3)\n",
    "\n",
    "epoch_list = list(range(1,79))\n",
    "ax1.plot(epoch_list, resnet_mean_history.history['acc'], label='Train Accuracy')\n",
    "ax1.plot(epoch_list, resnet_mean_history.history['val_acc'], label='Validation Accuracy')\n",
    "ax1.set_xticks(np.arange(0, 79, 5))\n",
    "ax1.set_ylabel('Accuracy Value')\n",
    "ax1.set_xlabel('Epoch')\n",
    "ax1.set_title('Accuracy')\n",
    "l1 = ax1.legend(loc=\"best\")\n",
    "\n",
    "ax2.plot(epoch_list, resnet_mean_history.history['loss'], label='Train Loss')\n",
    "ax2.plot(epoch_list, resnet_mean_history.history['val_loss'], label='Validation Loss')\n",
    "ax2.set_xticks(np.arange(0, 79, 5))\n",
    "ax2.set_ylabel('Loss Value')\n",
    "ax2.set_xlabel('Epoch')\n",
    "ax2.set_title('Loss')\n",
    "l2 = ax2.legend(loc=\"best\")"
   ]
  },
  {
   "cell_type": "markdown",
   "metadata": {},
   "source": [
    "#### PREDICTIONS ON  MEAN OF FEATURES"
   ]
  },
  {
   "cell_type": "code",
   "execution_count": 27,
   "metadata": {},
   "outputs": [],
   "source": [
    "resnet_mean_pred_train =resnet_model_mean.predict_classes(resnet_mean_X_train)\n",
    "resnet_mean_pred_test =resnet_model_mean.predict_classes(resnet_mean_X_test)\n"
   ]
  },
  {
   "cell_type": "markdown",
   "metadata": {},
   "source": [
    "#### LABELS FOR THE DATA"
   ]
  },
  {
   "cell_type": "code",
   "execution_count": 28,
   "metadata": {},
   "outputs": [],
   "source": [
    "resnet_labels_train = np.argmax(resnet_mean_Y_train,axis=1)\n",
    "resnet_labels_test = np.argmax(resnet_mean_Y_test,axis=1)\n"
   ]
  },
  {
   "cell_type": "markdown",
   "metadata": {},
   "source": [
    "#### METRIC SCORE FOR THE MODEL"
   ]
  },
  {
   "cell_type": "code",
   "execution_count": 29,
   "metadata": {},
   "outputs": [
    {
     "name": "stdout",
     "output_type": "stream",
     "text": [
      "ACCURACY SCORE OF VGG19 with MEAN OF FEATURES ON TRAINING SET IS :0.7160493827160493\n",
      "ACCURACY SCORE OF VGG19 with MEAN OF FEATURES ON TEST SET IS :0.639344262295082\n"
     ]
    }
   ],
   "source": [
    "print(\"ACCURACY SCORE OF VGG19 with MEAN OF FEATURES ON TRAINING SET IS :{}\".\n",
    "      format(accuracy_score(resnet_labels_train ,resnet_mean_pred_train)))\n",
    "      \n",
    "      \n",
    "print(\"ACCURACY SCORE OF VGG19 with MEAN OF FEATURES ON TEST SET IS :{}\".\n",
    "      format(accuracy_score(resnet_labels_test,resnet_mean_pred_test)))\n",
    "      \n",
    "      \n",
    "            "
   ]
  },
  {
   "cell_type": "markdown",
   "metadata": {},
   "source": [
    "#### MODEL SERIALIZATION"
   ]
  },
  {
   "cell_type": "code",
   "execution_count": 30,
   "metadata": {},
   "outputs": [
    {
     "name": "stdout",
     "output_type": "stream",
     "text": [
      "Saved model to disk\n"
     ]
    }
   ],
   "source": [
    "# serialize model to JSON\n",
    "model_json = resnet_model_mean.to_json()\n",
    "with open(\"resnet50_mean.json\", \"w\") as json_file:\n",
    "    json_file.write(model_json)\n",
    "# serialize weights to HDF5\n",
    "resnet_model_mean.save_weights(\"resnet50_mean.h5\")\n",
    "print(\"Saved model to disk\")\n"
   ]
  },
  {
   "cell_type": "markdown",
   "metadata": {},
   "source": [
    "#### RESNET 50  WITH MEDIAN OF FEATURES"
   ]
  },
  {
   "cell_type": "markdown",
   "metadata": {},
   "source": [
    "#### FUNCTION FOR PROCESSING FOLDERS"
   ]
  },
  {
   "cell_type": "code",
   "execution_count": 29,
   "metadata": {},
   "outputs": [],
   "source": [
    "def resnet_with_median(label,path):\n",
    "    folder =folders(label,path)\n",
    "    img_list=READ_IMAGES(folder)\n",
    "    img_list=np.array(img_list)\n",
    "    img_features =feature_vector2(res_net,img_list)\n",
    "    target_label = Label(label)\n",
    "    return img_features,target_label "
   ]
  },
  {
   "cell_type": "code",
   "execution_count": 14,
   "metadata": {},
   "outputs": [],
   "source": [
    "resnet_data2=[]\n",
    "for i,j in labels_and_folders:\n",
    "    resnet_data2.append(resnet_with_median(i,j))"
   ]
  },
  {
   "cell_type": "code",
   "execution_count": null,
   "metadata": {},
   "outputs": [],
   "source": [
    "#### target label\n",
    "target_label_resnet_median =[j for i,j in resnet_data2]\n",
    "\n",
    "# label encoding of arrays\n",
    "target_label_resnet_median=to_categorical(target_label_resnet_median)\n",
    "\n",
    "\n",
    "# features of median of arrays\n",
    "features_median_resnet=[i for i,j in resnet_data2]"
   ]
  },
  {
   "cell_type": "markdown",
   "metadata": {},
   "source": [
    "#### SPLITTING MEDIAN OF FEATURES DATA INTO TRAIN AND TEST"
   ]
  },
  {
   "cell_type": "code",
   "execution_count": 16,
   "metadata": {},
   "outputs": [
    {
     "name": "stdout",
     "output_type": "stream",
     "text": [
      "THE NO.of Images in Training Data are : 243 \n",
      "THE NO.of Images in VALIDATION Data are : 61 \n"
     ]
    }
   ],
   "source": [
    "resnet_median_X_train,resnet_median_X_test,resnet_median_Y_train,resnet_median_Y_test = train_test_split(features_median_resnet,target_label_resnet_median,test_size=0.2,random_state=141199)\n",
    "\n",
    "print(\"THE NO.of Images in Training Data are : {} \".format(len(resnet_median_X_train)))\n",
    "print(\"THE NO.of Images in VALIDATION Data are : {} \".format(len(resnet_median_X_test)))\n"
   ]
  },
  {
   "cell_type": "markdown",
   "metadata": {},
   "source": [
    "#### CONVERTING LIST OF ARRAYS INTO ARRAY OF ARRAYS"
   ]
  },
  {
   "cell_type": "code",
   "execution_count": 17,
   "metadata": {},
   "outputs": [],
   "source": [
    "resnet_median_X_train =np.array(resnet_median_X_train)\n",
    "resnet_median_X_test =np.array(resnet_median_X_test)"
   ]
  },
  {
   "cell_type": "markdown",
   "metadata": {},
   "source": [
    "#### RESNET MODEL FOR MEDIAN"
   ]
  },
  {
   "cell_type": "code",
   "execution_count": 19,
   "metadata": {
    "scrolled": true
   },
   "outputs": [
    {
     "name": "stdout",
     "output_type": "stream",
     "text": [
      "Train on 243 samples, validate on 61 samples\n",
      "Epoch 1/100\n",
      "243/243 [==============================] - 4s 18ms/step - loss: 8.5220 - acc: 0.6543 - val_loss: 8.4035 - val_acc: 0.2377\n",
      "Epoch 2/100\n",
      "243/243 [==============================] - 1s 6ms/step - loss: 8.2799 - acc: 0.5247 - val_loss: 7.9964 - val_acc: 0.7705\n",
      "Epoch 3/100\n",
      "243/243 [==============================] - 1s 6ms/step - loss: 8.0246 - acc: 0.6831 - val_loss: 7.8110 - val_acc: 0.7705\n",
      "Epoch 4/100\n",
      "243/243 [==============================] - 1s 6ms/step - loss: 7.7597 - acc: 0.6831 - val_loss: 7.5197 - val_acc: 0.7705\n",
      "Epoch 5/100\n",
      "243/243 [==============================] - 2s 6ms/step - loss: 7.5287 - acc: 0.6831 - val_loss: 7.3315 - val_acc: 0.7705\n",
      "Epoch 6/100\n",
      "243/243 [==============================] - 1s 6ms/step - loss: 7.3166 - acc: 0.6831 - val_loss: 7.1181 - val_acc: 0.7705\n",
      "Epoch 7/100\n",
      "243/243 [==============================] - 1s 6ms/step - loss: 7.1122 - acc: 0.6831 - val_loss: 6.9510 - val_acc: 0.7705\n",
      "Epoch 8/100\n",
      "243/243 [==============================] - 2s 6ms/step - loss: 6.9264 - acc: 0.6831 - val_loss: 6.7354 - val_acc: 0.7705\n",
      "Epoch 9/100\n",
      "243/243 [==============================] - 2s 6ms/step - loss: 6.7738 - acc: 0.6831 - val_loss: 6.5992 - val_acc: 0.7705\n",
      "Epoch 10/100\n",
      "243/243 [==============================] - 2s 6ms/step - loss: 6.5979 - acc: 0.6831 - val_loss: 6.4146 - val_acc: 0.7705\n",
      "Epoch 11/100\n",
      "243/243 [==============================] - 2s 6ms/step - loss: 6.4645 - acc: 0.6831 - val_loss: 6.2661 - val_acc: 0.7705\n",
      "Epoch 12/100\n",
      "243/243 [==============================] - 1s 6ms/step - loss: 6.3104 - acc: 0.6831 - val_loss: 6.1290 - val_acc: 0.7705\n",
      "Epoch 13/100\n",
      "243/243 [==============================] - 2s 6ms/step - loss: 6.1826 - acc: 0.6831 - val_loss: 5.9860 - val_acc: 0.7705\n",
      "Epoch 14/100\n",
      "243/243 [==============================] - 2s 6ms/step - loss: 6.0480 - acc: 0.6831 - val_loss: 5.8684 - val_acc: 0.7705\n",
      "Epoch 15/100\n",
      "243/243 [==============================] - 2s 7ms/step - loss: 5.9188 - acc: 0.6831 - val_loss: 5.7484 - val_acc: 0.7705\n",
      "Epoch 16/100\n",
      "243/243 [==============================] - 1s 5ms/step - loss: 5.7800 - acc: 0.6831 - val_loss: 5.6208 - val_acc: 0.7705\n",
      "Epoch 17/100\n",
      "243/243 [==============================] - 2s 6ms/step - loss: 5.6613 - acc: 0.6831 - val_loss: 5.5390 - val_acc: 0.7705\n",
      "Epoch 18/100\n",
      "243/243 [==============================] - 1s 6ms/step - loss: 5.5572 - acc: 0.6831 - val_loss: 5.4104 - val_acc: 0.7705\n",
      "Epoch 19/100\n",
      "243/243 [==============================] - 2s 6ms/step - loss: 5.4461 - acc: 0.6831 - val_loss: 5.3103 - val_acc: 0.7705\n",
      "Epoch 20/100\n",
      "243/243 [==============================] - 2s 6ms/step - loss: 5.3462 - acc: 0.6831 - val_loss: 5.2271 - val_acc: 0.7705\n",
      "Epoch 21/100\n",
      "243/243 [==============================] - 1s 6ms/step - loss: 5.2518 - acc: 0.6831 - val_loss: 5.1138 - val_acc: 0.7705\n",
      "Epoch 22/100\n",
      "243/243 [==============================] - 1s 6ms/step - loss: 5.1747 - acc: 0.6831 - val_loss: 5.0404 - val_acc: 0.7705\n",
      "Epoch 23/100\n",
      "243/243 [==============================] - 2s 7ms/step - loss: 5.0687 - acc: 0.6831 - val_loss: 4.9381 - val_acc: 0.7705\n",
      "Epoch 24/100\n",
      "243/243 [==============================] - 1s 6ms/step - loss: 4.9819 - acc: 0.6831 - val_loss: 4.8720 - val_acc: 0.7705\n",
      "Epoch 25/100\n",
      "243/243 [==============================] - 2s 6ms/step - loss: 4.9062 - acc: 0.6831 - val_loss: 4.7875 - val_acc: 0.7705\n",
      "Epoch 26/100\n",
      "243/243 [==============================] - 1s 5ms/step - loss: 4.8224 - acc: 0.6831 - val_loss: 4.7026 - val_acc: 0.7705\n",
      "Epoch 27/100\n",
      "243/243 [==============================] - 1s 6ms/step - loss: 4.7517 - acc: 0.6831 - val_loss: 4.6297 - val_acc: 0.7705\n",
      "Epoch 28/100\n",
      "243/243 [==============================] - 2s 6ms/step - loss: 4.6787 - acc: 0.6831 - val_loss: 4.5763 - val_acc: 0.7705\n",
      "Epoch 29/100\n",
      "243/243 [==============================] - 1s 6ms/step - loss: 4.6079 - acc: 0.6831 - val_loss: 4.4868 - val_acc: 0.7705\n",
      "Epoch 30/100\n",
      "243/243 [==============================] - 2s 6ms/step - loss: 4.5497 - acc: 0.6831 - val_loss: 4.4160 - val_acc: 0.7705\n",
      "Epoch 31/100\n",
      "243/243 [==============================] - 1s 5ms/step - loss: 4.4789 - acc: 0.6831 - val_loss: 4.3881 - val_acc: 0.7705\n",
      "Epoch 32/100\n",
      "243/243 [==============================] - 1s 6ms/step - loss: 4.4255 - acc: 0.6831 - val_loss: 4.2902 - val_acc: 0.7705\n",
      "Epoch 33/100\n",
      "243/243 [==============================] - 2s 6ms/step - loss: 4.3536 - acc: 0.6831 - val_loss: 4.2723 - val_acc: 0.7705\n",
      "Epoch 34/100\n",
      "243/243 [==============================] - 2s 7ms/step - loss: 4.2939 - acc: 0.6831 - val_loss: 4.1703 - val_acc: 0.7705\n",
      "Epoch 35/100\n",
      "243/243 [==============================] - 2s 6ms/step - loss: 4.2290 - acc: 0.6831 - val_loss: 4.1489 - val_acc: 0.7705\n",
      "Epoch 36/100\n",
      "243/243 [==============================] - 1s 6ms/step - loss: 4.1788 - acc: 0.6831 - val_loss: 4.0727 - val_acc: 0.7705\n",
      "Epoch 37/100\n",
      "243/243 [==============================] - 1s 6ms/step - loss: 4.1250 - acc: 0.6831 - val_loss: 4.0309 - val_acc: 0.7705\n",
      "Epoch 38/100\n",
      "243/243 [==============================] - 1s 6ms/step - loss: 4.0835 - acc: 0.6831 - val_loss: 3.9620 - val_acc: 0.7705\n",
      "Epoch 39/100\n",
      "243/243 [==============================] - 1s 6ms/step - loss: 4.0318 - acc: 0.6831 - val_loss: 3.9261 - val_acc: 0.7705\n",
      "Epoch 40/100\n",
      "243/243 [==============================] - 2s 6ms/step - loss: 3.9758 - acc: 0.6831 - val_loss: 3.8614 - val_acc: 0.7705\n",
      "Epoch 41/100\n",
      "243/243 [==============================] - 2s 6ms/step - loss: 3.9230 - acc: 0.6831 - val_loss: 3.8373 - val_acc: 0.7705\n",
      "Epoch 42/100\n",
      "243/243 [==============================] - 2s 6ms/step - loss: 3.8867 - acc: 0.6831 - val_loss: 3.7807 - val_acc: 0.7705\n",
      "Epoch 43/100\n",
      "243/243 [==============================] - 2s 6ms/step - loss: 3.8290 - acc: 0.6831 - val_loss: 3.7422 - val_acc: 0.7705\n",
      "Epoch 44/100\n",
      "243/243 [==============================] - 1s 6ms/step - loss: 3.7866 - acc: 0.6831 - val_loss: 3.6986 - val_acc: 0.7705\n",
      "Epoch 45/100\n",
      "243/243 [==============================] - 2s 7ms/step - loss: 3.7564 - acc: 0.6831 - val_loss: 3.6433 - val_acc: 0.7705\n",
      "Epoch 46/100\n",
      "243/243 [==============================] - 2s 6ms/step - loss: 3.7000 - acc: 0.6831 - val_loss: 3.6243 - val_acc: 0.7705\n",
      "Epoch 47/100\n",
      "243/243 [==============================] - 2s 6ms/step - loss: 3.6718 - acc: 0.6831 - val_loss: 3.5744 - val_acc: 0.7705\n",
      "Epoch 48/100\n",
      "243/243 [==============================] - 1s 6ms/step - loss: 3.6207 - acc: 0.6831 - val_loss: 3.5213 - val_acc: 0.7705\n",
      "Epoch 49/100\n",
      "243/243 [==============================] - 2s 6ms/step - loss: 3.5889 - acc: 0.6831 - val_loss: 3.4958 - val_acc: 0.7705\n",
      "Epoch 50/100\n",
      "243/243 [==============================] - 2s 7ms/step - loss: 3.5463 - acc: 0.6831 - val_loss: 3.4530 - val_acc: 0.7705\n",
      "Epoch 51/100\n",
      "243/243 [==============================] - 2s 7ms/step - loss: 3.5114 - acc: 0.6831 - val_loss: 3.4181 - val_acc: 0.7705\n",
      "Epoch 52/100\n",
      "243/243 [==============================] - 2s 6ms/step - loss: 3.4768 - acc: 0.6831 - val_loss: 3.3977 - val_acc: 0.7705\n",
      "Epoch 53/100\n",
      "243/243 [==============================] - 1s 6ms/step - loss: 3.4391 - acc: 0.6831 - val_loss: 3.3426 - val_acc: 0.7705\n",
      "Epoch 54/100\n",
      "243/243 [==============================] - 1s 6ms/step - loss: 3.4076 - acc: 0.6831 - val_loss: 3.3201 - val_acc: 0.7705\n",
      "Epoch 55/100\n",
      "243/243 [==============================] - 2s 7ms/step - loss: 3.3798 - acc: 0.6831 - val_loss: 3.2893 - val_acc: 0.7705\n",
      "Epoch 56/100\n",
      "243/243 [==============================] - 2s 6ms/step - loss: 3.3398 - acc: 0.6831 - val_loss: 3.2430 - val_acc: 0.7705\n",
      "Epoch 57/100\n",
      "243/243 [==============================] - 2s 7ms/step - loss: 3.3110 - acc: 0.6831 - val_loss: 3.2222 - val_acc: 0.7705\n",
      "Epoch 58/100\n",
      "243/243 [==============================] - 2s 7ms/step - loss: 3.2800 - acc: 0.6831 - val_loss: 3.1927 - val_acc: 0.7705\n",
      "Epoch 59/100\n",
      "243/243 [==============================] - 2s 6ms/step - loss: 3.2516 - acc: 0.6831 - val_loss: 3.1663 - val_acc: 0.7705\n",
      "Epoch 60/100\n",
      "243/243 [==============================] - 2s 8ms/step - loss: 3.2168 - acc: 0.6831 - val_loss: 3.1253 - val_acc: 0.7705\n",
      "Epoch 61/100\n",
      "243/243 [==============================] - 2s 7ms/step - loss: 3.1918 - acc: 0.6831 - val_loss: 3.1004 - val_acc: 0.7705\n"
     ]
    },
    {
     "name": "stdout",
     "output_type": "stream",
     "text": [
      "Epoch 62/100\n",
      "243/243 [==============================] - 1s 6ms/step - loss: 3.1615 - acc: 0.6831 - val_loss: 3.0865 - val_acc: 0.7705\n",
      "Epoch 63/100\n",
      "243/243 [==============================] - 2s 6ms/step - loss: 3.1336 - acc: 0.6831 - val_loss: 3.0482 - val_acc: 0.7705\n",
      "Epoch 64/100\n",
      "243/243 [==============================] - 2s 8ms/step - loss: 3.1124 - acc: 0.6831 - val_loss: 3.0143 - val_acc: 0.7705\n",
      "Epoch 65/100\n",
      "243/243 [==============================] - 2s 8ms/step - loss: 3.0846 - acc: 0.6831 - val_loss: 3.0074 - val_acc: 0.7705\n",
      "Epoch 66/100\n",
      "243/243 [==============================] - 2s 7ms/step - loss: 3.0578 - acc: 0.6831 - val_loss: 2.9638 - val_acc: 0.7705\n",
      "Epoch 67/100\n",
      "243/243 [==============================] - 2s 7ms/step - loss: 3.0274 - acc: 0.6831 - val_loss: 2.9459 - val_acc: 0.7705\n",
      "Epoch 68/100\n",
      "243/243 [==============================] - 2s 7ms/step - loss: 3.0059 - acc: 0.6831 - val_loss: 2.9278 - val_acc: 0.7705\n",
      "Epoch 69/100\n",
      "243/243 [==============================] - 2s 7ms/step - loss: 2.9772 - acc: 0.6831 - val_loss: 2.8846 - val_acc: 0.7705\n",
      "Epoch 70/100\n",
      "243/243 [==============================] - 2s 7ms/step - loss: 2.9600 - acc: 0.6831 - val_loss: 2.8786 - val_acc: 0.7705\n",
      "Epoch 71/100\n",
      "243/243 [==============================] - 2s 6ms/step - loss: 2.9317 - acc: 0.6831 - val_loss: 2.8462 - val_acc: 0.7705\n",
      "Epoch 72/100\n",
      "243/243 [==============================] - 1s 6ms/step - loss: 2.9072 - acc: 0.6831 - val_loss: 2.8308 - val_acc: 0.7705\n",
      "Epoch 73/100\n",
      "243/243 [==============================] - 2s 7ms/step - loss: 2.8859 - acc: 0.6831 - val_loss: 2.8114 - val_acc: 0.7705\n",
      "Epoch 74/100\n",
      "243/243 [==============================] - 2s 7ms/step - loss: 2.8704 - acc: 0.6831 - val_loss: 2.7793 - val_acc: 0.7705\n",
      "Epoch 75/100\n",
      "243/243 [==============================] - 1s 6ms/step - loss: 2.8428 - acc: 0.6831 - val_loss: 2.7630 - val_acc: 0.7705\n",
      "Epoch 76/100\n",
      "243/243 [==============================] - 2s 6ms/step - loss: 2.8202 - acc: 0.6831 - val_loss: 2.7496 - val_acc: 0.7705\n",
      "Epoch 77/100\n",
      "243/243 [==============================] - 1s 5ms/step - loss: 2.7999 - acc: 0.6831 - val_loss: 2.7186 - val_acc: 0.7705\n",
      "Epoch 78/100\n",
      "243/243 [==============================] - 2s 6ms/step - loss: 2.7835 - acc: 0.6831 - val_loss: 2.7042 - val_acc: 0.7705\n",
      "Epoch 79/100\n",
      "243/243 [==============================] - 2s 6ms/step - loss: 2.7586 - acc: 0.6831 - val_loss: 2.6744 - val_acc: 0.7705\n",
      "Epoch 80/100\n",
      "243/243 [==============================] - 2s 7ms/step - loss: 2.7421 - acc: 0.6831 - val_loss: 2.6550 - val_acc: 0.7705\n",
      "Epoch 81/100\n",
      "243/243 [==============================] - 1s 5ms/step - loss: 2.7224 - acc: 0.6831 - val_loss: 2.6557 - val_acc: 0.7705\n",
      "Epoch 82/100\n",
      "243/243 [==============================] - 1s 6ms/step - loss: 2.6997 - acc: 0.6831 - val_loss: 2.6145 - val_acc: 0.7705\n",
      "Epoch 83/100\n",
      "243/243 [==============================] - 1s 6ms/step - loss: 2.6827 - acc: 0.6831 - val_loss: 2.5940 - val_acc: 0.7705\n",
      "Epoch 84/100\n",
      "243/243 [==============================] - 2s 6ms/step - loss: 2.6647 - acc: 0.6831 - val_loss: 2.5821 - val_acc: 0.7705\n",
      "Epoch 85/100\n",
      "243/243 [==============================] - 1s 5ms/step - loss: 2.6443 - acc: 0.6831 - val_loss: 2.5840 - val_acc: 0.7705\n",
      "Epoch 86/100\n",
      "243/243 [==============================] - 1s 6ms/step - loss: 2.6310 - acc: 0.6831 - val_loss: 2.5474 - val_acc: 0.7705\n",
      "Epoch 87/100\n",
      "243/243 [==============================] - 2s 7ms/step - loss: 2.6119 - acc: 0.6831 - val_loss: 2.5287 - val_acc: 0.7705\n",
      "Epoch 88/100\n",
      "243/243 [==============================] - 2s 7ms/step - loss: 2.5932 - acc: 0.6831 - val_loss: 2.5189 - val_acc: 0.7705\n",
      "Epoch 89/100\n",
      "243/243 [==============================] - 1s 6ms/step - loss: 2.5776 - acc: 0.6831 - val_loss: 2.4975 - val_acc: 0.7705\n",
      "Epoch 90/100\n",
      "243/243 [==============================] - 1s 6ms/step - loss: 2.5573 - acc: 0.6831 - val_loss: 2.4716 - val_acc: 0.7705\n",
      "Epoch 91/100\n",
      "243/243 [==============================] - 1s 6ms/step - loss: 2.5470 - acc: 0.6831 - val_loss: 2.4583 - val_acc: 0.7705\n",
      "Epoch 92/100\n",
      "243/243 [==============================] - 2s 7ms/step - loss: 2.5278 - acc: 0.6831 - val_loss: 2.4550 - val_acc: 0.7705\n",
      "Epoch 93/100\n",
      "243/243 [==============================] - 2s 7ms/step - loss: 2.5167 - acc: 0.6831 - val_loss: 2.4280 - val_acc: 0.7705\n",
      "Epoch 94/100\n",
      "243/243 [==============================] - 2s 7ms/step - loss: 2.4975 - acc: 0.6831 - val_loss: 2.4222 - val_acc: 0.7705\n",
      "Epoch 95/100\n",
      "243/243 [==============================] - 2s 6ms/step - loss: 2.4806 - acc: 0.6831 - val_loss: 2.4056 - val_acc: 0.7705\n",
      "Epoch 96/100\n",
      "243/243 [==============================] - 1s 6ms/step - loss: 2.4649 - acc: 0.6831 - val_loss: 2.3871 - val_acc: 0.7705\n",
      "Epoch 97/100\n",
      "243/243 [==============================] - 2s 6ms/step - loss: 2.4502 - acc: 0.6831 - val_loss: 2.3712 - val_acc: 0.7705\n",
      "Epoch 98/100\n",
      "243/243 [==============================] - 1s 6ms/step - loss: 2.4407 - acc: 0.6831 - val_loss: 2.3513 - val_acc: 0.7705\n",
      "Epoch 99/100\n",
      "243/243 [==============================] - 1s 5ms/step - loss: 2.4197 - acc: 0.6831 - val_loss: 2.3564 - val_acc: 0.7705\n",
      "Epoch 100/100\n",
      "243/243 [==============================] - 1s 6ms/step - loss: 2.4101 - acc: 0.6831 - val_loss: 2.3366 - val_acc: 0.7705\n"
     ]
    }
   ],
   "source": [
    "resnet_model_median=Sequential()\n",
    "resnet_model_median.add(Dense(256,input_shape=(7,7,2048),activation='sigmoid',kernel_initializer='glorot_uniform',\n",
    "                kernel_regularizer= regularizers.l2()))\n",
    "\n",
    "\n",
    "resnet_model_median.add(Dense(512,activation='sigmoid', kernel_regularizer= regularizers.l2()))\n",
    "\n",
    "\n",
    "resnet_model_median.add(Flatten())\n",
    "resnet_model_median.add(Dense(2, activation='sigmoid'))\n",
    "\n",
    "\n",
    "\n",
    "#OPtimizers\n",
    "adam = keras.optimizers.Adam(lr=0.0001, decay=0.005)\n",
    "\n",
    "## Callbacks\n",
    "earlystopper = EarlyStopping(monitor='val_loss', patience=10, verbose=1)\n",
    "reduce_lr = ReduceLROnPlateau(patience=5, verbose=1)\n",
    "\n",
    "## Compiling the model and defining loss function\n",
    "resnet_model_median.compile(optimizer=adam, loss='binary_crossentropy', metrics=['accuracy'])\n",
    "\n",
    "## Training neural nets\n",
    "resnet_median_history=resnet_model_median.fit(resnet_median_X_train, resnet_median_Y_train, validation_data=(resnet_median_X_test,resnet_median_Y_test), epochs=100, batch_size=32, callbacks=[reduce_lr, earlystopper])"
   ]
  },
  {
   "cell_type": "markdown",
   "metadata": {},
   "source": [
    "#### PLOTTING LOSS AND ACCURACY OF MEDIAN OF FEATURES"
   ]
  },
  {
   "cell_type": "code",
   "execution_count": 20,
   "metadata": {},
   "outputs": [
    {
     "data": {
      "image/png": "[encoded data removed]",
      "text/plain": [
       "<Figure size 864x288 with 2 Axes>"
      ]
     },
     "metadata": {
      "needs_background": "light"
     },
     "output_type": "display_data"
    }
   ],
   "source": [
    "f, (ax1, ax2) = plt.subplots(1, 2, figsize=(12, 4))\n",
    "t = f.suptitle('RESNET_50 MODEL WITH MEDIAN OF FETURES', fontsize=12)\n",
    "f.subplots_adjust(top=0.85, wspace=0.3)\n",
    "\n",
    "epoch_list = list(range(1,101))\n",
    "ax1.plot(epoch_list, resnet_median_history.history['acc'], label='Train Accuracy')\n",
    "ax1.plot(epoch_list, resnet_median_history.history['val_acc'], label='Validation Accuracy')\n",
    "ax1.set_xticks(np.arange(0, 101, 5))\n",
    "ax1.set_ylabel('Accuracy Value')\n",
    "ax1.set_xlabel('Epoch')\n",
    "ax1.set_title('Accuracy')\n",
    "l1 = ax1.legend(loc=\"best\")\n",
    "\n",
    "ax2.plot(epoch_list, resnet_median_history.history['loss'], label='Train Loss')\n",
    "ax2.plot(epoch_list, resnet_median_history.history['val_loss'], label='Validation Loss')\n",
    "ax2.set_xticks(np.arange(0, 101, 5))\n",
    "ax2.set_ylabel('Loss Value')\n",
    "ax2.set_xlabel('Epoch')\n",
    "ax2.set_title('Loss')\n",
    "l2 = ax2.legend(loc=\"best\")"
   ]
  },
  {
   "cell_type": "markdown",
   "metadata": {},
   "source": [
    "#### PREDICTIONS FOR MEDIAN OF FEATURES"
   ]
  },
  {
   "cell_type": "code",
   "execution_count": 22,
   "metadata": {},
   "outputs": [],
   "source": [
    " resnet_median_pred_train =resnet_model_median.predict_classes(resnet_median_X_train)\n",
    "resnet_median_pred_test =resnet_model_median.predict_classes(resnet_median_X_test)\n"
   ]
  },
  {
   "cell_type": "markdown",
   "metadata": {},
   "source": [
    "#### LABELS FOR MEDIAN OF FEATURES"
   ]
  },
  {
   "cell_type": "code",
   "execution_count": 23,
   "metadata": {},
   "outputs": [],
   "source": [
    "resnet_labels_median_train = np.argmax(resnet_median_Y_train,axis=1)\n",
    "resnet_labels_median_test = np.argmax(resnet_median_Y_test,axis=1)\n"
   ]
  },
  {
   "cell_type": "markdown",
   "metadata": {},
   "source": [
    "#### METRIC SCORE FOR   MODEL"
   ]
  },
  {
   "cell_type": "code",
   "execution_count": 25,
   "metadata": {},
   "outputs": [
    {
     "name": "stdout",
     "output_type": "stream",
     "text": [
      "ACCURACY SCORE OF VGG19 with MEAN OF FEATURES ON TRAINING SET IS :0.6831275720164609\n",
      "ACCURACY SCORE OF VGG19 with MEAN OF FEATURES ON TEST SET IS :0.7704918032786885\n"
     ]
    }
   ],
   "source": [
    "print(\"ACCURACY SCORE OF VGG19 with MEAN OF FEATURES ON TRAINING SET IS :{}\".\n",
    "      format(accuracy_score(resnet_labels_median_train ,resnet_median_pred_train)))\n",
    "      \n",
    "      \n",
    "print(\"ACCURACY SCORE OF VGG19 with MEAN OF FEATURES ON TEST SET IS :{}\".\n",
    "      format(accuracy_score(resnet_labels_median_test,resnet_median_pred_test)))\n",
    "      \n",
    "      \n",
    "            "
   ]
  },
  {
   "cell_type": "markdown",
   "metadata": {},
   "source": [
    "#### MODEL SERIALIZATION"
   ]
  },
  {
   "cell_type": "code",
   "execution_count": 30,
   "metadata": {},
   "outputs": [
    {
     "name": "stdout",
     "output_type": "stream",
     "text": [
      "Saved model to disk\n"
     ]
    }
   ],
   "source": [
    "# serialize model to JSON\n",
    "model_json = resnet_model_median.to_json()\n",
    "with open(\"resnet50_median.json\", \"w\") as json_file:\n",
    "    json_file.write(model_json)\n",
    "# serialize weights to HDF5\n",
    "resnet_model_median.save_weights(\"resnet50_median.h5\")\n",
    "print(\"Saved model to disk\")\n"
   ]
  }
 ],
 "metadata": {
  "kernelspec": {
   "display_name": "Python 3",
   "language": "python",
   "name": "python3"
  },
  "language_info": {
   "codemirror_mode": {
    "name": "ipython",
    "version": 3
   },
   "file_extension": ".py",
   "mimetype": "text/x-python",
   "name": "python",
   "nbconvert_exporter": "python",
   "pygments_lexer": "ipython3",
   "version": "3.7.1"
  }
 },
 "nbformat": 4,
 "nbformat_minor": 2
}
