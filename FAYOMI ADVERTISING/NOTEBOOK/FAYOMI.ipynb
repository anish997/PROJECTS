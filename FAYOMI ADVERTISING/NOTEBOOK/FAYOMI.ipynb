{
 "cells": [
  {
   "cell_type": "code",
   "execution_count": 1,
   "metadata": {},
   "outputs": [],
   "source": [
    "import os"
   ]
  },
  {
   "cell_type": "code",
   "execution_count": 2,
   "metadata": {},
   "outputs": [
    {
     "data": {
      "text/plain": [
       "'C:\\\\Users\\\\anish_yagt7hg\\\\Desktop\\\\internship\\\\kaggle dATASETS'"
      ]
     },
     "execution_count": 2,
     "metadata": {},
     "output_type": "execute_result"
    }
   ],
   "source": [
    "os.getcwd()"
   ]
  },
  {
   "cell_type": "code",
   "execution_count": 3,
   "metadata": {},
   "outputs": [],
   "source": [
    "path=os.chdir('C:/Users/anish_yagt7hg/Desktop/internship/')"
   ]
  },
  {
   "cell_type": "code",
   "execution_count": 5,
   "metadata": {
    "scrolled": true
   },
   "outputs": [
    {
     "data": {
      "text/plain": [
       "['.ipynb_checkpoints',\n",
       " '101 numpy  and pandas exercises.ipynb',\n",
       " '20_newsgroups.tar.gz',\n",
       " '20_news_groups',\n",
       " 'ADABOOST.docx',\n",
       " 'advertising.csv',\n",
       " 'Anish_2717_TASK1',\n",
       " 'Anish_2717_TASK1.zip',\n",
       " 'ANISH_2717_TASK2',\n",
       " 'archive.ics.uci.edu',\n",
       " 'Automobile_data.csv',\n",
       " 'babynamescopy',\n",
       " 'baby_names_extract_exercise.ipynb',\n",
       " 'company_sales_data.csv',\n",
       " 'desktop.ini',\n",
       " 'developer.json',\n",
       " 'FAIR RESUME.pdf',\n",
       " 'Fayomi_Advertising_ model.pickle',\n",
       " 'fayomi_Advertising_metrics.csv',\n",
       " 'HACKERRANK EXERCISES.docx',\n",
       " 'IDS_MODEL.pickle',\n",
       " 'INTRO_TO_NLP.ipynb',\n",
       " 'INTRUSION DETECTION SYSTEMS.ipynb',\n",
       " 'js.json',\n",
       " 'JSON  PRACTICE.ipynb',\n",
       " 'kaggle dATASETS',\n",
       " 'Kmeans.docx',\n",
       " 'Linear regression.docx',\n",
       " 'Logistic Regression.docx',\n",
       " 'Long, latitudes.xlsx',\n",
       " 'ML_Hackathon_13_09_2019',\n",
       " 'My_Practice.txt',\n",
       " 'pynative website exercises.html',\n",
       " 'pynative website exercises.ipynb',\n",
       " 'PYTHON  CODEACADEMY.docx',\n",
       " 'Random Forest.docx',\n",
       " 'READING 20 NEWS GROUPS.ipynb',\n",
       " 'regular expressions.ipynb',\n",
       " 'stories',\n",
       " 'Support vector machines.docx',\n",
       " 'task 1(c).docx',\n",
       " 'Text preprocessing.ipynb',\n",
       " 'webscrapping.ipynb']"
      ]
     },
     "execution_count": 5,
     "metadata": {},
     "output_type": "execute_result"
    }
   ],
   "source": [
    "os.listdir(path)"
   ]
  },
  {
   "cell_type": "markdown",
   "metadata": {},
   "source": [
    "###### The goals of this project are to deeply explore data to do with advertising, perform quantitive analysis and achieve predicitons from the data using machine learning techniques. The table below describes features of the data."
   ]
  },
  {
   "cell_type": "markdown",
   "metadata": {},
   "source": [
    "#### FEATURE DESCRIPTION"
   ]
  },
  {
   "cell_type": "markdown",
   "metadata": {},
   "source": [
    "\n",
    "1. Daily Time Spent on a Site --->Time spent by the user on a site in minutes.\n",
    "2. Age--->Customers age in terms of years.\n",
    "3. Area Income-->Average income of geographical area of consumer.\n",
    "4. Daily Internet Usage -->Avgerage minutes in a day consumer is on the internet.\n",
    "5. Ad Topic Line--->Headline of the advertisement.\n",
    "6. City-->City of the consumer.\n",
    "7. Male-->Whether or not a consumer was male.\n",
    "8. Country-->Country of the consumer.\n",
    "9. Timestamp-->Time at which user clicked on an Ad or the closed window.\n",
    "10. Clicked on Ad--->0 or 1 is indicated clicking on ad"
   ]
  },
  {
   "cell_type": "markdown",
   "metadata": {},
   "source": [
    "### IMPORTING PACKAGES"
   ]
  },
  {
   "cell_type": "code",
   "execution_count": 7,
   "metadata": {},
   "outputs": [],
   "source": [
    "import pandas as pd\n",
    "import numpy as np\n",
    "import matplotlib.pyplot as plt\n",
    "%matplotlib inline\n",
    "from scipy.stats import norm\n",
    "import datetime as dt\n",
    "from scipy import stats"
   ]
  },
  {
   "cell_type": "markdown",
   "metadata": {},
   "source": [
    "#### READING THE DATA OF A CSV FILE"
   ]
  },
  {
   "cell_type": "code",
   "execution_count": 8,
   "metadata": {},
   "outputs": [],
   "source": [
    "df=pd.read_csv('advertising.csv',sep=',')"
   ]
  },
  {
   "cell_type": "code",
   "execution_count": 9,
   "metadata": {},
   "outputs": [
    {
     "data": {
      "text/html": [
       "<div>\n",
       "<style scoped>\n",
       "    .dataframe tbody tr th:only-of-type {\n",
       "        vertical-align: middle;\n",
       "    }\n",
       "\n",
       "    .dataframe tbody tr th {\n",
       "        vertical-align: top;\n",
       "    }\n",
       "\n",
       "    .dataframe thead th {\n",
       "        text-align: right;\n",
       "    }\n",
       "</style>\n",
       "<table border=\"1\" class=\"dataframe\">\n",
       "  <thead>\n",
       "    <tr style=\"text-align: right;\">\n",
       "      <th></th>\n",
       "      <th>Daily Time Spent on Site</th>\n",
       "      <th>Age</th>\n",
       "      <th>Area Income</th>\n",
       "      <th>Daily Internet Usage</th>\n",
       "      <th>Ad Topic Line</th>\n",
       "      <th>City</th>\n",
       "      <th>Male</th>\n",
       "      <th>Country</th>\n",
       "      <th>Timestamp</th>\n",
       "      <th>Clicked on Ad</th>\n",
       "    </tr>\n",
       "  </thead>\n",
       "  <tbody>\n",
       "    <tr>\n",
       "      <th>0</th>\n",
       "      <td>68.95</td>\n",
       "      <td>35</td>\n",
       "      <td>61833.90</td>\n",
       "      <td>256.09</td>\n",
       "      <td>Cloned 5thgeneration orchestration</td>\n",
       "      <td>Wrightburgh</td>\n",
       "      <td>0</td>\n",
       "      <td>Tunisia</td>\n",
       "      <td>2016-03-27 00:53:11</td>\n",
       "      <td>0</td>\n",
       "    </tr>\n",
       "    <tr>\n",
       "      <th>1</th>\n",
       "      <td>80.23</td>\n",
       "      <td>31</td>\n",
       "      <td>68441.85</td>\n",
       "      <td>193.77</td>\n",
       "      <td>Monitored national standardization</td>\n",
       "      <td>West Jodi</td>\n",
       "      <td>1</td>\n",
       "      <td>Nauru</td>\n",
       "      <td>2016-04-04 01:39:02</td>\n",
       "      <td>0</td>\n",
       "    </tr>\n",
       "    <tr>\n",
       "      <th>2</th>\n",
       "      <td>69.47</td>\n",
       "      <td>26</td>\n",
       "      <td>59785.94</td>\n",
       "      <td>236.50</td>\n",
       "      <td>Organic bottom-line service-desk</td>\n",
       "      <td>Davidton</td>\n",
       "      <td>0</td>\n",
       "      <td>San Marino</td>\n",
       "      <td>2016-03-13 20:35:42</td>\n",
       "      <td>0</td>\n",
       "    </tr>\n",
       "    <tr>\n",
       "      <th>3</th>\n",
       "      <td>74.15</td>\n",
       "      <td>29</td>\n",
       "      <td>54806.18</td>\n",
       "      <td>245.89</td>\n",
       "      <td>Triple-buffered reciprocal time-frame</td>\n",
       "      <td>West Terrifurt</td>\n",
       "      <td>1</td>\n",
       "      <td>Italy</td>\n",
       "      <td>2016-01-10 02:31:19</td>\n",
       "      <td>0</td>\n",
       "    </tr>\n",
       "    <tr>\n",
       "      <th>4</th>\n",
       "      <td>68.37</td>\n",
       "      <td>35</td>\n",
       "      <td>73889.99</td>\n",
       "      <td>225.58</td>\n",
       "      <td>Robust logistical utilization</td>\n",
       "      <td>South Manuel</td>\n",
       "      <td>0</td>\n",
       "      <td>Iceland</td>\n",
       "      <td>2016-06-03 03:36:18</td>\n",
       "      <td>0</td>\n",
       "    </tr>\n",
       "  </tbody>\n",
       "</table>\n",
       "</div>"
      ],
      "text/plain": [
       "   Daily Time Spent on Site  Age  Area Income  Daily Internet Usage  \\\n",
       "0                     68.95   35     61833.90                256.09   \n",
       "1                     80.23   31     68441.85                193.77   \n",
       "2                     69.47   26     59785.94                236.50   \n",
       "3                     74.15   29     54806.18                245.89   \n",
       "4                     68.37   35     73889.99                225.58   \n",
       "\n",
       "                           Ad Topic Line            City  Male     Country  \\\n",
       "0     Cloned 5thgeneration orchestration     Wrightburgh     0     Tunisia   \n",
       "1     Monitored national standardization       West Jodi     1       Nauru   \n",
       "2       Organic bottom-line service-desk        Davidton     0  San Marino   \n",
       "3  Triple-buffered reciprocal time-frame  West Terrifurt     1       Italy   \n",
       "4          Robust logistical utilization    South Manuel     0     Iceland   \n",
       "\n",
       "             Timestamp  Clicked on Ad  \n",
       "0  2016-03-27 00:53:11              0  \n",
       "1  2016-04-04 01:39:02              0  \n",
       "2  2016-03-13 20:35:42              0  \n",
       "3  2016-01-10 02:31:19              0  \n",
       "4  2016-06-03 03:36:18              0  "
      ]
     },
     "execution_count": 9,
     "metadata": {},
     "output_type": "execute_result"
    }
   ],
   "source": [
    "#Reading top 5 datapoints of a dataframe\n",
    "df.head()"
   ]
  },
  {
   "cell_type": "markdown",
   "metadata": {},
   "source": [
    "#### DESCRIBING THE COLUMNS IN DATA"
   ]
  },
  {
   "cell_type": "code",
   "execution_count": 10,
   "metadata": {},
   "outputs": [
    {
     "data": {
      "text/plain": [
       "Index(['Daily Time Spent on Site', 'Age', 'Area Income',\n",
       "       'Daily Internet Usage', 'Ad Topic Line', 'City', 'Male', 'Country',\n",
       "       'Timestamp', 'Clicked on Ad'],\n",
       "      dtype='object')"
      ]
     },
     "execution_count": 10,
     "metadata": {},
     "output_type": "execute_result"
    }
   ],
   "source": [
    "df.columns"
   ]
  },
  {
   "cell_type": "markdown",
   "metadata": {},
   "source": [
    "#### DATA TYPES OF THE COLUMNS IN DATA"
   ]
  },
  {
   "cell_type": "code",
   "execution_count": 11,
   "metadata": {},
   "outputs": [
    {
     "data": {
      "text/plain": [
       "Daily Time Spent on Site    float64\n",
       "Age                           int64\n",
       "Area Income                 float64\n",
       "Daily Internet Usage        float64\n",
       "Ad Topic Line                object\n",
       "City                         object\n",
       "Male                          int64\n",
       "Country                      object\n",
       "Timestamp                    object\n",
       "Clicked on Ad                 int64\n",
       "dtype: object"
      ]
     },
     "execution_count": 11,
     "metadata": {},
     "output_type": "execute_result"
    }
   ],
   "source": [
    "df.dtypes"
   ]
  },
  {
   "cell_type": "markdown",
   "metadata": {},
   "source": [
    "#### INFO describes about the number of data instances and non nulls in the data"
   ]
  },
  {
   "cell_type": "code",
   "execution_count": 12,
   "metadata": {},
   "outputs": [
    {
     "name": "stdout",
     "output_type": "stream",
     "text": [
      "<class 'pandas.core.frame.DataFrame'>\n",
      "RangeIndex: 1000 entries, 0 to 999\n",
      "Data columns (total 10 columns):\n",
      " #   Column                    Non-Null Count  Dtype  \n",
      "---  ------                    --------------  -----  \n",
      " 0   Daily Time Spent on Site  1000 non-null   float64\n",
      " 1   Age                       1000 non-null   int64  \n",
      " 2   Area Income               1000 non-null   float64\n",
      " 3   Daily Internet Usage      1000 non-null   float64\n",
      " 4   Ad Topic Line             1000 non-null   object \n",
      " 5   City                      1000 non-null   object \n",
      " 6   Male                      1000 non-null   int64  \n",
      " 7   Country                   1000 non-null   object \n",
      " 8   Timestamp                 1000 non-null   object \n",
      " 9   Clicked on Ad             1000 non-null   int64  \n",
      "dtypes: float64(3), int64(3), object(4)\n",
      "memory usage: 78.2+ KB\n"
     ]
    }
   ],
   "source": [
    "df.info()"
   ]
  },
  {
   "cell_type": "markdown",
   "metadata": {},
   "source": [
    "#### SHAPE  helps us to describe about how many rows and columns in data"
   ]
  },
  {
   "cell_type": "code",
   "execution_count": 13,
   "metadata": {},
   "outputs": [
    {
     "name": "stdout",
     "output_type": "stream",
     "text": [
      "(1000, 10)\n",
      "1000\n"
     ]
    }
   ],
   "source": [
    "\n",
    "print(df.shape)\n",
    "print(df.shape[0])\n"
   ]
  },
  {
   "cell_type": "markdown",
   "metadata": {},
   "source": [
    "CALCULATING THE PERCENTGAE OF NULLS IN THE DATA"
   ]
  },
  {
   "cell_type": "code",
   "execution_count": 14,
   "metadata": {},
   "outputs": [
    {
     "data": {
      "text/plain": [
       "Daily Time Spent on Site    0.0\n",
       "Age                         0.0\n",
       "Area Income                 0.0\n",
       "Daily Internet Usage        0.0\n",
       "Ad Topic Line               0.0\n",
       "City                        0.0\n",
       "Male                        0.0\n",
       "Country                     0.0\n",
       "Timestamp                   0.0\n",
       "Clicked on Ad               0.0\n",
       "dtype: float64"
      ]
     },
     "execution_count": 14,
     "metadata": {},
     "output_type": "execute_result"
    }
   ],
   "source": [
    "df[df.columns].isnull().sum()*100/df.shape[0]"
   ]
  },
  {
   "cell_type": "code",
   "execution_count": 15,
   "metadata": {},
   "outputs": [
    {
     "data": {
      "text/plain": [
       "Daily Time Spent on Site    float64\n",
       "Age                           int64\n",
       "Area Income                 float64\n",
       "Daily Internet Usage        float64\n",
       "Ad Topic Line                object\n",
       "City                         object\n",
       "Male                          int64\n",
       "Country                      object\n",
       "Timestamp                    object\n",
       "Clicked on Ad                 int64\n",
       "dtype: object"
      ]
     },
     "execution_count": 15,
     "metadata": {},
     "output_type": "execute_result"
    }
   ],
   "source": [
    "df.dtypes"
   ]
  },
  {
   "cell_type": "markdown",
   "metadata": {},
   "source": [
    "MAPPING THE TARGET COLUMN DATA FROM BINARY INTO OBJECT "
   ]
  },
  {
   "cell_type": "code",
   "execution_count": 16,
   "metadata": {},
   "outputs": [],
   "source": [
    "df['Clicked on Ad']=df['Clicked on Ad'].map({1:'Clicked',0:'Not_Clicked'})"
   ]
  },
  {
   "cell_type": "code",
   "execution_count": 17,
   "metadata": {},
   "outputs": [
    {
     "data": {
      "text/plain": [
       "0      Not_Clicked\n",
       "1      Not_Clicked\n",
       "2      Not_Clicked\n",
       "3      Not_Clicked\n",
       "4      Not_Clicked\n",
       "          ...     \n",
       "995        Clicked\n",
       "996        Clicked\n",
       "997        Clicked\n",
       "998    Not_Clicked\n",
       "999        Clicked\n",
       "Name: Clicked on Ad, Length: 1000, dtype: object"
      ]
     },
     "execution_count": 17,
     "metadata": {},
     "output_type": "execute_result"
    }
   ],
   "source": [
    "df['Clicked on Ad']"
   ]
  },
  {
   "cell_type": "code",
   "execution_count": 18,
   "metadata": {},
   "outputs": [
    {
     "data": {
      "text/plain": [
       "Daily Time Spent on Site    float64\n",
       "Age                           int64\n",
       "Area Income                 float64\n",
       "Daily Internet Usage        float64\n",
       "Ad Topic Line                object\n",
       "City                         object\n",
       "Male                          int64\n",
       "Country                      object\n",
       "Timestamp                    object\n",
       "Clicked on Ad                object\n",
       "dtype: object"
      ]
     },
     "execution_count": 18,
     "metadata": {},
     "output_type": "execute_result"
    }
   ],
   "source": [
    "df.dtypes"
   ]
  },
  {
   "cell_type": "markdown",
   "metadata": {},
   "source": [
    "#### TYPECASTING THE  CERTAIN COLUMNS DATA TYPE INTO REQUIRED FORMAT FOR FURTHER ANALYSIS OF DATA"
   ]
  },
  {
   "cell_type": "code",
   "execution_count": 19,
   "metadata": {
    "scrolled": true
   },
   "outputs": [],
   "source": [
    "df=df.astype({'Male':'object','Clicked on Ad':'object'})"
   ]
  },
  {
   "cell_type": "markdown",
   "metadata": {},
   "source": [
    "#### DESCRIBE HELPS US ABOUT FINDING THE BASIC STATS OF THE DATA"
   ]
  },
  {
   "cell_type": "code",
   "execution_count": 20,
   "metadata": {},
   "outputs": [
    {
     "data": {
      "text/html": [
       "<div>\n",
       "<style scoped>\n",
       "    .dataframe tbody tr th:only-of-type {\n",
       "        vertical-align: middle;\n",
       "    }\n",
       "\n",
       "    .dataframe tbody tr th {\n",
       "        vertical-align: top;\n",
       "    }\n",
       "\n",
       "    .dataframe thead th {\n",
       "        text-align: right;\n",
       "    }\n",
       "</style>\n",
       "<table border=\"1\" class=\"dataframe\">\n",
       "  <thead>\n",
       "    <tr style=\"text-align: right;\">\n",
       "      <th></th>\n",
       "      <th>Daily Time Spent on Site</th>\n",
       "      <th>Age</th>\n",
       "      <th>Area Income</th>\n",
       "      <th>Daily Internet Usage</th>\n",
       "    </tr>\n",
       "  </thead>\n",
       "  <tbody>\n",
       "    <tr>\n",
       "      <th>count</th>\n",
       "      <td>1000.000000</td>\n",
       "      <td>1000.000000</td>\n",
       "      <td>1000.000000</td>\n",
       "      <td>1000.000000</td>\n",
       "    </tr>\n",
       "    <tr>\n",
       "      <th>mean</th>\n",
       "      <td>65.000200</td>\n",
       "      <td>36.009000</td>\n",
       "      <td>55000.000080</td>\n",
       "      <td>180.000100</td>\n",
       "    </tr>\n",
       "    <tr>\n",
       "      <th>std</th>\n",
       "      <td>15.853615</td>\n",
       "      <td>8.785562</td>\n",
       "      <td>13414.634022</td>\n",
       "      <td>43.902339</td>\n",
       "    </tr>\n",
       "    <tr>\n",
       "      <th>min</th>\n",
       "      <td>32.600000</td>\n",
       "      <td>19.000000</td>\n",
       "      <td>13996.500000</td>\n",
       "      <td>104.780000</td>\n",
       "    </tr>\n",
       "    <tr>\n",
       "      <th>25%</th>\n",
       "      <td>51.360000</td>\n",
       "      <td>29.000000</td>\n",
       "      <td>47031.802500</td>\n",
       "      <td>138.830000</td>\n",
       "    </tr>\n",
       "    <tr>\n",
       "      <th>50%</th>\n",
       "      <td>68.215000</td>\n",
       "      <td>35.000000</td>\n",
       "      <td>57012.300000</td>\n",
       "      <td>183.130000</td>\n",
       "    </tr>\n",
       "    <tr>\n",
       "      <th>75%</th>\n",
       "      <td>78.547500</td>\n",
       "      <td>42.000000</td>\n",
       "      <td>65470.635000</td>\n",
       "      <td>218.792500</td>\n",
       "    </tr>\n",
       "    <tr>\n",
       "      <th>max</th>\n",
       "      <td>91.430000</td>\n",
       "      <td>61.000000</td>\n",
       "      <td>79484.800000</td>\n",
       "      <td>269.960000</td>\n",
       "    </tr>\n",
       "  </tbody>\n",
       "</table>\n",
       "</div>"
      ],
      "text/plain": [
       "       Daily Time Spent on Site          Age   Area Income  \\\n",
       "count               1000.000000  1000.000000   1000.000000   \n",
       "mean                  65.000200    36.009000  55000.000080   \n",
       "std                   15.853615     8.785562  13414.634022   \n",
       "min                   32.600000    19.000000  13996.500000   \n",
       "25%                   51.360000    29.000000  47031.802500   \n",
       "50%                   68.215000    35.000000  57012.300000   \n",
       "75%                   78.547500    42.000000  65470.635000   \n",
       "max                   91.430000    61.000000  79484.800000   \n",
       "\n",
       "       Daily Internet Usage  \n",
       "count           1000.000000  \n",
       "mean             180.000100  \n",
       "std               43.902339  \n",
       "min              104.780000  \n",
       "25%              138.830000  \n",
       "50%              183.130000  \n",
       "75%              218.792500  \n",
       "max              269.960000  "
      ]
     },
     "execution_count": 20,
     "metadata": {},
     "output_type": "execute_result"
    }
   ],
   "source": [
    "df.describe()"
   ]
  },
  {
   "cell_type": "markdown",
   "metadata": {},
   "source": [
    "#### EXPLORATORY DATA ANALYSIS"
   ]
  },
  {
   "cell_type": "code",
   "execution_count": 21,
   "metadata": {},
   "outputs": [
    {
     "data": {
      "text/plain": [
       "Quality-focused zero tolerance matrices       1\n",
       "Open-source 5thgeneration leverage            1\n",
       "Assimilated stable encryption                 1\n",
       "Networked even-keeled workforce               1\n",
       "Extended systemic policy                      1\n",
       "                                             ..\n",
       "Object-based optimal solution                 1\n",
       "Self-enabling holistic process improvement    1\n",
       "Sharable upward-trending support              1\n",
       "Polarized bifurcated array                    1\n",
       "Ergonomic multi-state structure               1\n",
       "Name: Ad Topic Line, Length: 1000, dtype: int64"
      ]
     },
     "execution_count": 21,
     "metadata": {},
     "output_type": "execute_result"
    }
   ],
   "source": [
    "df['Ad Topic Line'].value_counts()"
   ]
  },
  {
   "cell_type": "markdown",
   "metadata": {},
   "source": [
    "As Ad topic Line  exhibits different types of  ads which are unique,so its better to remove the column which doesnot \n",
    "show any information so it's better to drop the column.\n"
   ]
  },
  {
   "cell_type": "code",
   "execution_count": 22,
   "metadata": {},
   "outputs": [
    {
     "name": "stdout",
     "output_type": "stream",
     "text": [
      "1000\n"
     ]
    }
   ],
   "source": [
    "df['Timestamp'].value_counts()\n",
    "print(len(set(df['Timestamp'])))"
   ]
  },
  {
   "cell_type": "markdown",
   "metadata": {},
   "source": [
    "As Timestamp is  the column in which when the data is recorded and as the whole data contains unique  values it \n",
    "does not contain any information which is useful for further analysis\n"
   ]
  },
  {
   "cell_type": "code",
   "execution_count": 23,
   "metadata": {},
   "outputs": [
    {
     "data": {
      "text/plain": [
       "Clicked        500\n",
       "Not_Clicked    500\n",
       "Name: Clicked on Ad, dtype: int64"
      ]
     },
     "execution_count": 23,
     "metadata": {},
     "output_type": "execute_result"
    }
   ],
   "source": [
    "df['Clicked on Ad'].value_counts()"
   ]
  },
  {
   "cell_type": "markdown",
   "metadata": {},
   "source": [
    "#### Duplicates"
   ]
  },
  {
   "cell_type": "code",
   "execution_count": 24,
   "metadata": {},
   "outputs": [
    {
     "data": {
      "text/plain": [
       "0"
      ]
     },
     "execution_count": 24,
     "metadata": {},
     "output_type": "execute_result"
    }
   ],
   "source": [
    "df.duplicated().sum()"
   ]
  },
  {
   "cell_type": "markdown",
   "metadata": {},
   "source": [
    "#### DIFFERENTIATING VARIABLES"
   ]
  },
  {
   "cell_type": "code",
   "execution_count": 25,
   "metadata": {},
   "outputs": [
    {
     "name": "stdout",
     "output_type": "stream",
     "text": [
      "{'Age', 'Area Income', 'Daily Time Spent on Site', 'Daily Internet Usage'}\n",
      "{'Country', 'City', 'Male', 'Clicked on Ad', 'Ad Topic Line', 'Timestamp'}\n"
     ]
    }
   ],
   "source": [
    "categorical_var=set(df.select_dtypes(include='object').columns)\n",
    "numeric=set(df.columns)-set(categorical_var)\n",
    "print(numeric)\n",
    "print(categorical_var)"
   ]
  },
  {
   "cell_type": "code",
   "execution_count": 26,
   "metadata": {},
   "outputs": [
    {
     "data": {
      "text/html": [
       "<div>\n",
       "<style scoped>\n",
       "    .dataframe tbody tr th:only-of-type {\n",
       "        vertical-align: middle;\n",
       "    }\n",
       "\n",
       "    .dataframe tbody tr th {\n",
       "        vertical-align: top;\n",
       "    }\n",
       "\n",
       "    .dataframe thead th {\n",
       "        text-align: right;\n",
       "    }\n",
       "</style>\n",
       "<table border=\"1\" class=\"dataframe\">\n",
       "  <thead>\n",
       "    <tr style=\"text-align: right;\">\n",
       "      <th></th>\n",
       "      <th>Country</th>\n",
       "      <th>City</th>\n",
       "      <th>Male</th>\n",
       "      <th>Clicked on Ad</th>\n",
       "      <th>Ad Topic Line</th>\n",
       "      <th>Timestamp</th>\n",
       "    </tr>\n",
       "  </thead>\n",
       "  <tbody>\n",
       "    <tr>\n",
       "      <th>count</th>\n",
       "      <td>1000</td>\n",
       "      <td>1000</td>\n",
       "      <td>1000</td>\n",
       "      <td>1000</td>\n",
       "      <td>1000</td>\n",
       "      <td>1000</td>\n",
       "    </tr>\n",
       "    <tr>\n",
       "      <th>unique</th>\n",
       "      <td>237</td>\n",
       "      <td>969</td>\n",
       "      <td>2</td>\n",
       "      <td>2</td>\n",
       "      <td>1000</td>\n",
       "      <td>1000</td>\n",
       "    </tr>\n",
       "    <tr>\n",
       "      <th>top</th>\n",
       "      <td>France</td>\n",
       "      <td>Williamsport</td>\n",
       "      <td>0</td>\n",
       "      <td>Clicked</td>\n",
       "      <td>Quality-focused zero tolerance matrices</td>\n",
       "      <td>2016-07-15 09:08:42</td>\n",
       "    </tr>\n",
       "    <tr>\n",
       "      <th>freq</th>\n",
       "      <td>9</td>\n",
       "      <td>3</td>\n",
       "      <td>519</td>\n",
       "      <td>500</td>\n",
       "      <td>1</td>\n",
       "      <td>1</td>\n",
       "    </tr>\n",
       "  </tbody>\n",
       "</table>\n",
       "</div>"
      ],
      "text/plain": [
       "       Country          City  Male Clicked on Ad  \\\n",
       "count     1000          1000  1000          1000   \n",
       "unique     237           969     2             2   \n",
       "top     France  Williamsport     0       Clicked   \n",
       "freq         9             3   519           500   \n",
       "\n",
       "                                  Ad Topic Line            Timestamp  \n",
       "count                                      1000                 1000  \n",
       "unique                                     1000                 1000  \n",
       "top     Quality-focused zero tolerance matrices  2016-07-15 09:08:42  \n",
       "freq                                          1                    1  "
      ]
     },
     "execution_count": 26,
     "metadata": {},
     "output_type": "execute_result"
    }
   ],
   "source": [
    "df[categorical_var].describe()"
   ]
  },
  {
   "cell_type": "markdown",
   "metadata": {},
   "source": [
    "Country represents the column where most of the ads are posted and "
   ]
  },
  {
   "cell_type": "code",
   "execution_count": 27,
   "metadata": {},
   "outputs": [
    {
     "data": {
      "text/plain": [
       "'France'"
      ]
     },
     "execution_count": 27,
     "metadata": {},
     "output_type": "execute_result"
    }
   ],
   "source": [
    "df['Country'].value_counts().idxmax()"
   ]
  },
  {
   "cell_type": "code",
   "execution_count": 28,
   "metadata": {},
   "outputs": [
    {
     "data": {
      "text/html": [
       "<div>\n",
       "<style scoped>\n",
       "    .dataframe tbody tr th:only-of-type {\n",
       "        vertical-align: middle;\n",
       "    }\n",
       "\n",
       "    .dataframe tbody tr th {\n",
       "        vertical-align: top;\n",
       "    }\n",
       "\n",
       "    .dataframe thead th {\n",
       "        text-align: right;\n",
       "    }\n",
       "</style>\n",
       "<table border=\"1\" class=\"dataframe\">\n",
       "  <thead>\n",
       "    <tr style=\"text-align: right;\">\n",
       "      <th></th>\n",
       "      <th>Daily Time Spent on Site</th>\n",
       "      <th>Age</th>\n",
       "      <th>Area Income</th>\n",
       "      <th>Daily Internet Usage</th>\n",
       "      <th>Ad Topic Line</th>\n",
       "      <th>City</th>\n",
       "      <th>Male</th>\n",
       "      <th>Country</th>\n",
       "      <th>Timestamp</th>\n",
       "      <th>Clicked on Ad</th>\n",
       "    </tr>\n",
       "  </thead>\n",
       "  <tbody>\n",
       "    <tr>\n",
       "      <th>254</th>\n",
       "      <td>56.70</td>\n",
       "      <td>48</td>\n",
       "      <td>62784.85</td>\n",
       "      <td>123.13</td>\n",
       "      <td>Progressive non-volatile neural-net</td>\n",
       "      <td>Port Crystal</td>\n",
       "      <td>0</td>\n",
       "      <td>France</td>\n",
       "      <td>2016-01-09 04:53:22</td>\n",
       "      <td>Clicked</td>\n",
       "    </tr>\n",
       "    <tr>\n",
       "      <th>315</th>\n",
       "      <td>73.89</td>\n",
       "      <td>39</td>\n",
       "      <td>47160.53</td>\n",
       "      <td>110.68</td>\n",
       "      <td>Horizontal national architecture</td>\n",
       "      <td>North April</td>\n",
       "      <td>0</td>\n",
       "      <td>France</td>\n",
       "      <td>2016-04-20 00:41:53</td>\n",
       "      <td>Clicked</td>\n",
       "    </tr>\n",
       "    <tr>\n",
       "      <th>475</th>\n",
       "      <td>75.15</td>\n",
       "      <td>33</td>\n",
       "      <td>71296.67</td>\n",
       "      <td>219.49</td>\n",
       "      <td>Synchronized zero tolerance product</td>\n",
       "      <td>Smithtown</td>\n",
       "      <td>1</td>\n",
       "      <td>France</td>\n",
       "      <td>2016-06-19 18:19:38</td>\n",
       "      <td>Not_Clicked</td>\n",
       "    </tr>\n",
       "    <tr>\n",
       "      <th>623</th>\n",
       "      <td>87.97</td>\n",
       "      <td>35</td>\n",
       "      <td>48918.55</td>\n",
       "      <td>149.25</td>\n",
       "      <td>Secured secondary superstructure</td>\n",
       "      <td>Port Brianfort</td>\n",
       "      <td>1</td>\n",
       "      <td>France</td>\n",
       "      <td>2016-03-24 05:38:01</td>\n",
       "      <td>Not_Clicked</td>\n",
       "    </tr>\n",
       "    <tr>\n",
       "      <th>633</th>\n",
       "      <td>40.19</td>\n",
       "      <td>37</td>\n",
       "      <td>55358.88</td>\n",
       "      <td>136.99</td>\n",
       "      <td>Right-sized system-worthy project</td>\n",
       "      <td>Adamsbury</td>\n",
       "      <td>0</td>\n",
       "      <td>France</td>\n",
       "      <td>2016-01-18 02:51:13</td>\n",
       "      <td>Clicked</td>\n",
       "    </tr>\n",
       "    <tr>\n",
       "      <th>770</th>\n",
       "      <td>71.14</td>\n",
       "      <td>30</td>\n",
       "      <td>69758.31</td>\n",
       "      <td>224.82</td>\n",
       "      <td>Assimilated stable encryption</td>\n",
       "      <td>Newmanberg</td>\n",
       "      <td>0</td>\n",
       "      <td>France</td>\n",
       "      <td>2016-06-21 00:52:47</td>\n",
       "      <td>Not_Clicked</td>\n",
       "    </tr>\n",
       "    <tr>\n",
       "      <th>886</th>\n",
       "      <td>44.40</td>\n",
       "      <td>53</td>\n",
       "      <td>43073.78</td>\n",
       "      <td>140.95</td>\n",
       "      <td>Phased zero-defect portal</td>\n",
       "      <td>Mariahview</td>\n",
       "      <td>1</td>\n",
       "      <td>France</td>\n",
       "      <td>2016-06-30 00:43:40</td>\n",
       "      <td>Clicked</td>\n",
       "    </tr>\n",
       "    <tr>\n",
       "      <th>977</th>\n",
       "      <td>54.97</td>\n",
       "      <td>31</td>\n",
       "      <td>51900.03</td>\n",
       "      <td>116.38</td>\n",
       "      <td>Virtual bifurcated portal</td>\n",
       "      <td>Robinsontown</td>\n",
       "      <td>1</td>\n",
       "      <td>France</td>\n",
       "      <td>2016-07-07 12:17:33</td>\n",
       "      <td>Clicked</td>\n",
       "    </tr>\n",
       "    <tr>\n",
       "      <th>984</th>\n",
       "      <td>66.47</td>\n",
       "      <td>31</td>\n",
       "      <td>58037.66</td>\n",
       "      <td>256.39</td>\n",
       "      <td>Vision-oriented human-resource synergy</td>\n",
       "      <td>Lindsaymouth</td>\n",
       "      <td>1</td>\n",
       "      <td>France</td>\n",
       "      <td>2016-03-03 03:13:48</td>\n",
       "      <td>Not_Clicked</td>\n",
       "    </tr>\n",
       "  </tbody>\n",
       "</table>\n",
       "</div>"
      ],
      "text/plain": [
       "     Daily Time Spent on Site  Age  Area Income  Daily Internet Usage  \\\n",
       "254                     56.70   48     62784.85                123.13   \n",
       "315                     73.89   39     47160.53                110.68   \n",
       "475                     75.15   33     71296.67                219.49   \n",
       "623                     87.97   35     48918.55                149.25   \n",
       "633                     40.19   37     55358.88                136.99   \n",
       "770                     71.14   30     69758.31                224.82   \n",
       "886                     44.40   53     43073.78                140.95   \n",
       "977                     54.97   31     51900.03                116.38   \n",
       "984                     66.47   31     58037.66                256.39   \n",
       "\n",
       "                              Ad Topic Line            City Male Country  \\\n",
       "254     Progressive non-volatile neural-net    Port Crystal    0  France   \n",
       "315        Horizontal national architecture     North April    0  France   \n",
       "475     Synchronized zero tolerance product       Smithtown    1  France   \n",
       "623        Secured secondary superstructure  Port Brianfort    1  France   \n",
       "633       Right-sized system-worthy project       Adamsbury    0  France   \n",
       "770           Assimilated stable encryption      Newmanberg    0  France   \n",
       "886               Phased zero-defect portal      Mariahview    1  France   \n",
       "977               Virtual bifurcated portal    Robinsontown    1  France   \n",
       "984  Vision-oriented human-resource synergy    Lindsaymouth    1  France   \n",
       "\n",
       "               Timestamp Clicked on Ad  \n",
       "254  2016-01-09 04:53:22       Clicked  \n",
       "315  2016-04-20 00:41:53       Clicked  \n",
       "475  2016-06-19 18:19:38   Not_Clicked  \n",
       "623  2016-03-24 05:38:01   Not_Clicked  \n",
       "633  2016-01-18 02:51:13       Clicked  \n",
       "770  2016-06-21 00:52:47   Not_Clicked  \n",
       "886  2016-06-30 00:43:40       Clicked  \n",
       "977  2016-07-07 12:17:33       Clicked  \n",
       "984  2016-03-03 03:13:48   Not_Clicked  "
      ]
     },
     "execution_count": 28,
     "metadata": {},
     "output_type": "execute_result"
    }
   ],
   "source": [
    "df[df['Country']==\"France\"]"
   ]
  },
  {
   "cell_type": "code",
   "execution_count": 26,
   "metadata": {},
   "outputs": [
    {
     "data": {
      "text/html": [
       "<div>\n",
       "<style scoped>\n",
       "    .dataframe tbody tr th:only-of-type {\n",
       "        vertical-align: middle;\n",
       "    }\n",
       "\n",
       "    .dataframe tbody tr th {\n",
       "        vertical-align: top;\n",
       "    }\n",
       "\n",
       "    .dataframe thead th {\n",
       "        text-align: right;\n",
       "    }\n",
       "</style>\n",
       "<table border=\"1\" class=\"dataframe\">\n",
       "  <thead>\n",
       "    <tr style=\"text-align: right;\">\n",
       "      <th>col_0</th>\n",
       "      <th>count</th>\n",
       "    </tr>\n",
       "    <tr>\n",
       "      <th>Country</th>\n",
       "      <th></th>\n",
       "    </tr>\n",
       "  </thead>\n",
       "  <tbody>\n",
       "    <tr>\n",
       "      <th>France</th>\n",
       "      <td>9</td>\n",
       "    </tr>\n",
       "    <tr>\n",
       "      <th>Czech Republic</th>\n",
       "      <td>9</td>\n",
       "    </tr>\n",
       "    <tr>\n",
       "      <th>Afghanistan</th>\n",
       "      <td>8</td>\n",
       "    </tr>\n",
       "    <tr>\n",
       "      <th>Australia</th>\n",
       "      <td>8</td>\n",
       "    </tr>\n",
       "    <tr>\n",
       "      <th>Turkey</th>\n",
       "      <td>8</td>\n",
       "    </tr>\n",
       "    <tr>\n",
       "      <th>...</th>\n",
       "      <td>...</td>\n",
       "    </tr>\n",
       "    <tr>\n",
       "      <th>Montserrat</th>\n",
       "      <td>1</td>\n",
       "    </tr>\n",
       "    <tr>\n",
       "      <th>Mozambique</th>\n",
       "      <td>1</td>\n",
       "    </tr>\n",
       "    <tr>\n",
       "      <th>Romania</th>\n",
       "      <td>1</td>\n",
       "    </tr>\n",
       "    <tr>\n",
       "      <th>Saint Kitts and Nevis</th>\n",
       "      <td>1</td>\n",
       "    </tr>\n",
       "    <tr>\n",
       "      <th>Aruba</th>\n",
       "      <td>1</td>\n",
       "    </tr>\n",
       "  </tbody>\n",
       "</table>\n",
       "<p>237 rows × 1 columns</p>\n",
       "</div>"
      ],
      "text/plain": [
       "col_0                  count\n",
       "Country                     \n",
       "France                     9\n",
       "Czech Republic             9\n",
       "Afghanistan                8\n",
       "Australia                  8\n",
       "Turkey                     8\n",
       "...                      ...\n",
       "Montserrat                 1\n",
       "Mozambique                 1\n",
       "Romania                    1\n",
       "Saint Kitts and Nevis      1\n",
       "Aruba                      1\n",
       "\n",
       "[237 rows x 1 columns]"
      ]
     },
     "execution_count": 26,
     "metadata": {},
     "output_type": "execute_result"
    }
   ],
   "source": [
    "pd.crosstab(df['Country'],columns='count').sort_values('count',ascending=False)"
   ]
  },
  {
   "cell_type": "markdown",
   "metadata": {},
   "source": [
    "#### DATE_TIME FEATURE ENGINEERING"
   ]
  },
  {
   "cell_type": "code",
   "execution_count": 27,
   "metadata": {},
   "outputs": [],
   "source": [
    "df['Timestamp']=pd.to_datetime(df['Timestamp'])\n",
    "df['Month']=df['Timestamp'].dt.month\n",
    "df['hour']=df['Timestamp'].dt.hour\n",
    "df['weekday']=df['Timestamp'].dt.dayofweek\n",
    "df['day']=df['Timestamp'].dt.day"
   ]
  },
  {
   "cell_type": "markdown",
   "metadata": {},
   "source": [
    "#### EXPLORATORY DATA ANALYSIS"
   ]
  },
  {
   "cell_type": "code",
   "execution_count": 28,
   "metadata": {},
   "outputs": [
    {
     "data": {
      "image/png": "[encoded data removed]",
      "text/plain": [
       "<Figure size 648x432 with 1 Axes>"
      ]
     },
     "metadata": {
      "needs_background": "light"
     },
     "output_type": "display_data"
    }
   ],
   "source": [
    "Daily_time=df['Daily Time Spent on Site'].tolist()\n",
    "plt.figure(figsize=(9,6))\n",
    "plt.grid(True,axis='both',linestyle='--',linewidth=1)\n",
    "plt.hist(Daily_time,density=True,histtype='bar',label='DailyTime Spent on Site')\n",
    "plt.xlabel('Daily Time  in minutes' )\n",
    "plt.title('Daily Time spent on site')\n",
    "plt.legend(loc='upper left')\n",
    "plt.show()"
   ]
  },
  {
   "cell_type": "code",
   "execution_count": 29,
   "metadata": {},
   "outputs": [
    {
     "data": {
      "image/png": "[encoded data removed]",
      "text/plain": [
       "<Figure size 864x864 with 1 Axes>"
      ]
     },
     "metadata": {
      "needs_background": "light"
     },
     "output_type": "display_data"
    }
   ],
   "source": [
    "age=df['Age'].tolist()\n",
    "plt.figure(figsize=(12,12))\n",
    "plt.grid(True,axis='both',linestyle='--',linewidth=1)\n",
    "plt.hist(age,label=\"AGE OF CUSTOMERS VIEWING SITE\",align='mid')\n",
    "plt.xticks(np.arange(10,70,5))\n",
    "\n",
    "plt.xlabel('Age of clickers ')\n",
    "plt.title('Age of customers viewing on the site')\n",
    "plt.legend(loc='upper left')\n",
    "plt.show()"
   ]
  },
  {
   "cell_type": "code",
   "execution_count": 30,
   "metadata": {},
   "outputs": [],
   "source": [
    "country=set(df['Country'])"
   ]
  },
  {
   "cell_type": "code",
   "execution_count": 31,
   "metadata": {},
   "outputs": [],
   "source": [
    "x=df.groupby(['Country'])['Area Income'].sum().reset_index()"
   ]
  },
  {
   "cell_type": "code",
   "execution_count": 32,
   "metadata": {},
   "outputs": [
    {
     "data": {
      "text/html": [
       "<div>\n",
       "<style scoped>\n",
       "    .dataframe tbody tr th:only-of-type {\n",
       "        vertical-align: middle;\n",
       "    }\n",
       "\n",
       "    .dataframe tbody tr th {\n",
       "        vertical-align: top;\n",
       "    }\n",
       "\n",
       "    .dataframe thead th {\n",
       "        text-align: right;\n",
       "    }\n",
       "</style>\n",
       "<table border=\"1\" class=\"dataframe\">\n",
       "  <thead>\n",
       "    <tr style=\"text-align: right;\">\n",
       "      <th></th>\n",
       "      <th>Country</th>\n",
       "      <th>Area Income</th>\n",
       "    </tr>\n",
       "  </thead>\n",
       "  <tbody>\n",
       "    <tr>\n",
       "      <th>0</th>\n",
       "      <td>Afghanistan</td>\n",
       "      <td>392114.92</td>\n",
       "    </tr>\n",
       "    <tr>\n",
       "      <th>1</th>\n",
       "      <td>Albania</td>\n",
       "      <td>380754.40</td>\n",
       "    </tr>\n",
       "    <tr>\n",
       "      <th>2</th>\n",
       "      <td>Algeria</td>\n",
       "      <td>303874.05</td>\n",
       "    </tr>\n",
       "    <tr>\n",
       "      <th>3</th>\n",
       "      <td>American Samoa</td>\n",
       "      <td>256110.39</td>\n",
       "    </tr>\n",
       "    <tr>\n",
       "      <th>4</th>\n",
       "      <td>Andorra</td>\n",
       "      <td>94330.46</td>\n",
       "    </tr>\n",
       "    <tr>\n",
       "      <th>...</th>\n",
       "      <td>...</td>\n",
       "      <td>...</td>\n",
       "    </tr>\n",
       "    <tr>\n",
       "      <th>232</th>\n",
       "      <td>Wallis and Futuna</td>\n",
       "      <td>213262.04</td>\n",
       "    </tr>\n",
       "    <tr>\n",
       "      <th>233</th>\n",
       "      <td>Western Sahara</td>\n",
       "      <td>370961.09</td>\n",
       "    </tr>\n",
       "    <tr>\n",
       "      <th>234</th>\n",
       "      <td>Yemen</td>\n",
       "      <td>164306.43</td>\n",
       "    </tr>\n",
       "    <tr>\n",
       "      <th>235</th>\n",
       "      <td>Zambia</td>\n",
       "      <td>212948.93</td>\n",
       "    </tr>\n",
       "    <tr>\n",
       "      <th>236</th>\n",
       "      <td>Zimbabwe</td>\n",
       "      <td>305828.67</td>\n",
       "    </tr>\n",
       "  </tbody>\n",
       "</table>\n",
       "<p>237 rows × 2 columns</p>\n",
       "</div>"
      ],
      "text/plain": [
       "               Country  Area Income\n",
       "0          Afghanistan    392114.92\n",
       "1              Albania    380754.40\n",
       "2              Algeria    303874.05\n",
       "3       American Samoa    256110.39\n",
       "4              Andorra     94330.46\n",
       "..                 ...          ...\n",
       "232  Wallis and Futuna    213262.04\n",
       "233     Western Sahara    370961.09\n",
       "234              Yemen    164306.43\n",
       "235             Zambia    212948.93\n",
       "236           Zimbabwe    305828.67\n",
       "\n",
       "[237 rows x 2 columns]"
      ]
     },
     "execution_count": 32,
     "metadata": {},
     "output_type": "execute_result"
    }
   ],
   "source": [
    "x"
   ]
  },
  {
   "cell_type": "code",
   "execution_count": 33,
   "metadata": {},
   "outputs": [
    {
     "data": {
      "image/png": "[encoded data removed]",
      "text/plain": [
       "<Figure size 648x432 with 1 Axes>"
      ]
     },
     "metadata": {
      "needs_background": "light"
     },
     "output_type": "display_data"
    }
   ],
   "source": [
    "clicked_non_clicked=df['Clicked on Ad'].tolist()\n",
    "plt.figure(figsize=(9,6))\n",
    "#plt.grid(axis='both',linestyle='--',linewidth=1)\n",
    "plt.bar(clicked_non_clicked,height=0.75,align='center',data=df)\n",
    "plt.xticks([0,1],('False','True'))\n",
    "#plt.yticks(np.arange(100,800,100))\n",
    "plt.xlabel('CLICked or Non-clicked')\n",
    "plt.ylabel('count of clicked or non clicked')\n",
    "plt.title(\"CLICKED ON AD OR NOT\")\n",
    "plt.show()"
   ]
  },
  {
   "cell_type": "markdown",
   "metadata": {},
   "source": [
    "As the data is distributed  in a way such that 50% of ads are clicked  and the other 50 % ads are not clicked there are \n",
    "certain patterns that are followed by the non clicked  .In ordern to test these t-test will help us to understand better"
   ]
  },
  {
   "cell_type": "markdown",
   "metadata": {},
   "source": [
    "### T-Test for attributes of numerical columns"
   ]
  },
  {
   "cell_type": "code",
   "execution_count": 38,
   "metadata": {},
   "outputs": [
    {
     "name": "stdout",
     "output_type": "stream",
     "text": [
      "['Age', 'Area Income', 'Daily Time Spent on Site', 'Daily Internet Usage']\n"
     ]
    }
   ],
   "source": [
    "numeric=list(numeric)\n",
    "print(numeric)"
   ]
  },
  {
   "cell_type": "markdown",
   "metadata": {},
   "source": [
    "Before we can apply a t-test, it is a good idea to first check if our data is normally distrubuted.\n",
    "We also need to figure out if there is a difference in variance, then we need to think carefully about\n",
    "whether testing for a difference in the mean values is useful."
   ]
  },
  {
   "cell_type": "markdown",
   "metadata": {},
   "source": [
    "#### VARIENCE"
   ]
  },
  {
   "cell_type": "code",
   "execution_count": 39,
   "metadata": {},
   "outputs": [
    {
     "name": "stdout",
     "output_type": "stream",
     "text": [
      "Sample variance for Age of clicked: 78.43932264529053\n",
      "Sample variance for Age of clicked: 38.60134669338677\n",
      "Diffrences in Varience: 39.84\n",
      "Sample variance for Area Income of clicked: 199268294.75284597\n",
      "Sample variance for Area Income of clicked: 79282287.69250286\n",
      "Diffrences in Varience: 119986007.06\n",
      "Sample variance for Daily Time Spent on Site of clicked: 164.4060128172345\n",
      "Sample variance for Daily Time Spent on Site of clicked: 57.15407580721444\n",
      "Diffrences in Varience: 107.25\n",
      "Sample variance for Daily Internet Usage of clicked: 901.550222513427\n",
      "Sample variance for Daily Internet Usage of clicked: 569.986119651703\n",
      "Diffrences in Varience: 331.56\n"
     ]
    }
   ],
   "source": [
    "for col in numeric:\n",
    "    varience=[]\n",
    "    for  i in  ['Clicked','Not_Clicked']:\n",
    "        var=np.var(df[df['Clicked on Ad']==i][col],ddof=1)\n",
    "        varience.append(var)\n",
    "        if i:\n",
    "            print(f'Sample variance for {col} of clicked: {var}')\n",
    "        else:\n",
    "            print(f'Sample variance for {col} of non clicked: {var}')\n",
    "    print(f'Diffrences in Varience:',round(abs(varience[0]-varience[1]),2))\n",
    "    "
   ]
  },
  {
   "cell_type": "markdown",
   "metadata": {},
   "source": [
    "As we can see there is a huge difference in the variences  we can confidently say that\n",
    "variences between two different groups of people are different. For the final confirmation wether these are from \n",
    "different groups lets check different in means\n"
   ]
  },
  {
   "cell_type": "markdown",
   "metadata": {},
   "source": [
    "#### Differences in means"
   ]
  },
  {
   "cell_type": "code",
   "execution_count": 40,
   "metadata": {},
   "outputs": [
    {
     "name": "stdout",
     "output_type": "stream",
     "text": [
      "Sample mean for Age of clicked: 40.334\n",
      "Sample mean for Age of clicked: 31.684\n",
      "Diffrences in means: 8.65\n",
      "Sample mean for Area Income of clicked: 48614.413739999996\n",
      "Sample mean for Area Income of clicked: 61385.58641999997\n",
      "Diffrences in means: 12771.17\n",
      "Sample mean for Daily Time Spent on Site of clicked: 53.14577999999996\n",
      "Sample mean for Daily Time Spent on Site of clicked: 76.85461999999998\n",
      "Diffrences in means: 23.71\n",
      "Sample mean for Daily Internet Usage of clicked: 145.48646000000005\n",
      "Sample mean for Daily Internet Usage of clicked: 214.51373999999979\n",
      "Diffrences in means: 69.03\n"
     ]
    }
   ],
   "source": [
    "for col in numeric:\n",
    "    means=[]\n",
    "    for  clicked in ['Clicked','Not_Clicked']:\n",
    "        mean=np.mean(df[df['Clicked on Ad']==clicked][col])\n",
    "        means.append(mean)\n",
    "        if clicked:\n",
    "            print(f'Sample mean for {col} of clicked: {mean}')\n",
    "        else:\n",
    "            print(f'Sample mean for {col} of non clicked: {mean}')\n",
    "    print(f'Diffrences in means:',round(abs(means[0]-means[1]),2))\n",
    "    "
   ]
  },
  {
   "cell_type": "markdown",
   "metadata": {},
   "source": [
    "From this we can see that the daiy time spent of the site and daily internet usage have very clear differences in mean. \n",
    "Age and area income are not as clear however. T-tests are needed to determine if these groups are different here. \n",
    "First we need to test if these variables are normally distributed."
   ]
  },
  {
   "cell_type": "markdown",
   "metadata": {},
   "source": [
    "#### Testing for normality"
   ]
  },
  {
   "cell_type": "markdown",
   "metadata": {},
   "source": [
    "Null Hypothesis ( H0 ):\n",
    "\n",
    "The data is normally distributed.\n",
    "\n",
    "Alternative Hypothesis ( H1 ):\n",
    "\n",
    "The data is not normally distributed.\n",
    "\n",
    "Significance Level:\n",
    "\n",
    "α=0.05"
   ]
  },
  {
   "cell_type": "code",
   "execution_count": 41,
   "metadata": {},
   "outputs": [
    {
     "name": "stdout",
     "output_type": "stream",
     "text": [
      "Results for clicked Age:\n",
      "\tStatistic: 23.943936558127017\n",
      "\tpvalue: 6.318881906004129e-06\n",
      "The null hypothesis can be rejected.\n",
      "\n",
      "Results for clicked Age:\n",
      "\tStatistic: 18.284807342970804\n",
      "\tpvalue: 0.00010702975570244017\n",
      "The null hypothesis can be rejected.\n",
      "\n",
      "Results for clicked Area Income:\n",
      "\tStatistic: 19.661877664961242\n",
      "\tpvalue: 5.376225954097155e-05\n",
      "The null hypothesis can be rejected.\n",
      "\n",
      "Results for clicked Area Income:\n",
      "\tStatistic: 20.133253663435365\n",
      "\tpvalue: 4.24736433144654e-05\n",
      "The null hypothesis can be rejected.\n",
      "\n",
      "Results for clicked Daily Time Spent on Site:\n",
      "\tStatistic: 27.68470486301522\n",
      "\tpvalue: 9.735151678581057e-07\n",
      "The null hypothesis can be rejected.\n",
      "\n",
      "Results for clicked Daily Time Spent on Site:\n",
      "\tStatistic: 31.725464738867313\n",
      "\tpvalue: 1.2909305069017e-07\n",
      "The null hypothesis can be rejected.\n",
      "\n",
      "Results for clicked Daily Internet Usage:\n",
      "\tStatistic: 107.72155156574296\n",
      "\tpvalue: 4.0603389241559316e-24\n",
      "The null hypothesis can be rejected.\n",
      "\n",
      "Results for clicked Daily Internet Usage:\n",
      "\tStatistic: 14.618899376391356\n",
      "\tpvalue: 0.0006691852112823573\n",
      "The null hypothesis can be rejected.\n",
      "\n"
     ]
    }
   ],
   "source": [
    "alpha=0.05\n",
    "for col in numeric:\n",
    "    for  i in  ['Clicked','Not_Clicked']:\n",
    "        stat,p=stats.normaltest(df[df['Clicked on Ad']==i][col])\n",
    "        if i:\n",
    "            print(f'Results for clicked {col}:')\n",
    "        else:\n",
    "            print(f'Results for nonclicked {col}:')\n",
    "\n",
    "        print(f'\\tStatistic: {stat}')\n",
    "        print(f'\\tpvalue: {p}')\n",
    "        \n",
    "        if p < alpha:\n",
    "            print('The null hypothesis can be rejected.\\n')\n",
    "        else:\n",
    "            print('The null hypothesis cannot be rejected.\\n')"
   ]
  },
  {
   "cell_type": "markdown",
   "metadata": {},
   "source": [
    "we found that all the columns are not normally distributed"
   ]
  },
  {
   "cell_type": "markdown",
   "metadata": {},
   "source": [
    "#### CORRELATION BETWEEN THE VARIABLES"
   ]
  },
  {
   "cell_type": "code",
   "execution_count": 42,
   "metadata": {},
   "outputs": [
    {
     "data": {
      "text/html": [
       "<div>\n",
       "<style scoped>\n",
       "    .dataframe tbody tr th:only-of-type {\n",
       "        vertical-align: middle;\n",
       "    }\n",
       "\n",
       "    .dataframe tbody tr th {\n",
       "        vertical-align: top;\n",
       "    }\n",
       "\n",
       "    .dataframe thead th {\n",
       "        text-align: right;\n",
       "    }\n",
       "</style>\n",
       "<table border=\"1\" class=\"dataframe\">\n",
       "  <thead>\n",
       "    <tr style=\"text-align: right;\">\n",
       "      <th></th>\n",
       "      <th>Daily Time Spent on Site</th>\n",
       "      <th>Age</th>\n",
       "      <th>Area Income</th>\n",
       "      <th>Daily Internet Usage</th>\n",
       "    </tr>\n",
       "  </thead>\n",
       "  <tbody>\n",
       "    <tr>\n",
       "      <th>Daily Time Spent on Site</th>\n",
       "      <td>1.000000</td>\n",
       "      <td>-0.331513</td>\n",
       "      <td>0.310954</td>\n",
       "      <td>0.518658</td>\n",
       "    </tr>\n",
       "    <tr>\n",
       "      <th>Age</th>\n",
       "      <td>-0.331513</td>\n",
       "      <td>1.000000</td>\n",
       "      <td>-0.182605</td>\n",
       "      <td>-0.367209</td>\n",
       "    </tr>\n",
       "    <tr>\n",
       "      <th>Area Income</th>\n",
       "      <td>0.310954</td>\n",
       "      <td>-0.182605</td>\n",
       "      <td>1.000000</td>\n",
       "      <td>0.337496</td>\n",
       "    </tr>\n",
       "    <tr>\n",
       "      <th>Daily Internet Usage</th>\n",
       "      <td>0.518658</td>\n",
       "      <td>-0.367209</td>\n",
       "      <td>0.337496</td>\n",
       "      <td>1.000000</td>\n",
       "    </tr>\n",
       "  </tbody>\n",
       "</table>\n",
       "</div>"
      ],
      "text/plain": [
       "                          Daily Time Spent on Site       Age  Area Income  \\\n",
       "Daily Time Spent on Site                  1.000000 -0.331513     0.310954   \n",
       "Age                                      -0.331513  1.000000    -0.182605   \n",
       "Area Income                               0.310954 -0.182605     1.000000   \n",
       "Daily Internet Usage                      0.518658 -0.367209     0.337496   \n",
       "\n",
       "                          Daily Internet Usage  \n",
       "Daily Time Spent on Site              0.518658  \n",
       "Age                                  -0.367209  \n",
       "Area Income                           0.337496  \n",
       "Daily Internet Usage                  1.000000  "
      ]
     },
     "execution_count": 42,
     "metadata": {},
     "output_type": "execute_result"
    }
   ],
   "source": [
    "df.corr()"
   ]
  },
  {
   "cell_type": "code",
   "execution_count": 43,
   "metadata": {},
   "outputs": [
    {
     "data": {
      "text/plain": [
       "Index(['Daily Time Spent on Site', 'Age', 'Area Income',\n",
       "       'Daily Internet Usage', 'Male', 'Country', 'Clicked on Ad'],\n",
       "      dtype='object')"
      ]
     },
     "execution_count": 43,
     "metadata": {},
     "output_type": "execute_result"
    }
   ],
   "source": [
    "df.columns"
   ]
  },
  {
   "cell_type": "markdown",
   "metadata": {},
   "source": [
    "DROPPING CERTAIN COLUMNS AS THEY  THERE IS NO VARIENCE IN THE COLUMNS"
   ]
  },
  {
   "cell_type": "code",
   "execution_count": 44,
   "metadata": {},
   "outputs": [
    {
     "ename": "KeyError",
     "evalue": "\"['Timestamp' 'City' 'Ad Topic Line'] not found in axis\"",
     "output_type": "error",
     "traceback": [
      "\u001b[1;31m---------------------------------------------------------------------------\u001b[0m",
      "\u001b[1;31mKeyError\u001b[0m                                  Traceback (most recent call last)",
      "\u001b[1;32m<ipython-input-44-58b99378e8ec>\u001b[0m in \u001b[0;36m<module>\u001b[1;34m\u001b[0m\n\u001b[0;32m      1\u001b[0m \u001b[0mdrop\u001b[0m\u001b[1;33m=\u001b[0m\u001b[1;33m[\u001b[0m\u001b[1;34m'Timestamp'\u001b[0m\u001b[1;33m,\u001b[0m\u001b[1;34m'City'\u001b[0m\u001b[1;33m,\u001b[0m\u001b[1;34m'Ad Topic Line'\u001b[0m\u001b[1;33m]\u001b[0m\u001b[1;33m\u001b[0m\u001b[1;33m\u001b[0m\u001b[0m\n\u001b[1;32m----> 2\u001b[1;33m \u001b[0mdf\u001b[0m\u001b[1;33m=\u001b[0m\u001b[0mdf\u001b[0m\u001b[1;33m.\u001b[0m\u001b[0mdrop\u001b[0m\u001b[1;33m(\u001b[0m\u001b[0mdrop\u001b[0m\u001b[1;33m,\u001b[0m\u001b[0maxis\u001b[0m\u001b[1;33m=\u001b[0m\u001b[1;36m1\u001b[0m\u001b[1;33m)\u001b[0m\u001b[1;33m\u001b[0m\u001b[1;33m\u001b[0m\u001b[0m\n\u001b[0m",
      "\u001b[1;32m~\\Anaconda3\\lib\\site-packages\\pandas\\core\\frame.py\u001b[0m in \u001b[0;36mdrop\u001b[1;34m(self, labels, axis, index, columns, level, inplace, errors)\u001b[0m\n\u001b[0;32m   3995\u001b[0m             \u001b[0mlevel\u001b[0m\u001b[1;33m=\u001b[0m\u001b[0mlevel\u001b[0m\u001b[1;33m,\u001b[0m\u001b[1;33m\u001b[0m\u001b[1;33m\u001b[0m\u001b[0m\n\u001b[0;32m   3996\u001b[0m             \u001b[0minplace\u001b[0m\u001b[1;33m=\u001b[0m\u001b[0minplace\u001b[0m\u001b[1;33m,\u001b[0m\u001b[1;33m\u001b[0m\u001b[1;33m\u001b[0m\u001b[0m\n\u001b[1;32m-> 3997\u001b[1;33m             \u001b[0merrors\u001b[0m\u001b[1;33m=\u001b[0m\u001b[0merrors\u001b[0m\u001b[1;33m,\u001b[0m\u001b[1;33m\u001b[0m\u001b[1;33m\u001b[0m\u001b[0m\n\u001b[0m\u001b[0;32m   3998\u001b[0m         )\n\u001b[0;32m   3999\u001b[0m \u001b[1;33m\u001b[0m\u001b[0m\n",
      "\u001b[1;32m~\\Anaconda3\\lib\\site-packages\\pandas\\core\\generic.py\u001b[0m in \u001b[0;36mdrop\u001b[1;34m(self, labels, axis, index, columns, level, inplace, errors)\u001b[0m\n\u001b[0;32m   3934\u001b[0m         \u001b[1;32mfor\u001b[0m \u001b[0maxis\u001b[0m\u001b[1;33m,\u001b[0m \u001b[0mlabels\u001b[0m \u001b[1;32min\u001b[0m \u001b[0maxes\u001b[0m\u001b[1;33m.\u001b[0m\u001b[0mitems\u001b[0m\u001b[1;33m(\u001b[0m\u001b[1;33m)\u001b[0m\u001b[1;33m:\u001b[0m\u001b[1;33m\u001b[0m\u001b[1;33m\u001b[0m\u001b[0m\n\u001b[0;32m   3935\u001b[0m             \u001b[1;32mif\u001b[0m \u001b[0mlabels\u001b[0m \u001b[1;32mis\u001b[0m \u001b[1;32mnot\u001b[0m \u001b[1;32mNone\u001b[0m\u001b[1;33m:\u001b[0m\u001b[1;33m\u001b[0m\u001b[1;33m\u001b[0m\u001b[0m\n\u001b[1;32m-> 3936\u001b[1;33m                 \u001b[0mobj\u001b[0m \u001b[1;33m=\u001b[0m \u001b[0mobj\u001b[0m\u001b[1;33m.\u001b[0m\u001b[0m_drop_axis\u001b[0m\u001b[1;33m(\u001b[0m\u001b[0mlabels\u001b[0m\u001b[1;33m,\u001b[0m \u001b[0maxis\u001b[0m\u001b[1;33m,\u001b[0m \u001b[0mlevel\u001b[0m\u001b[1;33m=\u001b[0m\u001b[0mlevel\u001b[0m\u001b[1;33m,\u001b[0m \u001b[0merrors\u001b[0m\u001b[1;33m=\u001b[0m\u001b[0merrors\u001b[0m\u001b[1;33m)\u001b[0m\u001b[1;33m\u001b[0m\u001b[1;33m\u001b[0m\u001b[0m\n\u001b[0m\u001b[0;32m   3937\u001b[0m \u001b[1;33m\u001b[0m\u001b[0m\n\u001b[0;32m   3938\u001b[0m         \u001b[1;32mif\u001b[0m \u001b[0minplace\u001b[0m\u001b[1;33m:\u001b[0m\u001b[1;33m\u001b[0m\u001b[1;33m\u001b[0m\u001b[0m\n",
      "\u001b[1;32m~\\Anaconda3\\lib\\site-packages\\pandas\\core\\generic.py\u001b[0m in \u001b[0;36m_drop_axis\u001b[1;34m(self, labels, axis, level, errors)\u001b[0m\n\u001b[0;32m   3968\u001b[0m                 \u001b[0mnew_axis\u001b[0m \u001b[1;33m=\u001b[0m \u001b[0maxis\u001b[0m\u001b[1;33m.\u001b[0m\u001b[0mdrop\u001b[0m\u001b[1;33m(\u001b[0m\u001b[0mlabels\u001b[0m\u001b[1;33m,\u001b[0m \u001b[0mlevel\u001b[0m\u001b[1;33m=\u001b[0m\u001b[0mlevel\u001b[0m\u001b[1;33m,\u001b[0m \u001b[0merrors\u001b[0m\u001b[1;33m=\u001b[0m\u001b[0merrors\u001b[0m\u001b[1;33m)\u001b[0m\u001b[1;33m\u001b[0m\u001b[1;33m\u001b[0m\u001b[0m\n\u001b[0;32m   3969\u001b[0m             \u001b[1;32melse\u001b[0m\u001b[1;33m:\u001b[0m\u001b[1;33m\u001b[0m\u001b[1;33m\u001b[0m\u001b[0m\n\u001b[1;32m-> 3970\u001b[1;33m                 \u001b[0mnew_axis\u001b[0m \u001b[1;33m=\u001b[0m \u001b[0maxis\u001b[0m\u001b[1;33m.\u001b[0m\u001b[0mdrop\u001b[0m\u001b[1;33m(\u001b[0m\u001b[0mlabels\u001b[0m\u001b[1;33m,\u001b[0m \u001b[0merrors\u001b[0m\u001b[1;33m=\u001b[0m\u001b[0merrors\u001b[0m\u001b[1;33m)\u001b[0m\u001b[1;33m\u001b[0m\u001b[1;33m\u001b[0m\u001b[0m\n\u001b[0m\u001b[0;32m   3971\u001b[0m             \u001b[0mresult\u001b[0m \u001b[1;33m=\u001b[0m \u001b[0mself\u001b[0m\u001b[1;33m.\u001b[0m\u001b[0mreindex\u001b[0m\u001b[1;33m(\u001b[0m\u001b[1;33m**\u001b[0m\u001b[1;33m{\u001b[0m\u001b[0maxis_name\u001b[0m\u001b[1;33m:\u001b[0m \u001b[0mnew_axis\u001b[0m\u001b[1;33m}\u001b[0m\u001b[1;33m)\u001b[0m\u001b[1;33m\u001b[0m\u001b[1;33m\u001b[0m\u001b[0m\n\u001b[0;32m   3972\u001b[0m \u001b[1;33m\u001b[0m\u001b[0m\n",
      "\u001b[1;32m~\\Anaconda3\\lib\\site-packages\\pandas\\core\\indexes\\base.py\u001b[0m in \u001b[0;36mdrop\u001b[1;34m(self, labels, errors)\u001b[0m\n\u001b[0;32m   5015\u001b[0m         \u001b[1;32mif\u001b[0m \u001b[0mmask\u001b[0m\u001b[1;33m.\u001b[0m\u001b[0many\u001b[0m\u001b[1;33m(\u001b[0m\u001b[1;33m)\u001b[0m\u001b[1;33m:\u001b[0m\u001b[1;33m\u001b[0m\u001b[1;33m\u001b[0m\u001b[0m\n\u001b[0;32m   5016\u001b[0m             \u001b[1;32mif\u001b[0m \u001b[0merrors\u001b[0m \u001b[1;33m!=\u001b[0m \u001b[1;34m\"ignore\"\u001b[0m\u001b[1;33m:\u001b[0m\u001b[1;33m\u001b[0m\u001b[1;33m\u001b[0m\u001b[0m\n\u001b[1;32m-> 5017\u001b[1;33m                 \u001b[1;32mraise\u001b[0m \u001b[0mKeyError\u001b[0m\u001b[1;33m(\u001b[0m\u001b[1;34mf\"{labels[mask]} not found in axis\"\u001b[0m\u001b[1;33m)\u001b[0m\u001b[1;33m\u001b[0m\u001b[1;33m\u001b[0m\u001b[0m\n\u001b[0m\u001b[0;32m   5018\u001b[0m             \u001b[0mindexer\u001b[0m \u001b[1;33m=\u001b[0m \u001b[0mindexer\u001b[0m\u001b[1;33m[\u001b[0m\u001b[1;33m~\u001b[0m\u001b[0mmask\u001b[0m\u001b[1;33m]\u001b[0m\u001b[1;33m\u001b[0m\u001b[1;33m\u001b[0m\u001b[0m\n\u001b[0;32m   5019\u001b[0m         \u001b[1;32mreturn\u001b[0m \u001b[0mself\u001b[0m\u001b[1;33m.\u001b[0m\u001b[0mdelete\u001b[0m\u001b[1;33m(\u001b[0m\u001b[0mindexer\u001b[0m\u001b[1;33m)\u001b[0m\u001b[1;33m\u001b[0m\u001b[1;33m\u001b[0m\u001b[0m\n",
      "\u001b[1;31mKeyError\u001b[0m: \"['Timestamp' 'City' 'Ad Topic Line'] not found in axis\""
     ]
    }
   ],
   "source": [
    "drop=['Timestamp','City','Ad Topic Line']\n",
    "df=df.drop(drop,axis=1)\n"
   ]
  },
  {
   "cell_type": "code",
   "execution_count": 45,
   "metadata": {},
   "outputs": [
    {
     "data": {
      "text/plain": [
       "Index(['Daily Time Spent on Site', 'Age', 'Area Income',\n",
       "       'Daily Internet Usage', 'Male', 'Country', 'Clicked on Ad'],\n",
       "      dtype='object')"
      ]
     },
     "execution_count": 45,
     "metadata": {},
     "output_type": "execute_result"
    }
   ],
   "source": [
    "df.columns"
   ]
  },
  {
   "cell_type": "code",
   "execution_count": 46,
   "metadata": {},
   "outputs": [
    {
     "data": {
      "text/plain": [
       "Daily Time Spent on Site    float64\n",
       "Age                           int64\n",
       "Area Income                 float64\n",
       "Daily Internet Usage        float64\n",
       "Male                         object\n",
       "Country                      object\n",
       "Clicked on Ad                object\n",
       "dtype: object"
      ]
     },
     "execution_count": 46,
     "metadata": {},
     "output_type": "execute_result"
    }
   ],
   "source": [
    "df.dtypes\n"
   ]
  },
  {
   "cell_type": "code",
   "execution_count": 47,
   "metadata": {},
   "outputs": [],
   "source": [
    "X=df.copy()"
   ]
  },
  {
   "cell_type": "markdown",
   "metadata": {},
   "source": [
    "ENCODING CERTAIN COLUMNS FOR THE DATA TO BUILD A MODEL"
   ]
  },
  {
   "cell_type": "code",
   "execution_count": 48,
   "metadata": {},
   "outputs": [],
   "source": [
    "from sklearn.preprocessing import LabelEncoder"
   ]
  },
  {
   "cell_type": "code",
   "execution_count": 49,
   "metadata": {},
   "outputs": [],
   "source": [
    "le=LabelEncoder()"
   ]
  },
  {
   "cell_type": "code",
   "execution_count": 50,
   "metadata": {},
   "outputs": [],
   "source": [
    "X['Country']=le.fit_transform(X['Country'])"
   ]
  },
  {
   "cell_type": "code",
   "execution_count": 51,
   "metadata": {},
   "outputs": [],
   "source": [
    "Y=X['Clicked on Ad']\n",
    "X.drop(['Clicked on Ad'],axis=1,inplace=True)"
   ]
  },
  {
   "cell_type": "code",
   "execution_count": 52,
   "metadata": {},
   "outputs": [
    {
     "data": {
      "text/plain": [
       "Index(['Daily Time Spent on Site', 'Age', 'Area Income',\n",
       "       'Daily Internet Usage', 'Male', 'Country'],\n",
       "      dtype='object')"
      ]
     },
     "execution_count": 52,
     "metadata": {},
     "output_type": "execute_result"
    }
   ],
   "source": [
    "X.columns"
   ]
  },
  {
   "cell_type": "code",
   "execution_count": 53,
   "metadata": {},
   "outputs": [],
   "source": [
    "Y=Y.astype('category')\n",
    "#Y=Y.values.reshape(-1,1)"
   ]
  },
  {
   "cell_type": "markdown",
   "metadata": {},
   "source": [
    "#### PREPPING THE DATA"
   ]
  },
  {
   "cell_type": "code",
   "execution_count": 54,
   "metadata": {},
   "outputs": [],
   "source": [
    "from sklearn.model_selection import train_test_split\n",
    "from sklearn.preprocessing import StandardScaler"
   ]
  },
  {
   "cell_type": "markdown",
   "metadata": {},
   "source": [
    "#### SPLITTING THE DATA TO TRAIN AND VALIDATION"
   ]
  },
  {
   "cell_type": "code",
   "execution_count": 55,
   "metadata": {},
   "outputs": [
    {
     "name": "stdout",
     "output_type": "stream",
     "text": [
      "(800, 6)\n",
      "(800,)\n",
      "(200, 6)\n",
      "(200,)\n"
     ]
    }
   ],
   "source": [
    "X_train,X_test,Y_train,Y_test=train_test_split(X,Y,test_size=0.2,random_state=67895)\n",
    "print(X_train.shape)\n",
    "\n",
    "print(Y_train.shape)\n",
    "\n",
    "print(X_test.shape)\n",
    "\n",
    "print(Y_test.shape)"
   ]
  },
  {
   "cell_type": "code",
   "execution_count": 56,
   "metadata": {},
   "outputs": [
    {
     "data": {
      "text/plain": [
       "Index(['Daily Time Spent on Site', 'Age', 'Area Income',\n",
       "       'Daily Internet Usage', 'Male', 'Country'],\n",
       "      dtype='object')"
      ]
     },
     "execution_count": 56,
     "metadata": {},
     "output_type": "execute_result"
    }
   ],
   "source": [
    "X_train.columns\n"
   ]
  },
  {
   "cell_type": "code",
   "execution_count": 57,
   "metadata": {},
   "outputs": [
    {
     "data": {
      "text/plain": [
       "['Age', 'Area Income', 'Daily Time Spent on Site', 'Daily Internet Usage']"
      ]
     },
     "execution_count": 57,
     "metadata": {},
     "output_type": "execute_result"
    }
   ],
   "source": [
    "numeric"
   ]
  },
  {
   "cell_type": "markdown",
   "metadata": {},
   "source": [
    "#### SCALING THE NUMERICAL ATTRIBUTES"
   ]
  },
  {
   "cell_type": "code",
   "execution_count": 58,
   "metadata": {},
   "outputs": [],
   "source": [
    "import warnings\n",
    "warnings.filterwarnings(\"ignore\")\n"
   ]
  },
  {
   "cell_type": "code",
   "execution_count": 59,
   "metadata": {},
   "outputs": [],
   "source": [
    "scaler=StandardScaler()\n",
    "scaler.fit(X_train[numeric])\n",
    "X_train[numeric]=scaler.transform(X_train[numeric])\n",
    "X_test[numeric]=scaler.transform(X_test[numeric])"
   ]
  },
  {
   "cell_type": "code",
   "execution_count": 60,
   "metadata": {},
   "outputs": [
    {
     "data": {
      "text/html": [
       "<div>\n",
       "<style scoped>\n",
       "    .dataframe tbody tr th:only-of-type {\n",
       "        vertical-align: middle;\n",
       "    }\n",
       "\n",
       "    .dataframe tbody tr th {\n",
       "        vertical-align: top;\n",
       "    }\n",
       "\n",
       "    .dataframe thead th {\n",
       "        text-align: right;\n",
       "    }\n",
       "</style>\n",
       "<table border=\"1\" class=\"dataframe\">\n",
       "  <thead>\n",
       "    <tr style=\"text-align: right;\">\n",
       "      <th></th>\n",
       "      <th>Daily Time Spent on Site</th>\n",
       "      <th>Age</th>\n",
       "      <th>Area Income</th>\n",
       "      <th>Daily Internet Usage</th>\n",
       "      <th>Male</th>\n",
       "      <th>Country</th>\n",
       "    </tr>\n",
       "  </thead>\n",
       "  <tbody>\n",
       "    <tr>\n",
       "      <th>20</th>\n",
       "      <td>0.789118</td>\n",
       "      <td>-0.699055</td>\n",
       "      <td>0.708515</td>\n",
       "      <td>1.032086</td>\n",
       "      <td>1</td>\n",
       "      <td>36</td>\n",
       "    </tr>\n",
       "    <tr>\n",
       "      <th>132</th>\n",
       "      <td>-0.849129</td>\n",
       "      <td>-0.019123</td>\n",
       "      <td>1.575112</td>\n",
       "      <td>-0.061331</td>\n",
       "      <td>0</td>\n",
       "      <td>52</td>\n",
       "    </tr>\n",
       "    <tr>\n",
       "      <th>824</th>\n",
       "      <td>0.237360</td>\n",
       "      <td>-0.925699</td>\n",
       "      <td>0.875676</td>\n",
       "      <td>1.082506</td>\n",
       "      <td>0</td>\n",
       "      <td>168</td>\n",
       "    </tr>\n",
       "    <tr>\n",
       "      <th>682</th>\n",
       "      <td>-1.332783</td>\n",
       "      <td>-0.019123</td>\n",
       "      <td>-0.327762</td>\n",
       "      <td>-1.242296</td>\n",
       "      <td>1</td>\n",
       "      <td>72</td>\n",
       "    </tr>\n",
       "    <tr>\n",
       "      <th>941</th>\n",
       "      <td>0.886227</td>\n",
       "      <td>1.680707</td>\n",
       "      <td>0.871700</td>\n",
       "      <td>-0.397768</td>\n",
       "      <td>0</td>\n",
       "      <td>78</td>\n",
       "    </tr>\n",
       "  </tbody>\n",
       "</table>\n",
       "</div>"
      ],
      "text/plain": [
       "     Daily Time Spent on Site       Age  Area Income  Daily Internet Usage  \\\n",
       "20                   0.789118 -0.699055     0.708515              1.032086   \n",
       "132                 -0.849129 -0.019123     1.575112             -0.061331   \n",
       "824                  0.237360 -0.925699     0.875676              1.082506   \n",
       "682                 -1.332783 -0.019123    -0.327762             -1.242296   \n",
       "941                  0.886227  1.680707     0.871700             -0.397768   \n",
       "\n",
       "    Male  Country  \n",
       "20     1       36  \n",
       "132    0       52  \n",
       "824    0      168  \n",
       "682    1       72  \n",
       "941    0       78  "
      ]
     },
     "execution_count": 60,
     "metadata": {},
     "output_type": "execute_result"
    }
   ],
   "source": [
    "X_train.head()"
   ]
  },
  {
   "cell_type": "code",
   "execution_count": 57,
   "metadata": {},
   "outputs": [
    {
     "data": {
      "text/plain": [
       "set()"
      ]
     },
     "execution_count": 57,
     "metadata": {},
     "output_type": "execute_result"
    }
   ],
   "source": [
    "set(X_train.columns)-set(X_test.columns)"
   ]
  },
  {
   "cell_type": "code",
   "execution_count": 120,
   "metadata": {},
   "outputs": [
    {
     "ename": "AttributeError",
     "evalue": "'numpy.ndarray' object has no attribute 'to_numpy'",
     "output_type": "error",
     "traceback": [
      "\u001b[1;31m---------------------------------------------------------------------------\u001b[0m",
      "\u001b[1;31mAttributeError\u001b[0m                            Traceback (most recent call last)",
      "\u001b[1;32m<ipython-input-120-618035c8dccf>\u001b[0m in \u001b[0;36m<module>\u001b[1;34m\u001b[0m\n\u001b[1;32m----> 1\u001b[1;33m \u001b[0mY_train\u001b[0m\u001b[1;33m=\u001b[0m\u001b[0mY_train\u001b[0m\u001b[1;33m.\u001b[0m\u001b[0mto_numpy\u001b[0m\u001b[1;33m(\u001b[0m\u001b[1;33m)\u001b[0m\u001b[1;33m\u001b[0m\u001b[1;33m\u001b[0m\u001b[0m\n\u001b[0m",
      "\u001b[1;31mAttributeError\u001b[0m: 'numpy.ndarray' object has no attribute 'to_numpy'"
     ]
    }
   ],
   "source": [
    "Y_train=Y_train.to_numpy()"
   ]
  },
  {
   "cell_type": "code",
   "execution_count": 121,
   "metadata": {},
   "outputs": [],
   "source": [
    "Y_train=Y_train.reshape(-1,1)"
   ]
  },
  {
   "cell_type": "markdown",
   "metadata": {},
   "source": [
    "#### BUILDING MODELS FOR THE DATA"
   ]
  },
  {
   "cell_type": "markdown",
   "metadata": {},
   "source": [
    "#### CUSTOM FUNCTION EVALUATE THE RESULTS"
   ]
  },
  {
   "cell_type": "code",
   "execution_count": 62,
   "metadata": {},
   "outputs": [],
   "source": [
    "def evaluate(true, pred):\n",
    "    from sklearn.metrics import confusion_matrix, accuracy_score\n",
    "    from sklearn.metrics import precision_score, recall_score, f1_score\n",
    "\n",
    "    precision = precision_score(Y_test, pred,pos_label='Clicked')\n",
    "    recall = recall_score(Y_test, pred,pos_label='Clicked')\n",
    "    f1 = f1_score(Y_test, pred,pos_label='Clicked')\n",
    "    print(f\"CONFUSION MATRIX:\\n{confusion_matrix(true, pred)}\")\n",
    "    print(f\"ACCURACY SCORE:\\n{accuracy_score(true, pred):.4f}\")\n",
    "    print(f\"CLASSIFICATION REPORT:\\n\\tPrecision: {precision:.4f}\\n\\tRecall: {recall:.4f}\\n\\tF1_Score: {f1:.4f}\")\n"
   ]
  },
  {
   "cell_type": "markdown",
   "metadata": {},
   "source": [
    "#### LOGISTIC REGRESSION"
   ]
  },
  {
   "cell_type": "code",
   "execution_count": 64,
   "metadata": {},
   "outputs": [],
   "source": [
    "from sklearn.linear_model import LogisticRegression\n",
    "from sklearn.metrics import accuracy_score"
   ]
  },
  {
   "cell_type": "code",
   "execution_count": 74,
   "metadata": {},
   "outputs": [
    {
     "name": "stdout",
     "output_type": "stream",
     "text": [
      "Wall time: 28 ms\n"
     ]
    },
    {
     "data": {
      "text/plain": [
       "LogisticRegression(C=1.0, class_weight='balanced', dual=False,\n",
       "          fit_intercept=True, intercept_scaling=1, max_iter=1000,\n",
       "          multi_class='warn', n_jobs=None, penalty='l2', random_state=None,\n",
       "          solver='lbfgs', tol=0.0001, verbose=0, warm_start=False)"
      ]
     },
     "execution_count": 74,
     "metadata": {},
     "output_type": "execute_result"
    }
   ],
   "source": [
    "lm_model=LogisticRegression(class_weight='balanced',solver='lbfgs',max_iter=1000)\n",
    "%time lm_model.fit(X_train,Y_train)\n"
   ]
  },
  {
   "cell_type": "code",
   "execution_count": 75,
   "metadata": {},
   "outputs": [],
   "source": [
    "lm_pred_train=lm_model.predict(X_train)\n",
    "lm_pred_test=lm_model.predict(X_test)"
   ]
  },
  {
   "cell_type": "code",
   "execution_count": 76,
   "metadata": {},
   "outputs": [
    {
     "data": {
      "text/plain": [
       "0.96"
      ]
     },
     "execution_count": 76,
     "metadata": {},
     "output_type": "execute_result"
    }
   ],
   "source": [
    "accuracy_score(lm_pred_test,Y_test)"
   ]
  },
  {
   "cell_type": "code",
   "execution_count": 77,
   "metadata": {},
   "outputs": [
    {
     "name": "stdout",
     "output_type": "stream",
     "text": [
      "CONFUSION MATRIX:\n",
      "[[ 88   6]\n",
      " [  2 104]]\n",
      "ACCURACY SCORE:\n",
      "0.9600\n",
      "CLASSIFICATION REPORT:\n",
      "\tPrecision: 0.9778\n",
      "\tRecall: 0.9362\n",
      "\tF1_Score: 0.9565\n"
     ]
    }
   ],
   "source": [
    "evaluate(Y_test,lm_pred_test)\n"
   ]
  },
  {
   "cell_type": "code",
   "execution_count": 78,
   "metadata": {},
   "outputs": [
    {
     "data": {
      "text/plain": [
       "<matplotlib.legend.Legend at 0x1df47811ba8>"
      ]
     },
     "execution_count": 78,
     "metadata": {},
     "output_type": "execute_result"
    },
    {
     "data": {
      "image/png": "[encoded data removed]",
      "text/plain": [
       "<Figure size 432x288 with 1 Axes>"
      ]
     },
     "metadata": {
      "needs_background": "light"
     },
     "output_type": "display_data"
    }
   ],
   "source": [
    "train_sizes = [200,250,400,550,650]\n",
    "from sklearn.model_selection import learning_curve\n",
    "#train_sizes, train_scores, test_scores = learning_curve(\n",
    "        #estimator, X, y, cv=cv, n_jobs=n_jobs, train_sizes=train_sizes)\n",
    "train_sizes, train_scores, test_scores = learning_curve(estimator=lm_model, X=X_train, y=Y_train, cv=10, train_sizes=train_sizes,n_jobs=-1)\n",
    "train_scores_mean = np.mean(train_scores, axis=1)\n",
    "test_scores_mean = np.mean(test_scores, axis=1)\n",
    "plt.plot(train_sizes, train_scores_mean, 'o-', color=\"r\",\n",
    "             label=\"Training score\")\n",
    "plt.plot(train_sizes, test_scores_mean, 'o-', color=\"g\",\n",
    "             label=\"Cross-validation score\")\n",
    "plt.legend(loc=\"best\")"
   ]
  },
  {
   "cell_type": "code",
   "execution_count": 79,
   "metadata": {},
   "outputs": [],
   "source": [
    "from sklearn.model_selection import cross_val_score\n",
    "from sklearn.metrics import make_scorer\n",
    "from sklearn.metrics import precision_recall_fscore_support\n",
    "from sklearn.metrics import precision_score"
   ]
  },
  {
   "cell_type": "code",
   "execution_count": 80,
   "metadata": {},
   "outputs": [
    {
     "data": {
      "text/plain": [
       "array([1.        , 0.96078431, 1.        , 0.98      , 0.9787234 ,\n",
       "       0.98039216, 0.96078431, 0.9245283 ])"
      ]
     },
     "execution_count": 80,
     "metadata": {},
     "output_type": "execute_result"
    }
   ],
   "source": [
    "scores = cross_val_score(lm_model, X_train,Y_train,cv=8, scoring=make_scorer(precision_score,pos_label='Clicked'),n_jobs=-1)\n",
    "scores"
   ]
  },
  {
   "cell_type": "markdown",
   "metadata": {},
   "source": [
    "#### Naive bayes"
   ]
  },
  {
   "cell_type": "code",
   "execution_count": 85,
   "metadata": {},
   "outputs": [],
   "source": [
    "from sklearn.naive_bayes import GaussianNB"
   ]
  },
  {
   "cell_type": "code",
   "execution_count": 86,
   "metadata": {},
   "outputs": [
    {
     "name": "stdout",
     "output_type": "stream",
     "text": [
      "Wall time: 3.99 ms\n"
     ]
    },
    {
     "data": {
      "text/plain": [
       "GaussianNB(priors=None, var_smoothing=1e-09)"
      ]
     },
     "execution_count": 86,
     "metadata": {},
     "output_type": "execute_result"
    }
   ],
   "source": [
    "Gaussian=GaussianNB()\n",
    "%time Gaussian.fit(X_train,Y_train)"
   ]
  },
  {
   "cell_type": "code",
   "execution_count": 87,
   "metadata": {},
   "outputs": [],
   "source": [
    "Gau_tr_pred=Gaussian.predict(X_train)\n",
    "Gau_tes_pred=Gaussian.predict(X_test)"
   ]
  },
  {
   "cell_type": "code",
   "execution_count": 88,
   "metadata": {},
   "outputs": [
    {
     "name": "stdout",
     "output_type": "stream",
     "text": [
      "CONFUSION MATRIX:\n",
      "[[ 89   5]\n",
      " [  3 103]]\n",
      "ACCURACY SCORE:\n",
      "0.9600\n",
      "CLASSIFICATION REPORT:\n",
      "\tPrecision: 0.9674\n",
      "\tRecall: 0.9468\n",
      "\tF1_Score: 0.9570\n"
     ]
    }
   ],
   "source": [
    "evaluate(Y_test,Gau_tes_pred)"
   ]
  },
  {
   "cell_type": "code",
   "execution_count": 89,
   "metadata": {},
   "outputs": [
    {
     "data": {
      "text/plain": [
       "<matplotlib.legend.Legend at 0x1df478b37b8>"
      ]
     },
     "execution_count": 89,
     "metadata": {},
     "output_type": "execute_result"
    },
    {
     "data": {
      "image/png": "[encoded data removed]",
      "text/plain": [
       "<Figure size 432x288 with 1 Axes>"
      ]
     },
     "metadata": {
      "needs_background": "light"
     },
     "output_type": "display_data"
    }
   ],
   "source": [
    "train_sizes = [200,250,400,550,650]\n",
    "from sklearn.model_selection import learning_curve\n",
    "#train_sizes, train_scores, test_scores = learning_curve(\n",
    "        #estimator, X, y, cv=cv, n_jobs=n_jobs, train_sizes=train_sizes)\n",
    "train_sizes, train_scores, test_scores = learning_curve(estimator=Gaussian, X=X_train, y=Y_train, cv=8, train_sizes=train_sizes,n_jobs=-1)\n",
    "train_scores_mean = np.mean(train_scores, axis=1)\n",
    "test_scores_mean = np.mean(test_scores, axis=1)\n",
    "plt.plot(train_sizes, train_scores_mean, 'o-', color=\"r\",\n",
    "             label=\"Training score\")\n",
    "plt.plot(train_sizes, test_scores_mean, 'o-', color=\"g\",\n",
    "             label=\"Cross-validation score\")\n",
    "plt.legend(loc=\"best\")"
   ]
  },
  {
   "cell_type": "markdown",
   "metadata": {},
   "source": [
    "#### RIDGE CLASSIFIER¶"
   ]
  },
  {
   "cell_type": "code",
   "execution_count": 90,
   "metadata": {},
   "outputs": [],
   "source": [
    "from sklearn.linear_model import RidgeClassifierCV"
   ]
  },
  {
   "cell_type": "code",
   "execution_count": 91,
   "metadata": {},
   "outputs": [
    {
     "name": "stdout",
     "output_type": "stream",
     "text": [
      "Wall time: 499 ms\n"
     ]
    },
    {
     "data": {
      "text/plain": [
       "RidgeClassifierCV(alphas=array([0.01, 0.1 , 0.03, 0.05, 0.3 , 0.5 ]),\n",
       "         class_weight=None, cv=8, fit_intercept=True, normalize=False,\n",
       "         scoring=None, store_cv_values=False)"
      ]
     },
     "execution_count": 91,
     "metadata": {},
     "output_type": "execute_result"
    }
   ],
   "source": [
    "CV_Rdg =RidgeClassifierCV(alphas=[0.01,0.1,0.03,0.05,0.3,0.5],cv=8)\n",
    "%time CV_Rdg.fit(X_train,Y_train)"
   ]
  },
  {
   "cell_type": "code",
   "execution_count": 92,
   "metadata": {},
   "outputs": [],
   "source": [
    "CV_TR_Pred=CV_Rdg.predict(X_train)\n",
    "CV_TE_Pred=CV_Rdg.predict(X_test)"
   ]
  },
  {
   "cell_type": "code",
   "execution_count": 93,
   "metadata": {},
   "outputs": [
    {
     "name": "stdout",
     "output_type": "stream",
     "text": [
      "CONFUSION MATRIX:\n",
      "[[ 86   8]\n",
      " [  0 106]]\n",
      "ACCURACY SCORE:\n",
      "0.9600\n",
      "CLASSIFICATION REPORT:\n",
      "\tPrecision: 1.0000\n",
      "\tRecall: 0.9149\n",
      "\tF1_Score: 0.9556\n"
     ]
    }
   ],
   "source": [
    "evaluate(Y_test,CV_TE_Pred)"
   ]
  },
  {
   "cell_type": "code",
   "execution_count": 94,
   "metadata": {},
   "outputs": [
    {
     "data": {
      "text/plain": [
       "<matplotlib.legend.Legend at 0x1df475c9cf8>"
      ]
     },
     "execution_count": 94,
     "metadata": {},
     "output_type": "execute_result"
    },
    {
     "data": {
      "image/png": "[encoded data removed]",
      "text/plain": [
       "<Figure size 432x288 with 1 Axes>"
      ]
     },
     "metadata": {
      "needs_background": "light"
     },
     "output_type": "display_data"
    }
   ],
   "source": [
    "train_sizes = [200,250,400,550,650]\n",
    "from sklearn.model_selection import learning_curve\n",
    "#train_sizes, train_scores, test_scores = learning_curve(\n",
    "        #estimator, X, y, cv=cv, n_jobs=n_jobs, train_sizes=train_sizes)\n",
    "train_sizes, train_scores, test_scores = learning_curve(estimator=CV_Rdg, X=X_train, y=Y_train, cv=8, train_sizes=train_sizes,n_jobs=-1)\n",
    "train_scores_mean = np.mean(train_scores, axis=1)\n",
    "test_scores_mean = np.mean(test_scores, axis=1)\n",
    "plt.plot(train_sizes, train_scores_mean, 'o-', color=\"r\",\n",
    "             label=\"Training score\")\n",
    "plt.plot(train_sizes, test_scores_mean, 'o-', color=\"g\",\n",
    "             label=\"Cross-validation score\")\n",
    "plt.legend(loc=\"best\")"
   ]
  },
  {
   "cell_type": "markdown",
   "metadata": {},
   "source": [
    "#### DECISION TREE CLASSIFIER"
   ]
  },
  {
   "cell_type": "code",
   "execution_count": 95,
   "metadata": {},
   "outputs": [],
   "source": [
    "from sklearn import tree"
   ]
  },
  {
   "cell_type": "code",
   "execution_count": 96,
   "metadata": {},
   "outputs": [],
   "source": [
    "dtc = tree.DecisionTreeClassifier(max_depth=4,max_features='sqrt',class_weight='balanced')"
   ]
  },
  {
   "cell_type": "code",
   "execution_count": 97,
   "metadata": {},
   "outputs": [
    {
     "name": "stdout",
     "output_type": "stream",
     "text": [
      "Wall time: 7.99 ms\n"
     ]
    },
    {
     "data": {
      "text/plain": [
       "DecisionTreeClassifier(class_weight='balanced', criterion='gini', max_depth=4,\n",
       "            max_features='sqrt', max_leaf_nodes=None,\n",
       "            min_impurity_decrease=0.0, min_impurity_split=None,\n",
       "            min_samples_leaf=1, min_samples_split=2,\n",
       "            min_weight_fraction_leaf=0.0, presort=False, random_state=None,\n",
       "            splitter='best')"
      ]
     },
     "execution_count": 97,
     "metadata": {},
     "output_type": "execute_result"
    }
   ],
   "source": [
    "%time dtc.fit(X_train,Y_train)"
   ]
  },
  {
   "cell_type": "code",
   "execution_count": 98,
   "metadata": {},
   "outputs": [],
   "source": [
    "pred_train = dtc.predict(X_train)\n",
    "pred_test = dtc.predict(X_test)"
   ]
  },
  {
   "cell_type": "code",
   "execution_count": 99,
   "metadata": {},
   "outputs": [
    {
     "name": "stdout",
     "output_type": "stream",
     "text": [
      "CONFUSION MATRIX:\n",
      "[[ 85   9]\n",
      " [  4 102]]\n",
      "ACCURACY SCORE:\n",
      "0.9350\n",
      "CLASSIFICATION REPORT:\n",
      "\tPrecision: 0.9551\n",
      "\tRecall: 0.9043\n",
      "\tF1_Score: 0.9290\n"
     ]
    }
   ],
   "source": [
    "evaluate(Y_test,pred_test)"
   ]
  },
  {
   "cell_type": "code",
   "execution_count": 100,
   "metadata": {},
   "outputs": [],
   "source": [
    "from sklearn.model_selection import GridSearchCV"
   ]
  },
  {
   "cell_type": "code",
   "execution_count": 101,
   "metadata": {},
   "outputs": [
    {
     "name": "stdout",
     "output_type": "stream",
     "text": [
      "Wall time: 1.11 s\n",
      "0.93875\n",
      "{'class_weight': 'balanced', 'criterion': 'entropy', 'max_depth': 8, 'min_samples_leaf': 5}\n"
     ]
    }
   ],
   "source": [
    "parameters=param_grid = {\n",
    "           \"max_depth\" : [2,4,6,8],\n",
    "           \"min_samples_leaf\" : [5, 10, 15, 20],\n",
    "           \"class_weight\" : ['balanced'],\n",
    "             \"criterion\":['gini','entropy']}\n",
    "clf=GridSearchCV(tree.DecisionTreeClassifier(max_features='sqrt',class_weight='balanced'),param_grid=parameters,\n",
    "                                             n_jobs=-1,cv=10,refit=True)\n",
    "%time clf.fit(X_train,Y_train)\n",
    "print(clf.best_score_)\n",
    "print(clf.best_params_)"
   ]
  },
  {
   "cell_type": "code",
   "execution_count": 102,
   "metadata": {},
   "outputs": [],
   "source": [
    "dtc_2 = clf.best_estimator_\n",
    "pred_train1=clf.best_estimator_.predict(X_train)\n",
    "pred_test1=clf.best_estimator_.predict(X_test)"
   ]
  },
  {
   "cell_type": "code",
   "execution_count": 103,
   "metadata": {},
   "outputs": [
    {
     "name": "stdout",
     "output_type": "stream",
     "text": [
      "CONFUSION MATRIX:\n",
      "[[89  5]\n",
      " [ 8 98]]\n",
      "ACCURACY SCORE:\n",
      "0.9350\n",
      "CLASSIFICATION REPORT:\n",
      "\tPrecision: 0.9175\n",
      "\tRecall: 0.9468\n",
      "\tF1_Score: 0.9319\n"
     ]
    }
   ],
   "source": [
    "evaluate(Y_test,pred_test1)"
   ]
  },
  {
   "cell_type": "code",
   "execution_count": 104,
   "metadata": {},
   "outputs": [
    {
     "data": {
      "text/plain": [
       "<matplotlib.legend.Legend at 0x1df47a0bc18>"
      ]
     },
     "execution_count": 104,
     "metadata": {},
     "output_type": "execute_result"
    },
    {
     "data": {
      "image/png": "[encoded data removed]",
      "text/plain": [
       "<Figure size 432x288 with 1 Axes>"
      ]
     },
     "metadata": {
      "needs_background": "light"
     },
     "output_type": "display_data"
    }
   ],
   "source": [
    "train_sizes = [200,250,400,550,650]\n",
    "from sklearn.model_selection import learning_curve\n",
    "#train_sizes, train_scores, test_scores = learning_curve(\n",
    "        #estimator, X, y, cv=cv, n_jobs=n_jobs, train_sizes=train_sizes)\n",
    "train_sizes, train_scores, test_scores = learning_curve(estimator=dtc_2, X=X_train, y=Y_train, cv=8, train_sizes=train_sizes,n_jobs=-1)\n",
    "train_scores_mean = np.mean(train_scores, axis=1)\n",
    "test_scores_mean = np.mean(test_scores, axis=1)\n",
    "plt.plot(train_sizes, train_scores_mean, 'o-', color=\"r\",\n",
    "             label=\"Training score\")\n",
    "plt.plot(train_sizes, test_scores_mean, 'o-', color=\"g\",\n",
    "             label=\"Cross-validation score\")\n",
    "plt.legend(loc=\"best\")"
   ]
  },
  {
   "cell_type": "markdown",
   "metadata": {},
   "source": [
    "#### RANDOM FOREST CLASSIFIER"
   ]
  },
  {
   "cell_type": "code",
   "execution_count": 105,
   "metadata": {},
   "outputs": [],
   "source": [
    "from sklearn.ensemble import RandomForestClassifier"
   ]
  },
  {
   "cell_type": "code",
   "execution_count": 106,
   "metadata": {},
   "outputs": [],
   "source": [
    "rfc=RandomForestClassifier()"
   ]
  },
  {
   "cell_type": "code",
   "execution_count": 107,
   "metadata": {},
   "outputs": [
    {
     "name": "stdout",
     "output_type": "stream",
     "text": [
      "Wall time: 28 ms\n"
     ]
    },
    {
     "data": {
      "text/plain": [
       "RandomForestClassifier(bootstrap=True, class_weight=None, criterion='gini',\n",
       "            max_depth=None, max_features='auto', max_leaf_nodes=None,\n",
       "            min_impurity_decrease=0.0, min_impurity_split=None,\n",
       "            min_samples_leaf=1, min_samples_split=2,\n",
       "            min_weight_fraction_leaf=0.0, n_estimators=10, n_jobs=None,\n",
       "            oob_score=False, random_state=None, verbose=0,\n",
       "            warm_start=False)"
      ]
     },
     "execution_count": 107,
     "metadata": {},
     "output_type": "execute_result"
    }
   ],
   "source": [
    "%time rfc.fit(X = X_train,y = Y_train)"
   ]
  },
  {
   "cell_type": "code",
   "execution_count": 108,
   "metadata": {},
   "outputs": [],
   "source": [
    "train_predictions = rfc.predict(X_train)\n",
    "test_predictions = rfc.predict(X_test)"
   ]
  },
  {
   "cell_type": "code",
   "execution_count": 109,
   "metadata": {},
   "outputs": [
    {
     "name": "stdout",
     "output_type": "stream",
     "text": [
      "CONFUSION MATRIX:\n",
      "[[ 89   5]\n",
      " [  5 101]]\n",
      "ACCURACY SCORE:\n",
      "0.9500\n",
      "CLASSIFICATION REPORT:\n",
      "\tPrecision: 0.9468\n",
      "\tRecall: 0.9468\n",
      "\tF1_Score: 0.9468\n"
     ]
    }
   ],
   "source": [
    "evaluate(Y_test,test_predictions)"
   ]
  },
  {
   "cell_type": "code",
   "execution_count": 110,
   "metadata": {},
   "outputs": [],
   "source": [
    "Y_train=Y_train.ravel()"
   ]
  },
  {
   "cell_type": "code",
   "execution_count": 111,
   "metadata": {},
   "outputs": [],
   "source": [
    "from sklearn.model_selection import RandomizedSearchCV"
   ]
  },
  {
   "cell_type": "code",
   "execution_count": 112,
   "metadata": {},
   "outputs": [
    {
     "name": "stdout",
     "output_type": "stream",
     "text": [
      "Wall time: 1min 18s\n"
     ]
    },
    {
     "data": {
      "text/plain": [
       "RandomForestClassifier(bootstrap=True, class_weight='balanced',\n",
       "            criterion='entropy', max_depth=4, max_features='sqrt',\n",
       "            max_leaf_nodes=None, min_impurity_decrease=0.0,\n",
       "            min_impurity_split=None, min_samples_leaf=5,\n",
       "            min_samples_split=2, min_weight_fraction_leaf=0.0,\n",
       "            n_estimators=400, n_jobs=-1, oob_score=False,\n",
       "            random_state=None, verbose=0, warm_start=False)"
      ]
     },
     "execution_count": 112,
     "metadata": {},
     "output_type": "execute_result"
    }
   ],
   "source": [
    "rfc_grid = RandomForestClassifier(n_jobs=-1, max_features='sqrt', class_weight='balanced_subsample')\n",
    "param_grid = {\"n_estimators\" : [  100,200,300,400],\n",
    "           \"max_depth\" : [3,4,5,6,8],\n",
    "           \"min_samples_leaf\" : [5, 10, 15, 20],\n",
    "           \"class_weight\" : ['balanced','balanced_subsample'],\n",
    "             \"criterion\":['gini','entropy']}\n",
    "rfc_cv_grid = RandomizedSearchCV(estimator = rfc_grid, param_distributions = param_grid, cv = 7, n_iter=20,\n",
    "                                scoring =None)\n",
    "%time rfc_cv_grid.fit(X_train, Y_train)\n",
    "rfc_cv_grid.best_estimator_"
   ]
  },
  {
   "cell_type": "code",
   "execution_count": 113,
   "metadata": {},
   "outputs": [],
   "source": [
    "rfc_train_predictions = rfc_cv_grid.best_estimator_.predict(X_train)\n",
    "rfc_test_predictions = rfc_cv_grid.best_estimator_.predict(X_test)"
   ]
  },
  {
   "cell_type": "code",
   "execution_count": 114,
   "metadata": {},
   "outputs": [
    {
     "name": "stdout",
     "output_type": "stream",
     "text": [
      "CONFUSION MATRIX:\n",
      "[[ 88   6]\n",
      " [  4 102]]\n",
      "ACCURACY SCORE:\n",
      "0.9500\n",
      "CLASSIFICATION REPORT:\n",
      "\tPrecision: 0.9565\n",
      "\tRecall: 0.9362\n",
      "\tF1_Score: 0.9462\n"
     ]
    }
   ],
   "source": [
    "evaluate(Y_test,rfc_test_predictions)"
   ]
  },
  {
   "cell_type": "code",
   "execution_count": 115,
   "metadata": {},
   "outputs": [
    {
     "data": {
      "text/plain": [
       "<matplotlib.legend.Legend at 0x1df47d6a908>"
      ]
     },
     "execution_count": 115,
     "metadata": {},
     "output_type": "execute_result"
    },
    {
     "data": {
      "image/png": "[encoded data removed]",
      "text/plain": [
       "<Figure size 432x288 with 1 Axes>"
      ]
     },
     "metadata": {
      "needs_background": "light"
     },
     "output_type": "display_data"
    }
   ],
   "source": [
    "train_sizes = [200,250,400,550,650]\n",
    "from sklearn.model_selection import learning_curve\n",
    "#train_sizes, train_scores, test_scores = learning_curve(\n",
    "        #estimator, X, y, cv=cv, n_jobs=n_jobs, train_sizes=train_sizes)\n",
    "train_sizes, train_scores, test_scores = learning_curve(estimator=rfc_cv_grid, X=X_train, y=Y_train, cv=8, train_sizes=train_sizes,n_jobs=-1)\n",
    "train_scores_mean = np.mean(train_scores, axis=1)\n",
    "test_scores_mean = np.mean(test_scores, axis=1)\n",
    "plt.plot(train_sizes, train_scores_mean, 'o-', color=\"r\",\n",
    "             label=\"Training score\")\n",
    "plt.plot(train_sizes, test_scores_mean, 'o-', color=\"g\",\n",
    "             label=\"Cross-validation score\")\n",
    "plt.legend(loc=\"best\")"
   ]
  },
  {
   "cell_type": "markdown",
   "metadata": {},
   "source": [
    "#### KNN CLASSIFIER"
   ]
  },
  {
   "cell_type": "code",
   "execution_count": 124,
   "metadata": {},
   "outputs": [
    {
     "name": "stdout",
     "output_type": "stream",
     "text": [
      "Wall time: 4.98 ms\n"
     ]
    },
    {
     "data": {
      "text/plain": [
       "KNeighborsClassifier(algorithm='brute', leaf_size=30, metric='minkowski',\n",
       "           metric_params=None, n_jobs=None, n_neighbors=4, p=2,\n",
       "           weights='distance')"
      ]
     },
     "execution_count": 124,
     "metadata": {},
     "output_type": "execute_result"
    }
   ],
   "source": [
    "from sklearn.neighbors import KNeighborsClassifier\n",
    "\n",
    "knn = KNeighborsClassifier(n_neighbors=4,algorithm='brute',metric='minkowski',weights='distance')\n",
    "\n",
    "# Train the model using the training sets\n",
    "%time knn.fit(X_train,Y_train)\n"
   ]
  },
  {
   "cell_type": "code",
   "execution_count": 125,
   "metadata": {},
   "outputs": [],
   "source": [
    "pr1=knn.predict(X_train)\n",
    "pr2=knn.predict(X_test)"
   ]
  },
  {
   "cell_type": "code",
   "execution_count": 126,
   "metadata": {},
   "outputs": [
    {
     "name": "stdout",
     "output_type": "stream",
     "text": [
      "CONFUSION MATRIX:\n",
      "[[ 83  11]\n",
      " [  3 103]]\n",
      "ACCURACY SCORE:\n",
      "0.9300\n",
      "CLASSIFICATION REPORT:\n",
      "\tPrecision: 0.9651\n",
      "\tRecall: 0.8830\n",
      "\tF1_Score: 0.9222\n"
     ]
    }
   ],
   "source": [
    "evaluate(Y_test,pr2)"
   ]
  },
  {
   "cell_type": "code",
   "execution_count": 127,
   "metadata": {},
   "outputs": [],
   "source": [
    "parameters = {'n_neighbors':np.arange(2,10,1),\n",
    "              'leaf_size':np.arange(5,100,10),\n",
    "              'algorithm':['auto', 'brute'],\n",
    "              'n_jobs':[-1]}\n"
   ]
  },
  {
   "cell_type": "code",
   "execution_count": 128,
   "metadata": {},
   "outputs": [
    {
     "data": {
      "text/plain": [
       "GridSearchCV(cv='warn', error_score='raise-deprecating',\n",
       "       estimator=KNeighborsClassifier(algorithm='brute', leaf_size=30, metric='minkowski',\n",
       "           metric_params=None, n_jobs=None, n_neighbors=4, p=2,\n",
       "           weights='distance'),\n",
       "       fit_params=None, iid='warn', n_jobs=None,\n",
       "       param_grid={'n_neighbors': array([2, 3, 4, 5, 6, 7, 8, 9]), 'leaf_size': array([ 5, 15, 25, 35, 45, 55, 65, 75, 85, 95]), 'algorithm': ['auto', 'brute'], 'n_jobs': [-1]},\n",
       "       pre_dispatch='2*n_jobs', refit=True, return_train_score='warn',\n",
       "       scoring=None, verbose=0)"
      ]
     },
     "execution_count": 128,
     "metadata": {},
     "output_type": "execute_result"
    }
   ],
   "source": [
    "model = GridSearchCV(knn, param_grid=parameters)\n",
    "model.fit(X_train,Y_train)"
   ]
  },
  {
   "cell_type": "code",
   "execution_count": 129,
   "metadata": {},
   "outputs": [],
   "source": [
    "knn1=model.best_estimator_"
   ]
  },
  {
   "cell_type": "code",
   "execution_count": 130,
   "metadata": {},
   "outputs": [
    {
     "data": {
      "text/plain": [
       "KNeighborsClassifier(algorithm='auto', leaf_size=5, metric='minkowski',\n",
       "           metric_params=None, n_jobs=-1, n_neighbors=2, p=2,\n",
       "           weights='distance')"
      ]
     },
     "execution_count": 130,
     "metadata": {},
     "output_type": "execute_result"
    }
   ],
   "source": [
    "knn1.fit(X_train,Y_train)"
   ]
  },
  {
   "cell_type": "code",
   "execution_count": 131,
   "metadata": {},
   "outputs": [],
   "source": [
    "knn1_pred_test=knn1.predict(X_test)"
   ]
  },
  {
   "cell_type": "code",
   "execution_count": 132,
   "metadata": {},
   "outputs": [
    {
     "name": "stdout",
     "output_type": "stream",
     "text": [
      "CONFUSION MATRIX:\n",
      "[[85  9]\n",
      " [ 7 99]]\n",
      "ACCURACY SCORE:\n",
      "0.9200\n",
      "CLASSIFICATION REPORT:\n",
      "\tPrecision: 0.9239\n",
      "\tRecall: 0.9043\n",
      "\tF1_Score: 0.9140\n"
     ]
    }
   ],
   "source": [
    "evaluate(Y_test,knn1_pred_test)"
   ]
  },
  {
   "cell_type": "code",
   "execution_count": 133,
   "metadata": {},
   "outputs": [
    {
     "data": {
      "text/plain": [
       "<matplotlib.legend.Legend at 0x1df48e347b8>"
      ]
     },
     "execution_count": 133,
     "metadata": {},
     "output_type": "execute_result"
    },
    {
     "data": {
      "image/png": "[encoded data removed]",
      "text/plain": [
       "<Figure size 432x288 with 1 Axes>"
      ]
     },
     "metadata": {
      "needs_background": "light"
     },
     "output_type": "display_data"
    }
   ],
   "source": [
    "train_sizes = [200,250,400,550,650]\n",
    "from sklearn.model_selection import learning_curve\n",
    "#train_sizes, train_scores, test_scores = learning_curve(\n",
    "        #estimator, X, y, cv=cv, n_jobs=n_jobs, train_sizes=train_sizes)\n",
    "train_sizes, train_scores, test_scores = learning_curve(estimator=knn1, X=X_train, y=Y_train, cv=8, train_sizes=train_sizes,n_jobs=-1)\n",
    "train_scores_mean = np.mean(train_scores, axis=1)\n",
    "test_scores_mean = np.mean(test_scores, axis=1)\n",
    "plt.plot(train_sizes, train_scores_mean, 'o-', color=\"r\",\n",
    "             label=\"Training score\")\n",
    "plt.plot(train_sizes, test_scores_mean, 'o-', color=\"g\",\n",
    "             label=\"Cross-validation score\")\n",
    "plt.legend(loc=\"best\")"
   ]
  },
  {
   "cell_type": "markdown",
   "metadata": {},
   "source": [
    "#### SVM classifier"
   ]
  },
  {
   "cell_type": "code",
   "execution_count": 134,
   "metadata": {},
   "outputs": [],
   "source": [
    "from sklearn.svm import SVC"
   ]
  },
  {
   "cell_type": "code",
   "execution_count": 135,
   "metadata": {},
   "outputs": [
    {
     "data": {
      "text/plain": [
       "SVC(C=1.0, cache_size=200, class_weight=None, coef0=0.0,\n",
       "  decision_function_shape='ovr', degree=3, gamma='auto_deprecated',\n",
       "  kernel='linear', max_iter=-1, probability=False, random_state=None,\n",
       "  shrinking=True, tol=0.001, verbose=False)"
      ]
     },
     "execution_count": 135,
     "metadata": {},
     "output_type": "execute_result"
    }
   ],
   "source": [
    "svm=SVC(C=1.0,kernel='linear')\n",
    "svm.fit(X_train,Y_train)"
   ]
  },
  {
   "cell_type": "code",
   "execution_count": 136,
   "metadata": {},
   "outputs": [],
   "source": [
    "svm_tr_pred=svm.predict(X_train)\n",
    "svm_test_pred=svm.predict(X_test)"
   ]
  },
  {
   "cell_type": "code",
   "execution_count": 137,
   "metadata": {},
   "outputs": [
    {
     "name": "stdout",
     "output_type": "stream",
     "text": [
      "CONFUSION MATRIX:\n",
      "[[ 89   5]\n",
      " [  1 105]]\n",
      "ACCURACY SCORE:\n",
      "0.9700\n",
      "CLASSIFICATION REPORT:\n",
      "\tPrecision: 0.9889\n",
      "\tRecall: 0.9468\n",
      "\tF1_Score: 0.9674\n"
     ]
    }
   ],
   "source": [
    "evaluate(Y_test,svm_test_pred)"
   ]
  },
  {
   "cell_type": "code",
   "execution_count": 138,
   "metadata": {},
   "outputs": [
    {
     "data": {
      "text/plain": [
       "<matplotlib.legend.Legend at 0x1df48db5908>"
      ]
     },
     "execution_count": 138,
     "metadata": {},
     "output_type": "execute_result"
    },
    {
     "data": {
      "image/png": "[encoded data removed]",
      "text/plain": [
       "<Figure size 432x288 with 1 Axes>"
      ]
     },
     "metadata": {
      "needs_background": "light"
     },
     "output_type": "display_data"
    }
   ],
   "source": [
    "train_sizes = [200,250,400,550,650]\n",
    "from sklearn.model_selection import learning_curve\n",
    "#train_sizes, train_scores, test_scores = learning_curve(\n",
    "        #estimator, X, y, cv=cv, n_jobs=n_jobs, train_sizes=train_sizes)\n",
    "train_sizes, train_scores, test_scores = learning_curve(estimator=svm, X=X_train, y=Y_train, cv=8, train_sizes=train_sizes,n_jobs=-1)\n",
    "train_scores_mean = np.mean(train_scores, axis=1)\n",
    "test_scores_mean = np.mean(test_scores, axis=1)\n",
    "plt.plot(train_sizes, train_scores_mean, 'o-', color=\"r\",\n",
    "             label=\"Training score\")\n",
    "plt.plot(train_sizes, test_scores_mean, 'o-', color=\"g\",\n",
    "             label=\"Cross-validation score\")\n",
    "plt.legend(loc=\"best\")"
   ]
  },
  {
   "cell_type": "markdown",
   "metadata": {},
   "source": [
    "#### GRADIENT BOOSTING CLASSIFIER"
   ]
  },
  {
   "cell_type": "code",
   "execution_count": 139,
   "metadata": {},
   "outputs": [],
   "source": [
    "from sklearn.ensemble import GradientBoostingClassifier"
   ]
  },
  {
   "cell_type": "code",
   "execution_count": 140,
   "metadata": {},
   "outputs": [],
   "source": [
    "GBM=GradientBoostingClassifier(learning_rate=0.01,n_estimators=180)"
   ]
  },
  {
   "cell_type": "code",
   "execution_count": 141,
   "metadata": {},
   "outputs": [
    {
     "data": {
      "text/plain": [
       "GradientBoostingClassifier(criterion='friedman_mse', init=None,\n",
       "              learning_rate=0.01, loss='deviance', max_depth=3,\n",
       "              max_features=None, max_leaf_nodes=None,\n",
       "              min_impurity_decrease=0.0, min_impurity_split=None,\n",
       "              min_samples_leaf=1, min_samples_split=2,\n",
       "              min_weight_fraction_leaf=0.0, n_estimators=180,\n",
       "              n_iter_no_change=None, presort='auto', random_state=None,\n",
       "              subsample=1.0, tol=0.0001, validation_fraction=0.1,\n",
       "              verbose=0, warm_start=False)"
      ]
     },
     "execution_count": 141,
     "metadata": {},
     "output_type": "execute_result"
    }
   ],
   "source": [
    "GBM.fit(X_train,Y_train)"
   ]
  },
  {
   "cell_type": "code",
   "execution_count": 142,
   "metadata": {},
   "outputs": [],
   "source": [
    "GBM_tr_pred=GBM.predict(X_train)\n",
    "GBM_test_pred=GBM.predict(X_test)"
   ]
  },
  {
   "cell_type": "code",
   "execution_count": 143,
   "metadata": {},
   "outputs": [
    {
     "name": "stdout",
     "output_type": "stream",
     "text": [
      "CONFUSION MATRIX:\n",
      "[[ 84  10]\n",
      " [  1 105]]\n",
      "ACCURACY SCORE:\n",
      "0.9450\n",
      "CLASSIFICATION REPORT:\n",
      "\tPrecision: 0.9882\n",
      "\tRecall: 0.8936\n",
      "\tF1_Score: 0.9385\n"
     ]
    }
   ],
   "source": [
    "evaluate(Y_test,GBM_test_pred)"
   ]
  },
  {
   "cell_type": "code",
   "execution_count": 144,
   "metadata": {},
   "outputs": [
    {
     "data": {
      "text/plain": [
       "<matplotlib.legend.Legend at 0x1df47c8d550>"
      ]
     },
     "execution_count": 144,
     "metadata": {},
     "output_type": "execute_result"
    },
    {
     "data": {
      "image/png": "[encoded data removed]",
      "text/plain": [
       "<Figure size 432x288 with 1 Axes>"
      ]
     },
     "metadata": {
      "needs_background": "light"
     },
     "output_type": "display_data"
    }
   ],
   "source": [
    "train_sizes = [200,250,400,550,650]\n",
    "from sklearn.model_selection import learning_curve\n",
    "#train_sizes, train_scores, test_scores = learning_curve(\n",
    "        #estimator, X, y, cv=cv, n_jobs=n_jobs, train_sizes=train_sizes)\n",
    "train_sizes, train_scores, test_scores = learning_curve(estimator=GBM, X=X_train, y=Y_train, cv=8, train_sizes=train_sizes,n_jobs=-1)\n",
    "train_scores_mean = np.mean(train_scores, axis=1)\n",
    "test_scores_mean = np.mean(test_scores, axis=1)\n",
    "plt.plot(train_sizes, train_scores_mean, 'o-', color=\"r\",\n",
    "             label=\"Training score\")\n",
    "plt.plot(train_sizes, test_scores_mean, 'o-', color=\"g\",\n",
    "             label=\"Cross-validation score\")\n",
    "plt.legend(loc=\"best\")"
   ]
  },
  {
   "cell_type": "markdown",
   "metadata": {},
   "source": [
    "#### ADABOOST CLASSIFIER"
   ]
  },
  {
   "cell_type": "code",
   "execution_count": 147,
   "metadata": {},
   "outputs": [],
   "source": [
    "from sklearn.ensemble import AdaBoostClassifier\n"
   ]
  },
  {
   "cell_type": "code",
   "execution_count": 148,
   "metadata": {},
   "outputs": [],
   "source": [
    "Adaboost_model = AdaBoostClassifier(\n",
    "    tree.DecisionTreeClassifier(max_depth=5,class_weight='balanced',max_features='sqrt'),\n",
    "    n_estimators = 190,\n",
    "    learning_rate = 0.01)"
   ]
  },
  {
   "cell_type": "code",
   "execution_count": 149,
   "metadata": {},
   "outputs": [
    {
     "data": {
      "text/plain": [
       "AdaBoostClassifier(algorithm='SAMME.R',\n",
       "          base_estimator=DecisionTreeClassifier(class_weight='balanced', criterion='gini', max_depth=5,\n",
       "            max_features='sqrt', max_leaf_nodes=None,\n",
       "            min_impurity_decrease=0.0, min_impurity_split=None,\n",
       "            min_samples_leaf=1, min_samples_split=2,\n",
       "            min_weight_fraction_leaf=0.0, presort=False, random_state=None,\n",
       "            splitter='best'),\n",
       "          learning_rate=0.01, n_estimators=190, random_state=None)"
      ]
     },
     "execution_count": 149,
     "metadata": {},
     "output_type": "execute_result"
    }
   ],
   "source": [
    "Adaboost_model.fit(X_train,Y_train)"
   ]
  },
  {
   "cell_type": "code",
   "execution_count": 150,
   "metadata": {},
   "outputs": [],
   "source": [
    "ADb_tr_pred=Adaboost_model.predict(X_train)\n",
    "ADb_test_pred=Adaboost_model.predict(X_test)"
   ]
  },
  {
   "cell_type": "code",
   "execution_count": 151,
   "metadata": {},
   "outputs": [
    {
     "name": "stdout",
     "output_type": "stream",
     "text": [
      "CONFUSION MATRIX:\n",
      "[[ 87   7]\n",
      " [  3 103]]\n",
      "ACCURACY SCORE:\n",
      "0.9500\n",
      "CLASSIFICATION REPORT:\n",
      "\tPrecision: 0.9667\n",
      "\tRecall: 0.9255\n",
      "\tF1_Score: 0.9457\n"
     ]
    }
   ],
   "source": [
    "evaluate(Y_test,ADb_test_pred)"
   ]
  },
  {
   "cell_type": "code",
   "execution_count": 152,
   "metadata": {},
   "outputs": [
    {
     "data": {
      "text/plain": [
       "<matplotlib.legend.Legend at 0x1df47ac4438>"
      ]
     },
     "execution_count": 152,
     "metadata": {},
     "output_type": "execute_result"
    },
    {
     "data": {
      "image/png": "[encoded data removed]",
      "text/plain": [
       "<Figure size 432x288 with 1 Axes>"
      ]
     },
     "metadata": {
      "needs_background": "light"
     },
     "output_type": "display_data"
    }
   ],
   "source": [
    "train_sizes = [200,250,400,550,650]\n",
    "from sklearn.model_selection import learning_curve\n",
    "#train_sizes, train_scores, test_scores = learning_curve(\n",
    "        #estimator, X, y, cv=cv, n_jobs=n_jobs, train_sizes=train_sizes)\n",
    "train_sizes, train_scores, test_scores = learning_curve(estimator=Adaboost_model, X=X_train, y=Y_train, cv=8, train_sizes=train_sizes,n_jobs=-1)\n",
    "train_scores_mean = np.mean(train_scores, axis=1)\n",
    "test_scores_mean = np.mean(test_scores, axis=1)\n",
    "plt.plot(train_sizes, train_scores_mean, 'o-', color=\"r\",\n",
    "             label=\"Training score\")\n",
    "plt.plot(train_sizes, test_scores_mean, 'o-', color=\"g\",\n",
    "             label=\"Cross-validation score\")\n",
    "plt.legend(loc=\"best\")"
   ]
  },
  {
   "cell_type": "markdown",
   "metadata": {},
   "source": [
    "#### SAVING THE MODEL"
   ]
  },
  {
   "cell_type": "code",
   "execution_count": 164,
   "metadata": {},
   "outputs": [],
   "source": [
    "import pickle"
   ]
  },
  {
   "cell_type": "code",
   "execution_count": 165,
   "metadata": {},
   "outputs": [],
   "source": [
    "with open('Fayomi_Advertising_ model.pickle','wb') as f:\n",
    "    pickle.dump(lm_model,f)"
   ]
  },
  {
   "cell_type": "markdown",
   "metadata": {},
   "source": [
    "#### METRICS  RESULTS"
   ]
  },
  {
   "cell_type": "code",
   "execution_count": 175,
   "metadata": {},
   "outputs": [],
   "source": [
    "from sklearn.metrics import recall_score,f1_score"
   ]
  },
  {
   "cell_type": "code",
   "execution_count": 177,
   "metadata": {},
   "outputs": [],
   "source": [
    "metrics={'ACCURACY':accuracy_score(lm_pred_test,Y_test),\n",
    "        'precision': precision_score(Y_test, lm_pred_test,pos_label='Clicked'),\n",
    "    'Recall':recall_score(Y_test, lm_pred_test,pos_label='Clicked'),\n",
    "    'F1_score' :f1_score(Y_test, lm_pred_test,pos_label='Clicked')}"
   ]
  },
  {
   "cell_type": "code",
   "execution_count": 178,
   "metadata": {},
   "outputs": [
    {
     "data": {
      "text/plain": [
       "{'ACCURACY': 0.955,\n",
       " 'precision': 0.9775280898876404,\n",
       " 'Recall': 0.925531914893617,\n",
       " 'F1_score': 0.9508196721311475}"
      ]
     },
     "execution_count": 178,
     "metadata": {},
     "output_type": "execute_result"
    }
   ],
   "source": [
    "metrics"
   ]
  },
  {
   "cell_type": "markdown",
   "metadata": {},
   "source": [
    "#### WRITING METRICS INTO CSV"
   ]
  },
  {
   "cell_type": "code",
   "execution_count": 180,
   "metadata": {},
   "outputs": [],
   "source": [
    "pd.DataFrame.from_dict(data=metrics, orient='index').to_csv('fayomi_Advertising_metrics.csv', header=False)"
   ]
  }
 ],
 "metadata": {
  "kernelspec": {
   "display_name": "Python 3",
   "language": "python",
   "name": "python3"
  },
  "language_info": {
   "codemirror_mode": {
    "name": "ipython",
    "version": 3
   },
   "file_extension": ".py",
   "mimetype": "text/x-python",
   "name": "python",
   "nbconvert_exporter": "python",
   "pygments_lexer": "ipython3",
   "version": "3.7.1"
  }
 },
 "nbformat": 4,
 "nbformat_minor": 2
}
